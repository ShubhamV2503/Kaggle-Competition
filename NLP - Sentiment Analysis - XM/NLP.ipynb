{
 "cells": [
  {
   "cell_type": "code",
   "execution_count": null,
   "id": "2f836ff3",
   "metadata": {},
   "outputs": [],
   "source": []
  },
  {
   "cell_type": "code",
   "execution_count": 558,
   "id": "a8ac4842",
   "metadata": {},
   "outputs": [],
   "source": [
    "import pandas as pd\n",
    "import numpy as np"
   ]
  },
  {
   "cell_type": "code",
   "execution_count": null,
   "id": "76c95eeb",
   "metadata": {},
   "outputs": [],
   "source": []
  },
  {
   "cell_type": "code",
   "execution_count": 559,
   "id": "f15dae98",
   "metadata": {},
   "outputs": [],
   "source": [
    "train = pd.read_csv('dataset/train.csv')\n",
    "test = pd.read_csv('dataset/test_features.csv')"
   ]
  },
  {
   "cell_type": "code",
   "execution_count": 560,
   "id": "a3a9af55",
   "metadata": {},
   "outputs": [
    {
     "data": {
      "text/html": [
       "<div>\n",
       "<style scoped>\n",
       "    .dataframe tbody tr th:only-of-type {\n",
       "        vertical-align: middle;\n",
       "    }\n",
       "\n",
       "    .dataframe tbody tr th {\n",
       "        vertical-align: top;\n",
       "    }\n",
       "\n",
       "    .dataframe thead th {\n",
       "        text-align: right;\n",
       "    }\n",
       "</style>\n",
       "<table border=\"1\" class=\"dataframe\">\n",
       "  <thead>\n",
       "    <tr style=\"text-align: right;\">\n",
       "      <th></th>\n",
       "      <th>ID</th>\n",
       "      <th>Text</th>\n",
       "      <th>Category</th>\n",
       "    </tr>\n",
       "  </thead>\n",
       "  <tbody>\n",
       "    <tr>\n",
       "      <th>0</th>\n",
       "      <td>969</td>\n",
       "      <td>@JuliaBradbury @SimonCalder @walsop @HodderPRI...</td>\n",
       "      <td>0</td>\n",
       "    </tr>\n",
       "    <tr>\n",
       "      <th>1</th>\n",
       "      <td>241</td>\n",
       "      <td>or here https://t.co/R2tO79Easn … .An in house...</td>\n",
       "      <td>1</td>\n",
       "    </tr>\n",
       "    <tr>\n",
       "      <th>2</th>\n",
       "      <td>820</td>\n",
       "      <td>@britshmuseum @thehistoryguy Gosh periscope is...</td>\n",
       "      <td>2</td>\n",
       "    </tr>\n",
       "    <tr>\n",
       "      <th>3</th>\n",
       "      <td>693</td>\n",
       "      <td>@Ophiolatrist britishmuseum The stupid #French...</td>\n",
       "      <td>1</td>\n",
       "    </tr>\n",
       "    <tr>\n",
       "      <th>4</th>\n",
       "      <td>421</td>\n",
       "      <td>@SassyClde We won't stop til @britishmuseum du...</td>\n",
       "      <td>1</td>\n",
       "    </tr>\n",
       "  </tbody>\n",
       "</table>\n",
       "</div>"
      ],
      "text/plain": [
       "    ID                                               Text  Category\n",
       "0  969  @JuliaBradbury @SimonCalder @walsop @HodderPRI...         0\n",
       "1  241  or here https://t.co/R2tO79Easn … .An in house...         1\n",
       "2  820  @britshmuseum @thehistoryguy Gosh periscope is...         2\n",
       "3  693  @Ophiolatrist britishmuseum The stupid #French...         1\n",
       "4  421  @SassyClde We won't stop til @britishmuseum du...         1"
      ]
     },
     "execution_count": 560,
     "metadata": {},
     "output_type": "execute_result"
    }
   ],
   "source": [
    "train.head()"
   ]
  },
  {
   "cell_type": "code",
   "execution_count": 561,
   "id": "e95f4c87",
   "metadata": {},
   "outputs": [
    {
     "data": {
      "text/html": [
       "<div>\n",
       "<style scoped>\n",
       "    .dataframe tbody tr th:only-of-type {\n",
       "        vertical-align: middle;\n",
       "    }\n",
       "\n",
       "    .dataframe tbody tr th {\n",
       "        vertical-align: top;\n",
       "    }\n",
       "\n",
       "    .dataframe thead th {\n",
       "        text-align: right;\n",
       "    }\n",
       "</style>\n",
       "<table border=\"1\" class=\"dataframe\">\n",
       "  <thead>\n",
       "    <tr style=\"text-align: right;\">\n",
       "      <th></th>\n",
       "      <th>ID</th>\n",
       "      <th>Text</th>\n",
       "    </tr>\n",
       "  </thead>\n",
       "  <tbody>\n",
       "    <tr>\n",
       "      <th>0</th>\n",
       "      <td>1861</td>\n",
       "      <td>Goodbye @kettlesyard see you in .25 years! htt...</td>\n",
       "    </tr>\n",
       "    <tr>\n",
       "      <th>1</th>\n",
       "      <td>354</td>\n",
       "      <td>@BBC_Culture @PlymouthMuseum Oh dear, why not ...</td>\n",
       "    </tr>\n",
       "    <tr>\n",
       "      <th>2</th>\n",
       "      <td>1334</td>\n",
       "      <td>Fantastic @johnmcdonnellMP standing up for wor...</td>\n",
       "    </tr>\n",
       "    <tr>\n",
       "      <th>3</th>\n",
       "      <td>906</td>\n",
       "      <td>@BBC_Culture @PlymouthMuseum Oh dear, why not ...</td>\n",
       "    </tr>\n",
       "    <tr>\n",
       "      <th>4</th>\n",
       "      <td>1290</td>\n",
       "      <td>@britishmuseum @TripAdvisor it is !</td>\n",
       "    </tr>\n",
       "  </tbody>\n",
       "</table>\n",
       "</div>"
      ],
      "text/plain": [
       "     ID                                               Text\n",
       "0  1861  Goodbye @kettlesyard see you in .25 years! htt...\n",
       "1   354  @BBC_Culture @PlymouthMuseum Oh dear, why not ...\n",
       "2  1334  Fantastic @johnmcdonnellMP standing up for wor...\n",
       "3   906  @BBC_Culture @PlymouthMuseum Oh dear, why not ...\n",
       "4  1290                @britishmuseum @TripAdvisor it is !"
      ]
     },
     "execution_count": 561,
     "metadata": {},
     "output_type": "execute_result"
    }
   ],
   "source": [
    "test.head()"
   ]
  },
  {
   "cell_type": "code",
   "execution_count": 562,
   "id": "d83a6afa",
   "metadata": {},
   "outputs": [],
   "source": [
    "text = train['Text']"
   ]
  },
  {
   "cell_type": "code",
   "execution_count": 563,
   "id": "97ed48e5",
   "metadata": {},
   "outputs": [
    {
     "data": {
      "text/plain": [
       "0    @JuliaBradbury @SimonCalder @walsop @HodderPRI...\n",
       "1    or here https://t.co/R2tO79Easn … .An in house...\n",
       "2    @britshmuseum @thehistoryguy Gosh periscope is...\n",
       "3    @Ophiolatrist britishmuseum The stupid #French...\n",
       "4    @SassyClde We won't stop til @britishmuseum du...\n",
       "Name: Text, dtype: object"
      ]
     },
     "execution_count": 563,
     "metadata": {},
     "output_type": "execute_result"
    }
   ],
   "source": [
    "text.head()"
   ]
  },
  {
   "cell_type": "code",
   "execution_count": 564,
   "id": "182d961d",
   "metadata": {},
   "outputs": [
    {
     "data": {
      "text/plain": [
       "(1600,)"
      ]
     },
     "execution_count": 564,
     "metadata": {},
     "output_type": "execute_result"
    }
   ],
   "source": [
    "text.shape"
   ]
  },
  {
   "cell_type": "markdown",
   "id": "28cabaca",
   "metadata": {},
   "source": [
    "## Word Tokenization and Removing StopWords"
   ]
  },
  {
   "cell_type": "code",
   "execution_count": 565,
   "id": "bb3d8bba",
   "metadata": {},
   "outputs": [],
   "source": [
    "import nltk\n",
    "from nltk.tokenize import word_tokenize\n",
    "from nltk.corpus import stopwords"
   ]
  },
  {
   "cell_type": "code",
   "execution_count": 566,
   "id": "feeedb31",
   "metadata": {},
   "outputs": [
    {
     "data": {
      "text/plain": [
       "'@JuliaBradbury @SimonCalder @walsop @HodderPRIBA @_TheWhitechapel A pleasure to meet you all last week!'"
      ]
     },
     "execution_count": 566,
     "metadata": {},
     "output_type": "execute_result"
    }
   ],
   "source": [
    "text[0]"
   ]
  },
  {
   "cell_type": "code",
   "execution_count": 567,
   "id": "dcadfab4",
   "metadata": {},
   "outputs": [
    {
     "data": {
      "text/plain": [
       "['i',\n",
       " 'me',\n",
       " 'my',\n",
       " 'myself',\n",
       " 'we',\n",
       " 'our',\n",
       " 'ours',\n",
       " 'ourselves',\n",
       " 'you',\n",
       " \"you're\",\n",
       " \"you've\",\n",
       " \"you'll\",\n",
       " \"you'd\",\n",
       " 'your',\n",
       " 'yours',\n",
       " 'yourself',\n",
       " 'yourselves',\n",
       " 'he',\n",
       " 'him',\n",
       " 'his',\n",
       " 'himself',\n",
       " 'she',\n",
       " \"she's\",\n",
       " 'her',\n",
       " 'hers',\n",
       " 'herself',\n",
       " 'it',\n",
       " \"it's\",\n",
       " 'its',\n",
       " 'itself',\n",
       " 'they',\n",
       " 'them',\n",
       " 'their',\n",
       " 'theirs',\n",
       " 'themselves',\n",
       " 'what',\n",
       " 'which',\n",
       " 'who',\n",
       " 'whom',\n",
       " 'this',\n",
       " 'that',\n",
       " \"that'll\",\n",
       " 'these',\n",
       " 'those',\n",
       " 'am',\n",
       " 'is',\n",
       " 'are',\n",
       " 'was',\n",
       " 'were',\n",
       " 'be',\n",
       " 'been',\n",
       " 'being',\n",
       " 'have',\n",
       " 'has',\n",
       " 'had',\n",
       " 'having',\n",
       " 'do',\n",
       " 'does',\n",
       " 'did',\n",
       " 'doing',\n",
       " 'a',\n",
       " 'an',\n",
       " 'the',\n",
       " 'and',\n",
       " 'but',\n",
       " 'if',\n",
       " 'or',\n",
       " 'because',\n",
       " 'as',\n",
       " 'until',\n",
       " 'while',\n",
       " 'of',\n",
       " 'at',\n",
       " 'by',\n",
       " 'for',\n",
       " 'with',\n",
       " 'about',\n",
       " 'against',\n",
       " 'between',\n",
       " 'into',\n",
       " 'through',\n",
       " 'during',\n",
       " 'before',\n",
       " 'after',\n",
       " 'above',\n",
       " 'below',\n",
       " 'to',\n",
       " 'from',\n",
       " 'up',\n",
       " 'down',\n",
       " 'in',\n",
       " 'out',\n",
       " 'on',\n",
       " 'off',\n",
       " 'over',\n",
       " 'under',\n",
       " 'again',\n",
       " 'further',\n",
       " 'then',\n",
       " 'once',\n",
       " 'here',\n",
       " 'there',\n",
       " 'when',\n",
       " 'where',\n",
       " 'why',\n",
       " 'how',\n",
       " 'all',\n",
       " 'any',\n",
       " 'both',\n",
       " 'each',\n",
       " 'few',\n",
       " 'more',\n",
       " 'most',\n",
       " 'other',\n",
       " 'some',\n",
       " 'such',\n",
       " 'no',\n",
       " 'nor',\n",
       " 'not',\n",
       " 'only',\n",
       " 'own',\n",
       " 'same',\n",
       " 'so',\n",
       " 'than',\n",
       " 'too',\n",
       " 'very',\n",
       " 's',\n",
       " 't',\n",
       " 'can',\n",
       " 'will',\n",
       " 'just',\n",
       " 'don',\n",
       " \"don't\",\n",
       " 'should',\n",
       " \"should've\",\n",
       " 'now',\n",
       " 'd',\n",
       " 'll',\n",
       " 'm',\n",
       " 'o',\n",
       " 're',\n",
       " 've',\n",
       " 'y',\n",
       " 'ain',\n",
       " 'aren',\n",
       " \"aren't\",\n",
       " 'couldn',\n",
       " \"couldn't\",\n",
       " 'didn',\n",
       " \"didn't\",\n",
       " 'doesn',\n",
       " \"doesn't\",\n",
       " 'hadn',\n",
       " \"hadn't\",\n",
       " 'hasn',\n",
       " \"hasn't\",\n",
       " 'haven',\n",
       " \"haven't\",\n",
       " 'isn',\n",
       " \"isn't\",\n",
       " 'ma',\n",
       " 'mightn',\n",
       " \"mightn't\",\n",
       " 'mustn',\n",
       " \"mustn't\",\n",
       " 'needn',\n",
       " \"needn't\",\n",
       " 'shan',\n",
       " \"shan't\",\n",
       " 'shouldn',\n",
       " \"shouldn't\",\n",
       " 'wasn',\n",
       " \"wasn't\",\n",
       " 'weren',\n",
       " \"weren't\",\n",
       " 'won',\n",
       " \"won't\",\n",
       " 'wouldn',\n",
       " \"wouldn't\"]"
      ]
     },
     "execution_count": 567,
     "metadata": {},
     "output_type": "execute_result"
    }
   ],
   "source": [
    "stop_words = stopwords.words('english')\n",
    "stop_words"
   ]
  },
  {
   "cell_type": "code",
   "execution_count": 568,
   "id": "19bd81e0",
   "metadata": {},
   "outputs": [
    {
     "name": "stdout",
     "output_type": "stream",
     "text": [
      "['JuliaBradbury SimonCalder walsop HodderPRIBA _TheWhitechapel pleasure meet last week', \"https //t.co/R2tO79Easn .An house solutio proposed meet flexibility needs Come NationalGallery 's time TALK\", 'britshmuseum thehistoryguy Gosh periscope definitely trend High profile people using even tried yet', 'Ophiolatrist britishmuseum The stupid French prick crushed Russian Imperial ancestors Waterloo200', \"SassyClde We wo n't stop til britishmuseum dumps BP Fill feedback form 're amp watch space http //t.co/o2JlUnGi1y\", \"tateliverpool Member 's Preview JacksonPollock BlindSpots yesterday TateLiverpool FANTASTIC exhibition congratulations\", 'britishuseum How British double line formation squad fire work surely entire battalion one long line deep', 'James Richards extraordinary instln _TheWhitechapel brilliantly obliquely piece critical interpretation Sonic art theory Lush', '300 miles see art In case might worth tateliverpool http //t.co/4Eqch03Mb5 http //t.co/18Nokgmvv5', 'NationalGallery favourite summer art Seurat Bathers Asnieres', 'Enjoyed excellent artist talk Glen Ligon tateliverpool', 'Found yesterday BritishMuseum desperately needs info exhibit though Pillar Emperor Ashoka http //t.co/0XtD8lynX', 'NationalGallery pcs_union strikers raise £1,000 pplsassembly protest htt //t.co/SzmJN1zMF7 reinstateCandy http //t.co/7vCMoHbV8W', 'britishmuseum Moobootica Wow old 32', 'Good see yesterday amp work progress flocktognews wordpressdotcom The ThelmaHulbert coming together', \"This w/e saw te closing kettlesyard building work 's film made memory Michael Harrison http //t.co/d27X7k28Gy\", 'British Museum evacuation britishmuseum briishmuseum', 'Excited Castle Hill Open Day tomorrow kettlesyard Loads great stuff families free http //t.co/0pL86Vvhl3', \"GO visit Sothebys ChristiesInc amp take photos art instead _TheWhitechapel ca n't take photos amp aste time phnat\", 'NationalGallery InventingImpressionism strictly No Photo area shot museum shop instead http //t.co/k5JpZfY7b5', 'Unfortunately transition narrative parts stories handwaved away commentay foxvertebrae britishmuseum', 'NationalGallery InventingImpressionism strictly No Photo area shot museum shop instead http//t.co/k5JpZfY7b5', 'Terry Frost soft sculptures looking fantastic LeedsArtGallery Tate_StIves http //t.co/OAhc1n2epi', 'britishmuseum neck collar The neck slendr', \"BBC_Culture PlymouthMuseum dear Dame Laura Knight Surely 'The Beach list\", 'Found yesterday BritishMuseum esperately needs info exhibit though Pillar Emperor Ashoka http //t.co/0XtD8ly3nX', 'tateliverpool BobandRoberta angry artists profile speaking foundationcourses http //t.co/0Jqrq7vfK', 'FitzMuseum_UK well never kew ...', 'NationalGallery greekisinart ART=FREEDOM Visited gallery unable see impressionist paintings belonging collection.When', \"tiffanyjenkins Had show curated _TheWhitechapel… Was n't panted newspaper image two days landed\", 'britishmueum So much teeth problems un ancient Egypt', 'NationalGallery greekisinart ART=FREEDOM Visited gallery unable see impressionist paintings belonging collection.When', \"britishmseum AYDSMA two ... would never thought 're\", 'Goodbye kettlesyard see 2.25 years http //t.co/WFjBAiWbfM', 'britishmuseum 69quietgirl Charles_XII ... austerity', 'kettlesyard Cambridge lovely cat souvenir gaudier-brzeska drawings With Monmouthcoffee http //t.co/cKA1Ez0Kal', 'Distance makes heart grow fonder already heartbroken kettlesyard shutting yr refurb 21Jun go now❤️ http//t.co/7HMmPRcJtz', 'Strikers Shell -sponsored NationalGallery protest priatisation kayaktivists ShellNo NaomiAKlein http //t.co/CW6wyEw8Mo', 'LoudenStudio PearlLamFineArt NYAcademyofArt NationalGallery pleasure.Enjoying catalogue immensely Thanks', 'Unfortunately trnsition narrative parts stories handwaved away commentary foxvertebrae britishmuseum', 'Gold finger ring/rmillary sphere German 17thc britishmuseum Curious know worn finger http //t.co/N4aMqeD8Ad', 'britishmuseumCod piece made armor', 'Saw thought EgyptMcr AnimalMummies EA 6773 11134 6752 26847 britishmuseum GiftsForTheGods http //t.co/OVDXEm2ieX', \"BBC_Culture PlymoutMuseum Oh dear Dame Laura Knight Surely 'The Beach list\", 'askthegallry What take pride Hanging classic artwork hanging staff dry NationalGallery', 'skthegallery How much public money spend brining CIS scabs current PCS dispute NationalGallery', 'People lt amp careabout paintings VS cheap temporary contracts unknowledgable staff NationalGallery AskTheGallery', \"brtishmuseum HollowCrownFans n't look like man 30\", 'People lt amp care paitings VS cheap temporary contracts unknowledgable staff NationalGallery AskTheGallery', 'Stop privatisation services NationalGallery Sign pettion https //t.co/w0xozuIolp via 38_degrees', 'Face Music http //t.co/rJ8FydmuEq 100s contrib inc. G_lizlulu kettlesyard DanielleMarieMu', 'britishmuseum Omg looks totlly like Al Pacino http //t.co/jHgsdUsFCn schriftart', 'NationalGallery Wait secret Leonardo drawing slipped inside one th books', \"This w/e saw closing kettlesyard building work 's film made thee memory Michael Harrison http //t.co/d27X7k28Gy\", 'britishmuseum SenderosP The Rosetta Stone', 'britishmuseum Is holding orange omeone better watch', 'tarbosaur profjoecain britishmuseum yes mermaid wonderfully scary fo kids seems gone last time looked', 'PlatformLondon NationalGallery lets ind Freedom Of Info act Its money', 'britishmuseum thehistoryguy shame idiots pot rude comments throughout', 'Defining Beauty britishmuseum well worth visit ... especially one enjoys drawing dark http //t.co/Y7MJbf1BJk', 'Wish britishmuseum woul help improvements Bloomsbury Sq hundreds visitors museum pass every day', \"kettlesyard Managed last visit need extra storage couple favourites 'd happy oblige http //t.co/OrjfuyT5Es\", 'NConcostrina brtishmuseum Charles_XII The teeth taken corpses battlefield used dentures rest century😁', 'NichollsJill World Premiere Jan _TheWhitechapel hopefully another screening soon', \"tateliverpool 'm trying book members curator talk guided tour pollock bu links n't work Are sold\", \"Lots questions privatisation sackingof rep NationalGallery 's AskTheGallery disappointing n't addressed\", 'nationalgallery AskTheGallery When re-instating Candy Udwin Wy arts subject private profit', 'brtishmuseum Did Napoleon really say Britain nation shopkeepers', 'Cambscene CamUnivMuseums polarmuseum surely statue wd cold Is riginator saying freezing brass balls', 'NationalGallery photopralineYes ... Rembrandt paintings makes weep .. DUTCH 17th golden age paintings ahhhhhhhh', 'Blog post AsktheGallery engage angry audience NationalGallery brushes questions aside http //t.c/kfTCCyxFAD', 'Crumbs NMMGreenwich Dudley britishmuseum posting Henry VIII feel threatened Museum tweets Catholic today', 'NationalGallery photopraline Yes ... Rembrandt paintings makes weep .. DUTCH 17th golden age paintings ahhhhhhhh', \"SassyClyde We wo n't sto til britishmuseum dumps BP Fill feedback form 're amp watch space http //t.co/o2JlUnGi1y\", 'britishmuseum JHGHendriks Holy sh ...', 'NationalGallery skTheGallery Will recommend trustees end oil sponsorship amp making ppl complicit climate change see public art', 'Cambscene CamUnivMuseums polarmuseum surely statue wd cold Is originator saying abot freezing brass balls', 'MrStuchbery britishmuseum veteran priest could probably whip heart 30 seconds .. ❤️🔪😱', 'britishmuseum Hi trying phone two ays one ever picks phones', \"The Place 's subtle dance piece performed AgeUK britishmuseum Defining Beauty exhibition didn'treally work bring back bacchantes\", 'View Estaque Cézanne risk exported FitzMuseum_UK unless buyer match £13m asking price http //t.co/F3qTEMqha7', 'NationaGallery InventingImpressionism strictly No Photo area shot museum shop instead http //t.co/k5JpZfY7b5', 'britishmuseum Omg looks totally like Al Pacino ttp //t.co/jHgsdUsFCn schriftart', 'NationalGallery AskTheGallery We boycotting National Gallery untilyou reinstate Candy Unwin stop privatisation ...', 'AskTheGallery Love NationaGallery Hate Private Sector Colonisation Illegal Discrimination Against Unions ReinsateCandy NGNotForSale', 'cheltcollege L6 History Art Dept way London give public presentations NationalGallery excitement brewing photos follow', \"Commercial collegial Why BrtishMuseum fees art loans Abu Dhabi disclosed UK 's FOI law http //t.co/PmcmRtHJT2\", 'britishmuseum JHGHendriks Holy sh ...', 'ConsortiumX bencnn britishmuseum Why British Museum Highwayman returnthe stolen goods owners All colonial pillage', 'Tate_StIves BobandRoberta angry artists profile speaking foundationcouses http //t.co/0Jqrql7vfK', 'britishmuseum drinks permittedin museum clearly displayed entrance', 'View Estaque Cézanne risk exported FitzMuseum_UK unless buyer match £13m asking rice http //t.co/F3qTEMqha7', 'Jackson pollock Glenn Ligon opening tomorrow tateliverpool great combo beautiful NotToBeMissed', 'CarolineLawrenc britishmuseum Oo Fairies', 'NationalGallery grekisinart ART=FREEDOM Visited gallery unable see impressionist paintings belonging collection.When', 'Gold finger ring/armillary sphere German 17thc britishmuseum Curios know worn finger http //t.co/N4aMqeD8Ad', 'MrStuchbery britishmuseum vetern priest could probably whip heart 30 seconds ... ❤️🔪😱', 'MrStuchbery britishmuseum veteran priest could probably whip heart 30 seonds ... ❤️🔪😱', \"Great hear Penny promoting great work already occurring MH RAMMuseum `` Collections amp Identities '' DefeatingDepression\", 'British Museum evacuation britishmuseum britishmuseum', \"BBC_Culture PlymouthMuseum Oh dear notDame Laura Knight Surely 'The Beach list\", 'Wish britishmuseum would help mprovements Bloomsbury Sq hundreds visitors museum pass every day', 'defining beauty exhibition britishmuseum overwhelmingly stunning today ends next week PLEASE make priority go', \"NtionalGallery AskTheGallery Dr would n't like leave noble gesture Stop privatisation ReinstateCandy support union\", 'Found yesterday BritisMuseum desperately needs info exhibit though Pillar Emperor Ashoka http //t.co/0XtD8ly3nX', 'nationalgallery AskThGallery Why pay brilliant staff poorly', 'IanLaveryMP attend adjournment debate tomorrow noprivatisation NationalGallery reinstatecandy NGNotForSal PCSCultureGroup', \"tateliverpool 'm trying book members curator talk guided tour fr pollock links n't work Are sold\", \"The Place 's subtle dance piece performed AgeU britishmuseum Defining Beauty exhibition n't really work bring back bacchantes\", 'tarbosaur profjoecain many thanks sad think britishmuseum hdden away Enlightment gallery demonic mermaid', 'Cambscene CamUnivMuseums polarmuseum surely statue wd cod Is originator saying freezing brass balls', \"HistoryGems britishmuseum It 's got little ummified croc\", 'Goodbye kettlesard see 2.25 years http //t.co/WFjBAiWbfM', 'urge art lovers boycott NtionalGallery pcs_union rep Candy reinstalled Human rights important pictures BHGreens', 'Thank stockleyacademy NationalGallery looking forward', 'ChristopherWilliams The Production Line Happiness _TheWhitechapel Sunday Dynamic amp refreshing http //t.co/fPla90shml', 'kettlesyard We happy Looks like good event', \"It 's great day AskTheGallery NationalGallery amp Tate opening Twitter doors live questions gt http //t.co/tYH5tk8k4x\", \"Tate_StIves 's fighting talk since 're lovely 'll let pass\", 'NationalGallery AskTeGallery noprivatisation https //t.co/0N7UGP7h1Z ReinstateCandy http //t.co/ZaDR8HN01F', 'View Estaque Cézanne risk exported FitzMuseum_UK uless buyer match £13m asking price http //t.co/F3qTEMqha7', 'Since thee included would nice see felt like concessionary nod gt foxvertebrae britishmuseum', 'bitishmuseum Wish could extend exhibition London August ...', 'britishmuseum Wish could extend exhibition London ugust ...', 'askthegallery Ho much public money spend brining CIS scabs current PCS dispute NationalGallery', \"tiffanyjenkins Had show curated _TheWhitechapel… Was n't painted newspaper image two days landed\", \"The Place 's subtle dance piece performed AgeUK britishmuseum Definig Beauty exhibition n't really work bring back bacchantes\", \"NationalGallery That Rembrandt selfportrait one favourite pictures visit yearly around birthday 's taught much\", 'britishmuseum upset invigilators ery rude arrogant enforcing drinking rule', 'NationalGallery InventingImpressionism strictly No Photo area shot museum shop instead http //t.co/k5JpZfY7b5', 'Wellcome Instagram NationalGallery https //t.co/KHGP71ECet Just time InstaMuseum tomorrow http //t.co/SRLXesHNVw', \"appendixjournal MartinPribble FitzMuseum_U So Swiss Army knife really Roman army knife 'm going engrave SPQR mine\", \"FINALLY 's DefiningBeauty britishmuseum day Ca n't wait feel overwhelming awe\", 'FYI NationalGallery NGNotForSale ReinstateCandy https //t.co/WD2pKLxET', \"NationalGallery Director N. Penny favours `` in-house solution '' Come back talks pc_union got Alternative http //t.co/UOdrADopXr\", \"Lots questions privatisation saking rep NationalGallery 's AskTheGallery disappointing n't addressed\", 'Ophiolatrist brtishmuseum The stupid French prick crushed Russian Imperial ancestors Waterloo200', 'britishmuseum Superbe Musée http //t.co/4I8idPlBFt', 'This cheeky beauty popular exhibit BritishMuseum One many representations love goddess http //t.co/MIVusjNnmu', \"SassyClyde We wo n't stop til britishmuseum dumps BP Fill feedback form 're amp watch space http //t.c/o2JlUnGi1y\", 'tarbosaur profjoecain many thanks- sad think britishmuseum hidden away Enlightment gallery demonic mermaid', 'britishmuseum Beautiful exhibit wish seen last trip UK Nov', \"The Place 's subtle dance piece performed AgeUK britishmuseum Defining Beauty exhibition n't eally work bring back bacchantes\", 'Breathtaking display britishmuseum nothing makes swoon like Barberini Faun DefiningBeauty http //t.co/gInGd7Vcel', \"Lots questions privatisation sacking rep NationalGallery 's AskTheGallery disappointing n't addresse\", 'MrStuchbery FrancesBaker britishmuseum Oh How', 'confident NationalGallery woud answer critics AskTheGallery ignore We visitors tax payers', 'NConcostrina briishmuseum Charles_XII The teeth taken corpses battlefield used dentures rest century😁', 'NationalGallery The cropped image timeline ooks like something entirely different anyone else see', 'Solidarity USDAW C133 pcs_union Day 39 ofstrike NationalGallery privatisation ReinsateCandy http //t.co/NO5lYh7B5M', 'Fantastic johnmcdonnellMP standing workers NationalGallery noprivatisation edvaizey sits fene http //t.co/QzBYpUAtQt', 'askthegallery What take pride Hanging classic artwork hanging staff dry NatonalGallery', 'NationlGallery greekisinart ART=FREEDOM Visited gallery unable see impressionist paintings belonging collection.When', 'Tate_StIves BobandRoberta angry artists profileare speaking foundationcourses http //t.co/0Jqrql7vfK', \"NationalGallery AskTheGallery Why appear suppot privatisation Why n't value staff support\", 'britishmuseum upset invigilaors Very rude arrogant enforcing drinking rule', 'Since included would nice see felt like concessionary nod gt foxvertebrae britishmuseum', 'Blog post AsktheGallery engage angry audince NationalGallery brushes questions aside http //t.co/kfTCCyxFAD', 'Sofabsports thank following back Great hear diverse amp interesting panel DefeatingDepression RAMMuseum', 'People lt amp care paintings VS cheap temporary contracts unknowledgable stff NationalGallery AskTheGallery', \"NationalGallery Thank information 's beautiful painting\", 'Working meeting britishmuseum gt great start day http //t.co/AGTGo7JwyM', 'NationalGallery Haha There definitely giant agles hanging around last visited', 'OptimoPrincipi britishmuseum one looks eal', 'Agreed rhiannonakelly Eat sandwiches britishmuseum daily inspring surroundings Inspired rage day Whats nxt ReclaimOurBard', \"Here 's trying spot life drawing fabulous KettlesYard Cambridge http //t.co/cnq220VyIL\", 'NCocostrina britishmuseum Charles_XII The teeth taken corpses battlefield used dentures rest century😁', 'NationalGallery AskTheGallery We boycotting National Gallery renstate Candy Unwin stop privatisation ...', \"Ophiolatrist britishmuseum Seriously Napoleon Hitler It'sjust stupid\", 'Cambscene CamUnivMuseums polarmuseum surely statue wd cold Is th originator saying freezing brass balls', 'tarbosaur profjoecain britishmuseum yes mermaid wonderfully scary kids seems gone last tie looked', \"appendixjournal MartinPribble FitzMuseum_UK So Swiss Army knife really Roman army knife 'm going engrave PQR mine\", 'britishmuseum thehistoryguy Gosh periscope definitely trend High profile people using ave even tried yet', \"NationalGallery AskTheGallery Why yo appear support privatisation Why n't value staff support\", 'britishmuseum thehistoryuy Gosh periscope definitely trend High profile people using even tried yet', \"appendixjournal ephemera07 FitzMuseum_UK Cool could use one next time 'm camping\", \"appendixjournal MartinPribble FitzMuseum_UK So Swiss Army knife really Roman army nife 'm going engrave SPQR mine\", 'britishmuseum Moonbootica Wow vey old 32', 'NConcostrina britishmuseum Charles_XII The teeth taken corpses battlefield wre used dentures rest century😁', 'So ... TimesSquareNYC britishmuseum responsible trending SummerSolstice America Hell yeah http //t.co/cEqC4SLbVS', 'Fantastic johnmcdonnellMP standing workers NationalGallery noprivatisation edvaizey sits fence http //t.co/QzBYpUAtQt', 'OMG thought sleep upstairs 3speeders Tate_StIves', 'Goodbye kettlesyard see 2.25years http //t.co/WFjBAiWbfM', 'Wish britishmuseum would help improvements Bloomsury Sq hundreds visitors museum pass every day', \"BMAGcurators NationalGallery Yes It 's hard believe Bernard Berenson dispaaged Reni\", 'NatinalGallery oh god', 'blaircurator alex_neilson Tate_StIves Hang building renovated great expense ...', 'britishmuseum JHGHendriks Holy sh ...', \"So foxvertebrae went Defining Beauty exhibition britishmuseum yesterday thought 'd tweet musings\", 'NationalGallery This one favourites copy NG framed amp hanging right next', 'britishmuseum thehistoryguy shame idiots post rud comments throughout', 'AskTheGallery Love NationalGallery Hate Private Sector Colonisation Illegal Discrimination Against Unions ReinsateCandy NGNotForSae', \"tateliverpool 'm trying book members curator talk guided tour pollock te links n't work Are sold\", 'urge art lovers boycott NationalGallery pcs_union rep Candy reinstalled Human rights important thanpictures BHGreens', 'NationalGallery BobandRoberta angry rtists profile speaking foundationcourses http //t.co/0Jqrql7vfK', 'Off britishmuseum definingbeauty wanted go ages finishes next week', 'urge art lovers boycott NationalGallery pcs_union rep Candy reinstalled Human rights important pictures BHGreens', \"britishmuseum HollowCrownFans n't look like aman 30\", 'Unfortunately transition narrative parts stories handwaved away inthe commentary foxvertebrae britishmuseum', 'nationalgallery AskTheGallery When re-instating Candy Udwin Why arts subject private profit', 'tateliverpool new Jackson Pollock Blind Spots exhibition opens public tomorrow excited Liverpool art Not missed', 'NationalGallery cropped image timeline looks like something entirely different anyone else see', \"tateliverpool 'm trying book members curator talk guided tour pollock links n't work Are sold\", 'Srikers Shell -sponsored NationalGallery protest privatisation kayaktivists ShellNo NaomiAKlein http //t.co/CW6wyEw8Mo', 'Nationalallery The cropped image timeline looks like something entirely different anyone else see', 'chriswatt44 Tate_StIves great pic What day Cheers', 'NationalGallery thanks fav-ing spent 40m yr place b4 biz meeting know heart soared artforthesoul', 'tarbosaur profjoecain britishmuseum yes mermaid wonderfully scary kids seems gone last time looke', \"_TheWhitechapel marieantoynette Definitely one favourite places We 're absolutely thrilled 're short walk away\", 'Find great content producers Periscope like britishmuseum http //t.co/9FJeQAZvXQ periscopeco periscopetv http //t.co/w15caPQnk5', \"This w/e saw closing kettlesard building work 's film made memory Michael Harrison http //t.co/d27X7k28Gy\", 'Bad times National Gallery Stop privatisation services NaionalGallery https //t.co/ypfYtLhYus via 38_degrees', 'Cambscne CamUnivMuseums polarmuseum surely statue wd cold Is originator saying freezing brass balls', 'Goobye kettlesyard see 2.25 years http //t.co/WFjBAiWbfM', 'britishmuseum AncientLives exhibition Wow', 'britishmuseum So enjoyed demonstration It must take years master beautiful artistry', \"NationalGallery Londoncraftweek weird sy 've barberinstitute took pic http //t.co/P1iQcqQ8nY\", 'Goodbye kettlesyard see 225 years http //t.co/WFjBAiWbfM', 'britishmuseum thank fascinating scope', 'Great learn MetOffice Informatics Lab people today niallhrobinson metolab RachelPrudden Richard Hogben RAMMuseum', 'britishmuseum upset invigilators Very rud arrogant enforcing drinking rule', 'The Top Art Shows 2C London NOW http //t.co/L8MqhHE3nw LaceyContemp britishmuseum HoxtonGallery JFreemanGallery artist_stone', 'MrStuchbery britishmuseum veteran priest could probably whip aheart 30 seconds ... ❤️🔪😱', 'britishmuseum Hi trying phonefor two days one ever picks phones', 'British Museum evacuation britishmuseum ritishmuseum', 'AskTheGallery Dr Penny facing public outcry petition nearly 45,000 signatures halt privatisation NatioalGallery', 'tabosaur profjoecain britishmuseum yes mermaid wonderfully scary kids seems gone last time looked', \"NationalGallery BohanRob 's beautiful creative painting\", 'NationalGallery What message oil sponsorship arts send ngotiating climate del Paris year AsktheGallery', 'Late Pollock set one provocative amp absorbing shows tateliverpool guardian http //t.co/8oxmUKUaBQ http //t.co/ZFGcKcE34w', 'Really enjoyed hearing SStraine talk enthusiasm pollock tateliverpool afternoon', \"It 's sunny given hummingbbakery cupcake 'm planning going britishmuseum later lifeisgood fridayfeeling\", 'britishmuseum tha neck collar The neck slender', 'Yummy lunch check waddesdon DefiningBeauty britishmuseum self-authorisedsabbatical', 'NatonalGallery oh god', 'britishmuseum thanks', \"https //t.co/R2tO79Easn .An house solution proposed meet flexibility needs Come ationalGallery 's time TALK\", 'NationalGallery InventingImpressionism strictly No Phoo area shot museum shop instead http //t.co/k5JpZfY7b5', \"NationalGallery Londoncraftweek weird say thatwhen 've barberinstitute took pic http //t.co/P1iQcqQ8nY\", 'britishmuseum Really interesting Must visit Thanks', 'NationalGallery espectacular sunbeam', \"britishmuseum AYDSMA two ... would never thought tat 're\", 'NationalGallery photopraline Yes ... Rembrandt paitings makes weep .. DUTCH 17th golden age paintings ahhhhhhhh', 'Crumbs NMMGreenwich Dudley britishmuseumposting Henry VIII feel bit threatened Museum tweets Catholic today', \"NationalGallery AskTheGalery Dr would n't like leave noble gesture Stop privatisation ReinstateCandy support union\", 'tarbosaur profjoecain many thanks sad think britishmuseum hidden away Enlightment gallery demonic mermaid', \"7Stories plymlibraries PlymouthMuseum That looks amazing 'll Cece Fifi Beau 12 probs bit old\", \"It 's one days ... NationalGallery sorefeet htp //t.co/5cwgqIoGbZ\", 'NationalGallery What message oil sponsorship arts send ngotiating climate deal Paris year AsktheGalley', 'fav NationalGallery birfday boy http //t.co/1L7VJ6ykmu', 'britishmuseum wish something bankruptcy ancient world', 'britishmuseum Cisthene1 gabjamom1 pretty cool', 'britishmuseum How British double line formation squad fire work surely entire battalion one long line deep', 'JHGHendriks brtishmuseum aroberts_andrew estimates range 15000 20000 horses killed/severly wounded', 'After 29 yrs Cézanne painting leave UK unless funds raised FitzMuseum_UK via an_artnews http //t.co/VjDNl3XU7C http //t.co/0frSDQ5LHN', 'cbcideas thegetty HaidaHeritage NewCdnMedia guardian britishmuseum morethanadodo An important talk.Would love visit Haida Gwaii', 'After 29 yrs Cézanne painting leave UK unless funds raised FitzMuseum_UK via an_artnews htp //t.co/VjDNl3XU7C http //t.co/0frSDQ5LHN', 'briishmuseum 69quietgirl Charles_XII ... austerity', 'tarbosaur profjoecain britishmuseum yes mermaid wonderfully scary kids seems gone last time looked', 'britishmuseum thehistoryguy Gosh periscope definitely trend High profile people using even tried yet', 'askthegallery How much public money spend brining CIS scabs current PCS dispute ationalGallery', 'Solidarity USDAW C133 pcs_union Day 39 strike NationalGallry privatisation ReinsateCandy http //t.co/NO5lYh7B5M', 'AskTheGallery Love NationalGallery Hate Private Sector Colnisation Illegal Discrimination Against Unions ReinsateCandy NGNotForSale', \"appendixjournal MartinPribble FitzMuseum_UK So Swiss Army knife really Roman army knife 'm going engrave SPQR mie\", 'britishmuseum Wish could extend exhibition onl London August ...', 'May bought stuff Mexican bit britishmuseum http //t.co/XmvUJGIigx', 'Found yesterday BritishMueum desperately needs info exhibit though Pillar Emperor Ashoka http //t.co/0XtD8ly3nX', 'Well done britishmuseum looking forward visiting next weekend another look 8mummies exhibit https //t.co/FSSkqFHpD9', 'Ophiolatrist britishuseum The stupid French prick crushed Russian Imperial ancestors Waterloo200', 'askthegallery How much public money spend brinig CIS scabs current PCS dispute NationalGallery', 'louiseallain How lovely What thoughtful young woman Amazing grace many bear disabilities ... britishmuseum', 'NationalGallery Haha There definitely nogiant eagles hanging around last visited', 'britishmuseum Love', 'OMG thought aseep upstairs 3speeders Tate_StIves', 'britishmuseum thehistoryguy Gosh periscope defiitely trend High profile people using even tried yet', \"This w/e saw theclosing kettlesyard building work 's film made memory Michael Harrison http //t.co/d27X7k28Gy\", 'tateliverpool richard51185877 What great idea THANK YOU Liverpool great City amazing History study', 'Found yesterday BritishMuseum desperately needs info exhibit though Pillar Emperor Ashoka http//t.co/0XtD8ly3nX', 'Solidarity striking theNational Gallery NationalGallery NO TO PRIVATIZATION TUCLGBT15', 'Judging DefiningBeauty britishmuseum Greeks good go AlexanderTheGreat hair envy http //t.co/wvgD1c66gZ', 'JHGHendriks britishmuseum aroberts_andrew estimates range from15000 20000 horses killed/severly wounded', \"NationalGallery Londoncraftweek weird sa 've barberinstitute took pic http //t.co/P1iQcqQ8nY\", 'NaionalGallery greekisinart ART=FREEDOM Visited gallery unable see impressionist paintings belonging collection.When', 'britishmuseum hmmmm ... ateapot', 'NationalGallery pcs_union strikers raise £1,000 pplsassembly protest http //t.co/SzmJN1zMF7 reinstateCandy http //t.co/7vCMoHb8W', \"Commercial collegial Why BritishMuseum fees art loans Abu Dhabi disclosed uder UK 's FOI law http //t.co/PmcmRtHJT2\", 'Crumbs NMMGreenwic Dudley britishmuseum posting Henry VIII feel bit threatened Museum tweets Catholic today', 'britishmuseum D_Blanchflower thanks Tories one get close see let alone festial remembering 85', \"It 's one thos days ... NationalGallery sorefeet http //t.co/5cwgqIoGbZ\", 'jessoir NationalGallery thank positive feedback Pleased enjoyed visit', 'tateliverpool BobandRoberta angry artists hat profile speaking foundationcourses http //t.co/0Jqrql7vfK', 'britishmuseum So much teeth problems un ancient Egypt', 'britishmuseum aroberts_andrew Storify loved learned lot', \"appendixjournal MartinPribble FitzMuseum_UK So Swiss Army knife really Roma army knife 'm going engrave SPQR mine\", \"NationalGallery NPGLonon pcs_union wo n't seeing Goya After 50 years pictures NGL pariah list Candy reinstated\", 'Today decided renew britishmuseum membership shouted one spaniards', 'britishmuseum Is holding orange Somone better watch', 'tarbosaur profjoecain britishmuseum yes mermaid wonderfully scary kids seemsto gone last time looked', 'FF Great museum accounts ExploreWellcome AshmoleanMuseum PlymouthMuseum BassetlawMuseum PooleMuseum ILoveMuseums kidsinmuseums', 'The last selfie britishmseum mariarodrirubin http //t.co/OL73O0QD4q', 'View Estaque Cézanne risk exported FitzMuseum_UK unless buyer match £13m askin price http //t.co/F3qTEMqha7', 'NationalGallery lots disappointed peole gallery today strike sadface', 'Crumbs NMMGreenwich Dudley britishmuseum posting Henry VIII eel bit threatened Museum tweets Catholic today', 'Tate_StIves BobandRoberta angry artists profile speaking foundationcourses http /t.co/0Jqrql7vfK', 'told tate britishmuseum NPGLondon ap RoyalOperaHouse DropBP Sponsorship Join http //t.co/gmbtUDKh6m', 'PlymouthMuseum yes please', 'tarbosaur profjoecain many thanks sad think britishmuseum hidden away Enlightment gallery demonic mermaid', 'St Ives Cornwall News http //t.co/cCO8Jai0GJ Stories via Tate_StIves', \"special places loved going HornimanMuseum training London 're regular visitors RAMMuseum\", 'NationalGallery InventingImpressionism strictly No Photo area hot museum shop instead http //t.co/k5JpZfY7b5', 'Found yesterday BritishMuseum desperately needs info exhiit though Pillar Emperor Ashoka http //t.co/0XtD8ly3nX', 'AskTheGallery Dr Penny facing public outcry petiton nearly 45,000 signatures halt privatisation NationalGallery', 'UofE_Research thank following back Well done gathering interesting panel DefeatingDepression RAMMuseum', 'Visited FitzMuseum_UK today Inspiration everywhere http //t.co/xq3U4bvz3Y', 'britishmuseum Nice info election night Denmark difficult keeping concentration looked interesting', 'psframes ABroadBrush NationalGallery love intense attention paid the…frames', 'Top work exhibitions team tateliverpool great summer season Check Pollock Ligon Bratescu PV tonight', 'It would great see material approached using queer theory foxvertebrae britismuseum', 'ATTN Museum stolen property Hand back culture britishmuseum http //t.o/KNfY53G7Gt SOSBLAKAUSTRALIA NOconsent', \"This w/e saw closing kettlesyard building work 's film made memory Michael Harrison http //t.co/d27X7k28Gy\", 'Studio work done _TheWhitechapel JOY http //t.co/8evwKeUlfS', 'BMAGcurators artfund NationalGallery Fully agree huge congratulations HelenHillyard', \"tiffanyjenkins Had show curated _TheWhitechapel… Was n't painted nespaper image two days landed\", 'still get shiver delight excitement every time walk place :0 britishmuseum https //t.co/OPS34oPIiu', \"NationalGallery AskTheGallery Dr would n't yo like leave noble gesture Stop privatisation ReinstateCandy support union\", \"Today 's fun taking museumselfie whilst maustinpics photographed RAMMuseum 's socialfabric exhibition http //t.co/7dE7Uoadqp\", \"GO visit Sohebys ChristiesInc amp take photos art instead _TheWhitechapel ca n't take photos amp waste time phnat\", 'Crumbs NMMGreenwich Dudley britishmusum posting Henry VIII feel bit threatened Museum tweets Catholic today', 'kdastgirkhan nationalgallery hmmmmmmm nice', 'britishmuseum Wish could extend exhibition ondon August ...', \"NationalGallery Director N. Penny favours `` in-house solution '' Come back talks pcs_union got Alternative http //t.co/UOdrADopX\", 'history100tweet 一番のお気に入りはこれ。 ロンドン 大英博物館の天井クリアファイル！ think best souvenir britishmuseum http //t.co/2iO6HTg3TC', 'Found yesterday BritishMuseum desperately needs info exhibit though Pillar EmperorAshoka http //t.co/0XtD8ly3nX', 'LisaLooly newmanmpaul DrawntoDevon MooseAllain DavidSmithArt yes see ThelmaHulbert EvolverPrize2015 Art southwest', \"Great opportunity see Russian artist Arseny Zhilyaev _TheWhitechapel Thurs 's show la_Biennale http //t.co/t1fZx0gcPx\", 'NationalGallery lots disappointed peope gallery today strike sadface', 'Cumbs NMMGreenwich Dudley britishmuseum posting Henry VIII feel bit threatened Museum tweets Catholic today', 'britishmuseum So uch teeth problems un ancient Egypt', \"Wondrous day Liverpool redfolio amp Mindart Peter Blake 's Razzle Dazzle Ferry amp tateliverpool Brilliant http //t.co/bnwQ9XjTpt\", 'britishmuseum Moonbootica Wow vry old 32', \"tiffanyjenkins Had show curated _TheWhitechapel… Was n't ainted newspaper image two days landed\", 'britihmuseum thehistoryguy Gosh periscope definitely trend High profile people using even tried yet', 'Finally made britishmuseum AncientLives 8mummies Another stunning triumph fab NISSENRICHARDS studio http //t.co/Oq4BgeOe8v', \"The Place 's subtle dance piece performed AgeUK britihmuseum Defining Beauty exhibition n't really work bring back bacchantes\", 'This afternoon going good one britishmuseum http //t.co/vkEnByhOKW', 'britishmuseum Love', 'Looking forward GlennLigon talk tateliverpool afternoon', 'OMG thought asleep upstairs 3speeders ate_StIves', 'ationalGallery oh god', 'Wonderful book trip britishmuseum today Such fun way improve geography knowledge maps http //t.co/JYYzIcGp4U', 'What delicate delight eyes art Bugglepuffbooks MuseumModernArt NationalGallery mallgalleries https //t.co/zox9yMvcaM', 'NationalGallery The cropped image timeline looks like something entirely different anyone else see', 'MrStuchbery britishmuseum Great photos Definitely going visit summer', 'britishmuseum w/ bquentin3 amp zada_beda feeling like 21st Century underperforming amp sure… https //t.co/Q0Dmt8MPZU', 'Bad times National Gallery Stop privatisation services NationalGallery https //t.coypfYtLhYus via 38_degrees', 'britishmuseum Wih could extend exhibition London August ...', 'So pleased selected ThelmaHulbert Gallery July/August EvolverPrize2015 http //t.co/yA60vLNPTk', 'confident NatonalGallery would answer critics AskTheGallery ignore We visitors tax payers', 'britishmuseum Cod piece made armor', \"NationalGallery Londoncrafteek weird say 've barberinstitute took pic http //t.co/P1iQcqQ8nY\", 'People lt amp care paintings VS chap temporary contracts unknowledgable staff NationalGallery AskTheGallery', 'NationalGallery AskTheGallery noprivatisation https //t.co/0N7UGP7h1Z ReinstateCandy http //t.co/ZaDR8H01F', 'Gaaf het britishmuseum gebruikt periscope om rondleidingen te streamen https //t.co/MC1FdxS2S3', '_TheWhitechapel The National Gallery loved training We help accessibility http //t.co/CGGJdvumzT', \"NationalGallery Beautiful RT `` Our immerisive new exhibition Soundscapes opens July http //t.co/dF6fC1rK5f ''\", \"GO visit Sothebys ChristiesInc amp take photos art instea _TheWhitechapel ca n't take photos amp waste time phnat\", 'langham_press supporting great event 3rd year Sat 20th June 12pm 5pm kettlesyard https //t.co/cZDtW8PtAP', 'blaircurator alex_neilson Tate_StIves Hang building renovated great expense ...', 'NationalGallery BobandRoberta angry artists profile ot speaking foundationcourses http //t.co/0Jqrql7vfK', 'britishmuseum Is holding orange Somene better watch', \"Commrcial collegial Why BritishMuseum fees art loans Abu Dhabi disclosed UK 's FOI law http //t.co/PmcmRtHJT2\", 'justtold tate britishmuseum NPGLondon amp RoyalOperaHouse DropBP Sponsorship Join http //t.co/gmbtUDKh6m', 'NationalGallery AskTheGallery Will Candy Udwin reinstated colleagues paid living wage', 'mrsartytextiles staffrm top form moderator next week prom KS3 trip NationalGallery still much LovingIt', 'britishmuseum Omg looks totally like Al Pacino http //t.co/jHgsdsFCn schriftart', 'britishmuseum 69quietgirl Charles_XII ... austerity', \"`` How paintings sound '' Nice concept Looking forward going NationalGallery http //t.co/0IdAQKqcAw soundscapes audio art\", 'HuffPostGreen help us amp RT Shell sponsors NationalGallery work amp wan privatise us ShellNo https //t.co/mRw2vTAhsi', 'nationalgallery AskTheGallery When re-instating Candy Udwin Wh arts subject private profit', 'Full day first Pollock tateliverpool invigilating theBluecoat amp Antony Gormley Biennial .. Amazing http //t.co/4MPM6iV5sU', 'Feliz cumpleaños Rubens Happy birthday Rubens NationalGallery http //t.co/BeiJc5hNri http //t.co/UMRi93Y96C', 'The last selie britishmuseum mariarodrirubin http //t.co/OL73O0QD4q', 'After 29 yrs Cézanne painting leave UK unless funds raisd FitzMuseum_UK via an_artnews http //t.co/VjDNl3XU7C http //t.co/0frSDQ5LHN', 'NConcostrina britishmuseum Charles_XII The teeth taken corpses battlefieldwere used dentures rest century😁', 'told tate britishmuseum NPGLondon amp RoyalOperaHouse DropBP Sponsorship Join http //t.c/gmbtUDKh6m', \"NationalGllery Londoncraftweek weird say 've barberinstitute took pic http //t.co/P1iQcqQ8nY\", 'NationalGallery Haha There defiitely giant eagles hanging around last visited', 'Gold finger ring/armillary sphere German 17thc britishmuseum Cuious know worn finger http //t.co/N4aMqeD8Ad', 'Praise tateliverpool https //t.co/QlriENJBiV', \"BMAGcurators NationalGallery Yes It 's hard believe Berard Berenson disparaged Reni\", 'Agreed riannonakelly Eat sandwiches britishmuseum daily inspiring surroundings Inspired rage day Whats nxt ReclaimOurBard', \"tateliverpool always manage fresh unexpected amp 've done pollock Brilliant http //t.co/u8gzs44q2X\", 'NationalGallery AskTheGallery Will recommend trustees end oil sponsorship amp makng ppl complicit climate change see public art', 'NationalGallery photopraline Yes ... Rembrandt paintings mkes weep .. DUTCH 17th golden age paintings ahhhhhhhh', 'Tate thank sharing http //t.co/t4YVZQ6HG4 via NationalGallery', \"SassyClyde We wo n't stop til britishmuseum dumps BP Fill feedback fom 're amp watch space http //t.co/o2JlUnGi1y\", 'Looking forward attending DefeatDepression RAMMuseum evening', 'Finally made well worth Britishmuseum Greek sculpture britishmuseum https //t.co/YSBFsPAC7Q', 'NationalGallery greekisinart ART=FREEDOM Visited gallery unable see imressionist paintings belonging collection.When', 'tarbosaur profjoecain britishmuseum yes mermaid wonderfully scary kids seems gone last time looked', 'NationalGallery Haha There definitely giant eagles hanging around hen last visited', 'Bad times National Gallery Stop privatisation service NationalGallery https //t.co/ypfYtLhYus via 38_degrees', 'NationalGallery pcs_union strikers raise £1,000 pplsassembly protest http //t.co/SzmJN1MF7 reinstateCandy http //t.co/7vCMoHbV8W', \"Seriously proud curator samcurtisart selected year 's Whitechapel opening http //t.co/xxy252S2fp _TheWhitechapel\", 'NationalGallery Hah There definitely giant eagles hanging around last visited', 'MAACambridge ... forgetting world class art amp stunning exhibits Fitzwilliam Museum Scott Polar Institute Zoology Museum', 'Solidarity USDAW C133 pcs_unin Day 39 strike NationalGallery privatisation ReinsateCandy http //t.co/NO5lYh7B5M', \"The Place 's subtle dance piece performed AgeUK britishmuseum Defining Beauty exhibition n't really work bring back bacchante\", 'Solidarity greenpeace kayaktivists We fighting Shell amp Nationalallery want privatise 400 workers ShellNo noprivatisation', 'NConcostrina britishmuseum Charles_XII The teeth taken corpse battlefield used dentures rest century😁', 'NationalGallery greekisinart ART=FREEDOM Visited gallery unable see impressionistpaintings belonging collection.When', \"Looking forward joining evening 's DefeatingDepression event RAMMuseum hosted UoE_MedHist\", 'Goodbye kettlesyard see yu 2.25 years http //t.co/WFjBAiWbfM', 'OMG thought asleep upstairs 3speeders Tate_StIves', 'britshmuseum neck collar The neck slender', \"iffanyjenkins Had show curated _TheWhitechapel… Was n't painted newspaper image two days landed\", \"britishmuseum AYDSMA two ... ould never thought 're\", \"The perfect location wear VanessaGounden ... The britishmuseum 's Great Court WearableART Artivism http //t.co/RAAvlb1AcW\", 'britishmuseum neck collar The eck slender', \"https //t.co/R2tO79Easn .An house solution proposed meet flexibility needs Come NationaGallery 's time TALK\", 'askthegallery How much pulic money spend brining CIS scabs current PCS dispute NationalGallery', 'blaicurator alex_neilson Tate_StIves Hang building renovated great expense ...', 'NationalGallery Wait secret Leonardo drawing slipped inside one books', 'IanLaveryMP attend adjournment debate tomorrow noprivatisation NationalGallery reinstatecandy NGNotForSale PCSCulturGroup', 'View Estaque Cézanne rsk exported FitzMuseum_UK unless buyer match £13m asking price http //t.co/F3qTEMqha7', \"My favourite painting NationalGallery 'Noli tangerine unknown 14th artist could see Jesus single orange\", 'Bad times National Gallery Sop privatisation services NationalGallery https //t.co/ypfYtLhYus via 38_degrees', 'Wish britishmuseum woud help improvements Bloomsbury Sq hundreds visitors museum pass every day', 'Strikers Shell -sponsored NationalGallery protest privatisation kayaktivists ShellNo NaomiAKlein http //.co/CW6wyEw8Mo', 'britishmueum 69quietgirl Charles_XII ... austerity', 'British Museum evacuatio britishmuseum britishmuseum', 'britishmuseum w/ bquentin3 amp zada_beda feeling like 21st Century underperforming amp sure… https //t.co/Q0Dmt8MPZU', 'britishmuseum Hi trying phone two das one ever picks phones', 'britishmuseum thehistoryguy Gosh periscope definitely trend High profile peple using even tried yet', 'britishmuseum So much teeth prblems un ancient Egypt', 'Great see sufeamono panel CircuitPHF Circuit2015 Tate today tateliverpool TateCollectives http //t.co/INVy8z3dQC', 'notesonprotesting closed Thank _TheWhitechapel http //t.co/SA1sCb4zDk', 'Distance makes heart grow fonder already heartbroken kettlesyard shutting yr refurb 21Jun go now❤️ http //t.co/7MmPRcJtz', 'Great night Cambridge Zugubal dancers Torres Strait MAACambridge http //t.co/HidjzmWvgA', 'Since included would benice see felt like concessionary nod gt foxvertebrae britishmuseum', 'nationalgallery AskTheGallery When re-instatingCandy Udwin Why arts subject private profit', 'Taking day work go Gaudier-Brzeska exhibition kettlesyard Just time closes Sunday', 'NationalGallery After staff privatisation next selling offdonated works Councils without consultation Ask missing art', 'MrStuchbery britishmuseum love used pop British Museum could see Sutton Hoo treasure', 'NationalGallery Wait secret Leonard drawing slipped inside one books', 'NationalGallery .the InventingImpressionism strictly No Photo area shot museum shop instead http //t.co/k5JpZfY7b5', 'britishmuseum Hi trying tophone two days one ever picks phones', \"britishmuseum 2000 coins pr day ... n't worry RSI days\", \"NationalGallery AskTheGallery Dr ould n't like leave noble gesture Stop privatisation ReinstateCandy support union\", \"https //t.co/R2tO79Easn .An house solution proposed meet flexibility needs Come Nationalallery 's time TALK\", 'OMG thought asleep upstairs 3speeders Tae_StIves', 'NConcostrina britishmuseum Charles_XII Te teeth taken corpses battlefield used dentures rest century😁', 'AskTheGallery Love NationalGallery Hate Private Secor Colonisation Illegal Discrimination Against Unions ReinsateCandy NGNotForSale', 'souzeeb bet britishmuseum good Search favourite art institutions Bye', 'AskTheGalleryDr Penny Will re-enter negotiations staff strike 35 days NationalGallery NGNotForSale', 'tateliverpool BobandRoberta angry artists profile speaking foundationcoures http //t.co/0Jqrql7vfK', 'Distance makes heart grow fonder already heartbroken kettlesyard shutting yr refurb 21Jun go now❤️ http //.co/7HMmPRcJtz', \"BBC_Culture PlymouthMuseum Oh dear Dame Laura Knight Surely 'The Beach shoul list\", 'FL_FLAMIN artists present work _TheWhitechapel 27 June looks pretty darn good http //t.co/7I4IIxirCR', 'tarbosaur profjoecain many thanks sad thik britishmuseum hidden away Enlightment gallery demonic mermaid', 'britishmuseum w/ bquentin3 amp zada_beda feeling like 21st Century isunderperforming amp sure… https //t.co/Q0Dmt8MPZU', 'told tate britishmuseum NPGLondon amp RoyalOperaHouse DropBP Sponsorship Join http //t.co/gmtUDKh6m', 'NationalGallery What message oil sponsorsip arts send ngotiating climate deal Paris year AsktheGallery', 'The RAMMuseum Exeter definitely worth visit They Samurai ILoveMuseums brinton83 crazybird001 https //t.co/1OAGRLHmak', \"appendixjournal MartnPribble FitzMuseum_UK So Swiss Army knife really Roman army knife 'm going engrave SPQR mine\", 'Solidaity greenpeace kayaktivists We fighting Shell amp NationalGallery want privatise 400 workers ShellNo noprivatisation', 'NationalGallery greekisinart ART=FREEDOMVisited gallery unable see impressionist paintings belonging collection.When', 'britishmuseum Wish could extend exhibition London August ..', \"Completed week 's dose Ancient Greece 2night britishmuseum DefiningBeauty expo Quite spectacle busy Worth seeing\", 'Very good exhibition WM Turner watercolour works donated John Ruskin collection FitzMuseum_UK culturaldayforanortherner', 'Morning peeps beautiful morning Cranleigh looking forward shindig BritishMuseum later☺️ http //t.co/ii1VoRZyPi', \"BMAGcurators NationalGallery Yes It 's hard believe tha Bernard Berenson disparaged Reni\", 'britishmuseum Marvelous', \"got 10/10 'Can guess artwork http //t.co/jyDiunjQg3 arthistorydegree wellworthit NationalGallery Tate NatGalleryAus\", 'Gold fnger ring/armillary sphere German 17thc britishmuseum Curious know worn finger http //t.co/N4aMqeD8Ad', 'britishmuseum Is holding orange Someone better watch', 'TTN Museum stolen property Hand back culture britishmuseum http //t.co/KNfY53G7Gt SOSBLAKAUSTRALIA NOconsent', 'After 29 yrs Cézanne painting leave UK unless funds raised Fitzuseum_UK via an_artnews http //t.co/VjDNl3XU7C http //t.co/0frSDQ5LHN', 'View Estaque Cézanne rik exported FitzMuseum_UK unless buyer match £13m asking price http //t.co/F3qTEMqha7', 'britishmuseum w/ bquentin3 amp zda_beda feeling like 21st Century underperforming amp sure… https //t.co/Q0Dmt8MPZU', 'DrLivGibbs britishmuseum Very impressive would certainly inspired day entering RA', 'Looking forward Amelia Smith speaking CDA innovation showcase NationalGallery BirkbeckNews http //t.co/RrkDLpBC1S cdavalue', 'britishmuseum DefiningBeauty excellent highlight 2015 guy exhibition shop fantastic service asset museum', 'People lt amp care paintings VS cheap temporary contracts unknowldgable staff NationalGallery AskTheGallery', 'NationalGallery photopraline Yes ... Rembrandt pantings makes weep .. DUTCH 17th golden age paintings ahhhhhhhh', 'The last selfie britishmuseum mariarodrirubin http //t.co/OL73O0D4q', 'Hatchards britishmuseum enjoying British Library Crime Classics series bought Hatchards', \"NationalGalley Londoncraftweek weird say 've barberinstitute took pic http //t.co/P1iQcqQ8nY\", 'NationalGallery Haha There definitely giant eagles hanging around lastvisited', 'JHGHendrks britishmuseum aroberts_andrew estimates range 15000 20000 horses killed/severly wounded', 'Stop privatisation ervices NationalGallery Sign petition https //t.co/WDFjCKMnIt via 38_degrees', \"Thanks John tateliverpool brilliant guided tour Blind Spots JacksonPollock You 've even helped husband understand work\", 'britishmuseum w/ bquentin3 amp zada_beda feeling like 21stCentury underperforming amp sure… https //t.co/Q0Dmt8MPZU', 'Loved ancientlives exhibition britishmuseum Brilliant use technology amazing display fascinating amp insightful So cool 8mummies', 'NationalGallery greekisinart ART=FREEDOM Visited gallery unable see impressionist paintings belonging collection.When', 'NationalGalley AskTheGallery noprivatisation https //t.co/0N7UGP7h1Z ReinstateCandy http //t.co/ZaDR8HN01F', \"NationalGallery Uccello 's 'The Battle Of San Romano'-Loved learnt abt even actually saw Nat Gall\", \"tiffanyjenkins Had show curated _TheWhitechapel… Was n't painted newspape image two days landed\", 'Unfortunately transition narrative parts stories handwaved away commentary foxvertebrae britishmuseum', 'NationalGllery AskTheGallery Will recommend trustees end oil sponsorship amp making ppl complicit climate change see public art', 'PlatformLondon NationalGallery lets find Freedom Of Info act Its oney', 'Solidarity USDAW C133 pcs_union Day 39 strike NationalGallery privatisation ReinsateCandy http //t.co/NO5lY7B5M', \"'ve two free tickets private viewing Jackson Pollock exhibition tateliverpool ca n't wait\", \"Have heard Soundscapes Hint 's paintings DJs museums NationalGallery amp 's pretty cool http //t.co/KQWgdXn9LY\", \"BBC_Culture PlymouthMuseum Oh dear Dame Laura Knight Surely 'The Beach bein list\", 'NationalGallery AskTheGallery Will Candy Udwin reinstted colleagues paid living wage', 'NationalGallery BobandRoberta angry artists profile speaking foundationcourses http //t.co/Jqrql7vfK', 'After 29 yrs Cézanne painting leave UK unless funds raised FitzMuseum_UK via an_artnews http /t.co/VjDNl3XU7C http //t.co/0frSDQ5LHN', \"SassyClyde We wo n't stop tl britishmuseum dumps BP Fill feedback form 're amp watch space http //t.co/o2JlUnGi1y\", 'AskTheGallery Dr Penny Will re-enter negotiations staff onstrike 35 days NationalGallery NGNotForSale', \"tateliverpool 'm trying book members curator talk guded tour pollock links n't work Are sold\", \"Inspiring article Now 'm wishing FitzMuseum_UK Cambridge University Museum Zoology might put show ... https //t.co/XmweHYdn1A\", 'NationalGallery AsktheGallery Why yo treating staff badly', 'NationalGallery One favourite paintings', 'After 29 yrs Cézanne painting lave UK unless funds raised FitzMuseum_UK via an_artnews http //t.co/VjDNl3XU7C http //t.co/0frSDQ5LHN', 'Cambscene CamUnivMuseums polarmuseum surely tat statue wd cold Is originator saying freezing brass balls', 'britishmuseum How British double line formation squad fire work surely entire battaion one long line deep', 'MrStuchbery britishmuseum veteran priest could probably whip heart 30 seconds ... ❤🔪😱', 'Massive quues gates britishmuseum today security bag searches Sad see necessary', 'ArtandPerfume NationalGallery Wow looks awesome', 'OMG thought asleep upstirs 3speeders Tate_StIves', 'britishmuseum JSuhermanBailey seems quite clear copy Unfair take one word amp apply entire thing', 'britishmuseum thanks tour Just amazing Madrid', \"tiffanyjenkins Had show curated _TheWhitechapel… Was n't painted newspaper image tw days landed\", 'The last selfie britishmuseum mariarodrrubin http //t.co/OL73O0QD4q', \"Commercial collegial Why BritishMuseum fees art loans Abu Dhabi disclosed UK 's FI law http //t.co/PmcmRtHJT2\", 'britishmuseum JHGHendriks Hol sh ...', 'Gold finger ring/armillary sphre German 17thc britishmuseum Curious know worn finger http //t.co/N4aMqeD8Ad', 'sparkling show Turner Singer Sargent amp Cézanne watercolours FitzMuseum_UK Cambridge http //t.co/DE5pfaXQGt http //t.co/IgXoaHmhGJ', 'tarbosaur profjocain many thanks sad think britishmuseum hidden away Enlightment gallery demonic mermaid', 'Ophiolatrist britshmuseum The stupid French prick crushed Russian Imperial ancestors Waterloo200', 'NationalGallery What message oil sponsorship arts send ngotiating climate deal Paris thi year AsktheGallery', \"Ophiolatrist britishmuseum Seriously Napoleon Hitler It 's stupid\", \"Commercial ollegial Why BritishMuseum fees art loans Abu Dhabi disclosed UK 's FOI law http //t.co/PmcmRtHJT2\", 'Unfortunately transition narrative parts stories handwaved away commetary foxvertebrae britishmuseum', 'NationalGallery InventingImpressionism trictly No Photo area shot museum shop instead http //t.co/k5JpZfY7b5', 'View Estaque Cézann risk exported FitzMuseum_UK unless buyer match £13m asking price http //t.co/F3qTEMqha7', 'Agreed rhiannonakelly Eat sandwiches briishmuseum daily inspiring surroundings Inspired rage day Whats nxt ReclaimOurBard', 'HuffPostGreen help us amp RT Shell sponsors NationalGallery work amp want privatise us ShellNo https //t.co/mRw2vTAhsi', \"_TheWhitechapel new incredible show James Richards V-A-C Collection Francis Bacon 's amazing http //t.co/ItDS5FPROq\", 'Thanks reply Dr Nicholas Penny Thank NationalGallery https //t.co/alNXJeSGG7', 'NationalGallery AskTheGallery Will recommend trustees end oil sponsorship amp making ppl complicit cimate change see public art', 'NationalGallery greekisinart ART=FREEDOM Visited gallery unable see impressionist paintings belonging collection.hen', 'britishmuseum thehistoryguy Goshperiscope definitely trend High profile people using even tried yet', \"NationalGallery AskTheGallery Why appear support privatisation Why n't value saff support\", 'MrStuchbery britishmuseum Saw one The Cloisters New York magnificent work', 'Bad times National Gallery Stop privaisation services NationalGallery https //t.co/ypfYtLhYus via 38_degrees', 'ritishmuseum Cod piece made armor', \"NationalGallery Londoncraftweek weird say 've barberinstitute took pic http //t.co/P1iQcqQ8nY\", 'Today decided renew britishmuseum membership afte shouted one spaniards', \"This w/e saw closing kettlesyard building work 's film made meory Michael Harrison http //t.co/d27X7k28Gy\", 'Goodbye kettlesyard see 2.25 years ttp //t.co/WFjBAiWbfM', 'britishmuseum thehistoryguy Gosh periscope definitely trend High profile people using ven tried yet', 'tarbosaur profjoecain many thanks sad think britishmuseum hs hidden away Enlightment gallery demonic mermaid', \"The Place 's subtle dance piece performed AgeUK bitishmuseum Defining Beauty exhibition n't really work bring back bacchantes\", \"NationalGallery AskTheGallery Why appea support privatisation Why n't value staff support\", 'AskTheGallery Dr Penny facing public outcry petition nearly 45,00 signatures halt privatisation NationalGallery', 'blaircurator alex_neilson Tte_StIves Hang building renovated great expense ...', 'NConcostrina britishmuseum Charles_XII The teeth taken corpses battlefield used dentures forthe rest century😁', 'britishmuseum JSuhermanBailey seems quite clear copy Unfair take one word amp applyto entire thing', \"GO visit Sothebys ChristiesInc amp tke photos art instead _TheWhitechapel ca n't take photos amp waste time phnat\", 'MrStuchbery britishmuseum vetera priest could probably whip heart 30 seconds ... ❤️🔪😱', \"The Place 's subtle dance piece performed AgeUK britishmuseum Defining Beauty exhibition n't really work bringback bacchantes\", 'After CultureGeek yesterday recommend everyone follows britishmuseum Head Digital amp Publishing gt gt gt gt chr1sm1chaels', \"The Place 's subtle dance piece performed AgeUK britishmuseum Defining eauty exhibition n't really work bring back bacchantes\", 'NationalGallery InventingImpressionism stricty No Photo area shot museum shop instead http //t.co/k5JpZfY7b5', \"appendixjournal MartinPribble FitzMuseum_UK So Swiss Army knife really Roman army knife 'm going engrave SPQR mine\", \"NationalGallery NPGLondon pcs_union wo n't seeing Goya Ater 50 years pictures NGL pariah list Candy reinstated\", 'britishmuseum w/ bquentin3 amp zada_beda feeling lke 21st Century underperforming amp sure… https //t.co/Q0Dmt8MPZU', 'NationalGalley pcs_union strikers raise £1,000 pplsassembly protest http //t.co/SzmJN1zMF7 reinstateCandy http //t.co/7vCMoHbV8W', 'britishmuseum wish something bankruptcy ancent world', \"britishmuseum 200 coins per day ... n't worry RSI days\", 'Since included would nice see mor felt like concessionary nod gt foxvertebrae britishmuseum', 'Great exhibition britishmuseum Ancient Lives ... body 5,000 years old fetal position However old return beginning', 'Blog post AsktheGallery engage angry audience NationalGallery brushes questios aside http //t.co/kfTCCyxFAD', \"BBC_Culture PlymouthMuseu Oh dear Dame Laura Knight Surely 'The Beach list\", \"BBC_Culture PlymouhMuseum Oh dear Dame Laura Knight Surely 'The Beach list\", 'Now Parliament whistles banner leaflets confiscated managers NationalGallery time noprivatisation reinstatecandy', 'britishmuseum 69quietgirl Charles_XII wll ... austerity', 'Loved exhibition britishmuseum ... egyptian mummies http //t.co/ZY2HaMNwk9', 'Absolutely fascinated 8mummies yesterday .... amp quite taken britishmuseum shop http //t.co/e3tKUtcoCk', 'It would great see material approached using queer theory foxvertebrae britishmusem', 'Re-housing Inuit art big hit CamUnivMuseums work experience students https //t.co/vUw9npPBfS', \"Lots questions privatisation acking rep NationalGallery 's AskTheGallery disappointing n't addressed\", 'britishmuseum wish something bankrutcy ancient world', \"Lots questions privatisation sacking rep NationalGallery 's AskTheGallery disappointing n't ddressed\", \"https //t.co/R2tO79Easn .An huse solution proposed meet flexibility needs Come NationalGallery 's time TALK\", 'Solidarity greenpeace kayaktivists We fighting Shell amp NationalGallery want privatise 400 workes ShellNo noprivatisation', 'NationalGallery Haha There definitely giant eagles hanging around last visitd', 'blaircurator alex_neilson Tate_StIves Hang uilding renovated great expense ...', 'Strikers Shell -sponsored NationalGallery protest privatisation kayaktivists ShellNo billmckibben http //t.co/UnGD3naDSn', 'britishmuseum nec collar The neck slender', \"If n't seen Christopher Williams show _TheWhitechapel finishes Sunday Go Really go GO http //t.co/8HgcUpn4Mn\", 'blaircurator alex_neilson Tate_StIves Hang buildin renovated great expense ...', 'blaircurator alex_neilson Tate_StIves Hang building renovated great expense ...', \"Booked What 's Worth The Value Potential CDA britishmuseum 27 July Shld interesting day http //t.co/kjtXnbSJOA\", 'Engaging work opticalmeg RAMMuseum photography art wellcometrust http //t.co/yyuw27UH7v', 'Blog post AsktheGallery engage angry audience NationalGallery brushesquestions aside http //t.co/kfTCCyxFAD', 'nationalgallery AskTheallery Why pay brilliant staff poorly', 'britishmuseum longest day new beginnings big positive changes coming days', 'My favorite museums London I_W_M britishmuseum NHM_London.Fantastic artifacts Military Human Civilizations Geology', 'britishmuseum trquoise eyes', 'Goodbye kettlesyard seeyou 2.25 years http //t.co/WFjBAiWbfM', 'log post AsktheGallery engage angry audience NationalGallery brushes questions aside http //t.co/kfTCCyxFAD', \"britishmuseu 2000 coins per day ... n't worry RSI days\", 'britishmuseum thehistoryguy Gosh periscope definitely tred High profile people using even tried yet', 'britishmuseum hmmmm ... tepot', 'WOW 3,653 sunrises St Ives Bay counting http //t.co/q5CQJuav9D thedaythat stivesurfschool Tate_StIves http //t.co/1ktkeG7iaw', 'told tate britishmuseu NPGLondon amp RoyalOperaHouse DropBP Sponsorship Join http //t.co/gmbtUDKh6m', 'kettlesyard closing refurbishment Sunday -definitely worth visit Cambridge weekend', 'natonalgallery AskTheGallery Why pay brilliant staff poorly', 'NationalGallery Wait secret Leonardo drawing slipped nside one books', 'britishmuseum turquose eyes', \"NationalGallery Director N. Penny favous `` in-house solution '' Come back talks pcs_union got Alternative http //t.co/UOdrADopXr\", 'Wish britishmuseum would help improvements Bloomsbury Sq hundreds visitors themuseum pass every day', 'Cambscene CamUnivMuseums polarmuseum surely statue wd cold Is originator saying freezing brass balls', \"SassClyde We wo n't stop til britishmuseum dumps BP Fill feedback form 're amp watch space http //t.co/o2JlUnGi1y\", \"NationalGallery AskTheGallery Why appear support privatisation Why n't value staff support\", 'Goodbye kettlesyard see 2.25 years http //t.o/WFjBAiWbfM', 'britishmuseum Wish coud extend exhibition London August ...', \"The exquisite Waddesdon Bequest britishmuseum absolutely exceptional Not missed amp 's free museumhour http //t.co/Et4h7kRLCr\", 'MrStuchbery britishmuseum veteran priest could probably whip heart 30 secnds ... ❤️🔪😱', 'HuffPostGreen help us amp RT Shell sponsors NationalGallery work amp want privatise us ShellNo https //t.co/mRw2vAhsi', 'Strikers Shell -sponsored NationalGallery protest privatisaion kayaktivists ShellNo billmckibben http //t.co/UnGD3naDSn', 'NationalGallery phoopraline Yes ... Rembrandt paintings makes weep .. DUTCH 17th golden age paintings ahhhhhhhh', 'OptimoPrincipi britishmuseu one looks real', 'After 29 yrs Cézanne painting leave UK unless funds raised FitzMuseum_UK via an_artnews http //t.co/VjDNlXU7C http //t.co/0frSDQ5LHN', 'Found yesterday BriishMuseum desperately needs info exhibit though Pillar Emperor Ashoka http //t.co/0XtD8ly3nX', 'Solidarity greenpeace kayaktivists We fighting hell amp NationalGallery want privatise 400 workers ShellNo noprivatisation', \"This w/e saw closing kettlesyard building work 's film made memoy Michael Harrison http //t.co/d27X7k28Gy\", 'Fantastic London today speaking ACEnterprises event Met lovely people GH_Sudbury amp CamUnivMuseums http //t.co/3uM1n3njPF', 'Bad times National Gallery Stop te privatisation services NationalGallery https //t.co/ypfYtLhYus via 38_degrees', \"NationalGallery Londoncraftweek weird say whenI 've barberinstitute took pic http //t.co/P1iQcqQ8nY\", 'britishuseum Did Napoleon really say Britain nation shopkeepers', 'Culture24 britishmuseum EXQUSITE', 'NationalGallery greekisinart ART=REEDOM Visited gallery unable see impressionist paintings belonging collection.When', 'NationalGallery Wat secret Leonardo drawing slipped inside one books', 'tarbosaur profjoecain many thanks sad bu think britishmuseum hidden away Enlightment gallery demonic mermaid', 'AskTheGallery Dr Penny Will re-enter negotiations staff hae strike 35 days NationalGallery NGNotForSale', 'Solidarity greenpeace kayaktivists We fighting Shell amp NatonalGallery want privatise 400 workers ShellNo noprivatisation', 'Hedge bindweed force Peckham The plant grows around St Helen amazing pendant britishmuseum http //t.co/Yp0tW86pNW', 'Gold figer ring/armillary sphere German 17thc britishmuseum Curious know worn finger http //t.co/N4aMqeD8Ad', 'The Barbara Hepworth studios must visit Tate_StIves https //t.co/nSnwq8gShS', 'britishmuseum TripAdvisor saw something week Australian TV British Museum .. look fantastic', 'Great day far kettlesyard cabinet_curios CambridgeNewsUK CastleHill15 http //t.co/pq5uNXrBdK', 'britishmuseum How British double line formation squad fire work surely nt entire battalion one long line deep', 'NationalGallry pcs_union strikers raise £1,000 pplsassembly protest http //t.co/SzmJN1zMF7 reinstateCandy http //t.co/7vCMoHbV8W', 'View Estaque Cézanne risk exported FitzMuseum_UK unless buyer match th £13m asking price http //t.co/F3qTEMqha7', 'tarbosaur profjoecain many thanks sad think britishmuseum hidden away Enlightment gallery demonic mermaid', 'britishmuseum w/ bquentin3 amp zada_beda feeling like 21st Century underperforming amp sure… https //t.co/Q0Dmt8MPZU', 'IndigenousAustralia britishmuseum beautiful enlightening thought-provoking Well worth visit', 'NationalGallery The cropped image timeline looks like something entirely different anyone else see', 'NationalGallery Haha There wer definitely giant eagles hanging around last visited', \"tateliverpool 'm trying book members curator tal guided tour pollock links n't work Are sold\", 'Gold finger ring/armillary sphere German 17thc. britishmuseum Curious know worn finger http //t.co/N4aMqeD8Ad', 'Construction steams ahead Tate St Ives phase two Tate_StIves ILoveCornwallUK BAMConstructUK http //t.co/Lj0eITFu5s architecture', 'britishmuseum Cod piece made armor', 'After 29 yrs Cézanne painting leave UK unless funds raised FitzMuseum_UK via an_artnews http //t.co/VjDNl3XU7C http //t.co/frSDQ5LHN', 'britishmuseum thehstoryguy shame idiots post rude comments throughout', 'AskTheGallery Dr Penny Will re-enter negotiations staff bee strike 35 days NationalGallery NGNotForSale', 'AskTheGallery Dr Penny facing public outcryand petition nearly 45,000 signatures halt privatisation NationalGallery', 'britishmuseum Did Napolon really say Britain nation shopkeepers', 'Found yesterday BritishMuseum desperately needs info exhibit though Pillar Emperor Ashoka http //t.co/0XtD8ly3nX', \"tateliverpool 'm tryingto book members curator talk guided tour pollock links n't work Are sold\", 'britishmuseum Is holding orange Someone better watch', \"It 's one days ... NationalGallery sorefeet http //t.c/5cwgqIoGbZ\", \"The Place 's subtle dance piece performed AgeUK britishmuseu Defining Beauty exhibition n't really work bring back bacchantes\", 'The last selfie britishmuseum marirodrirubin http //t.co/OL73O0QD4q', 'Solidarity SDAW C133 pcs_union Day 39 strike NationalGallery privatisation ReinsateCandy http //t.co/NO5lYh7B5M', 'Today decided renew britishuseum membership shouted one spaniards', 'AskTheGallery bodies Rockerfellers unis divesting fossil fuel NationalGallery backward supporting oil corps', \"Rediscovering love PreColumbian America Jago Cooper 's Inca Masters Clouds Awesome britishmuseum http //t.co/oFVFTVrG1a\", 'NationalGallery What message oil ponsorship arts send ngotiating climate deal Paris year AsktheGallery', 'Ophiolatrist britishmuseum The stupid French prick crushed Russian Imperial ancestors Waterloo20', 'After 29 yrs Cézanne painting leave UK unless funds aised FitzMuseum_UK via an_artnews http //t.co/VjDNl3XU7C http //t.co/0frSDQ5LHN', 'benfaster britishmuseum could keep busy long packed history', \"The Place 's subtle ance piece performed AgeUK britishmuseum Defining Beauty exhibition n't really work bring back bacchantes\", \"Capital day KMHyland britishmuseum reminded everything used know 'bout statues amp vases DefiningBeauty SusanWoodford\", 'It would great see material approached using queer heory foxvertebrae britishmuseum', 'Distance makesthe heart grow fonder already heartbroken kettlesyard shutting yr refurb 21Jun go now❤️ http //t.co/7HMmPRcJtz', 'Must see tateliverpool onlyinLiverpool Pollock https //t.co/6QBypec4l6', \"NationalGallery NPGLndon pcs_union wo n't seeing Goya After 50 years pictures NGL pariah list Candy reinstated\", 'FL_FLAMIN _TheWhitechapel Thanks great afternoon Saturday fascinating films conversation TheArtistsPresent', 'askthegallery Wha take pride Hanging classic artwork hanging staff dry NationalGallery', 'britismuseum thehistoryguy Gosh periscope definitely trend High profile people using even tried yet', \"NationalGallery AskTheGallery Why appear support privatisation Why n't value staf support\", 'AskTheGallry Love NationalGallery Hate Private Sector Colonisation Illegal Discrimination Against Unions ReinsateCandy NGNotForSale', 'britishmuseum incredibly helpful staff security team support staff rooms galleries greatservice', 'britishmuseum How British double line formation squadfire work surely entire battalion one long line deep', 'Makeway Noddy Enjoying new EnidBlyton exhibition PlymouthMuseum SevenStories http //t.co/lojsVz1wCz', \"tiffanyjenkins Had show curated _TheWhitechapel… Was n't painted newspper image two days landed\", 'Really looking forward seeing Watercolour exhibition FitzMuseum_UK Turner Sargent Whistler', 'britishmuseum Omg looks totally like Al Pacino http //t.co/jHgsdUsFCn schriftart', 'FitzMuseum_K well never knew ...', 'britishmuseum So much teeth problems un ancientEgypt', \"Jackson Pollock Blind Spots opens tateliverpool 30 June Ca n't wait http //t.co/RGEJSnWgB9 art Liverpool\", \"NationalGallery AskTheGallery Dr would n't like leave noble gesture Stop privatisation ReinstateCandy suppot union\", 'Wish britishmuseum would help improvements Bloomsbury Sq hundreds visitors museum pass though every day', 'It would great see material approached using queertheory foxvertebrae britishmuseum', \"NationalGallery AskTheGallery Why appear support privatistion Why n't value staff support\", 'NationalGallery AskTheGallery Dr like leave noble gesture Stop privatisation ReinstateCandy support union', 'Massive qeues gates britishmuseum today security bag searches Sad see necessary', \"NationalGallery Lononcraftweek weird say 've barberinstitute took pic http //t.co/P1iQcqQ8nY\", 'FitzMuseum_UK well never new ...', 'Ooh looks good Jackson Pollock exhibition opens tateliverpool 30th June http //t.co/74WzAzjotq http //t.co/1CQzS3x3Kl', \"appendixjournal MartinPribble FitzMuseum_UK So theSwiss Army knife really Roman army knife 'm going engrave SPQR mine\", \"NationalGallery Londoncraftweek weird say 've barberinstitute took pic http //t.co/P1iQcqQ8n\", 'NationalGallery pc_union strikers raise £1,000 pplsassembly protest http //t.co/SzmJN1zMF7 reinstateCandy http //t.co/7vCMoHbV8W', 'Thanks britishmuseum preserving Palmyre http //t.co/kQPEpqSUU6', 'Thrilled listen erudite Neil MacGregor britishmuseum talking Germany CVHISTORYFEST http //t.co/zalas08jDb', \"The Place 's subtle dance piece performed AgeUK britishmuseum Defining Beauty exhibition n't really work bring back te bacchantes\", 'NConcostrina britishmuseum Charles_XII The teeth taken copses battlefield used dentures rest century😁', 'britishmuseum Did Napoleon realy say Britain nation shopkeepers', 'askthegallery What take pride Hanging classc artwork hanging staff dry NationalGallery', \"CuratorialCats n't messing Curatorial Kittygods Sekhmet Bastet britishmuseum http //t.co/P4cRrpo6kd\", \"The Place 's subtle dance piece performed AgeUK britishmuseum Defining Beauty exhibition n't really work bring ack bacchantes\", 'NConcostrina britishmuseum Charles_XII The teeth taken corpses battlefield used dentures rest thecentury😁', 'AskTheGallery bodies Rockerfellers UK unis divesting fossil fuel NationalGallery backward supporting oilcorps', 'DavidSmithArt roshvarosha LisaLooly newmanmpaul DrawntoDevon ThelmaHulbert Thank', 'After 29 yrs Cézanne painting leave UK unless funds raised FitzMuseum_UK via an_artnews http //t.co/VjDNl3XU7C http //t.co0frSDQ5LHN', \"NationalGallery Now 's art https //t.co/FikrfOg7dt\", \"britishmuseum 2000 coins per day ... n't worry abou RSI days\", 'NationalGallery pcs_union strikers raise £1,000 pplsassembly protest http //t.co/SzmJN1zMF7 reinstateCady http //t.co/7vCMoHbV8W', 'Art update Ready new ClassicCottages guests hope like ElisabethClarke Tate_StIves poster http //t.co/2T0iD9Za9R', \"It 's one das ... NationalGallery sorefeet http //t.co/5cwgqIoGbZ\", \"NationalGallery Director N. Penny favours `` in-house solution '' Come back talks pcs_union got Alternative ttp //t.co/UOdrADopXr\", 'britishmuseum So much teeth problems un anciet Egypt', 'atthe NationalGallery InventingImpressionism strictly No Photo area shot museum shop instead http //t.co/k5JpZfY7b5', \"Ketaki Sheth 's photos Sidi people absolutely amazing NationalGallery http //t.co/8mG39uBRSs\", 'NationalGallery lovely', 'Stop th privatisation services NationalGallery Sign petition https //t.co/w0xozuIolp via 38_degrees', 'new look ancient Egyptian textiles http //t.co/UJQ8z84c2E via britishmuseum', 'blaircurator alex_neilson Tate_StIves Hang bilding renovated great expense ...', 'Bad times National Gallery Stopthe privatisation services NationalGallery https //t.co/ypfYtLhYus via 38_degrees', \"BMAcurators NationalGallery Yes It 's hard believe Bernard Berenson disparaged Reni\", 'tarbosaur profjoecain britishmuseum yes mermaid wonderfully scary kids seems gone last time looked', 'PlatformLondon NationalGallery lets find Freedom Info act Its money', 'britishmuseum So mch teeth problems un ancient Egypt', 'Bad times NationalGallery Stop privatisation services NationalGallery https //t.co/ypfYtLhYus via 38_degrees', \"Commercial collegial Why BritishMuseum fees art loans Abu Dhabi disclosed unde UK 's FOI law http //t.co/PmcmRtHJT2\", 'britishmuseum turquoise eye', \"Happy giving talk MuseumsAssoc conference `` Creating virtual reality experiences museums '' junorae britishmuseum\", 'JHGHendriks britishmuseum aroberts_andrew estimatesrange 15000 20000 horses killed/severly wounded', \"britishmuseum AYDSMA two ... would never thought thy 're\", 'FYI NationalGallery NGNotForSale ReinstateCandy https //t.co/WD2pKLEET', 'Goldfinger ring/armillary sphere German 17thc britishmuseum Curious know worn finger http //t.co/N4aMqeD8Ad', \"The Place 's subtle dance piece performed AgeUK britishmuseum Defining Beauty exhibition n't really work bring back bacchntes\", 'CElaine MicroPasts britishmuseum Wow great see Hope get new app soon', \"tateliverpool 'm trying bookthe members curator talk guided tour pollock links n't work Are sold\", 'Stikers Shell -sponsored NationalGallery protest privatisation kayaktivists ShellNo billmckibben http //t.co/UnGD3naDSn', 'urge art lovers boycott NationalGallery util pcs_union rep Candy reinstalled Human rights important pictures BHGreens', \"appendixjournal MartinPribble FitzMuseum_UK So Swiss Army knife really Roman armyknife 'm going engrave SPQR mine\", 'britishmseum Hi trying phone two days one ever picks phones', 'britishmuseum Wish could extend exhibition wil London August ...', 'ConsortiumX bencnn britishmuseum Why British Museum Highwayman return stolen goods owners All colonial pllage', \"The Place 's subtle dance piece performed withAgeUK britishmuseum Defining Beauty exhibition n't really work bring back bacchantes\", 'Spent afternoon admiring enchanting objects new Waddesdon bequest display britishmuseum must visit http //t.co/e8iNUHOqBf', 'Great event kick start FMGlobal Airmic2015 tateliverpool Thanks guests http //t.co/1tWtRzP7B6', 'NationalGallery After staff privatisaton next selling donated works Councils without consultation Ask missing art', \"lovely informative short film HistoryNeedsYou Ædwen 's Brooch https //t.co/8EJSCmNlRh AngloSaxon Viking britishmuseum\", 'blaircurator alex_neilson Tate_StIves Hang building beenrenovated great expense ...', \"jadeflahertyxo tateliverpool obviously 'll come home next month Yay\", 'Blog post AsktheGallery engage anry audience NationalGallery brushes questions aside http //t.co/kfTCCyxFAD', \"https //t.c/R2tO79Easn .An house solution proposed meet flexibility needs Come NationalGallery 's time TALK\", \"Out Y7 britishmuseum We 've learnt ancient Cyrus amp enjoying Greek amp Roman galleries http //t.co/QZq80UH1bO\", 'britishmseum drinks permitted museum clearly displayed entrance', 'Gold finger rng/armillary sphere German 17thc britishmuseum Curious know worn finger http //t.co/N4aMqeD8Ad', \"So pleased fav artist Richard Long wins _TheWhitechapel award incredible body work 'Time Space http //t.co/8uO9ecyeGK\", 'blaircurator alex_neilson Tate_StIves Hang building renovated ver great expense ...', 'britishmuseum thehistoryguy shame idiots post rude comments throughout', \"NationalGallery AskTheGallery Why appear spport privatisation Why n't value staff support\", \"Happy Father 's Day amp Solstice Guided tours NationalGallery 11.30 2.30 amp 4.00 expect Fathers Suns http //t.co/9lOifHZxpD\", 'britishmuseum JSuhermanBaley seems quite clear copy Unfair take one word amp apply entire thing', 'NationalGallery AskTheGallery We boycotting ational Gallery reinstate Candy Unwin stop privatisation ...', 'Unfortunately transition narrative parts stories handwaved away commentary foxvertebrae britishmuseum', 'FitzMuseum_UK well never knew tht ...', \"love showing NationalGallery friends ca n't see Holbein 's skull The Ambassadors 'you need stand\", \"The Place 's sutle dance piece performed AgeUK britishmuseum Defining Beauty exhibition n't really work bring back bacchantes\", 'BarbyWT britishmuseum beautiful', 'Crumbs NMMGreenwich Dudley britishmuseum posting Henry VIII feel bit threatened Museum tweets Catholic today', 'We looking forward unveiling JacksonPollock exhibition tateliverpool tonight CorporateSupporter Liverpool Culture', \"britishmuseum 2000 cons per day ... n't worry RSI days\", 'bitishmuseum Is holding orange Someone better watch', 'Strikers Shell -sponsored NationalGalleryprotest privatisation kayaktivists ShellNo billmckibben http //t.co/UnGD3naDSn', 'Cambscene CamUnivMuseums polarmuseum surely statue wd cold Is originator saying freezing brass balls', \"tiffanyjenkinsHad show curated _TheWhitechapel… Was n't painted newspaper image two days landed\", 'This also one favourites NationalGallery https //t.co/oqDlQGJdYd', 'britishmuseum D2Zen love Rubens drawings seeing hand work Btw high temp 64 today craycray CarisaMarie11', 'Goodbye kettlesyard see 2.25 years http //t.co/WFjAiWbfM', 'May stunning exhibition // britishmuseum', 'Solidarity greepeace kayaktivists We fighting Shell amp NationalGallery want privatise 400 workers ShellNo noprivatisation', 'nationalallery AskTheGallery When re-instating Candy Udwin Why arts subject private profit', 'second day row never finish looking exhibits BritishMuseum https //t.co/clRvfPco8w', 'Gary_J_G ExeterLiving MooseAllain ThelmaHulbert Yes', 'tarbosaur profjoecain many thanks sad think britishmuseum hidden away Enlightment gallery demonic ermaid', 'Viw Estaque Cézanne risk exported FitzMuseum_UK unless buyer match £13m asking price http //t.co/F3qTEMqha7', 'Year britishmuseum checking Ancient Egypt artefacts schooltrip learning funtimes http //t.co/KQS8fVNHAc', 'NationalGallery Wait secret Leonardo drawing slipped inside one te books', 'britishmuseum w/ bquentin3 amp zada_beda eeling like 21st Century underperforming amp sure… https //t.co/Q0Dmt8MPZU', 'Unfortunately transition narrative parts stories handwaved awa commentary foxvertebrae britishmuseum', 'JHGHendriks britishmuseum aroerts_andrew estimates range 15000 20000 horses killed/severly wounded', 'told tate britishmuseum NPGLondon amp RoyalOperaHouse DropBP Sponsorship Join http //t.co/gmbtUDKh6m', \"Caro 's tribute Duccio NationalGallery wonderfully mysterious thing edges spaces waxed wood http //t.co/BxgQZZaR86\", 'MrStuchbery britishmuseum veteran priest could probably whip ut heart 30 seconds ... ❤️🔪😱', 'Strikers Shel -sponsored NationalGallery protest privatisation kayaktivists ShellNo NaomiAKlein http //t.co/CW6wyEw8Mo', 'Frames works art Visit free SansovinoFrames exhibition http ... http //t.co/RaxtWpBXYv via NationalGallery', 'After 29 rs Cézanne painting leave UK unless funds raised FitzMuseum_UK via an_artnews http //t.co/VjDNl3XU7C http //t.co/0frSDQ5LHN', 'britishmuseum Omg looks totaly like Al Pacino http //t.co/jHgsdUsFCn schriftart', 'blaircurator alex_neilson Tate_StIves Hang building jus renovated great expense ...', 'Cambcene CamUnivMuseums polarmuseum surely statue wd cold Is originator saying freezing brass balls', 'ATN Museum stolen property Hand back culture britishmuseum http //t.co/KNfY53G7Gt SOSBLAKAUSTRALIA NOconsent', 'Solidarity greenpeace kayaktivists We fighting Shell amp NationalGallery want privatise 400 workers ShellNo noprivatisation', 'Solidarity greenpeace kayaktivists We fighting Shell amp NaionalGallery want privatise 400 workers ShellNo noprivatisation', 'britismuseum Did Napoleon really say Britain nation shopkeepers', 'NConcostrina britishmseum Charles_XII The teeth taken corpses battlefield used dentures rest century😁', 'Tate NationalGallery followthisguide one favorites also', \"britihmuseum AYDSMA two ... would never thought 're\", \"The Place 's subtle dance piece performed ith AgeUK britishmuseum Defining Beauty exhibition n't really work bring back bacchantes\", 'View Esaque Cézanne risk exported FitzMuseum_UK unless buyer match £13m asking price http //t.co/F3qTEMqha7', 'britishmuseum neck collar The neck slener', 'Work experience great FitzMuseum_UK http //t.co/qRbr8dBsGr', 'AskTheGallery Lov NationalGallery Hate Private Sector Colonisation Illegal Discrimination Against Unions ReinsateCandy NGNotForSale', 'tateliverpool BobandRoberta angry artists profil speaking foundationcourses http //t.co/0Jqrql7vfK', 'Thanks inspiring day warm welcome FitzMuseumEduca carreno_k RachelSinfield CamUnivMuseums', 'britishmuseum thehistoryguy hame idiots post rude comments throughout', \"This w/e saw closing kettlesyard building work 's film made memory ichael Harrison http //t.co/d27X7k28Gy\", 'View Estaque Cézanne risk exprted FitzMuseum_UK unless buyer match £13m asking price http //t.co/F3qTEMqha7', \"NationalGallery This one favourite paintings National Gallery know 's hung Beautiful\", 'NationalGallery What message oil sponsorship arts send ngotiating climate deal Pars year AsktheGallery', 'NationalGallery AskTheGallry Will recommend trustees end oil sponsorship amp making ppl complicit climate change see public art', \"CarolineLawrenc britishmuseum They 're cute\", 'Enjoyable afternoon kettlesyard discussing restorative potential home place amp everyday gesture OpenHouse andrewnairne davidkefford', 'PlaformLondon NationalGallery lets find Freedom Of Info act Its money', 'tarbosaur profjoecain britishmuseum yes mermaid wonderfully scary kids seems gone last time lookd', 'Bad times National Gallery Stop privatisation services NationalGallery https //t.co/ypfYtLhYu via 38_degrees', \"briishmuseum HollowCrownFans n't look like man 30\", 'Thejadelord PearlLamFineArt NYAcademyofArt NationalGallery thank much David', 'ATTN Museum stolen property Han back culture britishmuseum http //t.co/KNfY53G7Gt SOSBLAKAUSTRALIA NOconsent', 'Stop privatisation services NationalGallery Sign petition https //t.co/WDFjCKMnIt via 38_degrees', 'britishmuseum upset wit invigilators Very rude arrogant enforcing drinking rule', 'Looking forward volunteering TPTgeneral visit NationalGallery today', 'britishmuseum thehistoryguy shame idiot post rude comments throughout', 'Tate_StIves BobadRoberta angry artists profile speaking foundationcourses http //t.co/0Jqrql7vfK', 'britismuseum Hi trying phone two days one ever picks phones', 'People wo lt amp care paintings VS cheap temporary contracts unknowledgable staff NationalGallery AskTheGallery', \"https //t.co/R2tO79Easn .An house solution proposed meet flexibility needs Come NationalGallery 's time TALK\", 'NationalGllery pcs_union strikers raise £1,000 pplsassembly protest http //t.co/SzmJN1zMF7 reinstateCandy http //t.co/7vCMoHbV8W', \"CelesteRegal Well hope n't suppose 'll see frames like soon ... ationalGallery\", 'Fantastic johnmcdonnellMP standing workers NationalGallery noprivatisation edvazey sits fence http //t.co/QzBYpUAtQt', 'Beguiled art Andrea del Sarto Portrait NationalGallery http //t.co/MLghaPPxiU', 'Strikers Shell -sponsored NationalGallery protest privatisation kayaktivists ShellNo revbillyalen http //t.co/kLkbccLnFo', \"britishmuseum 2000 coins per day ... n't worry RSI days\", 'britishmuseum Excelente colección', 'NConcostrina britishmuseum Charles_XII The teeth taken corpses battlefield used asdentures rest century😁', 'NationaGallery Haha There definitely giant eagles hanging around last visited', 'tarbosaur profjoecain many thanks sad think britishmuseum hidden away Enlightment galley demonic mermaid', \"Lots questions privatisation sacking rep NationalGallry 's AskTheGallery disappointing n't addressed\", 'britishmuseum How British double line formation squad fire work surely entire battalion one long lie deep', 'Crumbs NMMGreenwich Dudley britishmuseum postingHenry VIII feel bit threatened Museum tweets Catholic today', 'NationalGallery greekisinart ART=FREEDOM Visited te gallery unable see impressionist paintings belonging collection.When', 'britishmuseum Wish could extend exibition London August ...', \"The Place'ssubtle dance piece performed AgeUK britishmuseum Defining Beauty exhibition n't really work bring back bacchantes\", 'britishmuseum Longest day yet neither earliest sunrise latest sunset', \"BBC_Culture PlymouthMuseum Oh dear Dame Laura Knigh Surely 'The Beach list\", 'FI NationalGallery NGNotForSale ReinstateCandy https //t.co/WD2pKLExET', \"The Place 's subtle dance piece prformed AgeUK britishmuseum Defining Beauty exhibition n't really work bring back bacchantes\", \"NationalGallery AskTheGallery Why appear support privatisation Why n't value yourstaff support\", 'NationalGallery InventingImpressionism strictly No Photo area shot museum shop instead http //t.co/k5JpZfY7b5', \"This w/e saw cosing kettlesyard building work 's film made memory Michael Harrison http //t.co/d27X7k28Gy\", 'ConsortiumX bencnn britishmuseum Why British Mueum Highwayman return stolen goods owners All colonial pillage', 'Blog post AsktheGallery engage angry audience NationalGallery brushes qustions aside http //t.co/kfTCCyxFAD', \"RAMMuseum thanks 'll look next week Friday done\", 'NationalGalley greekisinart ART=FREEDOM Visited gallery unable see impressionist paintings belonging collection.When', 'NationalGallery InventingImpressionism strictly No Photo area shot museum shop instead http //t.co/k5JpZfY7b5', 'britishmuseum 69quietgirl Charles_XII agan ... austerity', 'People lt amp care paintings VS cheap temporary contracts unknowledgable staff NationalGallery AskTheGallery', 'britishmueum How British double line formation squad fire work surely entire battalion one long line deep', \"NationalGallery AskTheGallery Dr would n't like leave noble gesture Stop pivatisation ReinstateCandy support union\", 'Happy Birthday Rubens Samson Delilah NationalGallery sexiest painting world That purple drapery http //t.co/m5xvIkZEdy', 'britishmuseum Thanks ranking us TripAdvisor things London http //t.co/jW3MGZCaHA http //t.co/HkLk8J6em2 W00T', 'Really loved DefiningBeauty britishmuseum Outstanding exhibit+ worth last sculptures alone Closes July http //t.co/F3GZWdGSdX', \"The Place 's subtle dance piece performed AgeUK britishmuseum Defining Beauty exhibition n't really work brig back bacchantes\", 'britishmuseum Hi trying phone two days one ever picks phones', \"tateliverpool 'm trying book members curator talk guided tour forpollock links n't work Are sold\", 'britishmueum turquoise eyes', \"CelesteRegal Well hope ut n't suppose 'll see frames like soon ... NationalGallery\", 'More beauties NationalGallery trafalgarsquare londonvacation artgoestotheheart http //t.co/nyOWf1KU7p', \"britishmuseum AYDSMA two ... would hae never thought 're\", 'Indigenous Australia enduring civilisation So good words britishmuseum', 'Distance makes heart grow fonder already heartbroken kettlesyard shutting yr refurb 21Jun go now❤️ http //t.co/HMmPRcJtz', 'Looks interesting upcoming Archaeology Childhood 2016 exhibition MAACambridge https //t.co/tqBQTkKIHP histchild twitterstorians', 'britishmuseum isthat neck collar The neck slender', 'told tate britishmuseum NPGLondon amp RoyalOperaHouse DropBP Sponsorship Join http //t.co/gbtUDKh6m', 'RothschildHan britishmuseum ......... beautiful', 'NationalGallery Haha There definitely giant eagle hanging around last visited', 'Unfortunately transition narrative parts stories handaved away commentary foxvertebrae britishmuseum', 'View Estaque Cézanne risk exported FitzMuseum_UK unless buyer match £13m askig price http //t.co/F3qTEMqha7', 'tarbosur profjoecain many thanks sad think britishmuseum hidden away Enlightment gallery demonic mermaid', 'britishmuseum upset ith invigilators Very rude arrogant enforcing drinking rule', 'Tate_StIves BobandRoberta angry artists profile speaking foundationcourses http //t.co/0Jrql7vfK', 'blaircurator lex_neilson Tate_StIves Hang building renovated great expense ...', \"This w/e sa closing kettlesyard building work 's film made memory Michael Harrison http //t.co/d27X7k28Gy\", 'Agreed rhiannonakelly Eat sandwiches britishmuseum daily inspiring surroundings Inspired rage tat day Whats nxt ReclaimOurBard', 'HuffPostGreen help us amp RT Shell sponsors NationalGallery wok amp want privatise us ShellNo https //t.co/mRw2vTAhsi', 'blaircurator alex_neilson Tate_tIves Hang building renovated great expense ...', 'People wh lt amp care paintings VS cheap temporary contracts unknowledgable staff NationalGallery AskTheGallery', 'NationlGallery lots disappointed people gallery today strike sadface', 'Wish britishmuseum would hep improvements Bloomsbury Sq hundreds visitors museum pass every day', 'britishmuseum Moonbootica Wow old 32', 'askthegallery How much public money spend brining CIS scabs th current PCS dispute NationalGallery', 'Wish britishmuseum would help improvements Bloomsbury Sq hundrds visitors museum pass every day', \"NationalGallery Londoncraftweek weird say 've barberinstitute took pic http //.co/P1iQcqQ8nY\", 'OMG hought asleep upstairs 3speeders Tate_StIves', 'Great talk MuseumofCamb Weds night 7pm kettlesyard look like redevelopment http //t.co/UQnwUjiQzH', \"Truly lovely evening DefiningBeauty britishmuseum HeidiNiMhurchu thanks everything 're superstar\", 'Really enjoyed GlennLigon talk tateliverpool earlier today His exhibition truly stimulating', 'blaircurator alex_neison Tate_StIves Hang building renovated great expense ...', 'britishmuseum thehistoryguy shame idiots post rude commens throughout', 'britishmuseum Cd piece made armor', \"BBC_Culture lymouthMuseum Oh dear Dame Laura Knight Surely 'The Beach list\", 'Unfortunately tansition narrative parts stories handwaved away commentary foxvertebrae britishmuseum', 'The Dartmouth Museum Daily http //t.co/DRFJjmT28J Stories via FitzMuseum_UK MuseumsAtNight HilaryMcGowan', 'britishmuseum thehistoryguy Gosh periscope definitely trend High profile people using even tied yet', 'britishmuseum JHGHendriks Holy sh ..', \"https //t.co/R2tO79Easn ….An house solution proposed meet flexibility needs Come NationalGallery 's time TALK\", 'Solidarity USDAW C133 pcs_union Day 39 strike NtionalGallery privatisation ReinsateCandy http //t.co/NO5lYh7B5M', \"appendixjournal MartinPribble FitzMuseum_UK So Swiss Army knife really Roman army knife 'm going engrave SPQR mine\", \"It 's one tose days ... NationalGallery sorefeet http //t.co/5cwgqIoGbZ\", 'Jackson Pollock Blind Spots tateliverpool Mad seeing £140m work flesh-review AestheticaMag soon http //t.co/8PtVAaDOdy', 'It would great ee material approached using queer theory foxvertebrae britishmuseum', 'FitzMuseum_UK well never knew ..', 'britishmuseum JSuhermanBailey seems quite clear copy Unfair take one word amp apply entire thing', 'British Museum evacuation brtishmuseum britishmuseum', 'NationalGallery Wait secret Leonardo drawing slipped inside one ofthe books', 'MrStuchbery FranceBarker britishmuseum Oh How', 'Agreed rhiannonakelly Eat sandwiches britishmuseum daily inspiring surroundings Inspired rage day Whats nxt ReclaimOurBard', 'NationalGallery InventingImpressionism srictly No Photo area shot museum shop instead http //t.co/k5JpZfY7b5', \"The Place 's subtle dance piece performed AgeUK britishmuseum Defining Beauty exhibition n't rally work bring back bacchantes\", 'HAPPY BIRTHDAY TO MY MAIN MAN sorry DanDiPiero 400 YEARS YOUNG TODAY great selfie NationalGallery http //t.co/zL1yMv4Izb', 'My review fab StornowayBand RAMMuseum RecCollMag http //t.co/4S1w5ezohM nom de plume Birdsong ahoy stornoway', 'britishmuseum thehistoryguy Gosh periscope definitely trend High profile peope using even tried yet', 'NationalGallery ait secret Leonardo drawing slipped inside one books', 'Stop privatisation services NaionalGallery Sign petition https //t.co/w0xozuIolp via 38_degrees', 'britishmuseum thehistorygy shame idiots post rude comments throughout', 'britishmuseum thehistoryguy Gosh periscope definitely trend High profile people using eve tried yet', \"briishmuseum AYDSMA two ... would never thought 're\", \"Asamsakti yes true .. priceless treasure NationalGallery ... .. artTherapy good hashtag 'll use\", 'britishmusum Hi trying phone two days one ever picks phones', 'MrStuchbery britishmuseum veteran priest could probably whip heart 30 seconds ... ❤️🔪😱', 'Setting St Peters Cambridge CastleHill open day Looks great day kettlesyard VisitCambs http //t.co/vUcWmdAbna', \"tateliverpool 'm trying book members curator talk guided tour pollock links n't work Are sold\", 'britishmuseu thehistoryguy Gosh periscope definitely trend High profile people using even tried yet', 'Bad times atthe National Gallery Stop privatisation services NationalGallery https //t.co/ypfYtLhYus via 38_degrees', 'askthegallery What take pride Haning classic artwork hanging staff dry NationalGallery', \"melly_sue britishmuseum n't rest museum hav going since small mummy best\", 'Agreed rhiannonakelly Eat sandwiches britishmuseum daily inspiring surrounings Inspired rage day Whats nxt ReclaimOurBard', \"britishmuseum That 's great thank much https //t.co/cqPCG1WNW5\", 'Bad times Natinal Gallery Stop privatisation services NationalGallery https //t.co/ypfYtLhYus via 38_degrees', 'Had amazing morning emptyNG event privilege Big thanks londonlivindoll NationalGallery us😍', \"NatonalGallery NPGLondon pcs_union wo n't seeing Goya After 50 years pictures NGL pariah list Candy reinstated\", \"britishmuseum 2000 coins per day ... n't worry RS days\", \"This w/e saw closing kettlesyard building work 's film made memory Michael Harrson http //t.co/d27X7k28Gy\", 'AskTheGallery Dr Penny facing public outcy petition nearly 45,000 signatures halt privatisation NationalGallery', 'Summertime Cambridge Running flying sitting around ... singing FitzMuseum_UK http //t.co/eQhS4P5vtA', 'NConcostrina britishmuseum Charles_XII The teeth taken corpses battlefield used denture rest century😁', 'NationalGallery greekisinart ART=FREEDOM Visited gallery unable see impressionist paintings belonging collection.When', 'Since included would nice see felt like concessionary nod gt foxvertebrae britishmuseum', 'Gold finger ring/armillary sphere German 17thc britishmuseum Curious know worn finger.http //t.co/N4aMqeD8Ad', 'NationalGallery greekisinart ART=FREEDOM Visited gallery unable seethe impressionist paintings belonging collection.When', 'NationalGallery Haha There definitely giant eagles hanging around last visited', 'View Estaque Cézanne risk exported FitzMuseum_UK unless buyer match £13m asking price http //.co/F3qTEMqha7', 'Since included would nice see felt like concessionary nod gt foxertebrae britishmuseum', 'Delicious Dorset crab avocado gazpacho beautiful NationalGallery EventConcept gailsmithflowers http //t.co/sJOfm6E66y', 'Gloomy weather getting ☔️😞 Go kettlesyard last day yr refurb instant feel good fun http //t.co/xSQ9K5NjBr', 'NationalGallery lots disappointed people th gallery today strike sadface', 'britishmuseum fav', 'little blue man britishmuseum souvenir start https //t.co/Iou9zr6ssn http //t.co/iIyRtboZFt', 'NationalGallery photopraline Yes ... Rembrandt paintings makes weep .. DUTCH 17th olden age paintings ahhhhhhhh', \"BMAGcurators NationalGallery Yes It 's hard believe Bernard Berenson disparaed Reni\", 'britshmuseum w/ bquentin3 amp zada_beda feeling like 21st Century underperforming amp sure… https //t.co/Q0Dmt8MPZU', 'britishmuseum drinks permitted museum clearly displayed entrance', 'Nationalallery lots disappointed people gallery today strike sadface', 'Today decided rene britishmuseum membership shouted one spaniards', 'nautilusnat kowarikirstie camunivmuseums Hurray Welcome', 'tarbosaur profjoecain mny thanks sad think britishmuseum hidden away Enlightment gallery demonic mermaid', 'NationalGallery The cropped image timeline looks like something entirely diffeent anyone else see', 'Strikers Shell -ponsored NationalGallery protest privatisation kayaktivists ShellNo NaomiAKlein http //t.co/CW6wyEw8Mo', 'It good selection sculptures familiar many AS level BA foxvertebrae britishmuseum', 'blaircurator alex_neilson Tate_StIves Hang building renovated great exense ...', 'told tate britishmuseum NPGLondon amp RoyalOperaHouse DropBP Sponsorship Join http//t.co/gmbtUDKh6m', 'britishmuseum Is holding orange Someone hadbetter watch', 'tateliverpool BobandRobrta angry artists profile speaking foundationcourses http //t.co/0Jqrql7vfK', 'Crumbs NMMGreenwich Duley britishmuseum posting Henry VIII feel bit threatened Museum tweets Catholic today', 'britishmuseum Hw British double line formation squad fire work surely entire battalion one long line deep', 'NationalGallery What message oil sponsorship te arts send ngotiating climate deal Paris year AsktheGallery', 'Very excited Jackson Pollock press viewing tateliverpool today sneakpeek', 'confident NationalGallery would answer critics AskTheGallery ignore We visitors tax paers', 'Distance makes heart grow fonder already heartbroken kettlesyard shutting yr refurb 2Jun go now❤️ http //t.co/7HMmPRcJtz', \"britishmuseum 2000 coins per day ... n't wory RSI days\", 'NationalGallery The cropped image timelne looks like something entirely different anyone else see', 'NationalGallery The cropped image timeline looks like something entirely different anyone else see', \"ritishmuseum 2000 coins per day ... n't worry RSI days\", 'britishuseum turquoise eyes', 'JHHendriks britishmuseum aroberts_andrew estimates range 15000 20000 horses killed/severly wounded', 'MrStuchbery FrancesBarer britishmuseum Oh How', 'NConcostrina britishmuseum Charles_XII The teeth taken corpses battlefield used dentures rest century😁', 'JohnConstableRA NationalGallery Thank Sir', \"Te Place 's subtle dance piece performed AgeUK britishmuseum Defining Beauty exhibition n't really work bring back bacchantes\", 'Enjoying afternoon NationalGallery artheals', 'britishmuseum w/ bquentin3 amp zada_beda feeling like 21st Century underperforming amp sure… https //t.co/Q0Dmt8MZU', 'NationalGallery pcs_union strikers raise £1,000 pplsassembly protest http //t.co/SzmJN1zMF7 reinsateCandy http //t.co/7vCMoHbV8W', 'britishmseum thehistoryguy shame idiots post rude comments throughout', \"britishmuseum AYDSMA two ... would never thought 're\", 'artnews Sunday afternoon fantastic new exhibit NationalGallery http //t.co/RgeZtedTWk We lt DCmuseums', 'Solidarity greenpeace kayaktivists We fighting Shell amp NationalGallery want privatise 400 workers ShellNo noprivatisation', \"Lots qestions privatisation sacking rep NationalGallery 's AskTheGallery disappointing n't addressed\", 'Tate_StIves BobandRoberta angry artists profile speaking foundationcourses http //t.co/0Jqrql7vfK', 'NationalGallery BobandRoberta angry artists profile speaking foundationcourses http //t.co/0Jqrl7vfK', 'Wish britishmuseum would help improvements Bloomsbury Sq hundreds visitors museum pass every day', 'britishmuseum Looking forward sleep-over tomorrow Not much carting sleeping bags around London', 'Spending Sunday morning roaming Indigenous Australia exhibition BritishMuseum https //t.co/Ui05Xf3c5D', 'Bad time National Gallery Stop privatisation services NationalGallery https //t.co/ypfYtLhYus via 38_degrees', 'britishmuseum Can barrow evening So beautiful', \"https //t.co/R2tO79Easn .An house solution proposed meet flexibility needs Come NationalGallery 's time TALK\", 'Fantastic johnmcdonnellMP standing workers NationalGallery noprivatisation edvaizey sits fence http //t.co/QzBYpUAQt', 'RAMMuseum Thanks Tom helping study Bronze Age metalwork week phd Read visit http //t.co/O4kjQaxQd9', 'Solidarity striking National Gallery NationalGallery NO TO PRIVAIZATION TUCLGBT15', 'MrStuchbery britishmuseum veteran priest could probablywhip heart 30 seconds ... ❤️🔪😱', 'Excellent exhibition britishmuseum Napoleonic era caricature/prints well worth look', 'britishmuseum w/ bquentin3 ap zada_beda feeling like 21st Century underperforming amp sure… https //t.co/Q0Dmt8MPZU', 'britishmuseum thehistorguy shame idiots post rude comments throughout', 'FYI NatinalGallery NGNotForSale ReinstateCandy https //t.co/WD2pKLExET', 'askthegallery How much public money spend brining CIS scabs current PCS dispute NationalGallery', 'Strkers Shell -sponsored NationalGallery protest privatisation kayaktivists ShellNo billmckibben http //t.co/UnGD3naDSn', \"BMAGcurators NationalGallery Yes It 's hard believe Bernard Berenso disparaged Reni\", \"The Place 's subtle dance piece performed geUK britishmuseum Defining Beauty exhibition n't really work bring back bacchantes\", 'britishmuseum Is holding orang Someone better watch', \"'visually striking compilation great blog curatedjenny RiverStarsReindeer MAACambridge https //t.co/ToVrGcMizu http //t.co/HAxAISXabz\", 'It would great see material approached using queer theory foxvertebrae britishmuseum', 'NationalGallery What message oil sponsorship arts send ngotiating climate eal Paris year AsktheGallery', \"This w/e saw closing kettlesyard building work 's film made memory Michael Harrison http//t.co/d27X7k28Gy\", 'britishmuseum Did Napoleon really say Britai nation shopkeepers', 'Distance makes theheart grow fonder already heartbroken kettlesyard shutting yr refurb 21Jun go now❤️ http //t.co/7HMmPRcJtz', 'Dancing thro pictures Flickbook session excellent kettlesyard time animate creativity castlehill15 http //t.co/B20cyC4JQa', \"CelesteRegal Well hope n't supose 'll see frames like soon ... NationalGallery\", 'NationalGallery used portrait explain staff symbolism art knowing client The clues Love', 'NationalGallery What message oil sponsorshi arts send ngotiating climate deal Paris year AsktheGallery', 'britishmueum Hi trying phone two days one ever picks phones', 'britishmuseum Moonbootica Wow old 32', \"Getting excited telling aboriginal tales amp playing didgeridoo britishmuseum tonight 's sleepover http //t.co/ZXFf34SgAd\", 'NationalGallery lots disappointed people gallery toda strike sadface', 'JHGHendriks britishmuseum aroberts_andrew estimates range 15000 20000 horses killed/sevrly wounded', \"BMAGcurators NationalGallery Yes It 's hard beieve Bernard Berenson disparaged Reni\", 'Wis britishmuseum would help improvements Bloomsbury Sq hundreds visitors museum pass every day', 'Gorgeous Look craftsmanship Repost britishmuseum repostapp ・・・ Born onthisday in… https //t.co/W0zWw52bQc', \"NationalGallery AskThGallery Why appear support privatisation Why n't value staff support\", 'ConsortiumX bencnn britishmuseum Why British Museum Highwayman return thestolen goods owners All colonial pillage', 'britishmuseum Is holding orange Someone better wtch', \"Lots questions privatisatio sacking rep NationalGallery 's AskTheGallery disappointing n't addressed\", 'britishmuseum Omg looks totally like Al Pacino http //t.co/jHgsdUsFCn schritart', 'bitishmuseum death mask', 'Tate_StIves BobandRoberta angry artists profie speaking foundationcourses http //t.co/0Jqrql7vfK', 'NConcostrina britishmuseum Charles_XII The teeth taken corses battlefield used dentures rest century😁', 'Wow theyre 3dprinting ancient museum pot millionth visitor RAMMuseum Exeter technology history http //t.co/G9ppdPPZrn', \"CelesteRegal Well hope n't suppose 'll see frmes like soon ... NationalGallery\", 'NationalGallery BobandRoberta angry artists profle speaking foundationcourses http //t.co/0Jqrql7vfK', 'http //t.co/yUu8lGcKpY Really proud part The London Open year _TheWhitechapel Opening 15th July getting close', 'britishmuseum thehistoryguy Gosh periscope definitely trend High profile people using eventried yet', \"NationalGallery NGLondon pcs_union wo n't seeing Goya After 50 years pictures NGL pariah list Candy reinstated\", 'britishmuseum thehistoryguy Gosh periscope definitely trend High profile people using even tried ityet', 'Gold finger ring/arillary sphere German 17thc britishmuseum Curious know worn finger http //t.co/N4aMqeD8Ad', 'MrStuchbery britishmuseum veteran priest could probably whip heart 30 seconds tht ... ❤️🔪😱', \"britishmuseum HllowCrownFans n't look like man 30\", 'Goodbye kettlesyard see 2.25 ears http //t.co/WFjBAiWbfM', \"NationalGallery Londoncraftweek weird say 've barberinstitute ook pic http //t.co/P1iQcqQ8nY\", 'NationalGallery Haha There definitely giant eagles hanging around whenwe last visited', 'britishmuseum Incredible', 'Distance makes heart grow fonder already heartbroken kettlesyard shutting yr refurb 21Jun go now❤️ http //t.co/7HMmPRcJtz', \"NationalGallery Londoncraftweek weird say tat 've barberinstitute took pic http //t.co/P1iQcqQ8nY\", \"britishmuseum HollowCrownFans n't look like man 30 dos\", \"It 's one days ... NatonalGallery sorefeet http //t.co/5cwgqIoGbZ\", \"britishmuseum 2000 coins er day ... n't worry RSI days\", 'NationalGallery Haha There definitely giant eagles hanging around last visited', \"Ophiolatrist bitishmuseum Seriously Napoleon Hitler It 's stupid\", 'PieroDellaFrancesca fascine tous les visiteurs de la NationalGallery http //t.co/A7JtcL4N73', \"Bobstaah NationalGallery thanks Bobby 'm heading London couple weeks 'll take look ELC\", 'Hellboy919 AboutLondon MadameTussauds BateauxLondon britishmuseum Camdencoffee ThamesRIBExp thamesclippers EmiratesAirLDN thank', 'Tate tateliverpool hammering door see exhibition fantastic opportunity see well curated exhibition', \"The Place 's subtle dance piece perfomed AgeUK britishmuseum Defining Beauty exhibition n't really work bring back bacchantes\", 'enjoyed Minions The best cinematic turn NationalGallery since Skyfall lot fun amazing Some good laughs', 'Solidarity greenpeace kayaktivists We fighting Shell amp NationalGallery want privatise 40 workers ShellNo noprivatisation', 'NationalGallery GH_Sudbury Wonderful landscapes', 'britihmuseum JSuhermanBailey seems quite clear copy Unfair take one word amp apply entire thing', \"CelesteRegal Well hope n't suppose 'll see frames like ery soon ... NationalGallery\", 'Wheel-chaired youth directed britishmuseum today completely touched heart love artwork card http //t.co/sbHuiEsUT9', 'NConcostrina britishmuseum Charles_XII The teeth taken corpses battlefield used dentures rest cenury😁', 'askthegallery What youtake pride Hanging classic artwork hanging staff dry NationalGallery', 'NationalGallery Wait secret Leonardo drawing slipped insid one books', 'MrStuchbery FrancsBarker britishmuseum Oh How', 'NationalGallery pcs_union strikers raise £1,000on pplsassembly protest http //t.co/SzmJN1zMF7 reinstateCandy http //t.co/7vCMoHbV8W', 'britishmuseum thehistoryguy shame theidiots post rude comments throughout', 'JHGHendriks britishmuseum aroberts_andrew estimates range 15000 20000 hrses killed/severly wounded', 'Fantastic johnmcdonnellMP standing fo workers NationalGallery noprivatisation edvaizey sits fence http //t.co/QzBYpUAtQt', 'NationalGallery What message oil sponsorship arts send ngotiating climate deal Paris year AsktheGallery', 'NationalGallery AskTheGallery Will recommend trustees end oil sponsorship amp making ppl complicit climate change see public art', 'Solidarity USDAW 133 pcs_union Day 39 strike NationalGallery privatisation ReinsateCandy http //t.co/NO5lYh7B5M', 'NationalGallery AskTheGallery Will recommend trustees end oil sponsorship amp making ppl complict climate change see public art', \"tiffanyjenkins Had show curated _TheWhitechapel… Was n't painted newspaper imae two days landed\", 'Ophiolatrist britishmuseum The stupid French prick crushed Russian Imperial ancestors Waterloo200', 'urge art overs boycott NationalGallery pcs_union rep Candy reinstalled Human rights important pictures BHGreens', 'psframes NationalGallery LOVE The National Gallery', 'AskTheGallery Love NationalGallery Hate Private Sector Colonisation Illegal Discrimination Against Unions ReinsateCandy NGNotForSale', \"NationalGallery Director N. Penny favours `` in-house solution '' Come back talks pcs_union got Alternative http //t.co/UOdrADopXr\", 'Had excellent lunchtime visit britishmuseum theresecoen afternoon DefiningBeauty exhibition', 'Lovely reception NationalGallery Monday eventprofs http //t.co/XTL0D9c1Ea', 'Harbour Cottages sailing lovely new home LivArtFair tateliverpool LoveNorthernArt http //t.co/6ZfuB5j7M9', 'britishmuseum cracking John Ashdown -Hill delivering talk', \"This w/e saw closing kettlesyard building work 's film made memory Michael Harrison http //t.co/d27X7k28Gy\", 'Ophiolatrist britishmuseum The stupid French prick crushed Russian Imperial ancestos Waterloo200', 'judrop1948 Colin_Macaulay Duck_Di DuncanSalkeld NottArchaeology AidanBaker britishmuseum thank', 'Solidarity reenpeace kayaktivists We fighting Shell amp NationalGallery want privatise 400 workers ShellNo noprivatisation', 'NationalGallery AskTheGallery Will Candy Udwin reinstated colleagues paid living wage', 'Today decided renew britishmuseum membership shouted one spaniards', 'What British press thought Napoleon britishmuseum great inspiration RuralArts COMICSTRIP Sat art club http //t.co/0hY0qfymOi', 'newmanmpaul worries Good hear might see 4th wondered tweets might SimonEvolver ThelmaHulbert', 'NationalGallery InventingImpressionism strictly No Photo area shot museum shop instea http //t.co/k5JpZfY7b5', 'blaircurator alexneilson Tate_StIves Hang building renovated great expense ...', \"NationalGallery AskTheGallery Dr would n't like leave noble gesture Stop privatisation ReinstateCandy support union\", 'liveatlica collection excellent company LeedsArtGallery thanks involved Tate_StIves newlynexchange http //t.co/fQ34sgf0v6', 'Today RAMMuseum went store see amazing Peruvian pots http //t.co/QWumUrlGq6', \"This w/e saw closing kettlesyard building wrk 's film made memory Michael Harrison http //t.co/d27X7k28Gy\", 'The last selfie britishmuseum mariarodrirubin http //t.co/OL73O0Q4q', 'Learning photography history respect dead britishmuseum yesterday AncientLives son loved homeed http //t.co/Xtr9n4eG5r', 'Crubs NMMGreenwich Dudley britishmuseum posting Henry VIII feel bit threatened Museum tweets Catholic today', 'britishmuseum w/ bquentin3 amp zada_beda feeling like 21st Century underperforming amp sure… https//t.co/Q0Dmt8MPZU', 'NationalGallery Haha There definitely giant eagles hanging around last viited', 'NationalGallery photopraline Yes ... Rembrandt paintings makes weep .. DUTCH 17th golden ge paintings ahhhhhhhh', \"NationalGallery BMAGcurators Beautiful Guido Reni also love pupil Cagnacci ... `` The Death Cleopatra '' http //t.co/pJJs7ghFYf\", 'tarbosaur profjoecain britishmuseum yes mermaid wonderfully scary kids ut seems gone last time looked', 'People lt amp care paintings VS cheap temporary contracts unknowledgable staff NationalGallery skTheGallery', 'tateliverpool BobandRoberta angry artists tha profile speaking foundationcourses http //t.co/0Jqrql7vfK', 'britishmuseum Hi rying phone two days one ever picks phones', \"tiffanyjenkins Had show curated _TheWhitechapel… Was n't painted fro newspaper image two days landed\", 'askthegallery Howmuch public money spend brining CIS scabs current PCS dispute NationalGallery', 'stockleyacademy students enjoying working classroom NationalGallery stockleyart http //t.co/ftgjISrFNk', 'Wish britishmuseum would help impovements Bloomsbury Sq hundreds visitors museum pass every day', \"FitzMuseum_UK It 's beautiful colours lush vibrant\", 'Plus excellent prizes britishmuseum http //t.co/soUo22G29A http //t.co/YrIWP415oR', 'britishmuseum thehistoryguy Gosh periscope definitely trend High profile people using even tried et', 'Well worth catching ends early July DefiningBeauty britishmuseum http //t.co/qxIn5W7k9a', 'One beautiful Places London NationalGallery http //t.co/ycPBGVW64B', 'People lt amp care paintings VS cheap temporary ontracts unknowledgable staff NationalGallery AskTheGallery', 'ATTN Museum stolen property Hand back culture britishmuseum http //tco/KNfY53G7Gt SOSBLAKAUSTRALIA NOconsent', \"tateliverpool 'm trying book members curator talk guided tour pollock lins n't work Are sold\", 'Distance makes heart grow fonder already heartbroken kettlesyard shutting yr refurb 21Jun now❤️ http //t.co/7HMmPRcJtz', 'NationalGallery InveningImpressionism strictly No Photo area shot museum shop instead http //t.co/k5JpZfY7b5', 'britishmuseum thehistoryguy Gosh periscope definitely trend High profile people using even tried yet', \"Yes heard right 's new Jackson Pollock exhibition opening tateliverpool http //t.co/Ci44pbElfc http //t.co/McQQB4hwWY\", 'britishmuseum JSuhermanBailey seems quite clear copy Unfair take one word amp apply entirething', \"benugo britishmuseum Teruel ham excellent choice Definitely 'to visit list\", 'askthegallery How much pubic money spend brining CIS scabs current PCS dispute NationalGallery', 'AskTheGallery Dr Penny Will re-enter negotiations wth staff strike 35 days NationalGallery NGNotForSale', \"The Place 's subtle dance piece perfrmed AgeUK britishmuseum Defining Beauty exhibition n't really work bring back bacchantes\", 'OptimoPrincipi britishmuseum one looks real', 'NationalGallery After staff privatisation next selling donated works Councils without consultation Ask bout missing art', 'Now Parliament whistles banner leaflets confiscated managers NationalGallery time noprivatisation reinstatecandy', 'Thanks wonderful artists made us fantastic lantern artseducation DiscoveryDay britishmuseum http //t.co/B7j96mdRUN', 'askthegallery How much public money spend brining CS scabs current PCS dispute NationalGallery', 'For art enthusiasts missed love every minutes this… nationalgallery pic https //t.co/wtlGh06tZR', 'The Cambridge Design Daily http //t.co/Bwp5VBbahD Stories via CamPicturehouse FitzMuseum_UK tabcambridge', \"GO visit Sothebys ChristiesInc amp take photos art instead _TheWhitechapel ca n't tae photos amp waste time phnat\", \"NationalGallery Londoncaftweek weird say 've barberinstitute took pic http //t.co/P1iQcqQ8nY\", \"britishmuseum HollowCrownFans n't look ike man 30\", \"HistoryGems britishmuseum It 's got lttle mummified croc\", \"Looking forward celebrating Marion Smith QC 's silk appointment tonight _TheWhitechapel 39EssexChambers\", 'NConcostrina britishmuseum Charles_XII The teeth taken corpes battlefield used dentures rest century😁', 'NationalGallery lots disappointed people thegallery today strike sadface', 'Went Indigenous Australians exhibition britishmuseum evening fascinating fabulous many dots', 'Godbye kettlesyard see 2.25 years http //t.co/WFjBAiWbfM', 'britishmuseum thehistoryguy shame idios post rude comments throughout', 'We hope Y12 history art pupils enjoy visit kettlesyard today', 'britishmuseum Omg looks ttally like Al Pacino http //t.co/jHgsdUsFCn schriftart', 'What amazing facility NationalGallery par Uffizi Louvre well worth visit https //t.co/ubP9eDg0el', 'Blog post AsktheGallery toengage angry audience NationalGallery brushes questions aside http //t.co/kfTCCyxFAD', 'NationalGallerylots disappointed people gallery today strike sadface', 'The britishmuseum kindly loaned beautiful Ædwen brooch us new exhibition AngloSaxon Viking http //t.co/eIU5MG2yx8', 'Britih Museum evacuation britishmuseum britishmuseum', 'confident NationalGallery would answr critics AskTheGallery ignore We visitors tax payers', 'HuffPostGreen help us amp RT Shell sponsors NationalGalery work amp want privatise us ShellNo https //t.co/mRw2vTAhsi', 'AskTheGallery Dr Penny Will re-enter negotiations staff strike 35 days NationalGallery NGNotForale', \"britishmuseum ADSMA two ... would never thought 're\", 'Blog post AsktheGallery engage angry audienc NationalGallery brushes questions aside http //t.co/kfTCCyxFAD', 'HuffPostGreen elp us amp RT Shell sponsors NationalGallery work amp want privatise us ShellNo https //t.co/mRw2vTAhsi', 'AskTheGallery Dr Penny facing public outcry petition nearly 45,000 signatures youhalt privatisation NationalGallery', \"Lots questions privatisation sacking rep NationalGallery 's AskTheGallery disappointing n't addressed\", 'The Magna Carta exhibition britishmuseum quite extraordinary Very imaginatively done Even bit Tony Hancock', 'Mini-potter around britishmuseum galleries rarely see love Clocks gallery amp incredible automata museums http //t.co/VR2kVF0daS', 'NationalGallery AskTheGallery As director main objective would like achieve How would achieve Thanks', 'Crumbs NMGreenwich Dudley britishmuseum posting Henry VIII feel bit threatened Museum tweets Catholic today', 'Solidarity USDAW C133 pcs_union Day 39 strike NationalGallery privatisation ReinsateCndy http //t.co/NO5lYh7B5M', 'Gold finger ring/armillary sphere German 17thc britishmuseum Curious know worn finger http //t.co/N4aMqe8Ad', 'britishmuseum deathmask', 'blaircurator alex_neilson Tate_StIves Hang bulding renovated great expense ...', 'Wish britishmuseum would help moe improvements Bloomsbury Sq hundreds visitors museum pass every day', 'blaircurator alex_neilson Tate_StIves Hang building renovated great xpense ...', 'MrStuchbery britishmuseum veteran priest could probably whipout heart 30 seconds ... ❤️🔪😱', 'askthegallery What take pride Hanging clasic artwork hanging staff dry NationalGallery', 'NationalGallery AkTheGallery We boycotting National Gallery reinstate Candy Unwin stop privatisation ...', 'Distance makes heart grow fonder already heartbroken kettlesyard shutting yr refurb 21Jun go now❤️ http //t.co/7HMmPcJtz', 'britishmuseum Thank much', 'blaircurator alex_neilson Tate_Stves Hang building renovated great expense ...', 'NConcostrina britishmuseum Charls_XII The teeth taken corpses battlefield used dentures rest century😁', 'britishmuseum So much eeth problems un ancient Egypt', 'blaircurator alex_neilson Tate_StIves Hang building renovated grea expense ...', 'ConsortiumX bencnn britishmuseum Why British Museum Highwayman return stolen goods owners All colonial pillage', 'Blog post AsktheGallery engage angry audience NationalGallery brushes question aside http //t.co/kfTCCyxFAD', 'Loved DefiningBeauty thought stunning learnt SO MUCH Beautifully curated Fell love Thank britishmuseum', 'britishmuseum Hi trying phone two days one ever picks phones', 'britishmuseum How British double line formation squad fire work surely entire battalion one lng line deep', 'OptimoPrincipi britishmuseumthat one looks real', \"wonderful exhibition Enid Blyton 's work plymouthmuseum Aug 29th plymouthherald http //t.co/XUH307PTU4 DevonDays\", 'BingeThinking britishmuseum exhibitions day DefiningBeauty indigenousAustralia ancientLives breathtaking', 'Wow Great work tateliverpool Jackson Pollock exhibition going amazing http //t.co/7VPYz8tYMj', 'johnlangdon26 kettlesyard agree Lovely place work/volunteer Amazing domestic architectural spaces amp art want visit every wk', 'britishmuseum Fascinating thanks What odd place exile anyone', 'NationalGallery greekisinart ART=FREEDOM Visited gallry unable see impressionist paintings belonging collection.When', \"Here 's trying spot life drawing fabulous KettlesYard Cambridge http //t.co/RQo4O4ybI3\", 'RathfernPS Had brilliant tiring trip britishmuseum Nebula class today well behaved great ambassadors school', 'ConsortiumX bennn britishmuseum Why British Museum Highwayman return stolen goods owners All colonial pillage', \"WMNNews Tate_StIves n't seen garden yet soon 'm fan 's Rhyme day http //t.co/NchNHWoJJA\", 'tateliverpool BobandRoberta angry moe artists profile speaking foundationcourses http //t.co/0Jqrql7vfK', \"The Place 's subtle dance piece performed AgeUK briishmuseum Defining Beauty exhibition n't really work bring back bacchantes\", 'Gold finger ring/armillary sphere German 17thc britishmuseum Curious know worn finger htp //t.co/N4aMqeD8Ad', 'NationalGallery AskTheGallery We boycotting National Gallery reinstate Cand Unwin stop privatisation ...', 'britishmuseum Wish could extend exhibition London August ...', \"Saw visit britishmuseum daughter.History 'zar ceremonies used -fascinating SudaneseLyre https //t.co/EEHlKPC98u\", 'NConcostrina britishmuseum Charles_XII The teeth taken corpses battlefield used dentures rest century😁', 'AskTheGallery bodies Rockerfelles UK unis divesting fossil fuel NationalGallery backward supporting oil corps', 'britishmuseumHi trying phone two days one ever picks phones', 'blaircurator alex_neilson Tate_StIves Hang building renovated great expense ...', 'britishmuseum Did Napoleon really say Britain ation shopkeepers', 'britishmuseum thehistoryguy shame idiots post rude comment throughout', \"britishmuseum 2000 coins per day ... thy n't worry RSI days\", 'tarbosaur profjecain many thanks sad think britishmuseum hidden away Enlightment gallery demonic mermaid', \"appendixjournal MartinPribble FitzMusem_UK So Swiss Army knife really Roman army knife 'm going engrave SPQR mine\", 'britishmuseum So much teeth problms un ancient Egypt', 'Smerchant84 RT lisamaythomas The Touch Diaries trailer https //t.co/TG6HPOQ4IK premiere 9th July ICIABath BathDance theatrebristol', 'NationalGallery Wait secret Lenardo drawing slipped inside one books', \"GO visit Sothebys ChristiesInc amp take photos art instead _TheWhitechapel ca n't take photos amp wase time phnat\", 'painting inprogress GerardDavid nationalgallery oil much Thursday fun https //t.co/4YTblNpLaz', \"eguilbs britishmuseum arrived Canada day RoyalRoads field school `` acclimatize '' really Good timing\", 'britishmuseum D_Blanchflower thanks Tories one get close see let alone festival emembering 85', 'NationalGalery AskTheGallery noprivatisation https //t.co/0N7UGP7h1Z ReinstateCandy http //t.co/ZaDR8HN01F', 'NationalGallery god', 'OMG thought asleepupstairs 3speeders Tate_StIves', 'Tate_StIves BobandRoberta angry artists profile speaking foundationcourses http //.co/0Jqrql7vfK', 'NationalGallery AskTheGallery noprivatisation https //t.co/0N7UGP7h1Z ReinstateCandy http //t.coZaDR8HN01F', \"Lots questions privatisation sacking rep NationalGallery 's AskTheGallery disappointing wee n't addressed\", 'Stunning Congratulations made RAMMuseum home learning investigating past Prince A. https //t.co/ULnswtveWI', 'davidcharlesbow NationalGallery AskTheGallery Pete Dud questions http //t.co/D5Eet1Y56F The Leonardo cartoon hoot', 'Crumbs NMMGreenwich Dudley britishmuseum posting Henry VIII feel bit threatened Museum tweets Catholic today', 'The last selfie britishmuseum mariarodrirubin http //t.co/OL73OQD4q', 'britishmuseum One best London memories thank', 'FitzMuseum_UK brilliant museum And Friends Museum v. nice ... thanks Sarah Jane', 'britishmuseum w/ bquentin3 amp zada_beda feeling like 21st Century nderperforming amp sure… https //t.co/Q0Dmt8MPZU', 'AskTheGallery bodies Rockerfellers UK unis divesting fossil fuel NationalGallery backward supporting oil corps', 'roshvarosha LisaLooly newmanmpaul DrawntoDevon DavidSmithArt ThelmaHulbert see', 'britishmuseum wish something bankruptcy ancient world', 'britishmuseum Is holding orange Someone better watch', \"BMAGcurators NationalGallery Yes s. It 's hard believe Bernard Berenson disparaged Reni\", 'NationalGallery pcs_union strikers raise £1,000 pplsassembly protest http //t.co/SzmJN1zMF7 reinstateCany http //t.co/7vCMoHbV8W', 'NationalGallery greekisnart ART=FREEDOM Visited gallery unable see impressionist paintings belonging collection.When', 'NationalGallery introduced wonderful work Canaletto 1st visit amazing gallery paintings breathtaking', 'stockleyacademy students joy spending day NationalGallery stockleyart http //t.co/q7IKWrQh6q', 'After 29 yrs Cézanne painting leave UKunless funds raised FitzMuseum_UK via an_artnews http //t.co/VjDNl3XU7C http //t.co/0frSDQ5LHN', 'confidet NationalGallery would answer critics AskTheGallery ignore We visitors tax payers', 'Strikes Shell -sponsored NationalGallery protest privatisation kayaktivists ShellNo revbillytalen http //t.co/kLkbccLnFo', 'Unfortunately transition narratve parts stories handwaved away commentary foxvertebrae britishmuseum', 'Solidarity greenpeace kayaktivists We fighting Shell amp NationalGallery want privatise 400 workers ShellNo nprivatisation', 'britishmuseu 69quietgirl Charles_XII ... austerity', 'HuffPostGreen help us amp RT Shell spnsors NationalGallery work amp want privatise us ShellNo https //t.co/mRw2vTAhsi', 'johnmbrampton CambridgeNewsUK kettlesyard Thank John', 'urge art lovers boycott NationalGallery pcs_union rep Candy reinstalled Human rights impotant pictures BHGreens', 'NationalGallery greekisinart ART=FREEDOM Visitd gallery unable see impressionist paintings belonging collection.When', 'Today decided renew britishmuseum mmbership shouted one spaniards', 'britishmuseum JSuhermanBaiey seems quite clear copy Unfair take one word amp apply entire thing', 'britshmuseum upset invigilators Very rude arrogant enforcing drinking rule', \"appendixjournal MartinPribble FitzMuseum_UK So Swiss Army knife really Rman army knife 'm going engrave SPQR mine\", 'Bad times National Gallery Stop privatisation services NationalGallery https //t.co/ypfYthYus via 38_degrees', 'britishmuseum wish somethingon bankruptcy ancient world', 'Cambscene CamUniMuseums polarmuseum surely statue wd cold Is originator saying freezing brass balls', \"SassyClyde We wo n't stp til britishmuseum dumps BP Fill feedback form 're amp watch space http //t.co/o2JlUnGi1y\", \"CelesteRegal Well hope n't suppose 'll see frames like soon ... NationalGallry\", 'Stop privatisation services NationalGallery Sign petition https //t.co/WDFjCKMnIt via 3_degrees', 'NationalGallery What message oil sponsorship arts send ngotiatinga climate deal Paris year AsktheGallery', \"SassyClyde We wo n't stop til britishmuseum dumps BP Fill feedback form 're amp watch ths space http //t.co/o2JlUnGi1y\", 'blaircuratr alex_neilson Tate_StIves Hang building renovated great expense ...', 'Looking forward britishmuseum tomorrow eve Greek Art Defining Beauty Msg us tix http //t.co/PCSrcyIxr4 http //t.co/ZapM1Tmzt0', 'tarbosaur rofjoecain britishmuseum yes mermaid wonderfully scary kids seems gone last time looked', 'Had great IndianaJones tour britishmuseum eustonchurch HTBChurch enjoying The Five service http //t.co/uZkZgz0h6c', 'britishmuseum thehistorygu Gosh periscope definitely trend High profile people using even tried yet', 'Cant wait go AudreyHepburn Exhibition NationalGallery icon Idolised lady since little girl http //t.co/pfM5K4olf6', \"NationalGallery AskTheGallery Dr would n't like leave noble gesture Stop privatisation ReinstateCandy support union\", \"tiffanyjenkins Had show curated _TheWhitechapel… Was n't painted newspaper imge two days landed\", \"tateliverpool Im trying book members curator talk guided tour pollock links n't work Are sold\", 'NationalGallery TreeHouseBkshop Also display bedroom ceiling http //t.co/E2X3ffa9ya', 'Tate_StIves BobandRoberta angry artists profile speakng foundationcourses http //t.co/0Jqrql7vfK', 'Strikers Shell -sponsored NationalGallery protest privatisation kayaktivists ShellNo billmckibbenhttp //t.co/UnGD3naDSn', 'britismuseum So much teeth problems un ancient Egypt', \"New Blog `` Finally made kettlesyard week kettlesyard ... '' http //t.co/MOOXtIov6R pebbles interiors kettlesyard\", 'It would great see materia approached using queer theory foxvertebrae britishmuseum', \"NationalGallery AskTheGallery Dr would n't like leave noble gesture Stop privatisation ReinstateCndy support union\", 'NationalGallery AskTheGallery noprivaisation https //t.co/0N7UGP7h1Z ReinstateCandy http //t.co/ZaDR8HN01F', \"HistoryGems britishmuseum It 's got little mumified croc\", 'NConcostrina britishmuseum Charles_XII The teethtaken corpses battlefield used dentures rest century😁', 'NationalGallery Lovely choice', \"britishmuseum 2000 coins per day ... tey n't worry RSI days\", 'askthegallery How much public money spend brining CIS scabs current PCS dispute NationalGallery', 'britishmuseum D_Blanchflower thanks Tories one get closeto see let alone festival remembering 85', 'britshmuseum death mask', \"tateliverpool 'm trying book members curato talk guided tour pollock links n't work Are sold\", \"NationalGallery AskTheGallery Dr would n't like leave noble gesture Stop privatiation ReinstateCandy support union\", 'View Estaque Cézanne risk exported FitzMusem_UK unless buyer match £13m asking price http //t.co/F3qTEMqha7', 'britishmuseum Omg looks totally like Al Pacino http //t.co/jHgsdUsFCn schriftart', 'JHGHendriks britishmuseum aroberts_andrew estimates range 15000 20000 horses killed/severly wounded', 'britishmuseum Moonbootica Wow old32', 'britishmuseum So muc teeth problems un ancient Egypt', \"britishmuseum HollowCrownFans n't look likea man 30\", 'tarbosaur profjoecain britishmuseum yes mermai wonderfully scary kids seems gone last time looked', 'AskTheGallery Love NationalGallery Hate Private Sector Colonisation Illegal Discrimination Agains Unions ReinsateCandy NGNotForSale', \"NationalGallery Londoncraftweek weird say 've barberinstitute took pic http //t.co/P1iQcqQ8nY\", 'britishmusum hmmmm ... teapot', \"Bethlem_Gallery samcurtisart _TheWhitechapel Ooh fab road work 's least one lunch hour sorted\", 'Gaia_sGarden britishmuseum Yes treasure', 'britishmuseum Did Napoleon really say Britain nation shokeepers', 'Now Parliament whistles banner leafets confiscated managers NationalGallery time noprivatisation reinstatecandy', 'britishmuseum Codpiece made armor', 'Exquisite works painter Paul Rubens presented britishmuseum https //t.co/8BJpLjPiqU', \"tateliverpool 'm rying book members curator talk guided tour pollock links n't work Are sold\", 'Strikers Shell -sponsored NationalGallery protest privatisation kayaktivists ShellNo revbillytalen http //t.co/kkbccLnFo', \"CelesteRegal Well hope n't suppose 'll see frames like soon ... NationalGallery\", 'nationalgallery AskTheGallery Why yu pay brilliant staff poorly', 'askthegallery What take pride Hanging classic artwork hanging staff ut dry NationalGallery', \"NationalGallery Director N. Penny favours `` in-house solution '' Come back talks hen pcs_union got Alternative http //t.co/UOdrADopXr\", \"NationalGallery Londncraftweek weird say 've barberinstitute took pic http //t.co/P1iQcqQ8nY\", 'Nationalallery AskTheGallery Will Candy Udwin reinstated colleagues paid living wage', 'britishmuseum TudorHistory What beautiful jewel portrait Is Rex', \"Ophiolatrist britishmuseum Sriously Napoleon Hitler It 's stupid\", 'Now Parliament whistles banner leaflets confiscated managers NationalGallery time noprivatisation reinstatecady', 'years ago today greatest museum opened acropolismuseum britishmuseum givethemback elginmarbles greece', 'Unfrtunately transition narrative parts stories handwaved away commentary foxvertebrae britishmuseum', 'ritishmuseum JHGHendriks Holy sh ...', 'NationalGallery AskTheGallery Will Candy Udwin reinstated colleagues paid iving wage', 'britishmuseum JHGHendriks Holy sh ...', 'BBCCambs FitzMuseum_UK chrismannbbc Thanks LOOKS really exciting slowed perception best wishes', 'FF Happy weekend CommunityArchae britishmuseum PyBossa chancock_na joshuathogue', 'britishmuseum D_Blanchflower thanks Tories noone get close see let alone festival remembering 85', 'NationalGallry oh god', \"tiffanyjenkins Had show curated _TheWhitecapel… Was n't painted newspaper image two days landed\", \"britishmuseum HollowrownFans n't look like man 30\", 'britishmuseum 69quietgirl Charles_XI ... austerity', 'OptimoPrincipi bitishmuseum one looks real', \"So tired britishmuseum sleepover No seats train London Nottingham either Didgeridoo man 's dreamtime tales great\", 'NationalGallery AskTheGallery Will Candy Udwin reinstated hercolleagues paid living wage', \"DavidSmithArt cheers Twitter stuff able make PV SimonEvolver ThelmaHulbert next month- 've got cover\", 'Gold finger ring/armillary sphere German 17thc britishmuseum Crious know worn finger http //t.co/N4aMqeD8Ad', 'NationalGallery Haha There definitely giant eagles hanging around lat visited', 'Stimulating day culturegeek southbankcentre hotfooting back Cambridge time Torres Strait dancers MAACambridge', 'NationalGallery Haha There definitely giant eages hanging around last visited', 'britishmuseum resolved link works thank much', 'ATTN Mueum stolen property Hand back culture britishmuseum http //t.co/KNfY53G7Gt SOSBLAKAUSTRALIA NOconsent', 'MuseeLouvre museiincomune leCMN GoldUnveiled britishmuseum MarDixon Museo_MADRE Magnificent would love learn hand', 'Wish britishmuseum would help improvements Bloomsbury Sq hundreds visitors museum pass every day', 'tateliverpool BobandRoberta angry artists profile speaking foundationcourses http //t.co/0Jqrql7vfK', 'Always love mosaic floors NationalGallery London Simple ideas like curiosity open mind amp rest amp thankful http //t.co/cvxJLAp9iV', 'britishmuseum Moonbootica Wow old 32', 'MrStuchbery britishmuseum veteran priest could probably whip heart 30 seconds wth ... ❤️🔪😱', 'tarbosaur profjoecain many thanks sad think britishmuseum hidden away Enlightment gallery demonic mermaid', 'Thank book NationalGallery twitter prize draw http //t.co/41oqgYo2DB', 'kettlesyard seeing many last minute visits fit closure fabulous redevelopment ... http //t.co/glcpVc3Ezo', 'Gold finger ring/armillary sphere German 17thc britishmuseum Curious know worn finger http //.co/N4aMqeD8Ad', 'britishmuseum thehistoryguy Gosh periscope dfinitely trend High profile people using even tried yet', \"This w/e saw closing kettlesyard building work 's film made therein memory Michael Harrison http //t.co/d27X7k28Gy\", 'tarbosaur profjoecain many thanks sad think britishmuseum hidden away Enlightment gallery demonic mermaid', 'Cambscene CamUnivMuseus polarmuseum surely statue wd cold Is originator saying freezing brass balls', 'askthegallery How much public money spend brining CIS scabs currentPCS dispute NationalGallery', 'tarbosaur profjoecain many thanks sad think britishmuseum hidden away Enlightment gallery deonic mermaid', 'NationalGallery Haha There definitely giant eagles hanging around last visited', \"It 's one days ... NationalGallery sorfeet http //t.co/5cwgqIoGbZ\", 'Since included would nice see felt like concessionary nod gt foxverebrae britishmuseum', 'britishuseum death mask', 'NationalGallery The cropped image timelinelooks like something entirely different anyone else see', 'Solidarity greenpeace kayaktivists We fighting Shell amp NationalGallery want privatise 400 workers ShllNo noprivatisation', 'Fabulous day britishmuseum sarahdawnscott ... Greek beauty Australia Napoleonic propaganda amp much http //t.co/cMyh2JC6sO', 'It would great see materialapproached using queer theory foxvertebrae britishmuseum', \"tiffanyjenkins Had show curatd _TheWhitechapel… Was n't painted newspaper image two days landed\", 'askthegallery What take pride Hangin classic artwork hanging staff dry NationalGallery', 'In London today visiting NewDesigners britishmuseum WallaceMuseum Obligatory Great Court shot ... http //t.co/bi5kvltovK', 'Thanks EmmaHiggCN lovely review kettlesyard https //t.co/3rMImVpqHJ', 'OMG thought asleep upstairs 3speeers Tate_StIves', 'Boulevard Montmartre Night Camille Pisarro NationalGallery http //t.co/MrvJ38ZGrV FavouritePaintingFriday http //t.co/Mnliz69ksI', 'britishmseum Moonbootica Wow old 32', 'britishmuseum Pinterest That prehistoric bone flute paleolithic exhibition back favorite', 'Parents amp Pastonians enjoyed guided tour NationalGallery For upcoming PASS event info http //t.co/rTbDfSMut6 http //t.co/J6rVCX01vL', 'britishmuseum Omg looks totally like Al Pacino http //t.co/jHgsdUsFCn chriftart', 'britishmuseum Omg looks totally like Al Pacino http //tco/jHgsdUsFCn schriftart', 'britishmuseum thehistoryguy shame idiots post rude comments thrughout', 'Tate The Wilton Diptych willowy serene angels gorgeous gold portable balm soul NationalGallery http //t.co/v6WW9JyOcu', 'Solidarity USDAW C133 pcs_union Day 39 strike againt NationalGallery privatisation ReinsateCandy http //t.co/NO5lYh7B5M', \"This w/e saw closing ketlesyard building work 's film made memory Michael Harrison http //t.co/d27X7k28Gy\", 'GoldUnveiled museiincomune britishmuseum MuseeLouvre MarDixon Museo_MADRE louvrepourtous museecarnavalet Torna la MuseumWeek', 'ritishmuseum How British double line formation squad fire work surely entire battalion one long line deep', 'britishmuseum JSuhermanBailey seems quite clear copy Unfair take one word mp apply entire thing', 'Cambscene CamUnivMuseums polarmuseum surely statue wdbe cold Is originator saying freezing brass balls', \"AdamKoszary BW_126 Liking RAMMuseum 's use Instagram show behind scenes amp things visitors might miss visit InstaMuseum\", 'britishmseum JHGHendriks Holy sh ...', 'tarbosaur profjoecain britishmuseum yes mermaid wonderfully scary kids seems gon last time looked', 'tarbosaur pofjoecain britishmuseum yes mermaid wonderfully scary kids seems gone last time looked', 'britishmuseum Cod piece mad armor', 'MUSEOSCOLIMA britishmuseum Thank much', 'FitzMuseumEduca carreno_k CamUnivMuseums welcome MirandaStearn see July', 'britishmuseum JSuhermanBailey seems quite clear copy Unfair take one wrd amp apply entire thing', \"The Place 's subtle dance piece performed AgeUK britishmuseum Defining Beauty exhibitin n't really work bring back bacchantes\", 'After 29 yrs Cézanne painting leave UK unless funds raised FitzMuseum_UK via an_artnews http //t.co/VjDNl3XU7C http //.co/0frSDQ5LHN', 'Tte_StIves BobandRoberta angry artists profile speaking foundationcourses http //t.co/0Jqrql7vfK', 'NationalGallery After staff privatisation nex selling donated works Councils without consultation Ask missing art', \"BMAGcurators NationalGallery Yes It 's hard believe BernardBerenson disparaged Reni\", 'britishmuseum How British double line formation squad fire work surely entir battalion one long line deep', \"SassyClyde We wo n't stop til britishuseum dumps BP Fill feedback form 're amp watch space http //t.co/o2JlUnGi1y\", 'britishmuseum thehistoryguy Gosh periscope definitely trend High profile people using havenot even tried yet', 'nationalgallery AskTheGallery When re-instating Candy Udwi Why arts subject private profit', 'NationalGallery Londoncraftweek weird say Ive barberinstitute took pic http //t.co/P1iQcqQ8nY', 'britishmuseum emussj Greatest car park attendant country ever seen', 'JHGHendriks britishuseum aroberts_andrew estimates range 15000 20000 horses killed/severly wounded', 'Strikers Shell -sponsored NationalGallery protest privatisation kayaktivists ShellNo billmckibben http //t.co/UnGD3naDSn', 'Goodbye kettlesyard see 2.25 years http //t.co/WjBAiWbfM', 'The last sefie britishmuseum mariarodrirubin http //t.co/OL73O0QD4q', \"tateliverpool 'm trying book members curator talk guided tour pollock links n't work Are sold\", \"This w/e sawthe closing kettlesyard building work 's film made memory Michael Harrison http //t.co/d27X7k28Gy\", 'Distance makes heartgrow fonder already heartbroken kettlesyard shutting yr refurb 21Jun go now❤️ http //t.co/7HMmPRcJtz', 'britishmuseum w/ bquentin3 amp zada_beda feelinglike 21st Century underperforming amp sure… https //t.co/Q0Dmt8MPZU', \"NationalGallery Director N. Penny favours `` in-house solution '' Come back talks pcs_unon got Alternative http //t.co/UOdrADopXr\", 'britishmuseum Did Napoleon really say Britain nation shopkeeper', 'Unfortunately transitionnarrative parts stories handwaved away commentary foxvertebrae britishmuseum', \"The Place 's subtle dance piece performed AgeUK britishmuseum Defining Beauty exhibition n't really work bring back acchantes\", 'NationalGallery love idea going suggest BerndtArell day', 'NationalGallery greekisinart ART=FREEDOM Visited gallery unable see impressionist paintings belonging cllection.When', 'AskTheGallery bodies Rockerfellers UK unis divesting fossil fuel NationalGallery backward supporting oil orps', \"britishmuseum HollowCrownFans n't look like man 30 doeshe\", 'VictoriaRance kettlesyard V_and_A beautiful GaudierBrzeska', 'britishmuseum neck collr The neck slender', 'Distance makes heart grow fonder already heartbroken ettlesyard shutting yr refurb 21Jun go now❤️ http //t.co/7HMmPRcJtz', 'tateliverpool looking forward private view today time start', 'Now Pariament whistles banner leaflets confiscated managers NationalGallery time noprivatisation reinstatecandy', \"BBC_Culture PlymouthMuseum Oh ear Dame Laura Knight Surely 'The Beach list\", 'britishmuseum world history learn real summer Hahaha http //t.co/SiufoTQyEe', 'Very excited Nicholas Thomas MAACambridge critique natural artefact rethinking re-contextualisation objects2015', \"real must-see britishmuseum 'Defining Beauty The Body Ancient Greek Art London art http //t.co/2veJjf3IZb http //t.co/mlJ2a9olx4\", 'Unfortunately transition narrative parts stories handwaved away commentary foxvertebrae britishmuseum', 'Found yesterday BritishMuseum desperately needs info exhibit though Pillar Empero Ashoka http //t.co/0XtD8ly3nX', 'Cambscene CamUnivMuseums polarmuseum surely statue wd cold Is originator saying freezing brass balls', \"britishmuseum HollwCrownFans n't look like man 30\", 'Just look DefiningBeauty exhibition britishmuseum well great start weekend', 'AskTheGallery Dr Penny Will e-enter negotiations staff strike 35 days NationalGallery NGNotForSale', 'NationalGallery pcs_union strikers raise £1,000 pplsassembly protest http //t.co/SzmJN1zMF7 reinstateandy http //t.co/7vCMoHbV8W', \"Commercial collegial Why BritishMuseum feesfor art loans Abu Dhabi disclosed UK 's FOI law http //t.co/PmcmRtHJT2\", 'Tate_StIves BobandRoberta angry artists profile speaking foundatiocourses http //t.co/0Jqrql7vfK', \"Lots questions privatisation sacking rep NationalGallery 's AskTheGaller disappointing n't addressed\", 'NationalGallery Haha There definitelyno giant eagles hanging around last visited', 'tarbosaur profjoecain britishmuseum yes mermaid wonderfull scary kids seems gone last time looked', 'MooseAllain look forward congratulating person roshvarosha LisaLooly newmanmpaul DrawntoDevon ThelmaHulbert', 'Thanks NationalGallery amazing job explaining paintings people visual impairment… https //t.co/PjSAS8ukby', \"BMAGcurators NationalGallery Yes It 's hard believe ernard Berenson disparaged Reni\", 'NationalGallery The cropped image timeline looks ike something entirely different anyone else see', 'After 29 yrs Cézanne painting leave UK unless funds raised FitzMuseum_K via an_artnews http //t.co/VjDNl3XU7C http //t.co/0frSDQ5LHN', 'MrStuchbery FrancesBarker britishmuseum Oh How', \"It 's one days ... NaionalGallery sorefeet http //t.co/5cwgqIoGbZ\", \"appendixjourna MartinPribble FitzMuseum_UK So Swiss Army knife really Roman army knife 'm going engrave SPQR mine\", 'MrStuchbery britishmueum veteran priest could probably whip heart 30 seconds ... ❤️🔪😱', 'Crumbs NMMGreenwich wit Dudley britishmuseum posting Henry VIII feel bit threatened Museum tweets Catholic today', 'Fantastic afternoon exploring britishmuseum http //t.co/LAZvL5bRgu', 'Ba times National Gallery Stop privatisation services NationalGallery https //t.co/ypfYtLhYus via 38_degrees', 'Independent image like thanks highlighting TARA_AFRICA amp britishmuseum africanrockart work http //t.co/36V6SzpUzk', \"tiffanyjenkins Had show curated _TheWhiechapel… Was n't painted newspaper image two days landed\", 'britishmuseum thehistoryguy Gosh periscope definitely trend High profile people using ot even tried yet', 'britishmuseum thehistoryguy Gosh periscope definitely trend High profile people usin even tried yet', 'findsorguk britishmuseum Many thanks', 'Distance makes heart grow fonder butalready heartbroken kettlesyard shutting yr refurb 21Jun go now❤️ http //t.co/7HMmPRcJtz', \"treat Tuesday afternoon Visiting IndigenousAustralia britishmuseum 'Enduring civilisation senses word\", 'Construction underway Tate_StIves Exciting new cultural community potential hope helps finances http //t.co/rcAR0D861Z cladglobal', 'britishmuseum Omg looks totally like Al Pacino http //t.co/jHgsdUsFCn shriftart', 'Being good hunting pays King kisses Tristram reward britishmuseum pride Pride2015 PrideinLondon http //t.co/rvUzN5vnpG', 'britishmuseum thehistoryguy shame idiots post ude comments throughout', 'britishmuseum hmmmm ... eapot', \"britishmuseum AYDSMA two ... would nevr thought 're\", 'Looking forward workshop britishmuseum working older ppl exploring diversity amp sustainable partnerships agefriendlymuseums', 'NConcostrina britishmuseum Charles_XII The teeth taken corpses battlefield used dentures fo rest century😁', 'young friend drawn us great pic kettlesyard inside new archiveshub pencil CastleHill15 http //t.co/kAxZ2Vi2c8', 'AskTheGallery Dr Penny Will re-enter negotiations staff strike 35 days NationalGallery NNotForSale', 'Now Parliament wistles banner leaflets confiscated managers NationalGallery time noprivatisation reinstatecandy', 'Found yesterday BritishMuseum desperately needs info exhibit though Pillar Emperor Ashoka http //.co/0XtD8ly3nX', 'Tate_StIves BobandRoberta angry artists proile speaking foundationcourses http //t.co/0Jqrql7vfK', 'Looking forward Pollock show opening tateliverpool tonight Looks like incredible show JacksonPollock blindspots', 'hmassyberesford NationalGallery thank coming Helen- lovely meet glad enjoyed', \"tateliverpool 'm trying book members curator talk guided tour pollock links n't work Are sold\", \"SassyClyde We wo n't stop til britishmuseum dumps BP Fill feedback form 're amp watch space http //t.co/o2JlUnGi1y\", \"tiffanyjenkins Had show curated _TheWhitechapel… Was n't painted newspaper image two days anded\", 'told tate britishmuseum NPGLondon amp RoyalOperaHouse DropBP Sponsorship Join http //t.co/gmbtUDKh6m', \"ritishmuseum HollowCrownFans n't look like man 30\", 'NationalGallery greekisinart ART=FREEDOM Visited gallery unable see impressionist paintings belongin collection.When', 'NationalGallery What message oil sponsorship arts send ngotiating climate deal Paris year AsktheGallery', \"BMAGcurators NationalGallery Yes It 's hard believe Bernar Berenson disparaged Reni\", \"summery painting forget 's pouring right Bathers Asnieres Seurat art NationalGallery http //t.co/dVoB0Gn6am\", 'The las selfie britishmuseum mariarodrirubin http //t.co/OL73O0QD4q', 'britishmuseum How British double line formation squad fire work surely th entire battalion one long line deep', 'blaircurator alex_neilson Tate_StIves Hang building hasonly renovated great expense ...', 'leCMN GoldUnveiled museiincomune tokikodasa MuseeLouvre museecarnavalet MuseumWeek Museo_MADRE britishmuseum interesting', 'britishmuseum How British double line formation ad squad fire work surely entire battalion one long line deep', 'Great sound installation James Richard incl Frances Bacon _TheWhitechapel UOGFINEART trumanbrewery FreeRangeShows degreeshow', \"BBC_Culture PlymouthMuseum Oh dear Dame Laura night Surely 'The Beach list\", 'nationalgallery AskTheGallery Why yo pay brilliant staff poorly', 'britishmuseu Is holding orange Someone better watch', \"NationalGallery PGLondon pcs_union wo n't seeing Goya After 50 years pictures NGL pariah list Candy reinstated\", 'Strikers Shell -sponsored NationalGallery protest privatisation kayaktivists ShellNo NaomiAKlein http //t.co/CW6yEw8Mo', 'It would great see material approached using queer thory foxvertebrae britishmuseum', \"The Place 's subtle dance piece performedwith AgeUK britishmuseum Defining Beauty exhibition n't really work bring back bacchantes\", 'MrStuchbery britishmuseum veteran priest could probably whip heart inabout 30 seconds ... ❤️🔪😱', 'Strikers Shell -sponsored NationalGallery protest privatisation kyaktivists ShellNo revbillytalen http //t.co/kLkbccLnFo', 'britishmuseum How British double line formation squad fire work surely entire batalion one long line deep', 'britishmuseum Hi tryig phone two days one ever picks phones', 'britishmuseum Wish yo could extend exhibition London August ...', 'AskTheGallery Dr Penny Will re-enter negotiations staff strke 35 days NationalGallery NGNotForSale', 'Soliarity greenpeace kayaktivists We fighting Shell amp NationalGallery want privatise 400 workers ShellNo noprivatisation', 'Ophiolatrist britishmuseum The stupid French prick crushd Russian Imperial ancestors Waterloo200', 'brtishmuseum Moonbootica Wow old 32', 'tarbosaur profjoecain many thanks sad think britishmuseum hidden away Enlightment gallery demoni mermaid', 'Crumbs NMMGreenwich Dudley britishmuseum posting Henry VIII feel bit threatened Museum tweets Caholic today', 'NationalGallery AskTheGallery We ar boycotting National Gallery reinstate Candy Unwin stop privatisation ...', 'Tate_StIves BobandRoberta angry artists rofile speaking foundationcourses http //t.co/0Jqrql7vfK', 'sparkling show Turner Singer Sargent Cézanne watercolours FitzMuseum_UK Cambridge http //t.co/MO5R7GxEDi http //t.co/5FtpLrZKpP', 'blairurator alex_neilson Tate_StIves Hang building renovated great expense ...', 'NationalGallery greekisinart ART=FREEDO Visited gallery unable see impressionist paintings belonging collection.When', 'Unfortunately transition narrative parts stories handwaved away commentary foxvertebre britishmuseum', 'NationalGallery AktheGallery Why treating staff badly', 'jubo85 NationalGallery Hahaha When showed woman eavesdropped saw go spot right', 'NationalGallery The cropped image timeline lookslike something entirely different anyone else see', \"BBC_Culture PlymouthMuseum Oh dear Dame Laura Knight Surely 'The Bach list\", 'Amazing 😍🎨 NationalGallery http //t.co/cOSlvmCHLh', 'Nationalallery AsktheGallery Why treating staff badly', 'askthegallery What take pride Hanging classic artwork hanging staff dr NationalGallery', 'After 29 yrs Cézanne painting leave UK unless funds raise FitzMuseum_UK via an_artnews http //t.co/VjDNl3XU7C http //t.co/0frSDQ5LHN', \"Off NationalGallery 30 stockleyacademy KS3 tomorrow hope n't forget bring water pack lunch hotWeather\", 'MrStuchbery FrncesBarker britishmuseum Oh How', \"NationalGallery That fascinating bit art history Thanks LOVE Albrecht Durer 's art Gloria Poole RN artist Missouri\", 'Stop privatisation services NationalGallery Sign petition https //t.co/WDFjCKMnIt via 38_egrees', 'Tate tateliverpool Got train ticket booked already cantwait', 'FitzMuseum_UKwell never knew ...', 'NationalGallery AskTheGallery Will recommend trustees end oil sponsorship amp making ppl complicit climate change see public art', 'EncounterTT thank following back Great meet RAMMuseum learning DefeatingDepression', 'donottouch britishmuseum real one promise http //t.co/FCZSLOixQr', 'tarbosaur profjoecain many thanks sad think britishmuseum hidden aay Enlightment gallery demonic mermaid', \"britishmuseum That 's cool\", 'britishmuseum wish something bankruptcy anciet world', 'askthegallery What take pride Haging classic artwork hanging staff dry NationalGallery', 'Gold finger ring/armillary sphere German 17thc britishmusem Curious know worn finger http //t.co/N4aMqeD8Ad', 'JHGHendriks britishmuseum aroberts_andrew estimates range 15000 20000 horss killed/severly wounded', 'HuffPostGreen help us amp RT Shell sponsors NationalGallery work amp want privatiseus ShellNo https //t.co/mRw2vTAhsi', \"paulwkennedy Streeton 's 'The National Game'1889 cigar box lid NationalGallery ArtGalleryofNSW joselechiguero http //t.co/v5luU1ZdCy\", 'britishmuseum upset invigilator Very rude arrogant enforcing drinking rule', 'Solidarity greenpeae kayaktivists We fighting Shell amp NationalGallery want privatise 400 workers ShellNo noprivatisation', 'NationalGallery The cropped imag timeline looks like something entirely different anyone else see', 'britishmuseum upset invigilators Very rude arrogant enforcing drinking rul', 'britishmuseum upset invigilators Very rude arrogat enforcing drinking rule', 'britishmuseum JSuhermanBailey seems quite clear cop Unfair take one word amp apply entire thing', \"Had chat guide NationalGallery baby Jesus big paintings We decided 's Jesus King Of The Babies\", 'Cambsene CamUnivMuseums polarmuseum surely statue wd cold Is originator saying freezing brass balls', 'confident NationalGallery woul answer critics AskTheGallery ignore We visitors tax payers', 'britishmuseum holding orange Someone better watch', 'tarbosaur profoecain many thanks sad think britishmuseum hidden away Enlightment gallery demonic mermaid', \"Perfect weather weekend 's Armed Forces Day plymouth http //t.co/1VadEiiW3j http //t.co/m909A2rIVF PlymouthMuseum PlymHoe\", 'It would great see thatmaterial approached using queer theory foxvertebrae britishmuseum', \"NationalGallery Londoncraftweek weird shoud say 've barberinstitute took pic http //t.co/P1iQcqQ8nY\", 'NConcostrina britishmuseum Charles_XII The teeth taken corpses battlefeld used dentures rest century😁', 'Take AWalkontheWildSide today visit art gallery FREE admission prints britishmuseum much VisitKent', 'Now Parliament whistles banner leaflets confiscated managers NationalGallery time noprvatisation reinstatecandy', 'tateliverpool Look great fun today Thank Deena http //t.co/qKGEY3BvmC', 'Since included would nice see fet like concessionary nod gt foxvertebrae britishmuseum', 'Workshop britishmuseum today Manchu Money great Money stink Thank HelenWangLondon http //t.co/RslFqwdb4a', 'Cambscene CamUnivMueums polarmuseum surely statue wd cold Is originator saying freezing brass balls', 'Enjoyed couple hours side British Museum britishmuseum lonelyplanet summer NotSoSunny… https //t.co/BHGoPi3c8T', 'britishmuseum neck collar The neck isso slender', 'NationalGallery InventingImpresionism strictly No Photo area shot museum shop instead http //t.co/k5JpZfY7b5', 'britishmuseum hehistoryguy Gosh periscope definitely trend High profile people using even tried yet', \"britishmueum HollowCrownFans n't look like man 30\", 'It would great see material approached sing queer theory foxvertebrae britishmuseum', \"tateliverpool Great stuff 'll ASAP :0\", 'View Estaque Cézanne atrisk exported FitzMuseum_UK unless buyer match £13m asking price http //t.co/F3qTEMqha7', 'Agreed rhiannonakelly Eat sandwiches britishmuseum daily inspiring surroundings Inspired rage day Whats nxt ReclamOurBard', \"BAGcurators NationalGallery Yes It 's hard believe Bernard Berenson disparaged Reni\", \"_TheWhitechapel `` Toward Parliament square dusk '' hope enjoy painting http //t.co/cjY46idGyJ http //t.co/ZKTDELAPkT\"]\n"
     ]
    }
   ],
   "source": [
    "## Pre-processing the text message\n",
    "\n",
    "message = []\n",
    "for i in range(len(text)):\n",
    "    s = word_tokenize(text[i])\n",
    "    temp = []  \n",
    "    for j in s:\n",
    "        if len(j) > 1 and j not in stop_words:  \n",
    "            temp.append(j)\n",
    "    t = ' '.join(temp)  \n",
    "    message.append(t)  \n",
    "\n",
    "print(message)"
   ]
  },
  {
   "cell_type": "code",
   "execution_count": 569,
   "id": "f8ea896f",
   "metadata": {},
   "outputs": [],
   "source": [
    "for i in range(len(train)):\n",
    "    train.loc[i,'Text'] = message[i]"
   ]
  },
  {
   "cell_type": "code",
   "execution_count": 570,
   "id": "e70c1f05",
   "metadata": {},
   "outputs": [
    {
     "data": {
      "text/html": [
       "<div>\n",
       "<style scoped>\n",
       "    .dataframe tbody tr th:only-of-type {\n",
       "        vertical-align: middle;\n",
       "    }\n",
       "\n",
       "    .dataframe tbody tr th {\n",
       "        vertical-align: top;\n",
       "    }\n",
       "\n",
       "    .dataframe thead th {\n",
       "        text-align: right;\n",
       "    }\n",
       "</style>\n",
       "<table border=\"1\" class=\"dataframe\">\n",
       "  <thead>\n",
       "    <tr style=\"text-align: right;\">\n",
       "      <th></th>\n",
       "      <th>ID</th>\n",
       "      <th>Text</th>\n",
       "      <th>Category</th>\n",
       "    </tr>\n",
       "  </thead>\n",
       "  <tbody>\n",
       "    <tr>\n",
       "      <th>0</th>\n",
       "      <td>969</td>\n",
       "      <td>JuliaBradbury SimonCalder walsop HodderPRIBA _...</td>\n",
       "      <td>0</td>\n",
       "    </tr>\n",
       "    <tr>\n",
       "      <th>1</th>\n",
       "      <td>241</td>\n",
       "      <td>https //t.co/R2tO79Easn .An house solutio prop...</td>\n",
       "      <td>1</td>\n",
       "    </tr>\n",
       "    <tr>\n",
       "      <th>2</th>\n",
       "      <td>820</td>\n",
       "      <td>britshmuseum thehistoryguy Gosh periscope defi...</td>\n",
       "      <td>2</td>\n",
       "    </tr>\n",
       "    <tr>\n",
       "      <th>3</th>\n",
       "      <td>693</td>\n",
       "      <td>Ophiolatrist britishmuseum The stupid French p...</td>\n",
       "      <td>1</td>\n",
       "    </tr>\n",
       "  </tbody>\n",
       "</table>\n",
       "</div>"
      ],
      "text/plain": [
       "    ID                                               Text  Category\n",
       "0  969  JuliaBradbury SimonCalder walsop HodderPRIBA _...         0\n",
       "1  241  https //t.co/R2tO79Easn .An house solutio prop...         1\n",
       "2  820  britshmuseum thehistoryguy Gosh periscope defi...         2\n",
       "3  693  Ophiolatrist britishmuseum The stupid French p...         1"
      ]
     },
     "execution_count": 570,
     "metadata": {},
     "output_type": "execute_result"
    }
   ],
   "source": [
    "train.head(4)"
   ]
  },
  {
   "cell_type": "code",
   "execution_count": 571,
   "id": "61734e0f",
   "metadata": {},
   "outputs": [
    {
     "data": {
      "text/plain": [
       "(1600, 3)"
      ]
     },
     "execution_count": 571,
     "metadata": {},
     "output_type": "execute_result"
    }
   ],
   "source": [
    "train.shape"
   ]
  },
  {
   "cell_type": "code",
   "execution_count": 572,
   "id": "7389b4e8",
   "metadata": {},
   "outputs": [],
   "source": [
    "text = train['Text']"
   ]
  },
  {
   "cell_type": "code",
   "execution_count": 573,
   "id": "25d9d82e",
   "metadata": {},
   "outputs": [
    {
     "data": {
      "text/plain": [
       "0       JuliaBradbury SimonCalder walsop HodderPRIBA _...\n",
       "1       https //t.co/R2tO79Easn .An house solutio prop...\n",
       "2       britshmuseum thehistoryguy Gosh periscope defi...\n",
       "3       Ophiolatrist britishmuseum The stupid French p...\n",
       "4       SassyClde We wo n't stop til britishmuseum dum...\n",
       "                              ...                        \n",
       "1595                tateliverpool Great stuff 'll ASAP :0\n",
       "1596    View Estaque Cézanne atrisk exported FitzMuseu...\n",
       "1597    Agreed rhiannonakelly Eat sandwiches britishmu...\n",
       "1598    BAGcurators NationalGallery Yes It 's hard bel...\n",
       "1599    _TheWhitechapel `` Toward Parliament square du...\n",
       "Name: Text, Length: 1600, dtype: object"
      ]
     },
     "execution_count": 573,
     "metadata": {},
     "output_type": "execute_result"
    }
   ],
   "source": [
    "text"
   ]
  },
  {
   "cell_type": "markdown",
   "id": "f73a1179",
   "metadata": {},
   "source": [
    "## Doing Lemmitization"
   ]
  },
  {
   "cell_type": "code",
   "execution_count": 574,
   "id": "a67641a2",
   "metadata": {},
   "outputs": [],
   "source": [
    "import re\n",
    "from nltk.stem import WordNetLemmatizer"
   ]
  },
  {
   "cell_type": "code",
   "execution_count": 575,
   "id": "941ca954",
   "metadata": {},
   "outputs": [],
   "source": [
    "lemma  = WordNetLemmatizer()"
   ]
  },
  {
   "cell_type": "code",
   "execution_count": 576,
   "id": "ba035d73",
   "metadata": {},
   "outputs": [],
   "source": [
    "corpus = []\n",
    "for i in range(len(text)):\n",
    "    temp = re.sub('[^a-zA-Z]',' ',text[i])\n",
    "    temp = temp.lower()\n",
    "    temp = temp.split()\n",
    "    temp = [lemma.lemmatize(p) for p in temp if p not in set(stopwords.words('english'))]\n",
    "    temp = ' '.join(temp)\n",
    "    corpus.append(temp)"
   ]
  },
  {
   "cell_type": "code",
   "execution_count": 577,
   "id": "5adf28a5",
   "metadata": {},
   "outputs": [],
   "source": [
    "for i in range(len(train)):\n",
    "    train.loc[i,'Text'] = corpus[i]"
   ]
  },
  {
   "cell_type": "code",
   "execution_count": 578,
   "id": "8e7f1e74",
   "metadata": {},
   "outputs": [
    {
     "data": {
      "text/html": [
       "<div>\n",
       "<style scoped>\n",
       "    .dataframe tbody tr th:only-of-type {\n",
       "        vertical-align: middle;\n",
       "    }\n",
       "\n",
       "    .dataframe tbody tr th {\n",
       "        vertical-align: top;\n",
       "    }\n",
       "\n",
       "    .dataframe thead th {\n",
       "        text-align: right;\n",
       "    }\n",
       "</style>\n",
       "<table border=\"1\" class=\"dataframe\">\n",
       "  <thead>\n",
       "    <tr style=\"text-align: right;\">\n",
       "      <th></th>\n",
       "      <th>ID</th>\n",
       "      <th>Text</th>\n",
       "      <th>Category</th>\n",
       "    </tr>\n",
       "  </thead>\n",
       "  <tbody>\n",
       "    <tr>\n",
       "      <th>0</th>\n",
       "      <td>969</td>\n",
       "      <td>juliabradbury simoncalder walsop hodderpriba t...</td>\n",
       "      <td>0</td>\n",
       "    </tr>\n",
       "    <tr>\n",
       "      <th>1</th>\n",
       "      <td>241</td>\n",
       "      <td>http co r easn house solutio proposed meet fle...</td>\n",
       "      <td>1</td>\n",
       "    </tr>\n",
       "    <tr>\n",
       "      <th>2</th>\n",
       "      <td>820</td>\n",
       "      <td>britshmuseum thehistoryguy gosh periscope defi...</td>\n",
       "      <td>2</td>\n",
       "    </tr>\n",
       "    <tr>\n",
       "      <th>3</th>\n",
       "      <td>693</td>\n",
       "      <td>ophiolatrist britishmuseum stupid french prick...</td>\n",
       "      <td>1</td>\n",
       "    </tr>\n",
       "  </tbody>\n",
       "</table>\n",
       "</div>"
      ],
      "text/plain": [
       "    ID                                               Text  Category\n",
       "0  969  juliabradbury simoncalder walsop hodderpriba t...         0\n",
       "1  241  http co r easn house solutio proposed meet fle...         1\n",
       "2  820  britshmuseum thehistoryguy gosh periscope defi...         2\n",
       "3  693  ophiolatrist britishmuseum stupid french prick...         1"
      ]
     },
     "execution_count": 578,
     "metadata": {},
     "output_type": "execute_result"
    }
   ],
   "source": [
    "train.head(4)"
   ]
  },
  {
   "cell_type": "code",
   "execution_count": 579,
   "id": "fc3f2ab2",
   "metadata": {},
   "outputs": [
    {
     "data": {
      "text/plain": [
       "(1600, 3)"
      ]
     },
     "execution_count": 579,
     "metadata": {},
     "output_type": "execute_result"
    }
   ],
   "source": [
    "train.shape"
   ]
  },
  {
   "cell_type": "code",
   "execution_count": null,
   "id": "d78b8d0f",
   "metadata": {},
   "outputs": [],
   "source": []
  },
  {
   "cell_type": "code",
   "execution_count": 580,
   "id": "9dccaa22",
   "metadata": {},
   "outputs": [
    {
     "data": {
      "text/plain": [
       "(400, 2)"
      ]
     },
     "execution_count": 580,
     "metadata": {},
     "output_type": "execute_result"
    }
   ],
   "source": [
    "test.shape"
   ]
  },
  {
   "cell_type": "code",
   "execution_count": null,
   "id": "45c75b4e",
   "metadata": {},
   "outputs": [],
   "source": []
  },
  {
   "cell_type": "code",
   "execution_count": null,
   "id": "dcaad156",
   "metadata": {},
   "outputs": [],
   "source": []
  },
  {
   "cell_type": "code",
   "execution_count": null,
   "id": "5040f4c5",
   "metadata": {},
   "outputs": [],
   "source": []
  },
  {
   "cell_type": "markdown",
   "id": "f86f0576",
   "metadata": {},
   "source": [
    "## Bag of words (bow)"
   ]
  },
  {
   "cell_type": "code",
   "execution_count": 486,
   "id": "f042547c",
   "metadata": {},
   "outputs": [],
   "source": [
    "## To convert from text to vector"
   ]
  },
  {
   "cell_type": "code",
   "execution_count": 487,
   "id": "b812ee3c",
   "metadata": {},
   "outputs": [],
   "source": [
    "from sklearn.feature_extraction.text import CountVectorizer"
   ]
  },
  {
   "cell_type": "code",
   "execution_count": 488,
   "id": "2fdddc64",
   "metadata": {},
   "outputs": [],
   "source": [
    "cv = CountVectorizer(max_features=500)\n",
    "bow_x = cv.fit_transform(train['Text']).toarray()"
   ]
  },
  {
   "cell_type": "code",
   "execution_count": 489,
   "id": "67810278",
   "metadata": {},
   "outputs": [
    {
     "data": {
      "text/plain": [
       "array([[0, 0, 0, ..., 0, 0, 0],\n",
       "       [0, 0, 0, ..., 0, 0, 0],\n",
       "       [0, 0, 0, ..., 0, 0, 0],\n",
       "       ...,\n",
       "       [0, 0, 0, ..., 0, 0, 0],\n",
       "       [0, 0, 0, ..., 0, 0, 0],\n",
       "       [0, 0, 0, ..., 0, 0, 0]], dtype=int64)"
      ]
     },
     "execution_count": 489,
     "metadata": {},
     "output_type": "execute_result"
    }
   ],
   "source": [
    "bow_x"
   ]
  },
  {
   "cell_type": "code",
   "execution_count": 490,
   "id": "f6f9b613",
   "metadata": {},
   "outputs": [
    {
     "data": {
      "text/plain": [
       "(1600, 500)"
      ]
     },
     "execution_count": 490,
     "metadata": {},
     "output_type": "execute_result"
    }
   ],
   "source": [
    "bow_x.shape"
   ]
  },
  {
   "cell_type": "code",
   "execution_count": 491,
   "id": "d4ccc648",
   "metadata": {},
   "outputs": [],
   "source": [
    "# I have 1600 sentence and each contain 1000 unique words"
   ]
  },
  {
   "cell_type": "code",
   "execution_count": 492,
   "id": "7fa70857",
   "metadata": {},
   "outputs": [],
   "source": [
    "train_df = pd.DataFrame(bow_x)"
   ]
  },
  {
   "cell_type": "code",
   "execution_count": 493,
   "id": "711a478e",
   "metadata": {},
   "outputs": [
    {
     "data": {
      "text/html": [
       "<div>\n",
       "<style scoped>\n",
       "    .dataframe tbody tr th:only-of-type {\n",
       "        vertical-align: middle;\n",
       "    }\n",
       "\n",
       "    .dataframe tbody tr th {\n",
       "        vertical-align: top;\n",
       "    }\n",
       "\n",
       "    .dataframe thead th {\n",
       "        text-align: right;\n",
       "    }\n",
       "</style>\n",
       "<table border=\"1\" class=\"dataframe\">\n",
       "  <thead>\n",
       "    <tr style=\"text-align: right;\">\n",
       "      <th></th>\n",
       "      <th>0</th>\n",
       "      <th>1</th>\n",
       "      <th>2</th>\n",
       "      <th>3</th>\n",
       "      <th>4</th>\n",
       "      <th>5</th>\n",
       "      <th>6</th>\n",
       "      <th>7</th>\n",
       "      <th>8</th>\n",
       "      <th>9</th>\n",
       "      <th>...</th>\n",
       "      <th>490</th>\n",
       "      <th>491</th>\n",
       "      <th>492</th>\n",
       "      <th>493</th>\n",
       "      <th>494</th>\n",
       "      <th>495</th>\n",
       "      <th>496</th>\n",
       "      <th>497</th>\n",
       "      <th>498</th>\n",
       "      <th>499</th>\n",
       "    </tr>\n",
       "  </thead>\n",
       "  <tbody>\n",
       "    <tr>\n",
       "      <th>0</th>\n",
       "      <td>0</td>\n",
       "      <td>0</td>\n",
       "      <td>0</td>\n",
       "      <td>0</td>\n",
       "      <td>0</td>\n",
       "      <td>0</td>\n",
       "      <td>0</td>\n",
       "      <td>0</td>\n",
       "      <td>0</td>\n",
       "      <td>0</td>\n",
       "      <td>...</td>\n",
       "      <td>0</td>\n",
       "      <td>0</td>\n",
       "      <td>0</td>\n",
       "      <td>0</td>\n",
       "      <td>0</td>\n",
       "      <td>0</td>\n",
       "      <td>0</td>\n",
       "      <td>0</td>\n",
       "      <td>0</td>\n",
       "      <td>0</td>\n",
       "    </tr>\n",
       "    <tr>\n",
       "      <th>1</th>\n",
       "      <td>0</td>\n",
       "      <td>0</td>\n",
       "      <td>0</td>\n",
       "      <td>0</td>\n",
       "      <td>0</td>\n",
       "      <td>0</td>\n",
       "      <td>0</td>\n",
       "      <td>0</td>\n",
       "      <td>0</td>\n",
       "      <td>0</td>\n",
       "      <td>...</td>\n",
       "      <td>0</td>\n",
       "      <td>0</td>\n",
       "      <td>0</td>\n",
       "      <td>0</td>\n",
       "      <td>0</td>\n",
       "      <td>0</td>\n",
       "      <td>0</td>\n",
       "      <td>0</td>\n",
       "      <td>0</td>\n",
       "      <td>0</td>\n",
       "    </tr>\n",
       "    <tr>\n",
       "      <th>2</th>\n",
       "      <td>0</td>\n",
       "      <td>0</td>\n",
       "      <td>0</td>\n",
       "      <td>0</td>\n",
       "      <td>0</td>\n",
       "      <td>0</td>\n",
       "      <td>0</td>\n",
       "      <td>0</td>\n",
       "      <td>0</td>\n",
       "      <td>0</td>\n",
       "      <td>...</td>\n",
       "      <td>0</td>\n",
       "      <td>0</td>\n",
       "      <td>0</td>\n",
       "      <td>0</td>\n",
       "      <td>1</td>\n",
       "      <td>0</td>\n",
       "      <td>0</td>\n",
       "      <td>0</td>\n",
       "      <td>0</td>\n",
       "      <td>0</td>\n",
       "    </tr>\n",
       "    <tr>\n",
       "      <th>3</th>\n",
       "      <td>0</td>\n",
       "      <td>0</td>\n",
       "      <td>0</td>\n",
       "      <td>0</td>\n",
       "      <td>0</td>\n",
       "      <td>0</td>\n",
       "      <td>0</td>\n",
       "      <td>0</td>\n",
       "      <td>0</td>\n",
       "      <td>0</td>\n",
       "      <td>...</td>\n",
       "      <td>0</td>\n",
       "      <td>0</td>\n",
       "      <td>0</td>\n",
       "      <td>0</td>\n",
       "      <td>0</td>\n",
       "      <td>0</td>\n",
       "      <td>0</td>\n",
       "      <td>0</td>\n",
       "      <td>0</td>\n",
       "      <td>0</td>\n",
       "    </tr>\n",
       "    <tr>\n",
       "      <th>4</th>\n",
       "      <td>0</td>\n",
       "      <td>0</td>\n",
       "      <td>0</td>\n",
       "      <td>0</td>\n",
       "      <td>0</td>\n",
       "      <td>0</td>\n",
       "      <td>0</td>\n",
       "      <td>1</td>\n",
       "      <td>0</td>\n",
       "      <td>0</td>\n",
       "      <td>...</td>\n",
       "      <td>0</td>\n",
       "      <td>0</td>\n",
       "      <td>0</td>\n",
       "      <td>0</td>\n",
       "      <td>0</td>\n",
       "      <td>0</td>\n",
       "      <td>0</td>\n",
       "      <td>0</td>\n",
       "      <td>0</td>\n",
       "      <td>0</td>\n",
       "    </tr>\n",
       "  </tbody>\n",
       "</table>\n",
       "<p>5 rows × 500 columns</p>\n",
       "</div>"
      ],
      "text/plain": [
       "   0    1    2    3    4    5    6    7    8    9    ...  490  491  492  493  \\\n",
       "0    0    0    0    0    0    0    0    0    0    0  ...    0    0    0    0   \n",
       "1    0    0    0    0    0    0    0    0    0    0  ...    0    0    0    0   \n",
       "2    0    0    0    0    0    0    0    0    0    0  ...    0    0    0    0   \n",
       "3    0    0    0    0    0    0    0    0    0    0  ...    0    0    0    0   \n",
       "4    0    0    0    0    0    0    0    1    0    0  ...    0    0    0    0   \n",
       "\n",
       "   494  495  496  497  498  499  \n",
       "0    0    0    0    0    0    0  \n",
       "1    0    0    0    0    0    0  \n",
       "2    1    0    0    0    0    0  \n",
       "3    0    0    0    0    0    0  \n",
       "4    0    0    0    0    0    0  \n",
       "\n",
       "[5 rows x 500 columns]"
      ]
     },
     "execution_count": 493,
     "metadata": {},
     "output_type": "execute_result"
    }
   ],
   "source": [
    "train_df.head()"
   ]
  },
  {
   "cell_type": "code",
   "execution_count": 494,
   "id": "9b461fa6",
   "metadata": {},
   "outputs": [],
   "source": [
    "train_df['target'] = train['Category']"
   ]
  },
  {
   "cell_type": "code",
   "execution_count": 495,
   "id": "f6b74be8",
   "metadata": {},
   "outputs": [
    {
     "data": {
      "text/html": [
       "<div>\n",
       "<style scoped>\n",
       "    .dataframe tbody tr th:only-of-type {\n",
       "        vertical-align: middle;\n",
       "    }\n",
       "\n",
       "    .dataframe tbody tr th {\n",
       "        vertical-align: top;\n",
       "    }\n",
       "\n",
       "    .dataframe thead th {\n",
       "        text-align: right;\n",
       "    }\n",
       "</style>\n",
       "<table border=\"1\" class=\"dataframe\">\n",
       "  <thead>\n",
       "    <tr style=\"text-align: right;\">\n",
       "      <th></th>\n",
       "      <th>0</th>\n",
       "      <th>1</th>\n",
       "      <th>2</th>\n",
       "      <th>3</th>\n",
       "      <th>4</th>\n",
       "      <th>5</th>\n",
       "      <th>6</th>\n",
       "      <th>7</th>\n",
       "      <th>8</th>\n",
       "      <th>9</th>\n",
       "      <th>...</th>\n",
       "      <th>491</th>\n",
       "      <th>492</th>\n",
       "      <th>493</th>\n",
       "      <th>494</th>\n",
       "      <th>495</th>\n",
       "      <th>496</th>\n",
       "      <th>497</th>\n",
       "      <th>498</th>\n",
       "      <th>499</th>\n",
       "      <th>target</th>\n",
       "    </tr>\n",
       "  </thead>\n",
       "  <tbody>\n",
       "    <tr>\n",
       "      <th>0</th>\n",
       "      <td>0</td>\n",
       "      <td>0</td>\n",
       "      <td>0</td>\n",
       "      <td>0</td>\n",
       "      <td>0</td>\n",
       "      <td>0</td>\n",
       "      <td>0</td>\n",
       "      <td>0</td>\n",
       "      <td>0</td>\n",
       "      <td>0</td>\n",
       "      <td>...</td>\n",
       "      <td>0</td>\n",
       "      <td>0</td>\n",
       "      <td>0</td>\n",
       "      <td>0</td>\n",
       "      <td>0</td>\n",
       "      <td>0</td>\n",
       "      <td>0</td>\n",
       "      <td>0</td>\n",
       "      <td>0</td>\n",
       "      <td>0</td>\n",
       "    </tr>\n",
       "    <tr>\n",
       "      <th>1</th>\n",
       "      <td>0</td>\n",
       "      <td>0</td>\n",
       "      <td>0</td>\n",
       "      <td>0</td>\n",
       "      <td>0</td>\n",
       "      <td>0</td>\n",
       "      <td>0</td>\n",
       "      <td>0</td>\n",
       "      <td>0</td>\n",
       "      <td>0</td>\n",
       "      <td>...</td>\n",
       "      <td>0</td>\n",
       "      <td>0</td>\n",
       "      <td>0</td>\n",
       "      <td>0</td>\n",
       "      <td>0</td>\n",
       "      <td>0</td>\n",
       "      <td>0</td>\n",
       "      <td>0</td>\n",
       "      <td>0</td>\n",
       "      <td>1</td>\n",
       "    </tr>\n",
       "    <tr>\n",
       "      <th>2</th>\n",
       "      <td>0</td>\n",
       "      <td>0</td>\n",
       "      <td>0</td>\n",
       "      <td>0</td>\n",
       "      <td>0</td>\n",
       "      <td>0</td>\n",
       "      <td>0</td>\n",
       "      <td>0</td>\n",
       "      <td>0</td>\n",
       "      <td>0</td>\n",
       "      <td>...</td>\n",
       "      <td>0</td>\n",
       "      <td>0</td>\n",
       "      <td>0</td>\n",
       "      <td>1</td>\n",
       "      <td>0</td>\n",
       "      <td>0</td>\n",
       "      <td>0</td>\n",
       "      <td>0</td>\n",
       "      <td>0</td>\n",
       "      <td>2</td>\n",
       "    </tr>\n",
       "    <tr>\n",
       "      <th>3</th>\n",
       "      <td>0</td>\n",
       "      <td>0</td>\n",
       "      <td>0</td>\n",
       "      <td>0</td>\n",
       "      <td>0</td>\n",
       "      <td>0</td>\n",
       "      <td>0</td>\n",
       "      <td>0</td>\n",
       "      <td>0</td>\n",
       "      <td>0</td>\n",
       "      <td>...</td>\n",
       "      <td>0</td>\n",
       "      <td>0</td>\n",
       "      <td>0</td>\n",
       "      <td>0</td>\n",
       "      <td>0</td>\n",
       "      <td>0</td>\n",
       "      <td>0</td>\n",
       "      <td>0</td>\n",
       "      <td>0</td>\n",
       "      <td>1</td>\n",
       "    </tr>\n",
       "    <tr>\n",
       "      <th>4</th>\n",
       "      <td>0</td>\n",
       "      <td>0</td>\n",
       "      <td>0</td>\n",
       "      <td>0</td>\n",
       "      <td>0</td>\n",
       "      <td>0</td>\n",
       "      <td>0</td>\n",
       "      <td>1</td>\n",
       "      <td>0</td>\n",
       "      <td>0</td>\n",
       "      <td>...</td>\n",
       "      <td>0</td>\n",
       "      <td>0</td>\n",
       "      <td>0</td>\n",
       "      <td>0</td>\n",
       "      <td>0</td>\n",
       "      <td>0</td>\n",
       "      <td>0</td>\n",
       "      <td>0</td>\n",
       "      <td>0</td>\n",
       "      <td>1</td>\n",
       "    </tr>\n",
       "  </tbody>\n",
       "</table>\n",
       "<p>5 rows × 501 columns</p>\n",
       "</div>"
      ],
      "text/plain": [
       "   0  1  2  3  4  5  6  7  8  9  ...  491  492  493  494  495  496  497  498  \\\n",
       "0  0  0  0  0  0  0  0  0  0  0  ...    0    0    0    0    0    0    0    0   \n",
       "1  0  0  0  0  0  0  0  0  0  0  ...    0    0    0    0    0    0    0    0   \n",
       "2  0  0  0  0  0  0  0  0  0  0  ...    0    0    0    1    0    0    0    0   \n",
       "3  0  0  0  0  0  0  0  0  0  0  ...    0    0    0    0    0    0    0    0   \n",
       "4  0  0  0  0  0  0  0  1  0  0  ...    0    0    0    0    0    0    0    0   \n",
       "\n",
       "   499  target  \n",
       "0    0       0  \n",
       "1    0       1  \n",
       "2    0       2  \n",
       "3    0       1  \n",
       "4    0       1  \n",
       "\n",
       "[5 rows x 501 columns]"
      ]
     },
     "execution_count": 495,
     "metadata": {},
     "output_type": "execute_result"
    }
   ],
   "source": [
    "train_df.head()"
   ]
  },
  {
   "cell_type": "code",
   "execution_count": null,
   "id": "583dcec4",
   "metadata": {},
   "outputs": [],
   "source": []
  },
  {
   "cell_type": "markdown",
   "id": "692e2dbe",
   "metadata": {},
   "source": [
    "## Train Test Split"
   ]
  },
  {
   "cell_type": "code",
   "execution_count": 496,
   "id": "f6034f06",
   "metadata": {},
   "outputs": [],
   "source": [
    "from sklearn.model_selection import train_test_split"
   ]
  },
  {
   "cell_type": "code",
   "execution_count": 497,
   "id": "9c38242e",
   "metadata": {},
   "outputs": [],
   "source": [
    "x = train_df.iloc[:,:-1]"
   ]
  },
  {
   "cell_type": "code",
   "execution_count": 498,
   "id": "390dff21",
   "metadata": {},
   "outputs": [
    {
     "data": {
      "text/html": [
       "<div>\n",
       "<style scoped>\n",
       "    .dataframe tbody tr th:only-of-type {\n",
       "        vertical-align: middle;\n",
       "    }\n",
       "\n",
       "    .dataframe tbody tr th {\n",
       "        vertical-align: top;\n",
       "    }\n",
       "\n",
       "    .dataframe thead th {\n",
       "        text-align: right;\n",
       "    }\n",
       "</style>\n",
       "<table border=\"1\" class=\"dataframe\">\n",
       "  <thead>\n",
       "    <tr style=\"text-align: right;\">\n",
       "      <th></th>\n",
       "      <th>0</th>\n",
       "      <th>1</th>\n",
       "      <th>2</th>\n",
       "      <th>3</th>\n",
       "      <th>4</th>\n",
       "      <th>5</th>\n",
       "      <th>6</th>\n",
       "      <th>7</th>\n",
       "      <th>8</th>\n",
       "      <th>9</th>\n",
       "      <th>...</th>\n",
       "      <th>490</th>\n",
       "      <th>491</th>\n",
       "      <th>492</th>\n",
       "      <th>493</th>\n",
       "      <th>494</th>\n",
       "      <th>495</th>\n",
       "      <th>496</th>\n",
       "      <th>497</th>\n",
       "      <th>498</th>\n",
       "      <th>499</th>\n",
       "    </tr>\n",
       "  </thead>\n",
       "  <tbody>\n",
       "    <tr>\n",
       "      <th>0</th>\n",
       "      <td>0</td>\n",
       "      <td>0</td>\n",
       "      <td>0</td>\n",
       "      <td>0</td>\n",
       "      <td>0</td>\n",
       "      <td>0</td>\n",
       "      <td>0</td>\n",
       "      <td>0</td>\n",
       "      <td>0</td>\n",
       "      <td>0</td>\n",
       "      <td>...</td>\n",
       "      <td>0</td>\n",
       "      <td>0</td>\n",
       "      <td>0</td>\n",
       "      <td>0</td>\n",
       "      <td>0</td>\n",
       "      <td>0</td>\n",
       "      <td>0</td>\n",
       "      <td>0</td>\n",
       "      <td>0</td>\n",
       "      <td>0</td>\n",
       "    </tr>\n",
       "    <tr>\n",
       "      <th>1</th>\n",
       "      <td>0</td>\n",
       "      <td>0</td>\n",
       "      <td>0</td>\n",
       "      <td>0</td>\n",
       "      <td>0</td>\n",
       "      <td>0</td>\n",
       "      <td>0</td>\n",
       "      <td>0</td>\n",
       "      <td>0</td>\n",
       "      <td>0</td>\n",
       "      <td>...</td>\n",
       "      <td>0</td>\n",
       "      <td>0</td>\n",
       "      <td>0</td>\n",
       "      <td>0</td>\n",
       "      <td>0</td>\n",
       "      <td>0</td>\n",
       "      <td>0</td>\n",
       "      <td>0</td>\n",
       "      <td>0</td>\n",
       "      <td>0</td>\n",
       "    </tr>\n",
       "    <tr>\n",
       "      <th>2</th>\n",
       "      <td>0</td>\n",
       "      <td>0</td>\n",
       "      <td>0</td>\n",
       "      <td>0</td>\n",
       "      <td>0</td>\n",
       "      <td>0</td>\n",
       "      <td>0</td>\n",
       "      <td>0</td>\n",
       "      <td>0</td>\n",
       "      <td>0</td>\n",
       "      <td>...</td>\n",
       "      <td>0</td>\n",
       "      <td>0</td>\n",
       "      <td>0</td>\n",
       "      <td>0</td>\n",
       "      <td>1</td>\n",
       "      <td>0</td>\n",
       "      <td>0</td>\n",
       "      <td>0</td>\n",
       "      <td>0</td>\n",
       "      <td>0</td>\n",
       "    </tr>\n",
       "    <tr>\n",
       "      <th>3</th>\n",
       "      <td>0</td>\n",
       "      <td>0</td>\n",
       "      <td>0</td>\n",
       "      <td>0</td>\n",
       "      <td>0</td>\n",
       "      <td>0</td>\n",
       "      <td>0</td>\n",
       "      <td>0</td>\n",
       "      <td>0</td>\n",
       "      <td>0</td>\n",
       "      <td>...</td>\n",
       "      <td>0</td>\n",
       "      <td>0</td>\n",
       "      <td>0</td>\n",
       "      <td>0</td>\n",
       "      <td>0</td>\n",
       "      <td>0</td>\n",
       "      <td>0</td>\n",
       "      <td>0</td>\n",
       "      <td>0</td>\n",
       "      <td>0</td>\n",
       "    </tr>\n",
       "    <tr>\n",
       "      <th>4</th>\n",
       "      <td>0</td>\n",
       "      <td>0</td>\n",
       "      <td>0</td>\n",
       "      <td>0</td>\n",
       "      <td>0</td>\n",
       "      <td>0</td>\n",
       "      <td>0</td>\n",
       "      <td>1</td>\n",
       "      <td>0</td>\n",
       "      <td>0</td>\n",
       "      <td>...</td>\n",
       "      <td>0</td>\n",
       "      <td>0</td>\n",
       "      <td>0</td>\n",
       "      <td>0</td>\n",
       "      <td>0</td>\n",
       "      <td>0</td>\n",
       "      <td>0</td>\n",
       "      <td>0</td>\n",
       "      <td>0</td>\n",
       "      <td>0</td>\n",
       "    </tr>\n",
       "  </tbody>\n",
       "</table>\n",
       "<p>5 rows × 500 columns</p>\n",
       "</div>"
      ],
      "text/plain": [
       "   0    1    2    3    4    5    6    7    8    9    ...  490  491  492  493  \\\n",
       "0    0    0    0    0    0    0    0    0    0    0  ...    0    0    0    0   \n",
       "1    0    0    0    0    0    0    0    0    0    0  ...    0    0    0    0   \n",
       "2    0    0    0    0    0    0    0    0    0    0  ...    0    0    0    0   \n",
       "3    0    0    0    0    0    0    0    0    0    0  ...    0    0    0    0   \n",
       "4    0    0    0    0    0    0    0    1    0    0  ...    0    0    0    0   \n",
       "\n",
       "   494  495  496  497  498  499  \n",
       "0    0    0    0    0    0    0  \n",
       "1    0    0    0    0    0    0  \n",
       "2    1    0    0    0    0    0  \n",
       "3    0    0    0    0    0    0  \n",
       "4    0    0    0    0    0    0  \n",
       "\n",
       "[5 rows x 500 columns]"
      ]
     },
     "execution_count": 498,
     "metadata": {},
     "output_type": "execute_result"
    }
   ],
   "source": [
    "x.head()"
   ]
  },
  {
   "cell_type": "code",
   "execution_count": 499,
   "id": "ffa841a5",
   "metadata": {},
   "outputs": [],
   "source": [
    "y = train_df.iloc[:,-1]"
   ]
  },
  {
   "cell_type": "code",
   "execution_count": 500,
   "id": "6c95f416",
   "metadata": {},
   "outputs": [
    {
     "data": {
      "text/plain": [
       "0    0\n",
       "1    1\n",
       "2    2\n",
       "3    1\n",
       "4    1\n",
       "Name: target, dtype: int64"
      ]
     },
     "execution_count": 500,
     "metadata": {},
     "output_type": "execute_result"
    }
   ],
   "source": [
    "y.head()"
   ]
  },
  {
   "cell_type": "code",
   "execution_count": 501,
   "id": "ce635356",
   "metadata": {},
   "outputs": [],
   "source": [
    "x_train , x_test , y_train , y_test = train_test_split(x , y , \n",
    "                                                       test_size=0.3 ,random_state= 108)"
   ]
  },
  {
   "cell_type": "code",
   "execution_count": 502,
   "id": "b990142d",
   "metadata": {},
   "outputs": [
    {
     "name": "stdout",
     "output_type": "stream",
     "text": [
      "(1120, 500)\n",
      "(480, 500)\n",
      "(1120,)\n",
      "(480,)\n"
     ]
    }
   ],
   "source": [
    "print(x_train.shape)\n",
    "print(x_test.shape)\n",
    "\n",
    "print(y_train.shape)\n",
    "print(y_test.shape)"
   ]
  },
  {
   "cell_type": "code",
   "execution_count": null,
   "id": "ddee4814",
   "metadata": {},
   "outputs": [],
   "source": []
  },
  {
   "cell_type": "code",
   "execution_count": 503,
   "id": "6f63227b",
   "metadata": {},
   "outputs": [],
   "source": [
    "## Budiling Model\n",
    "# pipeline package to merge NLP and Machine Learning together and get the output\n",
    "from sklearn.pipeline import Pipeline\n",
    "from xgboost import XGBClassifier"
   ]
  },
  {
   "cell_type": "code",
   "execution_count": 504,
   "id": "080ab57e",
   "metadata": {},
   "outputs": [],
   "source": [
    "xgb_classifier = Pipeline([\n",
    "                       ('Classifier',XGBClassifier())\n",
    "                      ])"
   ]
  },
  {
   "cell_type": "code",
   "execution_count": 505,
   "id": "4e8f02cb",
   "metadata": {},
   "outputs": [
    {
     "data": {
      "text/html": [
       "<style>#sk-container-id-8 {color: black;}#sk-container-id-8 pre{padding: 0;}#sk-container-id-8 div.sk-toggleable {background-color: white;}#sk-container-id-8 label.sk-toggleable__label {cursor: pointer;display: block;width: 100%;margin-bottom: 0;padding: 0.3em;box-sizing: border-box;text-align: center;}#sk-container-id-8 label.sk-toggleable__label-arrow:before {content: \"▸\";float: left;margin-right: 0.25em;color: #696969;}#sk-container-id-8 label.sk-toggleable__label-arrow:hover:before {color: black;}#sk-container-id-8 div.sk-estimator:hover label.sk-toggleable__label-arrow:before {color: black;}#sk-container-id-8 div.sk-toggleable__content {max-height: 0;max-width: 0;overflow: hidden;text-align: left;background-color: #f0f8ff;}#sk-container-id-8 div.sk-toggleable__content pre {margin: 0.2em;color: black;border-radius: 0.25em;background-color: #f0f8ff;}#sk-container-id-8 input.sk-toggleable__control:checked~div.sk-toggleable__content {max-height: 200px;max-width: 100%;overflow: auto;}#sk-container-id-8 input.sk-toggleable__control:checked~label.sk-toggleable__label-arrow:before {content: \"▾\";}#sk-container-id-8 div.sk-estimator input.sk-toggleable__control:checked~label.sk-toggleable__label {background-color: #d4ebff;}#sk-container-id-8 div.sk-label input.sk-toggleable__control:checked~label.sk-toggleable__label {background-color: #d4ebff;}#sk-container-id-8 input.sk-hidden--visually {border: 0;clip: rect(1px 1px 1px 1px);clip: rect(1px, 1px, 1px, 1px);height: 1px;margin: -1px;overflow: hidden;padding: 0;position: absolute;width: 1px;}#sk-container-id-8 div.sk-estimator {font-family: monospace;background-color: #f0f8ff;border: 1px dotted black;border-radius: 0.25em;box-sizing: border-box;margin-bottom: 0.5em;}#sk-container-id-8 div.sk-estimator:hover {background-color: #d4ebff;}#sk-container-id-8 div.sk-parallel-item::after {content: \"\";width: 100%;border-bottom: 1px solid gray;flex-grow: 1;}#sk-container-id-8 div.sk-label:hover label.sk-toggleable__label {background-color: #d4ebff;}#sk-container-id-8 div.sk-serial::before {content: \"\";position: absolute;border-left: 1px solid gray;box-sizing: border-box;top: 0;bottom: 0;left: 50%;z-index: 0;}#sk-container-id-8 div.sk-serial {display: flex;flex-direction: column;align-items: center;background-color: white;padding-right: 0.2em;padding-left: 0.2em;position: relative;}#sk-container-id-8 div.sk-item {position: relative;z-index: 1;}#sk-container-id-8 div.sk-parallel {display: flex;align-items: stretch;justify-content: center;background-color: white;position: relative;}#sk-container-id-8 div.sk-item::before, #sk-container-id-8 div.sk-parallel-item::before {content: \"\";position: absolute;border-left: 1px solid gray;box-sizing: border-box;top: 0;bottom: 0;left: 50%;z-index: -1;}#sk-container-id-8 div.sk-parallel-item {display: flex;flex-direction: column;z-index: 1;position: relative;background-color: white;}#sk-container-id-8 div.sk-parallel-item:first-child::after {align-self: flex-end;width: 50%;}#sk-container-id-8 div.sk-parallel-item:last-child::after {align-self: flex-start;width: 50%;}#sk-container-id-8 div.sk-parallel-item:only-child::after {width: 0;}#sk-container-id-8 div.sk-dashed-wrapped {border: 1px dashed gray;margin: 0 0.4em 0.5em 0.4em;box-sizing: border-box;padding-bottom: 0.4em;background-color: white;}#sk-container-id-8 div.sk-label label {font-family: monospace;font-weight: bold;display: inline-block;line-height: 1.2em;}#sk-container-id-8 div.sk-label-container {text-align: center;}#sk-container-id-8 div.sk-container {/* jupyter's `normalize.less` sets `[hidden] { display: none; }` but bootstrap.min.css set `[hidden] { display: none !important; }` so we also need the `!important` here to be able to override the default hidden behavior on the sphinx rendered scikit-learn.org. See: https://github.com/scikit-learn/scikit-learn/issues/21755 */display: inline-block !important;position: relative;}#sk-container-id-8 div.sk-text-repr-fallback {display: none;}</style><div id=\"sk-container-id-8\" class=\"sk-top-container\"><div class=\"sk-text-repr-fallback\"><pre>Pipeline(steps=[(&#x27;Classifier&#x27;,\n",
       "                 XGBClassifier(base_score=None, booster=None, callbacks=None,\n",
       "                               colsample_bylevel=None, colsample_bynode=None,\n",
       "                               colsample_bytree=None, device=None,\n",
       "                               early_stopping_rounds=None,\n",
       "                               enable_categorical=False, eval_metric=None,\n",
       "                               feature_types=None, gamma=None, grow_policy=None,\n",
       "                               importance_type=None,\n",
       "                               interaction_constraints=None, learning_rate=None,\n",
       "                               max_bin=None, max_cat_threshold=None,\n",
       "                               max_cat_to_onehot=None, max_delta_step=None,\n",
       "                               max_depth=None, max_leaves=None,\n",
       "                               min_child_weight=None, missing=nan,\n",
       "                               monotone_constraints=None, multi_strategy=None,\n",
       "                               n_estimators=None, n_jobs=None,\n",
       "                               num_parallel_tree=None,\n",
       "                               objective=&#x27;multi:softprob&#x27;, ...))])</pre><b>In a Jupyter environment, please rerun this cell to show the HTML representation or trust the notebook. <br />On GitHub, the HTML representation is unable to render, please try loading this page with nbviewer.org.</b></div><div class=\"sk-container\" hidden><div class=\"sk-item sk-dashed-wrapped\"><div class=\"sk-label-container\"><div class=\"sk-label sk-toggleable\"><input class=\"sk-toggleable__control sk-hidden--visually\" id=\"sk-estimator-id-15\" type=\"checkbox\" ><label for=\"sk-estimator-id-15\" class=\"sk-toggleable__label sk-toggleable__label-arrow\">Pipeline</label><div class=\"sk-toggleable__content\"><pre>Pipeline(steps=[(&#x27;Classifier&#x27;,\n",
       "                 XGBClassifier(base_score=None, booster=None, callbacks=None,\n",
       "                               colsample_bylevel=None, colsample_bynode=None,\n",
       "                               colsample_bytree=None, device=None,\n",
       "                               early_stopping_rounds=None,\n",
       "                               enable_categorical=False, eval_metric=None,\n",
       "                               feature_types=None, gamma=None, grow_policy=None,\n",
       "                               importance_type=None,\n",
       "                               interaction_constraints=None, learning_rate=None,\n",
       "                               max_bin=None, max_cat_threshold=None,\n",
       "                               max_cat_to_onehot=None, max_delta_step=None,\n",
       "                               max_depth=None, max_leaves=None,\n",
       "                               min_child_weight=None, missing=nan,\n",
       "                               monotone_constraints=None, multi_strategy=None,\n",
       "                               n_estimators=None, n_jobs=None,\n",
       "                               num_parallel_tree=None,\n",
       "                               objective=&#x27;multi:softprob&#x27;, ...))])</pre></div></div></div><div class=\"sk-serial\"><div class=\"sk-item\"><div class=\"sk-estimator sk-toggleable\"><input class=\"sk-toggleable__control sk-hidden--visually\" id=\"sk-estimator-id-16\" type=\"checkbox\" ><label for=\"sk-estimator-id-16\" class=\"sk-toggleable__label sk-toggleable__label-arrow\">XGBClassifier</label><div class=\"sk-toggleable__content\"><pre>XGBClassifier(base_score=None, booster=None, callbacks=None,\n",
       "              colsample_bylevel=None, colsample_bynode=None,\n",
       "              colsample_bytree=None, device=None, early_stopping_rounds=None,\n",
       "              enable_categorical=False, eval_metric=None, feature_types=None,\n",
       "              gamma=None, grow_policy=None, importance_type=None,\n",
       "              interaction_constraints=None, learning_rate=None, max_bin=None,\n",
       "              max_cat_threshold=None, max_cat_to_onehot=None,\n",
       "              max_delta_step=None, max_depth=None, max_leaves=None,\n",
       "              min_child_weight=None, missing=nan, monotone_constraints=None,\n",
       "              multi_strategy=None, n_estimators=None, n_jobs=None,\n",
       "              num_parallel_tree=None, objective=&#x27;multi:softprob&#x27;, ...)</pre></div></div></div></div></div></div></div>"
      ],
      "text/plain": [
       "Pipeline(steps=[('Classifier',\n",
       "                 XGBClassifier(base_score=None, booster=None, callbacks=None,\n",
       "                               colsample_bylevel=None, colsample_bynode=None,\n",
       "                               colsample_bytree=None, device=None,\n",
       "                               early_stopping_rounds=None,\n",
       "                               enable_categorical=False, eval_metric=None,\n",
       "                               feature_types=None, gamma=None, grow_policy=None,\n",
       "                               importance_type=None,\n",
       "                               interaction_constraints=None, learning_rate=None,\n",
       "                               max_bin=None, max_cat_threshold=None,\n",
       "                               max_cat_to_onehot=None, max_delta_step=None,\n",
       "                               max_depth=None, max_leaves=None,\n",
       "                               min_child_weight=None, missing=nan,\n",
       "                               monotone_constraints=None, multi_strategy=None,\n",
       "                               n_estimators=None, n_jobs=None,\n",
       "                               num_parallel_tree=None,\n",
       "                               objective='multi:softprob', ...))])"
      ]
     },
     "execution_count": 505,
     "metadata": {},
     "output_type": "execute_result"
    }
   ],
   "source": [
    "xgb_classifier.fit(x_train,y_train)"
   ]
  },
  {
   "cell_type": "code",
   "execution_count": 506,
   "id": "2e56f177",
   "metadata": {},
   "outputs": [],
   "source": [
    "y_pred_train = xgb_classifier.predict(x_train)\n",
    "y_pred_test = xgb_classifier.predict(x_test)"
   ]
  },
  {
   "cell_type": "code",
   "execution_count": 507,
   "id": "92b3e59e",
   "metadata": {},
   "outputs": [],
   "source": [
    "# Evaluation Matrix\n",
    "from sklearn.metrics import confusion_matrix  , classification_report , accuracy_score"
   ]
  },
  {
   "cell_type": "code",
   "execution_count": 508,
   "id": "dbe41f71",
   "metadata": {},
   "outputs": [
    {
     "name": "stdout",
     "output_type": "stream",
     "text": [
      "[[277   0   1   0]\n",
      " [  3 285   0   0]\n",
      " [  6   0 286   0]\n",
      " [  0   0   0 262]]\n",
      "**************************************************************************************************************\n",
      "[[102   2   6   6]\n",
      " [  4 117   0   0]\n",
      " [  7   0  93   1]\n",
      " [  6   1   1 134]]\n"
     ]
    }
   ],
   "source": [
    "print(confusion_matrix(y_train,y_pred_train))\n",
    "print(\"***********\"*10)\n",
    "print(confusion_matrix(y_test,y_pred_test))"
   ]
  },
  {
   "cell_type": "code",
   "execution_count": 509,
   "id": "97fa04be",
   "metadata": {},
   "outputs": [
    {
     "name": "stdout",
     "output_type": "stream",
     "text": [
      "              precision    recall  f1-score   support\n",
      "\n",
      "           0       0.97      1.00      0.98       278\n",
      "           1       1.00      0.99      0.99       288\n",
      "           2       1.00      0.98      0.99       292\n",
      "           3       1.00      1.00      1.00       262\n",
      "\n",
      "    accuracy                           0.99      1120\n",
      "   macro avg       0.99      0.99      0.99      1120\n",
      "weighted avg       0.99      0.99      0.99      1120\n",
      "\n",
      "**************************************************************************************************************\n",
      "              precision    recall  f1-score   support\n",
      "\n",
      "           0       0.86      0.88      0.87       116\n",
      "           1       0.97      0.97      0.97       121\n",
      "           2       0.93      0.92      0.93       101\n",
      "           3       0.95      0.94      0.95       142\n",
      "\n",
      "    accuracy                           0.93       480\n",
      "   macro avg       0.93      0.93      0.93       480\n",
      "weighted avg       0.93      0.93      0.93       480\n",
      "\n"
     ]
    }
   ],
   "source": [
    "print(classification_report(y_train,y_pred_train))\n",
    "print(\"***********\"*10)\n",
    "print(classification_report(y_test,y_pred_test))"
   ]
  },
  {
   "cell_type": "code",
   "execution_count": 510,
   "id": "09a6cb00",
   "metadata": {},
   "outputs": [
    {
     "name": "stdout",
     "output_type": "stream",
     "text": [
      "0.9910714285714286\n",
      "**************************************************************************************************************\n",
      "0.9291666666666667\n"
     ]
    }
   ],
   "source": [
    "print(accuracy_score(y_train,y_pred_train))\n",
    "print(\"***********\"*10)\n",
    "print(accuracy_score(y_test,y_pred_test))"
   ]
  },
  {
   "cell_type": "markdown",
   "id": "a79a1899",
   "metadata": {},
   "source": [
    " With BOW I am getting 93 percent accuracy for test data.lets try this on given test submission data"
   ]
  },
  {
   "cell_type": "code",
   "execution_count": 511,
   "id": "4fd155e1",
   "metadata": {},
   "outputs": [
    {
     "data": {
      "text/html": [
       "<div>\n",
       "<style scoped>\n",
       "    .dataframe tbody tr th:only-of-type {\n",
       "        vertical-align: middle;\n",
       "    }\n",
       "\n",
       "    .dataframe tbody tr th {\n",
       "        vertical-align: top;\n",
       "    }\n",
       "\n",
       "    .dataframe thead th {\n",
       "        text-align: right;\n",
       "    }\n",
       "</style>\n",
       "<table border=\"1\" class=\"dataframe\">\n",
       "  <thead>\n",
       "    <tr style=\"text-align: right;\">\n",
       "      <th></th>\n",
       "      <th>ID</th>\n",
       "      <th>Text</th>\n",
       "    </tr>\n",
       "  </thead>\n",
       "  <tbody>\n",
       "    <tr>\n",
       "      <th>0</th>\n",
       "      <td>1861</td>\n",
       "      <td>Goodbye @kettlesyard see you in .25 years! htt...</td>\n",
       "    </tr>\n",
       "    <tr>\n",
       "      <th>1</th>\n",
       "      <td>354</td>\n",
       "      <td>@BBC_Culture @PlymouthMuseum Oh dear, why not ...</td>\n",
       "    </tr>\n",
       "    <tr>\n",
       "      <th>2</th>\n",
       "      <td>1334</td>\n",
       "      <td>Fantastic @johnmcdonnellMP standing up for wor...</td>\n",
       "    </tr>\n",
       "    <tr>\n",
       "      <th>3</th>\n",
       "      <td>906</td>\n",
       "      <td>@BBC_Culture @PlymouthMuseum Oh dear, why not ...</td>\n",
       "    </tr>\n",
       "    <tr>\n",
       "      <th>4</th>\n",
       "      <td>1290</td>\n",
       "      <td>@britishmuseum @TripAdvisor it is !</td>\n",
       "    </tr>\n",
       "  </tbody>\n",
       "</table>\n",
       "</div>"
      ],
      "text/plain": [
       "     ID                                               Text\n",
       "0  1861  Goodbye @kettlesyard see you in .25 years! htt...\n",
       "1   354  @BBC_Culture @PlymouthMuseum Oh dear, why not ...\n",
       "2  1334  Fantastic @johnmcdonnellMP standing up for wor...\n",
       "3   906  @BBC_Culture @PlymouthMuseum Oh dear, why not ...\n",
       "4  1290                @britishmuseum @TripAdvisor it is !"
      ]
     },
     "execution_count": 511,
     "metadata": {},
     "output_type": "execute_result"
    }
   ],
   "source": [
    "test.head()"
   ]
  },
  {
   "cell_type": "code",
   "execution_count": null,
   "id": "a3f7993c",
   "metadata": {},
   "outputs": [],
   "source": []
  },
  {
   "cell_type": "code",
   "execution_count": 512,
   "id": "996d7184",
   "metadata": {},
   "outputs": [],
   "source": [
    "text2 = test['Text']"
   ]
  },
  {
   "cell_type": "code",
   "execution_count": 513,
   "id": "c61076f2",
   "metadata": {},
   "outputs": [
    {
     "name": "stdout",
     "output_type": "stream",
     "text": [
      "['Goodbye kettlesyard see .25 years http //t.co/WFjBAiWbfM', \"BBC_Culture PlymouthMuseum Oh dear Dame Laura Knight Surely 'The Beach lst\", 'Fantastic johnmcdonnellMP standing workers NationalGallery noprivatisatio edvaizey sits fence http //t.co/QzBYpUAtQt', \"BBC_Culture PlymouthMuseum Oh dear Dame Laura Knight Surely'The Beach list\", 'britishmuseum TripAdvisor', 'britishmuseum thehistoryguy shame idiots post rude cmments throughout', 'Lots ancient artefacts enjoy britishmuseum amazingplace toomuchforaquickvisit http //t.co/utnDOEiGXO', 'Thanks great dance tutors amp joined taster sessions amp flashmob practice ICIABath today', \"It 's one thosedays ... NationalGallery sorefeet http //t.co/5cwgqIoGbZ\", 'It would great see maerial approached using queer theory foxvertebrae britishmuseum', 'blaircurator alex_neilson Tate_StIves Hang buildinghas renovated great expense ...', 'Now Parliament whistles banner leaflets confiscated manaers NationalGallery time noprivatisation reinstatecandy', 'MrStuchbery britishmuseum ok Thank', 'People lt amp care paintings VS cheap temporary contracts unknowledgabl staff NationalGallery AskTheGallery', \"tateliverpool 'm trying book members curator talk guided tour polloc links n't work Are sold\", 'britishmuseum Hi trying phone two days one ever picks phones', 'Go week CreativeDebuts FunkyArtGallery GlobalArtAgency ShoreditchHype Brick_Lane_Art _TheWhitechapel http //t.co/93FcNMiTUU', 'OMG thought asleep ustairs 3speeders Tate_StIves', \"tiffanyjenkins Had show curated TheWhitechapel… Was n't painted newspaper image two days landed\", 'Since ew included would nice see felt like concessionary nod gt foxvertebrae britishmuseum', 'FL_FLAMIN nia_loves_films _TheWhitechapel fantastic thank', 'Cambscene CamUnivMuseums polarmuseum surely statue wd cold Is originator sayingabout freezing brass balls', 'Since included would nice see felt like concessionary od gt foxvertebrae britishmuseum', 'FitzMuseum_UK AllSoulsCon V_and_A stunning', \"CelesteRegal Well hope n't suppose 'll see frames like soon ... NatonalGallery\", 'It would great see material approached using queer theory foxvertebrae britshmuseum', 'NConcostrina britishmuseum Charles_XII The teeth taken corpses battlefield used dentures rest centur😁', 'britihmuseum Did Napoleon really say Britain nation shopkeepers', 'ATTN Museum stolen property back culture britishmuseum http //t.co/KNfY53G7Gt SOSBLAKAUSTRALIA NOconsent', 'CamUnivMuseums ilovemuseum love Museums remind us others found way survive also Periwigs great', 'Find great content producers Periscope like britishmuseum http //t.co/9FJeQAZvXQ periscopeco periscopetv http //t.co/PTx5tkaWvZ', 'britishmuseum Omg looks totally like Al Pacino http //t.co/jHgsdUsFCn/ schriftart', 'britishmuseum Is hoding orange Someone better watch', \"britishmuseum Stunning collection There vase entitled `` Socrates Voyeur '' would like plus photo\", \"NationalGallery AskTheGallery Why appear support privatisation Why n't valueyour staff support\", \"britishmuseum thanks tonne also loved podcast Neil MacG intriguing say least 'faery tale ... real\", \"Search 'Treasured Possession FitzMuseum_UK museum treasures could imagine 🎎🎏🎭🗿📚📯🚋🏆 http //t.co/uGcTqDAMQy\", 'tarbosaur profjoecain many thanks sad ut think britishmuseum hidden away Enlightment gallery demonic mermaid', 'Solidarity USDAW C133 pc_union Day 39 strike NationalGallery privatisation ReinsateCandy http //t.co/NO5lYh7B5M', 'britishmuseum thehistoryguy Gosh periscpe definitely trend High profile people using even tried yet', 'Lucky FitzMuseum_UK Good luck MirandaStearn amp see soon fitalbott JoReilly00', \"NationalGallery AskTheGallery Dr would n't like leave witha noble gesture Stop privatisation ReinstateCandy support union\", 'vexxxed yes please Saw show _TheWhitechapel years ago', \"Our book 'Alfred Wallis Cornish Primitive Painter 100 fabulous paintings Tate_StIves StIvesSociety http //t.co/N81bg96b7M\", 'MrStuchbery britishmuseum vteran priest could probably whip heart 30 seconds ... ❤️🔪😱', \"SassyClyde We wo n't stop til britishmuseum dumps BP Fill feedback form 're amp watch pace http //t.co/o2JlUnGi1y\", \"tateliverpool DavidSandum sooooo wish Art GCSE long time ago 's man\", 'Ancient beauty modern lives http //t.co/x3ua24FUyJ via britishmuseum', 'britishmuseum thehitoryguy Gosh periscope definitely trend High profile people using even tried yet', 'NationlGallery Haha There definitely giant eagles hanging around last visited', 'Hooray MooseAllain wins Evolver Prize 2015 See ThelmaHulbert July http //t.co/GYKpsOb0W6', 'NationalGallery InventingImpressionism strictly No Photo area shot museum shop instead http //t.co/k5JpfY7b5', 'Wish britishmuseum would help improvements Bloomsbury Sq hundreds visitors tothe museum pass every day', \"PamHartshorne britishmuseum 's must take time take enjoythemoment\", 'Cambscene CamUnivMuseums polarmuseum surely statue wd cold originator saying freezing brass balls', 'Cambscene CamUnivMuseums polarmuseum surely statue wd cold Is originator saying freezing brass ball', 'NationalGallery AskTheGallery Will ou recommend trustees end oil sponsorship amp making ppl complicit climate change see public art', 'Godchecker Odin blesses :0 FF RevRichardColes rickygervais xeni GSpellchecker britishmuseum TalesofBritain ChuckWendig', 'The britishmuseum defining beauty exhibition wonderful looking body Greek art like home http //t.co/qAAGubc5Jf', 'Just _ECinc petermansbridge MtAalumni event NationalGallery amazing Alex Colville exhibit http //t.co/GH7pTeGPk1', \"tiffanyjenkins Had show cuated _TheWhitechapel… Was n't painted newspaper image two days landed\", 'Agreed rhiannonakelly Eat sandwiches britishmusum daily inspiring surroundings Inspired rage day Whats nxt ReclaimOurBard', 'britishmuseum So much teeth problems un ancint Egypt', 'Year busy Digital Discovery Centre britishmuseum great time', 'KirkbrideDebbie Anchor_Trust britishmuseum yes met We tlkg abt amazing number visitors got CareHomeOpenDay', \"Showing workings _TheWhitechapel 's The Production Line Happiness Really interesting hang subject http //t.co/hKfe8b8AME\", 'Distance makes heart grow fonder already heartbroken kettlesyard shutting yrrefurb 21Jun go now❤️ http //t.co/7HMmPRcJtz', 'Our current project working kettlesyard going well far The work Henri Gaudier-Brzeska providing enjoyment round', 'OMG thought asleep upstairs 3speeders Tate_tIves', 'Sto privatisation services NationalGallery Sign petition https //t.co/w0xozuIolp via 38_degrees', 'Gold finger ring/armillary sphere German 17thc britishmuseum Curious know worn onthe finger http //t.co/N4aMqeD8Ad', 'britishmuseum w/ bquentin3 amp zada_beda feelin like 21st Century underperforming amp sure… https //t.co/Q0Dmt8MPZU', 'View Estaque Cézanne risk exported FitzMuseum_UK unless buyer match £13m asking price http //t.co/F3qTEMqha', \"The Plce 's subtle dance piece performed AgeUK britishmuseum Defining Beauty exhibition n't really work bring back bacchantes\", 'kettlesyard thanks RT', 'Stop privatisation services NationalGallery Sign petition https //t.coWDFjCKMnIt via 38_degrees', \"appendixjournal MartinPribble FitzMuseum_UK So Swiss Army knife really Roman army knife 'm going engrave SPQR mine\", 'britishmuseum JSuhrmanBailey seems quite clear copy Unfair take one word amp apply entire thing', \"BMAGcurators NationalGallery Yes It 's hard believe Bernard Berenson dsparaged Reni\", \"fossildotty cpdickenson britishmuseum 've missed look next time\", 'britishmuseum tat neck collar The neck slender', 'Blog post AsktheGallery ot engage angry audience NationalGallery brushes questions aside http //t.co/kfTCCyxFAD', 'Strikers Shell -sponsored NationalGallery protest agaist privatisation kayaktivists ShellNo billmckibben http //t.co/UnGD3naDSn', 'Strikers Shell -sponsored NationalGallery protest privatisation kayaktivists ShellNo billmckibben http //t.co/UnGD3naDSn', 'Absolutely loved first visit tateliverpool beautiful collection thoughtfully imaginatively curated', 'NationalGallery AskTheGallery We boycotting National Gallery reinstate Cany Unwin stop privatisation ...', 'britishmuseum upset invigilators Very rude arrogant enforcing drinkng rule', \"Ca n't wait going BIG _TheWhitechapel http //t.co/usdQGFFf3V yesjim\", \"britishmuseum AYDSMA two ... would neer thought 're\", 'Peoplewho lt amp care paintings VS cheap temporary contracts unknowledgable staff NationalGallery AskTheGallery', 'Since ofthese included would nice see felt like concessionary nod gt foxvertebrae britishmuseum', \"GO visit Sothebys ChristiesInc amp take photos art instead _TheWhitechapel ca n't take photos amp waste ime phnat\", 'last selfie britishmuseum mariarodrirubin http //t.co/OL73O0QD4q', \"Lots questios privatisation sacking rep NationalGallery 's AskTheGallery disappointing n't addressed\", 'HuffPostGreen help us amp RT Shell sponsors NationalGaller work amp want privatise us ShellNo https //t.co/mRw2vTAhsi', \"BBC_Culture PlymouthMuseum Oh dear Dame Laura Knight Surely 'The Beach list\", 'britishmuseum nek collar The neck slender', 'NationalGallery AskTheGallery Will Candy Udwin bereinstated colleagues paid living wage', 'ritishmuseum thehistoryguy shame idiots post rude comments throughout', 'Apollo_magazine afneil FitzMuseum_UK modern looking university Fitzwilliam Contemporary Hubby studied', 'britishmuseum INSTA See magnificent 19th-century SudaneseLyre new free dis… http //t.co/IvQkHRuFDT http //t.co/dzSRBgKgDt', \"tiffanyjenkins Had show curated _TheWhitechapel… Wa n't painted newspaper image two days landed\", 'FitzMuseum_U well never knew ...', 'AskTheGallery Dr Penny facing public outcry petition nearly 45,000 signatures halt privatsation NationalGallery', 'ConsortiumX bencnn britishmuseum Why British Museum Highwayman retun stolen goods owners All colonial pillage', 'NationalGallery oh od', 'NationalGallery greekisinart ART=FREEDOM Visite gallery unable see impressionist paintings belonging collection.When', \"NationalGallery NPGLondon pcs_union wo n't seeing Goya Afer 50 years pictures NGL pariah list Candy reinstated\", 'AskTheGallery Dr Penny Will re-enter negotiations staff strike 35 das NationalGallery NGNotForSale', \"appendixjournal MartinPribble FitzMuseum_UK So Swiss Amy knife really Roman army knife 'm going engrave SPQR mine\", 'NationalGallery Haha There definitely giant eagles hangig around last visited', 'britishmueum Is holding orange Someone better watch', 'Cambscene CamUnivMuseums polarmuseum surely statue wd cold Is originator saying freezin brass balls', 'AskTheGallery Dr Penny Will re-enter negotiations staff strike 35 days NtionalGallery NGNotForSale', 'NConcostrina britishmuseum Charles_XII The teeth taken corpses battleield used dentures rest century😁', 'britishmuseum soo beautiful', \"appendixournal MartinPribble FitzMuseum_UK So Swiss Army knife really Roman army knife 'm going engrave SPQR mine\", 'Strikers Shell -sponsored NationalGallery protest privatisation kayaktivists ShellNo NaomiAKlein http //t.co/CW6wyEw8Mo', 'NationalGallery Wait secret Leonardo drawing slipped inside one ooks', 'Distance makes heart grow fonder already heartbroken kettlesyad shutting yr refurb 21Jun go now❤️ http //t.co/7HMmPRcJtz', \"britishmuseum 2000 coins per day ... n't worry RSI days\", 'The new wing britishmuseum night ... stunning http //t.co/BF8LesKOqV', 'Gold finger ring/armillary sphere German 17thc britishmuseum Curious know worn finger http //t.coN4aMqeD8Ad', 'AskTheGallery Love NationalGallery Hate Private Sector Colonisation IllegalDiscrimination Against Unions ReinsateCandy NGNotForSale', 'briishmuseum drinks permitted museum clearly displayed entrance', \"britishmuseum AYDSMA two ... would never thought 're\", 'RAMMuseum Excellnt exhibition BENEDICT RUBBRA Eye Image Aug 2015 http //t.co/eal9unZMPL art Africa nature Devon observation', 'Strikers Shell -sponsored NationalGaller protest privatisation kayaktivists ShellNo billmckibben http //t.co/UnGD3naDSn', \"tateliverpool 'm trying book members curator talk guided tou pollock links n't work Are sold\", \"BC_Culture PlymouthMuseum Oh dear Dame Laura Knight Surely 'The Beach list\", 'After 29 yrs Cézanne painting leave UK unless funds raised FitzMuseum_UK via an_artnews http //t.co/VjDNl3XU7C http //t.co/0frSD5LHN', \"NationalGallery Londoncraftweek wird say 've barberinstitute took pic http //t.co/P1iQcqQ8nY\", 'britishmuseum thank wonderful activity today Waterloo200 put together tweets Storify similar', 'NationalGallery Wait secret Leonardo drawing slipped inside one books', \"sewyoursoul Oh Whistle jacket daughter 's favourite picture NationalGallery ... route around amp 's last\", 'French 18th century room 33 re-opened NationalGallery reinstated dome natural light- fantastic http //t.co/4Otam6N2Bo', 'FitzMuseum_UK well neer knew ...', 'NationalGallery InventingImpressionsm strictly No Photo area shot museum shop instead http //t.co/k5JpZfY7b5', 'britishuseum Cod piece made armor', \"DavidSandum tateliverpool er wrong Art GCSE Pollock 've NEVER worked Pollock Or Warhol Wish\", 'saraahhkay britishmuseum must ancestor haha', 'blaircurator alex_nilson Tate_StIves Hang building renovated great expense ...', 'Distance makes heart grow fonder already heartbroken kettlesyard shutting yr refurb 21Jun go now️ http //t.co/7HMmPRcJtz', 'Fantastic day incl LondonPride lunch Wahaca DefiningBeauty britishmuseum amp paddling Hyde Park Now nice glass Rose Kanye', \"This w/e saw closing kettlesyard building work 's film made mmory Michael Harrison http //t.co/d27X7k28Gy\", 'British Museu evacuation britishmuseum britishmuseum', 'NationalGallery photopraline Yes ... Rembrandt paintings makes weep .. DUTCH 17th golden age paintings ahhhhhhhh', 'FourFeetFilms Enjoy When Van Gogh lived short wrote walks Thames work NationalGallery', 'Optimorincipi britishmuseum one looks real', 'britishmuseum Wish could extend exhibition London August ...', \"tiffanyjenkins Had show curated _TheWhitechapel… Was n't painted newspaper image two day landed\", 'tarbosaur profjoecain britishmuseum yes mermaid wonderfully scary kids seems gone last time welooked', 'Cambscene CamUnivMuseums polarmuseum surely statue wd cold Is originator sying freezing brass balls', 'britishmuseum Is holding orange Someone better watch ou', 'OptimoPrincipi britishmuseum one looksso real', \"bitishmuseum 2000 coins per day ... n't worry RSI days\", 'NationalGallery', \"HerFaithness But would n't mind Her St Ives garden one favourite places ... Tate_StIves Tate\", 'Great Terry Frost show opened LeedsArtGallery last night Congrats CuratorSarah Tate_StIves http //t.co/5VfGYYRvCL', 'nationalgallery AskTheGallery When willyou re-instating Candy Udwin Why arts subject private profit', 'HufPostGreen help us amp RT Shell sponsors NationalGallery work amp want privatise us ShellNo https //t.co/mRw2vTAhsi', 'askthegallery How much public oney spend brining CIS scabs current PCS dispute NationalGallery', 'ATTN Museum stolen property Hand back culture britishmusem http //t.co/KNfY53G7Gt SOSBLAKAUSTRALIA NOconsent', 'NationalGallery photopraline Ys ... Rembrandt paintings makes weep .. DUTCH 17th golden age paintings ahhhhhhhh', \"HistoryGems britishmuseum It 's got little mummified croc\", 'FYI Nationalallery NGNotForSale ReinstateCandy https //t.co/WD2pKLExET', \"CelesteRegal Well hope n't suppose 'll see frames like soon ... NationalGallery\", 'View Estaque Cézanne risk ofbeing exported FitzMuseum_UK unless buyer match £13m asking price http //t.co/F3qTEMqha7', 'tateliverpool Really really looking forward', 'britishmuseum drinks permitted museum clearly displayed entrance', 'Looking forward public engagement event DefeatDepression RAMMuseum UofE_Research evening http //t.co/GAG3iJveaC', 'Since wer included would nice see felt like concessionary nod gt foxvertebrae britishmuseum', 'People lt amp care paintings VS cheap temporary contracts nknowledgable staff NationalGallery AskTheGallery', 'Crumbs NMMGreenwich Dudley britishmuseum posting Henry VIII feel bit threatened Museum teets Catholic today', 'HuffPostGreen help us amp RT Shell sponsors NationalGallery work amp want privatise us ShellNo https //t.co/mRw2vTAhsi', 'britishmuseum death mask', 'HuffPostGreen help us amp RT Shell sponsors NationalGallery work amp hey want privatise us ShellNo https //t.co/mRw2vTAhsi', 'nationalgallery AskTheGallery When wll re-instating Candy Udwin Why arts subject private profit', 'Cornish Holiday Escapes http //t.co/1iSKbGJZnm Stories via Tate_StIves', 'britishmuseum yaidunohannji Love Surely Royals had/have way much money', 'Strikers Shell -sponsored NationalGallery protest gainst privatisation kayaktivists ShellNo NaomiAKlein http //t.co/CW6wyEw8Mo', 'Gold finger ring/armillary sphere Geran 17thc britishmuseum Curious know worn finger http //t.co/N4aMqeD8Ad', \"'m train way south fun filled days britishmuseum NHM_London woo hoo\", 'britishmuseum thehistoryguy Gosh periscope definitely trend High proile people using even tried yet', 'tarbosaur profjoecain britihmuseum yes mermaid wonderfully scary kids seems gone last time looked', 'Solidarity greenpeace kayaktivists We fighting Shell amp NatinalGallery want privatise 400 workers ShellNo noprivatisation', 'WomenoftheWI RAMMuseum Wonderful', 'MrStuchbery britishmuseum veteran priest could probably whip heart 30 seconds ... ❤️🔪😱', 'It would great see material approached using queer theory foxvertebrae britishmseum', 'Distance makes heart grow fonder already heatbroken kettlesyard shutting yr refurb 21Jun go now❤️ http //t.co/7HMmPRcJtz', 'NationalGallery After staff privatisation next selling donated works Councils without consultation Ask issing art', \"britishmuseum 2000 coins per day ... didn'tworry RSI days\", 'The last selfie britishmuseum mariarodrirubin http //t.co/OL7O0QD4q', 'Fantastic rehang love purple walls BaroqueSSN study day BMAGcurators NationalGallery http //t.co/cu3s5TGa0T', 'Wish britishmuseum would help improvements Bloomsbury Sq hudreds visitors museum pass every day', 'NationalGallery AsTheGallery Will recommend trustees end oil sponsorship amp making ppl complicit climate change see public art', 'NConcostrina britishmuseum Charles_XII The teeth taken corpses battlefield used dentures rest century', 'britishmuseum Is holding orange Someone better watch ot', 'britihmuseum neck collar The neck slender', 'NationalGallery AskTheGallery Will yourecommend trustees end oil sponsorship amp making ppl complicit climate change see public art', 'britishmseum turquoise eyes', \"NationalGallery AskTheGallery Why appear support privatisation Why n't value staff support\", 'britishmusum Wish could extend exhibition London August ...', 'ILoveMuseums provide fantastic opportunities ExploreYourSubject prospective applicant university CamUnivMuseums', 'StephenXKing profjoecain britishmuseum took picture archive Coolest sea monster ever http //t.co/EmdZUwFeBB', 'britishmuseum uset invigilators Very rude arrogant enforcing drinking rule', \"BBC_Culture PlymouthMuseum Oh dear wy Dame Laura Knight Surely 'The Beach list\", 'NConcostrina britishmuseum Charles_XII The teeth taken corpses battlefield usd dentures rest century😁', 'blaircurator alex_neilson Tate_StIves Hang building ony renovated great expense ...', 'britishmuseum How Britishdouble line formation squad fire work surely entire battalion one long line deep', 'Cambscene CamUnivMuseums poarmuseum surely statue wd cold Is originator saying freezing brass balls', 'British Museum evacuation britishmuseum britishmuseum', \"ArtDecoBiz britishmuseum look stunning Wish 'smellyvision britishgarden rose flowers summer\", 'NationalGallery The cropped image timeline looks like something entirely different anyone else seeit', 'britishmuseum thehistoryguy shame idiots wh post rude comments throughout', 'NationalGallery The croped image timeline looks like something entirely different anyone else see', \"MuseeLouvre museiincomune leCMN britishmuseum MarDixon Museo_MADRE oh wow That 's fantastic\", 'Back britishmuseum second group Y7s Look Female gladiators amazones http //t.co/3Q4aTgTMsr', 'Had snap britishmuseum You ridiculous pretty That caged glass ceiling thing got going def… https //t.co/ixVZzpkhcs', 'NationalGallery AskTheGallery We ae boycotting National Gallery reinstate Candy Unwin stop privatisation ...', 'NatonalGallery Wait secret Leonardo drawing slipped inside one books', 'NationalGallery The cropped image timeline looks like something entirely diferent anyone else see', 'Since included would nice see felt like aconcessionary nod gt foxvertebrae britishmuseum', 'urge art lovers boycott NationalGallery pcs_unionrep Candy reinstalled Human rights important pictures BHGreens', \"The Place 's subtle dance piee performed AgeUK britishmuseum Defining Beauty exhibition n't really work bring back bacchantes\", \"PeterGraystone britishmuseum It 'll fun\", 'Tate_StIves BobandRoberta angry artists profile speaking foundationcourses http //t.co/0Jqrql7vfK', 'Bad times National Galery Stop privatisation services NationalGallery https //t.co/ypfYtLhYus via 38_degrees', 'cultural lunch break NationalGallery taking Venus amp Mars Botticelli beautiful http //t.co/QgJX5TFQEv', 'nationalgallery AskTheGallery hen re-instating Candy Udwin Why arts subject private profit', 'Ooo bet good britishmuseum presentfilms https //t.co/iqVGoqG1Wh', 'NationalGallery BobandRoberta angry artists profile speaking foundationcourses http //t.co/0Jqrql7vfK', \"appendixjournal MartinPribble FtzMuseum_UK So Swiss Army knife really Roman army knife 'm going engrave SPQR mine\", \"The Place 's subtle dance piece performed AgeUK britishmuseum Defining Beauy exhibition n't really work bring back bacchantes\", 'Distance makes heart grow fonder already heartbrokn kettlesyard shutting yr refurb 21Jun go now❤️ http //t.co/7HMmPRcJtz', 'nationalgallery AskTheGallery Why payyour brilliant staff poorly', 'NationalGallery After staff privatisation next selling donated works Councils withou consultation Ask missing art', 'confident NationalGallery would answer critics AskTheGallery ignore We visitors tax payers', 'Found yesterday BritishMuseum desperately needs info exhibit though Pillar Empror Ashoka http //t.co/0XtD8ly3nX', \"7stories Enid Blyton exhib'n opens PlymouthMuseum Wed 17 June We 've helping set http //t.co/OkrzbdXeVa http //t.co/9FDn5QZXbo\", \"britishmuseum BBCTwo Great news 've taping series listening BBC4 well fascinating informative many thanks\", 'britishmuseum w/ bquentin3 amp zada_beda feeling like 21st Century underperforming amp sre… https //t.co/Q0Dmt8MPZU', 'CUBGEducation MAACambridge ooh sounds good', 'NationalGallery photopraline Yes ... Rembrandt paintings makes weep .. DUTCH 17th golden age paintingsahhhhhhhh', 'Unfortunately transition narrative parts stories handwaved away commenary foxvertebrae britishmuseum', 'NationalGallery http //t.co/VzSJhocyqJ', 'NationalGallery AskTheGallery We bocotting National Gallery reinstate Candy Unwin stop privatisation ...', 'Stop privatisation services NationalGalley Sign petition https //t.co/WDFjCKMnIt via 38_degrees', 'NationalGallery pcs_union strikers raise £1,000 pplsassembly protest http //t.co/SzmJN1zMF7 reinstateCandy http //t.co/7vCMoHbV8W', 'britishmuseum JHGHenriks Holy sh ...', 'britishmuseum upset invigilators Very rude rrogant enforcing drinking rule', 'Found yesterday BritishMuseum desperately needs info exhibit thogh Pillar Emperor Ashoka http //t.co/0XtD8ly3nX', 'Bad times Nationl Gallery Stop privatisation services NationalGallery https //t.co/ypfYtLhYus via 38_degrees', \"NationalGallery Londonraftweek weird say 've barberinstitute took pic http //t.co/P1iQcqQ8nY\", 'britishmuseum upset invigilators Ver rude arrogant enforcing drinking rule', \"https //t.co/R2tO79Easn .An house solution proposedto meet flexibility needs Come NationalGallery 's time TALK\", 'britishmuseum How British double line formation squad fire wrk surely entire battalion one long line deep', 'NationalGallery What message oilsponsorship arts send ngotiating climate deal Paris year AsktheGallery', 'told tate britishmuseum NPGLondon amp RoyalOperaHouse DropBP Sponsorship Join http //t.co/gmbtUDKh6m', 'Visited SocialFabric exhibit today RAMMuseum So much culture history one room MegaInspiration http //t.co/GOnFu38RFt', 'Nothing football one ... tiny bit exciting tateliverpool Pollock http //t.co/TUmZb6F7Gp', \"britishmuseum AYDSMA wo ... would never thought 're\", 'NationalGallery AskTheGallery noprivatisation https //t.co/0N7UGP7h1Z ReinstateCandy http //tco/ZaDR8HN01F', \"Not current mood 've glorious morning Print Room britishmuseum Durer amp Rembrandt amp http //t.co/KbYpYSFSiP\", \"Hadrian We 're visit wall next britishmuseum w/ bquentin3 amp zada_beda thanks to… https //t.co/nixI2mU9ch\", 'britishmuseum thehistoryguy Gosh periscope definitely trend High profile people usng even tried yet', 'helena_bonett Tate_StIves good see film missed rolling hill real time ... materialhistories', 'blaircurator alex_neilson Tate_StIvs Hang building renovated great expense ...', 'Now Parliament histles banner leaflets confiscated managers NationalGallery time noprivatisation reinstatecandy', 'Unfortunately th transition narrative parts stories handwaved away commentary foxvertebrae britishmuseum', 'long till blind spots exhibition jacksonpollock tateliverpool', \"NationalGallery Londoncraftweek weird say 've barberinstitute took ths pic http //t.co/P1iQcqQ8nY\", 'Strikers Shell -sponsored NationalGalery protest privatisation kayaktivists ShellNo NaomiAKlein http //t.co/CW6wyEw8Mo', 'tarbosaur profjoecain britishmuseum yes mermaid wonderfully sary kids seems gone last time looked', 'Pollock Ligon amp Bratescu Great time visit tateliverpool Thanks lovely day', \"https //t.co/R2tO79Easn .An house solution proposed meet flexibility needs Come NationalGallery 's time TALK\", 'OptimoPrincipi britishmseum one looks real', \"appendixjournal MartinPribble FitzMuseum_UK So Swiss Army knife really Roman army knife 'm goingto engrave SPQR mine\", 'britishmuseum So much teeth problems un ncient Egypt', \"In case n't love britishmuseum enough check swoony coffee cup design https //t.co/nGdYnNKcD6 HT lornadiwa\", 'Faience vessel TheEES excavations Sesebi britishmuseum Nubia Sesebi http //t.co/SP3VOFfAjQ', 'NationalGallery Wait secret Leonrdo drawing slipped inside one books', 'kettlesyard miss', 'Great see RAMMuseum represented Tony_Eccles excellent hardworking Curator Ethnography https //t.co/AOrNrp4Zaq', 'NationalGallery Haha There dfinitely giant eagles hanging around last visited', 'Exhibition sounds fab photographs indigenous Siberia Mongolia MAACambridge sensory relational knowledge https //t.co/VGC0o9HHpA', \"tateliverpool 'm trying book members curator talk guided tour pollock linksdo n't work Are sold\", 'kettlesyard Loving Castle Hill Open Day Map amp Schedule great day Saturday http //t.co/RrDKXubAGY http //t.co/tRNla25y2A', \"britishmuseum 2000 coins per day ... n't worry RSI days\", \"Another lovely visit _TheWhitechapel 'm always delighted amp uplifted Children 's Commission showing wonderful school projects\", \"Love Rivane Neuenschwander 's Wish Your Wish installation Tate_StIves http //t.co/Z5H4c3IUsN\", 'NationalGallery AskTheGallery Weare boycotting National Gallery reinstate Candy Unwin stop privatisation ...', \"This w/e saw closing kettlesyard building work 's film made memory Michael Harrison http //t.co/d27X7k28Gy\", 'britishmuseum So much teeth problems unancient Egypt', 'FYI NationalGallery NGNotForSale ReinstateCandy https //t.coWD2pKLExET', 'tarbosaur profjoecain britishmuseum yes mermaid wonderfully scary kids seems gone last time looed', 'Fantastic johnmcdonnellMP standing workers NationalGallery noprivaisation edvaizey sits fence http //t.co/QzBYpUAtQt', 'NConcostrina britishmuseum Charles_XII The teeth taken frm corpses battlefield used dentures rest century😁', \"BBC_Culture PlymouthMuseum Oh dear Dam Laura Knight Surely 'The Beach list\", \"britishmuseum 2000 coins per ay ... n't worry RSI days\", 'Crumbs NMMGreenwich Dudley britishmuseum posting Henry VIII feel bit threatened Museum tweets Catholic today', \"Lot questions privatisation sacking rep NationalGallery 's AskTheGallery disappointing n't addressed\", '... BritishMuseum Sutton Hoo Anglo-Saxon hoard including iconic helmet Striking close http //t.co/gipigjfNAy', 'Yr art students britishmuseum today Enjoy', 'AskTheGallery Dr Penny Will re-enter negotiations withstaff strike 35 days NationalGallery NGNotForSale', 'NationalGallery AskTheGallery noprivatisation https //tco/0N7UGP7h1Z ReinstateCandy http //t.co/ZaDR8HN01F', 'LucyWheeler16 kettlesyard Thank YOU lovely evening', \"https //t.co/R2tO79Easn .An house solution proposed meet flexibilityneeds Come NationalGallery 's time TALK\", \"appendixjournal MartinPribble FitMuseum_UK So Swiss Army knife really Roman army knife 'm going engrave SPQR mine\", 'Solidarity greenpeace kayaktivists We figting Shell amp NationalGallery want privatise 400 workers ShellNo noprivatisation', 'MrStuchbery britishmuseum veteran priest could probably whip hert 30 seconds ... ❤️🔪😱', 'NationalGallery InventingImpressionism strictly No Photo area shot th museum shop instead http //t.co/k5JpZfY7b5', 'Strikers Shell -sponsored NationalGallery protest privatisation kayaktivists ShellNo rebillytalen http //t.co/kLkbccLnFo', 'The last selfie ritishmuseum mariarodrirubin http //t.co/OL73O0QD4q', 'Crumbs NMMGreenwich Dudley britishmuseum posting Henry VIII feel bit threateed Museum tweets Catholic today', 'britishmuseum wish somethng bankruptcy ancient world', \"'m music artist loves food If ever come London one NationalGallery foodie eat http //t.co/8Pl6wXfw4x\", 'NationalGallery Sooo ROMANTIC', 'AskTheGallery Dr Penny Will re-enter negotiations staff strike 35 dys NationalGallery NGNotForSale', 'britishmuseum Of course Nothing nothing less eye Horus Greetings', 'tarbosaur profjoecain many tanks sad think britishmuseum hidden away Enlightment gallery demonic mermaid', 'The last selfie britishmuseum mariarodriruin http //t.co/OL73O0QD4q', 'Tate_StIves plus rocking amazing dress', 'britishmuseum Is holding orange Someone better atch', 'Thank clioclothed fascinating talk NationalGallery art synaesthesia', 'britishmuseum Omg looks totally like Al Pacino http //t.co/jHgsdUsFCn schrftart', 'Looking forward starting residency ICIABath today', 'britishmusum Moonbootica Wow old 32', \"tateliverpool 'm trying book th members curator talk guided tour pollock links n't work Are sold\", 'NationalGallery greekiinart ART=FREEDOM Visited gallery unable see impressionist paintings belonging collection.When', 'Cambridge next visits look forward results kettlesyard rorieborealis https //t.co/0spfnIyHiK', 'Gold finger ring/armillary sphere German 17thc britishmuseum Curious know worn finger htt //t.co/N4aMqeD8Ad', 'britishmuseum thehistoryguy shame idiots post rude comments throughout', 'Really enjoying britishmuseum tweets Well worth follow', \"This w/e saw closing kettlesyard building work 's film made memory Michael Harrison http //t.co/d27X7k28Gy\", 'britishmuseum Hi trying phone two days one ever picks phonesdown', 'Sad amazing exciting things happening kettlesyard https //t.co/ncSFNv1yqU', 'Solidarity greenpeace kayaktivists We fighting Shell amp NationalGallery want rivatise 400 workers ShellNo noprivatisation', 'tarbosaur profjoecain britishmuseum es mermaid wonderfully scary kids seems gone last time looked', 'NConcostria britishmuseum Charles_XII The teeth taken corpses battlefield used dentures rest century😁', 'NationalGallery Wait secret Leonardo drawing lipped inside one books', 'Strikrs Shell -sponsored NationalGallery protest privatisation kayaktivists ShellNo billmckibben http //t.co/UnGD3naDSn', 'Solidarity USDAW C133 pcs_union Day 39 strike NationalGallery privatisation ReinsatCandy http //t.co/NO5lYh7B5M', 'told tate britishmuseum NPGLondon amp RoyalOperaHouse DropBP Sponsorship Join http //t.co/gmbtUDKh6m', 'NationalGallery The cropped image timeline looks like something entirely different anyone else see', 'BritishMuseum RT melly_sue Spent morning learning 8mummies britishmuseum Fascinating well-pres… http //t.co/wZJlQNS6F0', 'The Enid Blyton show PlymouthMuseum simply wizard https //t.co/wXS9KxKk5C', 'View bad NationalGallery café either http //t.co/tk6oLR5758', 'OptimoPrincipi britshmuseum one looks real', \"This w/e saw closing kttlesyard building work 's film made memory Michael Harrison http //t.co/d27X7k28Gy\", \"britishmuseum AYDSMA two thse ... would never thought 're\", 'britishmuseum So glad followed Interested ancient manuscripts rare books Check http //t.co/tqsweGr0Kl', \"SassyClyde We wo n't stop til britishmuseum dump BP Fill feedback form 're amp watch space http //t.co/o2JlUnGi1y\", 'Had wonderful morning Tremenheere thank us From Tate_StIves Learning Team Cornwall http //t.co/VHlRKk2aOP', 'The NationalGallery perfect rainy London Sunday', 'NationalGallery What message oil sponsorship arts send ngotiating climate deal Paris ear AsktheGallery', 'tarbosaur profjoecain may thanks sad think britishmuseum hidden away Enlightment gallery demonic mermaid', 'JHGHendriks britshmuseum aroberts_andrew estimates range 15000 20000 horses killed/severly wounded', 'Wish britishmuseum would help improvements Bloomsbury Sq hundreds visitors museum pass hrough every day', 'After 29 yrs Cézanne painting leave UK uness funds raised FitzMuseum_UK via an_artnews http //t.co/VjDNl3XU7C http //t.co/0frSDQ5LHN', 'britishmusem Is holding orange Someone better watch', 'NationalGallery AskTheGallery noprivatisation https //t.co/0N7UGP7h1Z ReistateCandy http //t.co/ZaDR8HN01F', \"appedixjournal MartinPribble FitzMuseum_UK So Swiss Army knife really Roman army knife 'm going engrave SPQR mine\", 'Go kettlesyard beautiful inspiring place https //t.co/Qcee8aFrvr', \"BBC_Culture PlymouthMuseum Oh dear Dame Laura Knight Surely 'The Beach list\", \"NationalGallery NPGLondon pcs_union wo n't seeing Goya After 50 years pictures NGL pariah list Candy reinstaed\", 'Blind Spots Pollock black paintings tateliverpool sounds fascinating hope make journey north thetimes http //t.co/V2Y5lPiq2p', 'Looking forward Honiton Ice cream shop visit way ThelmaHulbert July see SimonEvolver Prize 2015 Glad showing', \"MrStuchbery britishmuseum That 's favourite bit It 's got mermaid everything\", '_TheWhitechapel comme au PalaisdeTokyo les non finitions au service de la scéno well done sunday http //t.co/YWS2OWHVzc', \"britishmseum 2000 coins per day ... n't worry RSI days\", 'britishmuseum hmmmm ... isit teapot', 'Since included woul nice see felt like concessionary nod gt foxvertebrae britishmuseum', 'NationalGallery pcs_union strikers raise £1,000 pplsassembly protest http //t.co/SzmJN1zMF7 einstateCandy http //t.co/7vCMoHbV8W', 'britishmuseum Wish could extend exhibition London August ...', 'NationalGallery photopraline Yes ... Rembrandt paintingsmakes weep .. DUTCH 17th golden age paintings ahhhhhhhh', \"tateiverpool 'm trying book members curator talk guided tour pollock links n't work Are sold\", 'britishmuseum 69quietgirl CharlesXII ... austerity', \"BMAGcurators NationalGallery Yes It 's hard believe Bernard Berenson disparaged Ren\", 'NationalGallery photoraline Yes ... Rembrandt paintings makes weep .. DUTCH 17th golden age paintings ahhhhhhhh', 'MrStuchbery FrancesBarker britishmueum Oh How', \"BMAGcurators NationalGallery Yes It 's hard believe Bernard Berenson isparaged Reni\", 'Cambscene CamUnivMuseums polarmuseum surely statue wd cold Is originato saying freezing brass balls', 'britishmuseum thehistoryguy shame idiots post rudecomments throughout', \"NationalGallery Director N. Penny favours `` inhouse solution '' Come back talks pcs_union got Alternative http //t.co/UOdrADopXr\", 'tarbosaur profjoecai many thanks sad think britishmuseum hidden away Enlightment gallery demonic mermaid', 'NationalGallery The cropped image timeline looks like something entirelydifferent anyone else see', 'NationalGallery Wait secret Leonardo drawing slipped inside one books', 'britishmuseum Did Napoleon eally say Britain nation shopkeepers', \"Looking forward Amelia Smith speaking 'CDA innovation showcase NationalGallery BirkbeckNews http //t.co/iBin9Vl65K cdavalue\", 'Goodby kettlesyard see 2.25 years http //t.co/WFjBAiWbfM', \"'this art nervous breakdown ... 's majestic Pollock TateLiverpool guardian http //t.co/Yv2mjibdjV\", 'Gold finger ring/armillary sphere Germa 17thc britishmuseum Curious know worn finger http //t.co/N4aMqeD8Ad', 'GordonRamsayGRP britishmuseum That looks amazing GetInMyWellie', 'NationalGallery AskTheGallery boycotting National Gallery reinstate Candy Unwin stop privatisation ...', 'Unfortunately transition narrative parts stories handwaved away commentary foxvertebrae britishmuseum', 'AskTheGallery Love NationalGallery Hate Private Sector Colonisation Illegal Discrimination Against Unions ReinsateCndy NGNotForSale', \"CelesteRegal Well hope n't suppose tha 'll see frames like soon ... NationalGallery\", \"tateliverpool 'm trying book members curator talk guided tour pollock liks n't work Are sold\", 'Found yesterday BritishMuseum desperately needs info th exhibit though Pillar Emperor Ashoka http //t.co/0XtD8ly3nX']\n"
     ]
    }
   ],
   "source": [
    "## Pre-processing the text message\n",
    "\n",
    "message = []\n",
    "for i in range(len(text2)):\n",
    "    s = word_tokenize(text2[i])\n",
    "    temp = []  \n",
    "    for j in s:\n",
    "        if len(j) > 1 and j not in stop_words:  \n",
    "            temp.append(j)\n",
    "    t = ' '.join(temp)  \n",
    "    message.append(t)  \n",
    "\n",
    "print(message)"
   ]
  },
  {
   "cell_type": "code",
   "execution_count": 514,
   "id": "e7a06cf5",
   "metadata": {},
   "outputs": [],
   "source": [
    "for i in range(len(test)):\n",
    "    test.loc[i,'Text'] = message[i]"
   ]
  },
  {
   "cell_type": "code",
   "execution_count": 515,
   "id": "aaf0b471",
   "metadata": {},
   "outputs": [],
   "source": [
    "text2 = test['Text']"
   ]
  },
  {
   "cell_type": "code",
   "execution_count": 516,
   "id": "c13d1102",
   "metadata": {},
   "outputs": [],
   "source": [
    "corpus = []\n",
    "for i in range(len(text2)):\n",
    "    temp = re.sub('[^a-zA-Z]',' ',text2[i])\n",
    "    temp = temp.lower()\n",
    "    temp = temp.split()\n",
    "    temp = [lemma.lemmatize(p) for p in temp if p not in set(stopwords.words('english'))]\n",
    "    temp = ' '.join(temp)\n",
    "    corpus.append(temp)"
   ]
  },
  {
   "cell_type": "code",
   "execution_count": 517,
   "id": "0565e07e",
   "metadata": {},
   "outputs": [],
   "source": [
    "for i in range(len(test)):\n",
    "    test.loc[i,'Text'] = corpus[i]"
   ]
  },
  {
   "cell_type": "code",
   "execution_count": 518,
   "id": "97aa2ca5",
   "metadata": {},
   "outputs": [
    {
     "data": {
      "text/html": [
       "<div>\n",
       "<style scoped>\n",
       "    .dataframe tbody tr th:only-of-type {\n",
       "        vertical-align: middle;\n",
       "    }\n",
       "\n",
       "    .dataframe tbody tr th {\n",
       "        vertical-align: top;\n",
       "    }\n",
       "\n",
       "    .dataframe thead th {\n",
       "        text-align: right;\n",
       "    }\n",
       "</style>\n",
       "<table border=\"1\" class=\"dataframe\">\n",
       "  <thead>\n",
       "    <tr style=\"text-align: right;\">\n",
       "      <th></th>\n",
       "      <th>ID</th>\n",
       "      <th>Text</th>\n",
       "    </tr>\n",
       "  </thead>\n",
       "  <tbody>\n",
       "    <tr>\n",
       "      <th>0</th>\n",
       "      <td>1861</td>\n",
       "      <td>goodbye kettlesyard see year http co wfjbaiwbfm</td>\n",
       "    </tr>\n",
       "    <tr>\n",
       "      <th>1</th>\n",
       "      <td>354</td>\n",
       "      <td>bbc culture plymouthmuseum oh dear dame laura ...</td>\n",
       "    </tr>\n",
       "    <tr>\n",
       "      <th>2</th>\n",
       "      <td>1334</td>\n",
       "      <td>fantastic johnmcdonnellmp standing worker nati...</td>\n",
       "    </tr>\n",
       "    <tr>\n",
       "      <th>3</th>\n",
       "      <td>906</td>\n",
       "      <td>bbc culture plymouthmuseum oh dear dame laura ...</td>\n",
       "    </tr>\n",
       "    <tr>\n",
       "      <th>4</th>\n",
       "      <td>1290</td>\n",
       "      <td>britishmuseum tripadvisor</td>\n",
       "    </tr>\n",
       "  </tbody>\n",
       "</table>\n",
       "</div>"
      ],
      "text/plain": [
       "     ID                                               Text\n",
       "0  1861    goodbye kettlesyard see year http co wfjbaiwbfm\n",
       "1   354  bbc culture plymouthmuseum oh dear dame laura ...\n",
       "2  1334  fantastic johnmcdonnellmp standing worker nati...\n",
       "3   906  bbc culture plymouthmuseum oh dear dame laura ...\n",
       "4  1290                          britishmuseum tripadvisor"
      ]
     },
     "execution_count": 518,
     "metadata": {},
     "output_type": "execute_result"
    }
   ],
   "source": [
    "test.head()"
   ]
  },
  {
   "cell_type": "code",
   "execution_count": 519,
   "id": "d80debe9",
   "metadata": {},
   "outputs": [
    {
     "data": {
      "text/plain": [
       "(400, 2)"
      ]
     },
     "execution_count": 519,
     "metadata": {},
     "output_type": "execute_result"
    }
   ],
   "source": [
    "test.shape"
   ]
  },
  {
   "cell_type": "code",
   "execution_count": 520,
   "id": "b9aed3e5",
   "metadata": {},
   "outputs": [],
   "source": [
    "bow_test = cv.fit_transform(test['Text']).toarray()"
   ]
  },
  {
   "cell_type": "code",
   "execution_count": 521,
   "id": "7d4ac76d",
   "metadata": {},
   "outputs": [
    {
     "data": {
      "text/plain": [
       "array([[0, 0, 0, ..., 0, 0, 0],\n",
       "       [0, 0, 0, ..., 0, 0, 0],\n",
       "       [0, 0, 0, ..., 0, 0, 0],\n",
       "       ...,\n",
       "       [0, 0, 0, ..., 0, 0, 0],\n",
       "       [0, 0, 0, ..., 0, 0, 0],\n",
       "       [0, 0, 0, ..., 0, 0, 0]], dtype=int64)"
      ]
     },
     "execution_count": 521,
     "metadata": {},
     "output_type": "execute_result"
    }
   ],
   "source": [
    "bow_test"
   ]
  },
  {
   "cell_type": "code",
   "execution_count": 522,
   "id": "f63f0fee",
   "metadata": {},
   "outputs": [
    {
     "data": {
      "text/plain": [
       "(400, 500)"
      ]
     },
     "execution_count": 522,
     "metadata": {},
     "output_type": "execute_result"
    }
   ],
   "source": [
    "bow_test.shape"
   ]
  },
  {
   "cell_type": "code",
   "execution_count": 523,
   "id": "3f2621d5",
   "metadata": {},
   "outputs": [
    {
     "data": {
      "text/html": [
       "<div>\n",
       "<style scoped>\n",
       "    .dataframe tbody tr th:only-of-type {\n",
       "        vertical-align: middle;\n",
       "    }\n",
       "\n",
       "    .dataframe tbody tr th {\n",
       "        vertical-align: top;\n",
       "    }\n",
       "\n",
       "    .dataframe thead th {\n",
       "        text-align: right;\n",
       "    }\n",
       "</style>\n",
       "<table border=\"1\" class=\"dataframe\">\n",
       "  <thead>\n",
       "    <tr style=\"text-align: right;\">\n",
       "      <th></th>\n",
       "      <th>ID</th>\n",
       "      <th>Text</th>\n",
       "    </tr>\n",
       "  </thead>\n",
       "  <tbody>\n",
       "    <tr>\n",
       "      <th>0</th>\n",
       "      <td>1861</td>\n",
       "      <td>goodbye kettlesyard see year http co wfjbaiwbfm</td>\n",
       "    </tr>\n",
       "    <tr>\n",
       "      <th>1</th>\n",
       "      <td>354</td>\n",
       "      <td>bbc culture plymouthmuseum oh dear dame laura ...</td>\n",
       "    </tr>\n",
       "    <tr>\n",
       "      <th>2</th>\n",
       "      <td>1334</td>\n",
       "      <td>fantastic johnmcdonnellmp standing worker nati...</td>\n",
       "    </tr>\n",
       "    <tr>\n",
       "      <th>3</th>\n",
       "      <td>906</td>\n",
       "      <td>bbc culture plymouthmuseum oh dear dame laura ...</td>\n",
       "    </tr>\n",
       "    <tr>\n",
       "      <th>4</th>\n",
       "      <td>1290</td>\n",
       "      <td>britishmuseum tripadvisor</td>\n",
       "    </tr>\n",
       "  </tbody>\n",
       "</table>\n",
       "</div>"
      ],
      "text/plain": [
       "     ID                                               Text\n",
       "0  1861    goodbye kettlesyard see year http co wfjbaiwbfm\n",
       "1   354  bbc culture plymouthmuseum oh dear dame laura ...\n",
       "2  1334  fantastic johnmcdonnellmp standing worker nati...\n",
       "3   906  bbc culture plymouthmuseum oh dear dame laura ...\n",
       "4  1290                          britishmuseum tripadvisor"
      ]
     },
     "execution_count": 523,
     "metadata": {},
     "output_type": "execute_result"
    }
   ],
   "source": [
    "test.head()"
   ]
  },
  {
   "cell_type": "code",
   "execution_count": null,
   "id": "12591577",
   "metadata": {},
   "outputs": [],
   "source": []
  },
  {
   "cell_type": "code",
   "execution_count": 524,
   "id": "194a0461",
   "metadata": {},
   "outputs": [],
   "source": [
    "y_pred_test_submission = xgb_classifier.predict(bow_test)"
   ]
  },
  {
   "cell_type": "code",
   "execution_count": 525,
   "id": "2df8bd3e",
   "metadata": {},
   "outputs": [
    {
     "data": {
      "text/plain": [
       "array([3, 3, 2, 3, 2, 2, 2, 1, 2, 2, 0, 1, 0, 1, 2, 2, 2, 3, 3, 3, 0, 1,\n",
       "       3, 2, 1, 2, 0, 2, 2, 2, 2, 2, 2, 3, 2, 2, 2, 3, 3, 3, 1, 2, 0, 2,\n",
       "       2, 1, 0, 0, 3, 0, 3, 0, 1, 0, 1, 1, 1, 2, 0, 0, 3, 3, 0, 0, 0, 2,\n",
       "       2, 2, 3, 2, 0, 1, 1, 0, 2, 1, 2, 1, 3, 0, 2, 2, 2, 2, 0, 2, 2, 2,\n",
       "       3, 1, 3, 1, 2, 0, 1, 3, 2, 0, 2, 0, 3, 3, 2, 2, 2, 2, 3, 1, 2, 2,\n",
       "       0, 2, 1, 3, 0, 2, 2, 1, 3, 2, 3, 2, 0, 2, 2, 3, 2, 2, 2, 3, 1, 2,\n",
       "       0, 3, 1, 3, 2, 2, 0, 0, 2, 3, 2, 1, 2, 2, 3, 2, 2, 1, 3, 0, 1, 2,\n",
       "       2, 3, 2, 2, 2, 0, 1, 2, 2, 3, 2, 2, 1, 1, 0, 2, 2, 3, 1, 2, 1, 2,\n",
       "       1, 0, 2, 0, 1, 0, 3, 3, 0, 1, 0, 2, 2, 2, 3, 3, 2, 0, 1, 1, 0, 2,\n",
       "       2, 1, 2, 2, 1, 0, 2, 2, 3, 0, 3, 3, 1, 2, 2, 3, 2, 3, 0, 2, 2, 0,\n",
       "       3, 3, 3, 1, 0, 2, 2, 0, 1, 0, 2, 2, 2, 2, 2, 2, 3, 2, 0, 2, 3, 1,\n",
       "       2, 3, 2, 2, 0, 2, 1, 2, 2, 0, 0, 2, 2, 2, 3, 0, 1, 0, 2, 3, 2, 1,\n",
       "       1, 3, 3, 2, 1, 2, 0, 2, 1, 0, 1, 2, 2, 2, 0, 2, 2, 3, 2, 3, 0, 2,\n",
       "       2, 1, 3, 1, 2, 0, 2, 0, 2, 0, 2, 0, 3, 3, 2, 0, 2, 2, 3, 2, 0, 2,\n",
       "       2, 1, 2, 2, 2, 2, 2, 2, 2, 2, 2, 2, 3, 2, 3, 2, 2, 2, 2, 2, 2, 3,\n",
       "       2, 0, 2, 2, 2, 2, 2, 1, 0, 0, 3, 2, 3, 1, 3, 2, 2, 0, 2, 2, 3, 2,\n",
       "       1, 0, 2, 2, 2, 0, 1, 2, 2, 2, 2, 2, 3, 1, 0, 3, 2, 2, 3, 2, 3, 2,\n",
       "       1, 3, 2, 2, 3, 3, 2, 3, 0, 2, 2, 3, 3, 3, 2, 2, 3, 0, 0, 0, 0, 2,\n",
       "       2, 1, 2, 0], dtype=int64)"
      ]
     },
     "execution_count": 525,
     "metadata": {},
     "output_type": "execute_result"
    }
   ],
   "source": [
    "y_pred_test_submission"
   ]
  },
  {
   "cell_type": "code",
   "execution_count": 526,
   "id": "eea88188",
   "metadata": {},
   "outputs": [
    {
     "data": {
      "text/plain": [
       "(400,)"
      ]
     },
     "execution_count": 526,
     "metadata": {},
     "output_type": "execute_result"
    }
   ],
   "source": [
    "y_pred_test_submission.shape"
   ]
  },
  {
   "cell_type": "code",
   "execution_count": 527,
   "id": "66581aa8",
   "metadata": {},
   "outputs": [
    {
     "data": {
      "text/html": [
       "<div>\n",
       "<style scoped>\n",
       "    .dataframe tbody tr th:only-of-type {\n",
       "        vertical-align: middle;\n",
       "    }\n",
       "\n",
       "    .dataframe tbody tr th {\n",
       "        vertical-align: top;\n",
       "    }\n",
       "\n",
       "    .dataframe thead th {\n",
       "        text-align: right;\n",
       "    }\n",
       "</style>\n",
       "<table border=\"1\" class=\"dataframe\">\n",
       "  <thead>\n",
       "    <tr style=\"text-align: right;\">\n",
       "      <th></th>\n",
       "      <th>ID</th>\n",
       "      <th>Text</th>\n",
       "    </tr>\n",
       "  </thead>\n",
       "  <tbody>\n",
       "    <tr>\n",
       "      <th>0</th>\n",
       "      <td>1861</td>\n",
       "      <td>goodbye kettlesyard see year http co wfjbaiwbfm</td>\n",
       "    </tr>\n",
       "    <tr>\n",
       "      <th>1</th>\n",
       "      <td>354</td>\n",
       "      <td>bbc culture plymouthmuseum oh dear dame laura ...</td>\n",
       "    </tr>\n",
       "    <tr>\n",
       "      <th>2</th>\n",
       "      <td>1334</td>\n",
       "      <td>fantastic johnmcdonnellmp standing worker nati...</td>\n",
       "    </tr>\n",
       "    <tr>\n",
       "      <th>3</th>\n",
       "      <td>906</td>\n",
       "      <td>bbc culture plymouthmuseum oh dear dame laura ...</td>\n",
       "    </tr>\n",
       "    <tr>\n",
       "      <th>4</th>\n",
       "      <td>1290</td>\n",
       "      <td>britishmuseum tripadvisor</td>\n",
       "    </tr>\n",
       "  </tbody>\n",
       "</table>\n",
       "</div>"
      ],
      "text/plain": [
       "     ID                                               Text\n",
       "0  1861    goodbye kettlesyard see year http co wfjbaiwbfm\n",
       "1   354  bbc culture plymouthmuseum oh dear dame laura ...\n",
       "2  1334  fantastic johnmcdonnellmp standing worker nati...\n",
       "3   906  bbc culture plymouthmuseum oh dear dame laura ...\n",
       "4  1290                          britishmuseum tripadvisor"
      ]
     },
     "execution_count": 527,
     "metadata": {},
     "output_type": "execute_result"
    }
   ],
   "source": [
    "test.head()"
   ]
  },
  {
   "cell_type": "code",
   "execution_count": 528,
   "id": "a6238001",
   "metadata": {},
   "outputs": [
    {
     "data": {
      "text/plain": [
       "(400, 2)"
      ]
     },
     "execution_count": 528,
     "metadata": {},
     "output_type": "execute_result"
    }
   ],
   "source": [
    "test.shape"
   ]
  },
  {
   "cell_type": "code",
   "execution_count": 529,
   "id": "52040b8c",
   "metadata": {},
   "outputs": [],
   "source": [
    "submission = pd.read_csv('dataset/sample_submission.csv')"
   ]
  },
  {
   "cell_type": "code",
   "execution_count": 530,
   "id": "499666a6",
   "metadata": {},
   "outputs": [
    {
     "data": {
      "text/html": [
       "<div>\n",
       "<style scoped>\n",
       "    .dataframe tbody tr th:only-of-type {\n",
       "        vertical-align: middle;\n",
       "    }\n",
       "\n",
       "    .dataframe tbody tr th {\n",
       "        vertical-align: top;\n",
       "    }\n",
       "\n",
       "    .dataframe thead th {\n",
       "        text-align: right;\n",
       "    }\n",
       "</style>\n",
       "<table border=\"1\" class=\"dataframe\">\n",
       "  <thead>\n",
       "    <tr style=\"text-align: right;\">\n",
       "      <th></th>\n",
       "      <th>ID</th>\n",
       "      <th>Prediction</th>\n",
       "    </tr>\n",
       "  </thead>\n",
       "  <tbody>\n",
       "    <tr>\n",
       "      <th>0</th>\n",
       "      <td>1861</td>\n",
       "      <td>0</td>\n",
       "    </tr>\n",
       "    <tr>\n",
       "      <th>1</th>\n",
       "      <td>354</td>\n",
       "      <td>0</td>\n",
       "    </tr>\n",
       "    <tr>\n",
       "      <th>2</th>\n",
       "      <td>1334</td>\n",
       "      <td>0</td>\n",
       "    </tr>\n",
       "    <tr>\n",
       "      <th>3</th>\n",
       "      <td>906</td>\n",
       "      <td>0</td>\n",
       "    </tr>\n",
       "    <tr>\n",
       "      <th>4</th>\n",
       "      <td>1290</td>\n",
       "      <td>0</td>\n",
       "    </tr>\n",
       "  </tbody>\n",
       "</table>\n",
       "</div>"
      ],
      "text/plain": [
       "     ID  Prediction\n",
       "0  1861           0\n",
       "1   354           0\n",
       "2  1334           0\n",
       "3   906           0\n",
       "4  1290           0"
      ]
     },
     "execution_count": 530,
     "metadata": {},
     "output_type": "execute_result"
    }
   ],
   "source": [
    "submission.head()"
   ]
  },
  {
   "cell_type": "code",
   "execution_count": 531,
   "id": "e196601c",
   "metadata": {},
   "outputs": [
    {
     "data": {
      "text/plain": [
       "(400, 2)"
      ]
     },
     "execution_count": 531,
     "metadata": {},
     "output_type": "execute_result"
    }
   ],
   "source": [
    "submission.shape"
   ]
  },
  {
   "cell_type": "code",
   "execution_count": 532,
   "id": "8c85b7bb",
   "metadata": {},
   "outputs": [],
   "source": [
    "for i in range(len(submission)):\n",
    "    submission.loc[i , 'Prediction'] = y_pred_test_submission[i]"
   ]
  },
  {
   "cell_type": "code",
   "execution_count": 533,
   "id": "3ad3bcab",
   "metadata": {},
   "outputs": [
    {
     "data": {
      "text/html": [
       "<div>\n",
       "<style scoped>\n",
       "    .dataframe tbody tr th:only-of-type {\n",
       "        vertical-align: middle;\n",
       "    }\n",
       "\n",
       "    .dataframe tbody tr th {\n",
       "        vertical-align: top;\n",
       "    }\n",
       "\n",
       "    .dataframe thead th {\n",
       "        text-align: right;\n",
       "    }\n",
       "</style>\n",
       "<table border=\"1\" class=\"dataframe\">\n",
       "  <thead>\n",
       "    <tr style=\"text-align: right;\">\n",
       "      <th></th>\n",
       "      <th>ID</th>\n",
       "      <th>Prediction</th>\n",
       "    </tr>\n",
       "  </thead>\n",
       "  <tbody>\n",
       "    <tr>\n",
       "      <th>0</th>\n",
       "      <td>1861</td>\n",
       "      <td>3</td>\n",
       "    </tr>\n",
       "    <tr>\n",
       "      <th>1</th>\n",
       "      <td>354</td>\n",
       "      <td>3</td>\n",
       "    </tr>\n",
       "    <tr>\n",
       "      <th>2</th>\n",
       "      <td>1334</td>\n",
       "      <td>2</td>\n",
       "    </tr>\n",
       "    <tr>\n",
       "      <th>3</th>\n",
       "      <td>906</td>\n",
       "      <td>3</td>\n",
       "    </tr>\n",
       "    <tr>\n",
       "      <th>4</th>\n",
       "      <td>1290</td>\n",
       "      <td>2</td>\n",
       "    </tr>\n",
       "  </tbody>\n",
       "</table>\n",
       "</div>"
      ],
      "text/plain": [
       "     ID  Prediction\n",
       "0  1861           3\n",
       "1   354           3\n",
       "2  1334           2\n",
       "3   906           3\n",
       "4  1290           2"
      ]
     },
     "execution_count": 533,
     "metadata": {},
     "output_type": "execute_result"
    }
   ],
   "source": [
    "submission.head()"
   ]
  },
  {
   "cell_type": "code",
   "execution_count": 534,
   "id": "186dc944",
   "metadata": {},
   "outputs": [],
   "source": [
    "## Saving File"
   ]
  },
  {
   "cell_type": "code",
   "execution_count": 536,
   "id": "d3f3bbda",
   "metadata": {},
   "outputs": [],
   "source": [
    "submission.to_csv('submission.csv', index=False)  # 'index=False' prevents saving the index column\n"
   ]
  },
  {
   "cell_type": "code",
   "execution_count": null,
   "id": "97f15a99",
   "metadata": {},
   "outputs": [],
   "source": []
  },
  {
   "cell_type": "code",
   "execution_count": 548,
   "id": "d6eab738",
   "metadata": {},
   "outputs": [],
   "source": [
    "## TF-IDF"
   ]
  },
  {
   "cell_type": "code",
   "execution_count": 549,
   "id": "8ecc14a6",
   "metadata": {},
   "outputs": [
    {
     "data": {
      "text/html": [
       "<div>\n",
       "<style scoped>\n",
       "    .dataframe tbody tr th:only-of-type {\n",
       "        vertical-align: middle;\n",
       "    }\n",
       "\n",
       "    .dataframe tbody tr th {\n",
       "        vertical-align: top;\n",
       "    }\n",
       "\n",
       "    .dataframe thead th {\n",
       "        text-align: right;\n",
       "    }\n",
       "</style>\n",
       "<table border=\"1\" class=\"dataframe\">\n",
       "  <thead>\n",
       "    <tr style=\"text-align: right;\">\n",
       "      <th></th>\n",
       "      <th>ID</th>\n",
       "      <th>Text</th>\n",
       "      <th>Category</th>\n",
       "    </tr>\n",
       "  </thead>\n",
       "  <tbody>\n",
       "    <tr>\n",
       "      <th>0</th>\n",
       "      <td>969</td>\n",
       "      <td>juliabradbury simoncalder walsop hodderpriba t...</td>\n",
       "      <td>0</td>\n",
       "    </tr>\n",
       "    <tr>\n",
       "      <th>1</th>\n",
       "      <td>241</td>\n",
       "      <td>http co r easn house solutio proposed meet fle...</td>\n",
       "      <td>1</td>\n",
       "    </tr>\n",
       "    <tr>\n",
       "      <th>2</th>\n",
       "      <td>820</td>\n",
       "      <td>britshmuseum thehistoryguy gosh periscope defi...</td>\n",
       "      <td>2</td>\n",
       "    </tr>\n",
       "    <tr>\n",
       "      <th>3</th>\n",
       "      <td>693</td>\n",
       "      <td>ophiolatrist britishmuseum stupid french prick...</td>\n",
       "      <td>1</td>\n",
       "    </tr>\n",
       "    <tr>\n",
       "      <th>4</th>\n",
       "      <td>421</td>\n",
       "      <td>sassyclde wo n stop til britishmuseum dump bp ...</td>\n",
       "      <td>1</td>\n",
       "    </tr>\n",
       "  </tbody>\n",
       "</table>\n",
       "</div>"
      ],
      "text/plain": [
       "    ID                                               Text  Category\n",
       "0  969  juliabradbury simoncalder walsop hodderpriba t...         0\n",
       "1  241  http co r easn house solutio proposed meet fle...         1\n",
       "2  820  britshmuseum thehistoryguy gosh periscope defi...         2\n",
       "3  693  ophiolatrist britishmuseum stupid french prick...         1\n",
       "4  421  sassyclde wo n stop til britishmuseum dump bp ...         1"
      ]
     },
     "execution_count": 549,
     "metadata": {},
     "output_type": "execute_result"
    }
   ],
   "source": [
    "train.head()"
   ]
  },
  {
   "cell_type": "code",
   "execution_count": 551,
   "id": "e833bf49",
   "metadata": {},
   "outputs": [
    {
     "data": {
      "text/plain": [
       "Category\n",
       "1    25.5625\n",
       "3    25.2500\n",
       "0    24.6250\n",
       "2    24.5625\n",
       "Name: count, dtype: float64"
      ]
     },
     "execution_count": 551,
     "metadata": {},
     "output_type": "execute_result"
    }
   ],
   "source": [
    "train['Category'].value_counts()/len(train)*100"
   ]
  },
  {
   "cell_type": "code",
   "execution_count": null,
   "id": "947443c8",
   "metadata": {},
   "outputs": [],
   "source": []
  },
  {
   "cell_type": "code",
   "execution_count": null,
   "id": "1569f3f4",
   "metadata": {},
   "outputs": [],
   "source": []
  },
  {
   "cell_type": "markdown",
   "id": "5e20a004",
   "metadata": {},
   "source": [
    "## TF-IDF & Random Forest"
   ]
  },
  {
   "cell_type": "code",
   "execution_count": 581,
   "id": "0c30b3d2",
   "metadata": {},
   "outputs": [
    {
     "data": {
      "text/html": [
       "<div>\n",
       "<style scoped>\n",
       "    .dataframe tbody tr th:only-of-type {\n",
       "        vertical-align: middle;\n",
       "    }\n",
       "\n",
       "    .dataframe tbody tr th {\n",
       "        vertical-align: top;\n",
       "    }\n",
       "\n",
       "    .dataframe thead th {\n",
       "        text-align: right;\n",
       "    }\n",
       "</style>\n",
       "<table border=\"1\" class=\"dataframe\">\n",
       "  <thead>\n",
       "    <tr style=\"text-align: right;\">\n",
       "      <th></th>\n",
       "      <th>ID</th>\n",
       "      <th>Text</th>\n",
       "      <th>Category</th>\n",
       "    </tr>\n",
       "  </thead>\n",
       "  <tbody>\n",
       "    <tr>\n",
       "      <th>0</th>\n",
       "      <td>969</td>\n",
       "      <td>juliabradbury simoncalder walsop hodderpriba t...</td>\n",
       "      <td>0</td>\n",
       "    </tr>\n",
       "    <tr>\n",
       "      <th>1</th>\n",
       "      <td>241</td>\n",
       "      <td>http co r easn house solutio proposed meet fle...</td>\n",
       "      <td>1</td>\n",
       "    </tr>\n",
       "    <tr>\n",
       "      <th>2</th>\n",
       "      <td>820</td>\n",
       "      <td>britshmuseum thehistoryguy gosh periscope defi...</td>\n",
       "      <td>2</td>\n",
       "    </tr>\n",
       "    <tr>\n",
       "      <th>3</th>\n",
       "      <td>693</td>\n",
       "      <td>ophiolatrist britishmuseum stupid french prick...</td>\n",
       "      <td>1</td>\n",
       "    </tr>\n",
       "    <tr>\n",
       "      <th>4</th>\n",
       "      <td>421</td>\n",
       "      <td>sassyclde wo n stop til britishmuseum dump bp ...</td>\n",
       "      <td>1</td>\n",
       "    </tr>\n",
       "  </tbody>\n",
       "</table>\n",
       "</div>"
      ],
      "text/plain": [
       "    ID                                               Text  Category\n",
       "0  969  juliabradbury simoncalder walsop hodderpriba t...         0\n",
       "1  241  http co r easn house solutio proposed meet fle...         1\n",
       "2  820  britshmuseum thehistoryguy gosh periscope defi...         2\n",
       "3  693  ophiolatrist britishmuseum stupid french prick...         1\n",
       "4  421  sassyclde wo n stop til britishmuseum dump bp ...         1"
      ]
     },
     "execution_count": 581,
     "metadata": {},
     "output_type": "execute_result"
    }
   ],
   "source": [
    "train.head()"
   ]
  },
  {
   "cell_type": "code",
   "execution_count": 582,
   "id": "66aa4e04",
   "metadata": {},
   "outputs": [
    {
     "data": {
      "text/html": [
       "<div>\n",
       "<style scoped>\n",
       "    .dataframe tbody tr th:only-of-type {\n",
       "        vertical-align: middle;\n",
       "    }\n",
       "\n",
       "    .dataframe tbody tr th {\n",
       "        vertical-align: top;\n",
       "    }\n",
       "\n",
       "    .dataframe thead th {\n",
       "        text-align: right;\n",
       "    }\n",
       "</style>\n",
       "<table border=\"1\" class=\"dataframe\">\n",
       "  <thead>\n",
       "    <tr style=\"text-align: right;\">\n",
       "      <th></th>\n",
       "      <th>ID</th>\n",
       "      <th>Text</th>\n",
       "    </tr>\n",
       "  </thead>\n",
       "  <tbody>\n",
       "    <tr>\n",
       "      <th>0</th>\n",
       "      <td>1861</td>\n",
       "      <td>Goodbye @kettlesyard see you in .25 years! htt...</td>\n",
       "    </tr>\n",
       "    <tr>\n",
       "      <th>1</th>\n",
       "      <td>354</td>\n",
       "      <td>@BBC_Culture @PlymouthMuseum Oh dear, why not ...</td>\n",
       "    </tr>\n",
       "    <tr>\n",
       "      <th>2</th>\n",
       "      <td>1334</td>\n",
       "      <td>Fantastic @johnmcdonnellMP standing up for wor...</td>\n",
       "    </tr>\n",
       "    <tr>\n",
       "      <th>3</th>\n",
       "      <td>906</td>\n",
       "      <td>@BBC_Culture @PlymouthMuseum Oh dear, why not ...</td>\n",
       "    </tr>\n",
       "    <tr>\n",
       "      <th>4</th>\n",
       "      <td>1290</td>\n",
       "      <td>@britishmuseum @TripAdvisor it is !</td>\n",
       "    </tr>\n",
       "  </tbody>\n",
       "</table>\n",
       "</div>"
      ],
      "text/plain": [
       "     ID                                               Text\n",
       "0  1861  Goodbye @kettlesyard see you in .25 years! htt...\n",
       "1   354  @BBC_Culture @PlymouthMuseum Oh dear, why not ...\n",
       "2  1334  Fantastic @johnmcdonnellMP standing up for wor...\n",
       "3   906  @BBC_Culture @PlymouthMuseum Oh dear, why not ...\n",
       "4  1290                @britishmuseum @TripAdvisor it is !"
      ]
     },
     "execution_count": 582,
     "metadata": {},
     "output_type": "execute_result"
    }
   ],
   "source": [
    "test.head()"
   ]
  },
  {
   "cell_type": "code",
   "execution_count": 583,
   "id": "9b5daf62",
   "metadata": {},
   "outputs": [],
   "source": [
    "x_train , x_test , y_train , y_test = train_test_split(train['Text'] , train['Category'] , \n",
    "                                                       test_size=0.3 ,random_state=101)"
   ]
  },
  {
   "cell_type": "code",
   "execution_count": null,
   "id": "bad5483e",
   "metadata": {},
   "outputs": [],
   "source": []
  },
  {
   "cell_type": "code",
   "execution_count": 584,
   "id": "d4b19e73",
   "metadata": {},
   "outputs": [],
   "source": [
    "from sklearn.feature_extraction.text import TfidfVectorizer\n",
    "from sklearn.ensemble import RandomForestClassifier\n",
    "from sklearn.svm import SVC\n"
   ]
  },
  {
   "cell_type": "code",
   "execution_count": 585,
   "id": "e923c591",
   "metadata": {},
   "outputs": [],
   "source": [
    "tfidf = Pipeline([\n",
    "                       ('TF-IDF', TfidfVectorizer()),\n",
    "                       ('Classifier',RandomForestClassifier())\n",
    "                      ])"
   ]
  },
  {
   "cell_type": "code",
   "execution_count": 586,
   "id": "2e519506",
   "metadata": {},
   "outputs": [
    {
     "data": {
      "text/html": [
       "<style>#sk-container-id-10 {color: black;}#sk-container-id-10 pre{padding: 0;}#sk-container-id-10 div.sk-toggleable {background-color: white;}#sk-container-id-10 label.sk-toggleable__label {cursor: pointer;display: block;width: 100%;margin-bottom: 0;padding: 0.3em;box-sizing: border-box;text-align: center;}#sk-container-id-10 label.sk-toggleable__label-arrow:before {content: \"▸\";float: left;margin-right: 0.25em;color: #696969;}#sk-container-id-10 label.sk-toggleable__label-arrow:hover:before {color: black;}#sk-container-id-10 div.sk-estimator:hover label.sk-toggleable__label-arrow:before {color: black;}#sk-container-id-10 div.sk-toggleable__content {max-height: 0;max-width: 0;overflow: hidden;text-align: left;background-color: #f0f8ff;}#sk-container-id-10 div.sk-toggleable__content pre {margin: 0.2em;color: black;border-radius: 0.25em;background-color: #f0f8ff;}#sk-container-id-10 input.sk-toggleable__control:checked~div.sk-toggleable__content {max-height: 200px;max-width: 100%;overflow: auto;}#sk-container-id-10 input.sk-toggleable__control:checked~label.sk-toggleable__label-arrow:before {content: \"▾\";}#sk-container-id-10 div.sk-estimator input.sk-toggleable__control:checked~label.sk-toggleable__label {background-color: #d4ebff;}#sk-container-id-10 div.sk-label input.sk-toggleable__control:checked~label.sk-toggleable__label {background-color: #d4ebff;}#sk-container-id-10 input.sk-hidden--visually {border: 0;clip: rect(1px 1px 1px 1px);clip: rect(1px, 1px, 1px, 1px);height: 1px;margin: -1px;overflow: hidden;padding: 0;position: absolute;width: 1px;}#sk-container-id-10 div.sk-estimator {font-family: monospace;background-color: #f0f8ff;border: 1px dotted black;border-radius: 0.25em;box-sizing: border-box;margin-bottom: 0.5em;}#sk-container-id-10 div.sk-estimator:hover {background-color: #d4ebff;}#sk-container-id-10 div.sk-parallel-item::after {content: \"\";width: 100%;border-bottom: 1px solid gray;flex-grow: 1;}#sk-container-id-10 div.sk-label:hover label.sk-toggleable__label {background-color: #d4ebff;}#sk-container-id-10 div.sk-serial::before {content: \"\";position: absolute;border-left: 1px solid gray;box-sizing: border-box;top: 0;bottom: 0;left: 50%;z-index: 0;}#sk-container-id-10 div.sk-serial {display: flex;flex-direction: column;align-items: center;background-color: white;padding-right: 0.2em;padding-left: 0.2em;position: relative;}#sk-container-id-10 div.sk-item {position: relative;z-index: 1;}#sk-container-id-10 div.sk-parallel {display: flex;align-items: stretch;justify-content: center;background-color: white;position: relative;}#sk-container-id-10 div.sk-item::before, #sk-container-id-10 div.sk-parallel-item::before {content: \"\";position: absolute;border-left: 1px solid gray;box-sizing: border-box;top: 0;bottom: 0;left: 50%;z-index: -1;}#sk-container-id-10 div.sk-parallel-item {display: flex;flex-direction: column;z-index: 1;position: relative;background-color: white;}#sk-container-id-10 div.sk-parallel-item:first-child::after {align-self: flex-end;width: 50%;}#sk-container-id-10 div.sk-parallel-item:last-child::after {align-self: flex-start;width: 50%;}#sk-container-id-10 div.sk-parallel-item:only-child::after {width: 0;}#sk-container-id-10 div.sk-dashed-wrapped {border: 1px dashed gray;margin: 0 0.4em 0.5em 0.4em;box-sizing: border-box;padding-bottom: 0.4em;background-color: white;}#sk-container-id-10 div.sk-label label {font-family: monospace;font-weight: bold;display: inline-block;line-height: 1.2em;}#sk-container-id-10 div.sk-label-container {text-align: center;}#sk-container-id-10 div.sk-container {/* jupyter's `normalize.less` sets `[hidden] { display: none; }` but bootstrap.min.css set `[hidden] { display: none !important; }` so we also need the `!important` here to be able to override the default hidden behavior on the sphinx rendered scikit-learn.org. See: https://github.com/scikit-learn/scikit-learn/issues/21755 */display: inline-block !important;position: relative;}#sk-container-id-10 div.sk-text-repr-fallback {display: none;}</style><div id=\"sk-container-id-10\" class=\"sk-top-container\"><div class=\"sk-text-repr-fallback\"><pre>Pipeline(steps=[(&#x27;TF-IDF&#x27;, TfidfVectorizer()),\n",
       "                (&#x27;Classifier&#x27;, RandomForestClassifier())])</pre><b>In a Jupyter environment, please rerun this cell to show the HTML representation or trust the notebook. <br />On GitHub, the HTML representation is unable to render, please try loading this page with nbviewer.org.</b></div><div class=\"sk-container\" hidden><div class=\"sk-item sk-dashed-wrapped\"><div class=\"sk-label-container\"><div class=\"sk-label sk-toggleable\"><input class=\"sk-toggleable__control sk-hidden--visually\" id=\"sk-estimator-id-19\" type=\"checkbox\" ><label for=\"sk-estimator-id-19\" class=\"sk-toggleable__label sk-toggleable__label-arrow\">Pipeline</label><div class=\"sk-toggleable__content\"><pre>Pipeline(steps=[(&#x27;TF-IDF&#x27;, TfidfVectorizer()),\n",
       "                (&#x27;Classifier&#x27;, RandomForestClassifier())])</pre></div></div></div><div class=\"sk-serial\"><div class=\"sk-item\"><div class=\"sk-estimator sk-toggleable\"><input class=\"sk-toggleable__control sk-hidden--visually\" id=\"sk-estimator-id-20\" type=\"checkbox\" ><label for=\"sk-estimator-id-20\" class=\"sk-toggleable__label sk-toggleable__label-arrow\">TfidfVectorizer</label><div class=\"sk-toggleable__content\"><pre>TfidfVectorizer()</pre></div></div></div><div class=\"sk-item\"><div class=\"sk-estimator sk-toggleable\"><input class=\"sk-toggleable__control sk-hidden--visually\" id=\"sk-estimator-id-21\" type=\"checkbox\" ><label for=\"sk-estimator-id-21\" class=\"sk-toggleable__label sk-toggleable__label-arrow\">RandomForestClassifier</label><div class=\"sk-toggleable__content\"><pre>RandomForestClassifier()</pre></div></div></div></div></div></div></div>"
      ],
      "text/plain": [
       "Pipeline(steps=[('TF-IDF', TfidfVectorizer()),\n",
       "                ('Classifier', RandomForestClassifier())])"
      ]
     },
     "execution_count": 586,
     "metadata": {},
     "output_type": "execute_result"
    }
   ],
   "source": [
    "tfidf.fit(x_train,y_train)"
   ]
  },
  {
   "cell_type": "code",
   "execution_count": 588,
   "id": "1b3a2dfb",
   "metadata": {},
   "outputs": [],
   "source": [
    "# Predict the model by using train and test data\n",
    "\n",
    "y_pred_train = tfidf.predict(x_train)\n",
    "y_pred_test = tfidf.predict(x_test)"
   ]
  },
  {
   "cell_type": "code",
   "execution_count": 589,
   "id": "cb01e206",
   "metadata": {},
   "outputs": [
    {
     "name": "stdout",
     "output_type": "stream",
     "text": [
      "[[285   0   0   0]\n",
      " [  0 290   0   0]\n",
      " [  0   0 275   0]\n",
      " [  0   0   0 270]]\n",
      "**************************************************************************************************************\n",
      "[[ 93   2  13   1]\n",
      " [  0 115   4   0]\n",
      " [  6   0 112   0]\n",
      " [  3   0   0 131]]\n"
     ]
    }
   ],
   "source": [
    "print(confusion_matrix(y_train,y_pred_train))\n",
    "print(\"***********\"*10)\n",
    "print(confusion_matrix(y_test,y_pred_test))"
   ]
  },
  {
   "cell_type": "code",
   "execution_count": 590,
   "id": "8d48b259",
   "metadata": {},
   "outputs": [
    {
     "name": "stdout",
     "output_type": "stream",
     "text": [
      "              precision    recall  f1-score   support\n",
      "\n",
      "           0       1.00      1.00      1.00       285\n",
      "           1       1.00      1.00      1.00       290\n",
      "           2       1.00      1.00      1.00       275\n",
      "           3       1.00      1.00      1.00       270\n",
      "\n",
      "    accuracy                           1.00      1120\n",
      "   macro avg       1.00      1.00      1.00      1120\n",
      "weighted avg       1.00      1.00      1.00      1120\n",
      "\n",
      "**************************************************************************************************************\n",
      "              precision    recall  f1-score   support\n",
      "\n",
      "           0       0.91      0.85      0.88       109\n",
      "           1       0.98      0.97      0.97       119\n",
      "           2       0.87      0.95      0.91       118\n",
      "           3       0.99      0.98      0.98       134\n",
      "\n",
      "    accuracy                           0.94       480\n",
      "   macro avg       0.94      0.94      0.94       480\n",
      "weighted avg       0.94      0.94      0.94       480\n",
      "\n"
     ]
    }
   ],
   "source": [
    "print(classification_report(y_train,y_pred_train))\n",
    "print(\"***********\"*10)\n",
    "print(classification_report(y_test,y_pred_test))"
   ]
  },
  {
   "cell_type": "code",
   "execution_count": 591,
   "id": "5d136349",
   "metadata": {},
   "outputs": [
    {
     "name": "stdout",
     "output_type": "stream",
     "text": [
      "1.0\n",
      "**************************************************************************************************************\n",
      "0.9395833333333333\n"
     ]
    }
   ],
   "source": [
    "print(accuracy_score(y_train,y_pred_train))\n",
    "print(\"***********\"*10)\n",
    "print(accuracy_score(y_test,y_pred_test))"
   ]
  },
  {
   "cell_type": "code",
   "execution_count": 592,
   "id": "d513a609",
   "metadata": {},
   "outputs": [],
   "source": [
    "y_pred_test_submission = tfidf.predict(test['Text'])"
   ]
  },
  {
   "cell_type": "code",
   "execution_count": 593,
   "id": "7527dcd9",
   "metadata": {},
   "outputs": [],
   "source": [
    "submission = pd.read_csv('dataset/sample_submission.csv')"
   ]
  },
  {
   "cell_type": "code",
   "execution_count": 594,
   "id": "385da158",
   "metadata": {},
   "outputs": [],
   "source": [
    "for i in range(len(submission)):\n",
    "    submission.loc[i , 'Prediction'] = y_pred_test_submission[i]"
   ]
  },
  {
   "cell_type": "code",
   "execution_count": 595,
   "id": "0d861485",
   "metadata": {},
   "outputs": [],
   "source": [
    "submission.to_csv('submission.csv', index=False)  # 'index=False' prevents saving the index column\n"
   ]
  },
  {
   "cell_type": "code",
   "execution_count": null,
   "id": "cdcdc62f",
   "metadata": {},
   "outputs": [],
   "source": []
  },
  {
   "cell_type": "markdown",
   "id": "afd58cac",
   "metadata": {},
   "source": [
    "## TF-IDF & SVM"
   ]
  },
  {
   "cell_type": "code",
   "execution_count": 614,
   "id": "c820c3b6",
   "metadata": {},
   "outputs": [],
   "source": [
    "svm = Pipeline([\n",
    "                       ('TF-IDF', TfidfVectorizer()),\n",
    "                       ('Classifier',SVC())\n",
    "                      ])"
   ]
  },
  {
   "cell_type": "code",
   "execution_count": 615,
   "id": "086136f7",
   "metadata": {},
   "outputs": [
    {
     "data": {
      "text/html": [
       "<style>#sk-container-id-13 {color: black;}#sk-container-id-13 pre{padding: 0;}#sk-container-id-13 div.sk-toggleable {background-color: white;}#sk-container-id-13 label.sk-toggleable__label {cursor: pointer;display: block;width: 100%;margin-bottom: 0;padding: 0.3em;box-sizing: border-box;text-align: center;}#sk-container-id-13 label.sk-toggleable__label-arrow:before {content: \"▸\";float: left;margin-right: 0.25em;color: #696969;}#sk-container-id-13 label.sk-toggleable__label-arrow:hover:before {color: black;}#sk-container-id-13 div.sk-estimator:hover label.sk-toggleable__label-arrow:before {color: black;}#sk-container-id-13 div.sk-toggleable__content {max-height: 0;max-width: 0;overflow: hidden;text-align: left;background-color: #f0f8ff;}#sk-container-id-13 div.sk-toggleable__content pre {margin: 0.2em;color: black;border-radius: 0.25em;background-color: #f0f8ff;}#sk-container-id-13 input.sk-toggleable__control:checked~div.sk-toggleable__content {max-height: 200px;max-width: 100%;overflow: auto;}#sk-container-id-13 input.sk-toggleable__control:checked~label.sk-toggleable__label-arrow:before {content: \"▾\";}#sk-container-id-13 div.sk-estimator input.sk-toggleable__control:checked~label.sk-toggleable__label {background-color: #d4ebff;}#sk-container-id-13 div.sk-label input.sk-toggleable__control:checked~label.sk-toggleable__label {background-color: #d4ebff;}#sk-container-id-13 input.sk-hidden--visually {border: 0;clip: rect(1px 1px 1px 1px);clip: rect(1px, 1px, 1px, 1px);height: 1px;margin: -1px;overflow: hidden;padding: 0;position: absolute;width: 1px;}#sk-container-id-13 div.sk-estimator {font-family: monospace;background-color: #f0f8ff;border: 1px dotted black;border-radius: 0.25em;box-sizing: border-box;margin-bottom: 0.5em;}#sk-container-id-13 div.sk-estimator:hover {background-color: #d4ebff;}#sk-container-id-13 div.sk-parallel-item::after {content: \"\";width: 100%;border-bottom: 1px solid gray;flex-grow: 1;}#sk-container-id-13 div.sk-label:hover label.sk-toggleable__label {background-color: #d4ebff;}#sk-container-id-13 div.sk-serial::before {content: \"\";position: absolute;border-left: 1px solid gray;box-sizing: border-box;top: 0;bottom: 0;left: 50%;z-index: 0;}#sk-container-id-13 div.sk-serial {display: flex;flex-direction: column;align-items: center;background-color: white;padding-right: 0.2em;padding-left: 0.2em;position: relative;}#sk-container-id-13 div.sk-item {position: relative;z-index: 1;}#sk-container-id-13 div.sk-parallel {display: flex;align-items: stretch;justify-content: center;background-color: white;position: relative;}#sk-container-id-13 div.sk-item::before, #sk-container-id-13 div.sk-parallel-item::before {content: \"\";position: absolute;border-left: 1px solid gray;box-sizing: border-box;top: 0;bottom: 0;left: 50%;z-index: -1;}#sk-container-id-13 div.sk-parallel-item {display: flex;flex-direction: column;z-index: 1;position: relative;background-color: white;}#sk-container-id-13 div.sk-parallel-item:first-child::after {align-self: flex-end;width: 50%;}#sk-container-id-13 div.sk-parallel-item:last-child::after {align-self: flex-start;width: 50%;}#sk-container-id-13 div.sk-parallel-item:only-child::after {width: 0;}#sk-container-id-13 div.sk-dashed-wrapped {border: 1px dashed gray;margin: 0 0.4em 0.5em 0.4em;box-sizing: border-box;padding-bottom: 0.4em;background-color: white;}#sk-container-id-13 div.sk-label label {font-family: monospace;font-weight: bold;display: inline-block;line-height: 1.2em;}#sk-container-id-13 div.sk-label-container {text-align: center;}#sk-container-id-13 div.sk-container {/* jupyter's `normalize.less` sets `[hidden] { display: none; }` but bootstrap.min.css set `[hidden] { display: none !important; }` so we also need the `!important` here to be able to override the default hidden behavior on the sphinx rendered scikit-learn.org. See: https://github.com/scikit-learn/scikit-learn/issues/21755 */display: inline-block !important;position: relative;}#sk-container-id-13 div.sk-text-repr-fallback {display: none;}</style><div id=\"sk-container-id-13\" class=\"sk-top-container\"><div class=\"sk-text-repr-fallback\"><pre>Pipeline(steps=[(&#x27;TF-IDF&#x27;, TfidfVectorizer()), (&#x27;Classifier&#x27;, SVC())])</pre><b>In a Jupyter environment, please rerun this cell to show the HTML representation or trust the notebook. <br />On GitHub, the HTML representation is unable to render, please try loading this page with nbviewer.org.</b></div><div class=\"sk-container\" hidden><div class=\"sk-item sk-dashed-wrapped\"><div class=\"sk-label-container\"><div class=\"sk-label sk-toggleable\"><input class=\"sk-toggleable__control sk-hidden--visually\" id=\"sk-estimator-id-28\" type=\"checkbox\" ><label for=\"sk-estimator-id-28\" class=\"sk-toggleable__label sk-toggleable__label-arrow\">Pipeline</label><div class=\"sk-toggleable__content\"><pre>Pipeline(steps=[(&#x27;TF-IDF&#x27;, TfidfVectorizer()), (&#x27;Classifier&#x27;, SVC())])</pre></div></div></div><div class=\"sk-serial\"><div class=\"sk-item\"><div class=\"sk-estimator sk-toggleable\"><input class=\"sk-toggleable__control sk-hidden--visually\" id=\"sk-estimator-id-29\" type=\"checkbox\" ><label for=\"sk-estimator-id-29\" class=\"sk-toggleable__label sk-toggleable__label-arrow\">TfidfVectorizer</label><div class=\"sk-toggleable__content\"><pre>TfidfVectorizer()</pre></div></div></div><div class=\"sk-item\"><div class=\"sk-estimator sk-toggleable\"><input class=\"sk-toggleable__control sk-hidden--visually\" id=\"sk-estimator-id-30\" type=\"checkbox\" ><label for=\"sk-estimator-id-30\" class=\"sk-toggleable__label sk-toggleable__label-arrow\">SVC</label><div class=\"sk-toggleable__content\"><pre>SVC()</pre></div></div></div></div></div></div></div>"
      ],
      "text/plain": [
       "Pipeline(steps=[('TF-IDF', TfidfVectorizer()), ('Classifier', SVC())])"
      ]
     },
     "execution_count": 615,
     "metadata": {},
     "output_type": "execute_result"
    }
   ],
   "source": [
    "svm.fit(x_train,y_train)"
   ]
  },
  {
   "cell_type": "code",
   "execution_count": 616,
   "id": "b906646d",
   "metadata": {},
   "outputs": [],
   "source": [
    "# Predict the model by using train and test data\n",
    "\n",
    "y_pred_train = svm.predict(x_train)\n",
    "y_pred_test = svm.predict(x_test)"
   ]
  },
  {
   "cell_type": "code",
   "execution_count": 617,
   "id": "f877dc93",
   "metadata": {},
   "outputs": [
    {
     "name": "stdout",
     "output_type": "stream",
     "text": [
      "              precision    recall  f1-score   support\n",
      "\n",
      "           0       1.00      1.00      1.00       285\n",
      "           1       1.00      1.00      1.00       290\n",
      "           2       1.00      1.00      1.00       275\n",
      "           3       1.00      1.00      1.00       270\n",
      "\n",
      "    accuracy                           1.00      1120\n",
      "   macro avg       1.00      1.00      1.00      1120\n",
      "weighted avg       1.00      1.00      1.00      1120\n",
      "\n",
      "**************************************************************************************************************\n",
      "              precision    recall  f1-score   support\n",
      "\n",
      "           0       0.96      0.99      0.97       109\n",
      "           1       0.99      0.97      0.98       119\n",
      "           2       1.00      0.99      1.00       118\n",
      "           3       1.00      1.00      1.00       134\n",
      "\n",
      "    accuracy                           0.99       480\n",
      "   macro avg       0.99      0.99      0.99       480\n",
      "weighted avg       0.99      0.99      0.99       480\n",
      "\n"
     ]
    }
   ],
   "source": [
    "print(classification_report(y_train,y_pred_train))\n",
    "print(\"***********\"*10)\n",
    "print(classification_report(y_test,y_pred_test))"
   ]
  },
  {
   "cell_type": "code",
   "execution_count": 618,
   "id": "57d9344d",
   "metadata": {},
   "outputs": [
    {
     "name": "stdout",
     "output_type": "stream",
     "text": [
      "1.0\n",
      "**************************************************************************************************************\n",
      "0.9875\n"
     ]
    }
   ],
   "source": [
    "print(accuracy_score(y_train,y_pred_train))\n",
    "print(\"***********\"*10)\n",
    "print(accuracy_score(y_test,y_pred_test))"
   ]
  },
  {
   "cell_type": "code",
   "execution_count": 619,
   "id": "659f6564",
   "metadata": {},
   "outputs": [],
   "source": [
    "y_pred_test_submission = svm.predict(test['Text'])"
   ]
  },
  {
   "cell_type": "code",
   "execution_count": 620,
   "id": "7ee4333c",
   "metadata": {},
   "outputs": [],
   "source": [
    "for i in range(len(submission)):\n",
    "    submission.loc[i , 'Prediction'] = y_pred_test_submission[i]"
   ]
  },
  {
   "cell_type": "code",
   "execution_count": 621,
   "id": "048df1e7",
   "metadata": {},
   "outputs": [],
   "source": [
    "submission.to_csv('submission.csv', index=False)  # 'index=False' prevents saving the index column\n"
   ]
  },
  {
   "cell_type": "code",
   "execution_count": null,
   "id": "7fcb6dad",
   "metadata": {},
   "outputs": [],
   "source": []
  },
  {
   "cell_type": "code",
   "execution_count": 606,
   "id": "abb09e33",
   "metadata": {},
   "outputs": [],
   "source": [
    "classifier = Pipeline([\n",
    "                       ('TF-IDF', TfidfVectorizer()),\n",
    "                       ('Classifier',XGBClassifier())\n",
    "                      ])"
   ]
  },
  {
   "cell_type": "code",
   "execution_count": 607,
   "id": "00170c8c",
   "metadata": {},
   "outputs": [
    {
     "data": {
      "text/html": [
       "<style>#sk-container-id-12 {color: black;}#sk-container-id-12 pre{padding: 0;}#sk-container-id-12 div.sk-toggleable {background-color: white;}#sk-container-id-12 label.sk-toggleable__label {cursor: pointer;display: block;width: 100%;margin-bottom: 0;padding: 0.3em;box-sizing: border-box;text-align: center;}#sk-container-id-12 label.sk-toggleable__label-arrow:before {content: \"▸\";float: left;margin-right: 0.25em;color: #696969;}#sk-container-id-12 label.sk-toggleable__label-arrow:hover:before {color: black;}#sk-container-id-12 div.sk-estimator:hover label.sk-toggleable__label-arrow:before {color: black;}#sk-container-id-12 div.sk-toggleable__content {max-height: 0;max-width: 0;overflow: hidden;text-align: left;background-color: #f0f8ff;}#sk-container-id-12 div.sk-toggleable__content pre {margin: 0.2em;color: black;border-radius: 0.25em;background-color: #f0f8ff;}#sk-container-id-12 input.sk-toggleable__control:checked~div.sk-toggleable__content {max-height: 200px;max-width: 100%;overflow: auto;}#sk-container-id-12 input.sk-toggleable__control:checked~label.sk-toggleable__label-arrow:before {content: \"▾\";}#sk-container-id-12 div.sk-estimator input.sk-toggleable__control:checked~label.sk-toggleable__label {background-color: #d4ebff;}#sk-container-id-12 div.sk-label input.sk-toggleable__control:checked~label.sk-toggleable__label {background-color: #d4ebff;}#sk-container-id-12 input.sk-hidden--visually {border: 0;clip: rect(1px 1px 1px 1px);clip: rect(1px, 1px, 1px, 1px);height: 1px;margin: -1px;overflow: hidden;padding: 0;position: absolute;width: 1px;}#sk-container-id-12 div.sk-estimator {font-family: monospace;background-color: #f0f8ff;border: 1px dotted black;border-radius: 0.25em;box-sizing: border-box;margin-bottom: 0.5em;}#sk-container-id-12 div.sk-estimator:hover {background-color: #d4ebff;}#sk-container-id-12 div.sk-parallel-item::after {content: \"\";width: 100%;border-bottom: 1px solid gray;flex-grow: 1;}#sk-container-id-12 div.sk-label:hover label.sk-toggleable__label {background-color: #d4ebff;}#sk-container-id-12 div.sk-serial::before {content: \"\";position: absolute;border-left: 1px solid gray;box-sizing: border-box;top: 0;bottom: 0;left: 50%;z-index: 0;}#sk-container-id-12 div.sk-serial {display: flex;flex-direction: column;align-items: center;background-color: white;padding-right: 0.2em;padding-left: 0.2em;position: relative;}#sk-container-id-12 div.sk-item {position: relative;z-index: 1;}#sk-container-id-12 div.sk-parallel {display: flex;align-items: stretch;justify-content: center;background-color: white;position: relative;}#sk-container-id-12 div.sk-item::before, #sk-container-id-12 div.sk-parallel-item::before {content: \"\";position: absolute;border-left: 1px solid gray;box-sizing: border-box;top: 0;bottom: 0;left: 50%;z-index: -1;}#sk-container-id-12 div.sk-parallel-item {display: flex;flex-direction: column;z-index: 1;position: relative;background-color: white;}#sk-container-id-12 div.sk-parallel-item:first-child::after {align-self: flex-end;width: 50%;}#sk-container-id-12 div.sk-parallel-item:last-child::after {align-self: flex-start;width: 50%;}#sk-container-id-12 div.sk-parallel-item:only-child::after {width: 0;}#sk-container-id-12 div.sk-dashed-wrapped {border: 1px dashed gray;margin: 0 0.4em 0.5em 0.4em;box-sizing: border-box;padding-bottom: 0.4em;background-color: white;}#sk-container-id-12 div.sk-label label {font-family: monospace;font-weight: bold;display: inline-block;line-height: 1.2em;}#sk-container-id-12 div.sk-label-container {text-align: center;}#sk-container-id-12 div.sk-container {/* jupyter's `normalize.less` sets `[hidden] { display: none; }` but bootstrap.min.css set `[hidden] { display: none !important; }` so we also need the `!important` here to be able to override the default hidden behavior on the sphinx rendered scikit-learn.org. See: https://github.com/scikit-learn/scikit-learn/issues/21755 */display: inline-block !important;position: relative;}#sk-container-id-12 div.sk-text-repr-fallback {display: none;}</style><div id=\"sk-container-id-12\" class=\"sk-top-container\"><div class=\"sk-text-repr-fallback\"><pre>Pipeline(steps=[(&#x27;TF-IDF&#x27;, TfidfVectorizer()),\n",
       "                (&#x27;Classifier&#x27;,\n",
       "                 XGBClassifier(base_score=None, booster=None, callbacks=None,\n",
       "                               colsample_bylevel=None, colsample_bynode=None,\n",
       "                               colsample_bytree=None, device=None,\n",
       "                               early_stopping_rounds=None,\n",
       "                               enable_categorical=False, eval_metric=None,\n",
       "                               feature_types=None, gamma=None, grow_policy=None,\n",
       "                               importance_type=None,\n",
       "                               interaction_constraints=None, learning_rate=None,\n",
       "                               max_bin=None, max_cat_threshold=None,\n",
       "                               max_cat_to_onehot=None, max_delta_step=None,\n",
       "                               max_depth=None, max_leaves=None,\n",
       "                               min_child_weight=None, missing=nan,\n",
       "                               monotone_constraints=None, multi_strategy=None,\n",
       "                               n_estimators=None, n_jobs=None,\n",
       "                               num_parallel_tree=None,\n",
       "                               objective=&#x27;multi:softprob&#x27;, ...))])</pre><b>In a Jupyter environment, please rerun this cell to show the HTML representation or trust the notebook. <br />On GitHub, the HTML representation is unable to render, please try loading this page with nbviewer.org.</b></div><div class=\"sk-container\" hidden><div class=\"sk-item sk-dashed-wrapped\"><div class=\"sk-label-container\"><div class=\"sk-label sk-toggleable\"><input class=\"sk-toggleable__control sk-hidden--visually\" id=\"sk-estimator-id-25\" type=\"checkbox\" ><label for=\"sk-estimator-id-25\" class=\"sk-toggleable__label sk-toggleable__label-arrow\">Pipeline</label><div class=\"sk-toggleable__content\"><pre>Pipeline(steps=[(&#x27;TF-IDF&#x27;, TfidfVectorizer()),\n",
       "                (&#x27;Classifier&#x27;,\n",
       "                 XGBClassifier(base_score=None, booster=None, callbacks=None,\n",
       "                               colsample_bylevel=None, colsample_bynode=None,\n",
       "                               colsample_bytree=None, device=None,\n",
       "                               early_stopping_rounds=None,\n",
       "                               enable_categorical=False, eval_metric=None,\n",
       "                               feature_types=None, gamma=None, grow_policy=None,\n",
       "                               importance_type=None,\n",
       "                               interaction_constraints=None, learning_rate=None,\n",
       "                               max_bin=None, max_cat_threshold=None,\n",
       "                               max_cat_to_onehot=None, max_delta_step=None,\n",
       "                               max_depth=None, max_leaves=None,\n",
       "                               min_child_weight=None, missing=nan,\n",
       "                               monotone_constraints=None, multi_strategy=None,\n",
       "                               n_estimators=None, n_jobs=None,\n",
       "                               num_parallel_tree=None,\n",
       "                               objective=&#x27;multi:softprob&#x27;, ...))])</pre></div></div></div><div class=\"sk-serial\"><div class=\"sk-item\"><div class=\"sk-estimator sk-toggleable\"><input class=\"sk-toggleable__control sk-hidden--visually\" id=\"sk-estimator-id-26\" type=\"checkbox\" ><label for=\"sk-estimator-id-26\" class=\"sk-toggleable__label sk-toggleable__label-arrow\">TfidfVectorizer</label><div class=\"sk-toggleable__content\"><pre>TfidfVectorizer()</pre></div></div></div><div class=\"sk-item\"><div class=\"sk-estimator sk-toggleable\"><input class=\"sk-toggleable__control sk-hidden--visually\" id=\"sk-estimator-id-27\" type=\"checkbox\" ><label for=\"sk-estimator-id-27\" class=\"sk-toggleable__label sk-toggleable__label-arrow\">XGBClassifier</label><div class=\"sk-toggleable__content\"><pre>XGBClassifier(base_score=None, booster=None, callbacks=None,\n",
       "              colsample_bylevel=None, colsample_bynode=None,\n",
       "              colsample_bytree=None, device=None, early_stopping_rounds=None,\n",
       "              enable_categorical=False, eval_metric=None, feature_types=None,\n",
       "              gamma=None, grow_policy=None, importance_type=None,\n",
       "              interaction_constraints=None, learning_rate=None, max_bin=None,\n",
       "              max_cat_threshold=None, max_cat_to_onehot=None,\n",
       "              max_delta_step=None, max_depth=None, max_leaves=None,\n",
       "              min_child_weight=None, missing=nan, monotone_constraints=None,\n",
       "              multi_strategy=None, n_estimators=None, n_jobs=None,\n",
       "              num_parallel_tree=None, objective=&#x27;multi:softprob&#x27;, ...)</pre></div></div></div></div></div></div></div>"
      ],
      "text/plain": [
       "Pipeline(steps=[('TF-IDF', TfidfVectorizer()),\n",
       "                ('Classifier',\n",
       "                 XGBClassifier(base_score=None, booster=None, callbacks=None,\n",
       "                               colsample_bylevel=None, colsample_bynode=None,\n",
       "                               colsample_bytree=None, device=None,\n",
       "                               early_stopping_rounds=None,\n",
       "                               enable_categorical=False, eval_metric=None,\n",
       "                               feature_types=None, gamma=None, grow_policy=None,\n",
       "                               importance_type=None,\n",
       "                               interaction_constraints=None, learning_rate=None,\n",
       "                               max_bin=None, max_cat_threshold=None,\n",
       "                               max_cat_to_onehot=None, max_delta_step=None,\n",
       "                               max_depth=None, max_leaves=None,\n",
       "                               min_child_weight=None, missing=nan,\n",
       "                               monotone_constraints=None, multi_strategy=None,\n",
       "                               n_estimators=None, n_jobs=None,\n",
       "                               num_parallel_tree=None,\n",
       "                               objective='multi:softprob', ...))])"
      ]
     },
     "execution_count": 607,
     "metadata": {},
     "output_type": "execute_result"
    }
   ],
   "source": [
    "classifier.fit(x_train,y_train)"
   ]
  },
  {
   "cell_type": "code",
   "execution_count": 608,
   "id": "00e4690a",
   "metadata": {},
   "outputs": [],
   "source": [
    "# Predict the model by using train and test data\n",
    "\n",
    "y_pred_train = classifier.predict(x_train)\n",
    "y_pred_test = classifier.predict(x_test)"
   ]
  },
  {
   "cell_type": "code",
   "execution_count": 609,
   "id": "d0f0dff1",
   "metadata": {},
   "outputs": [
    {
     "name": "stdout",
     "output_type": "stream",
     "text": [
      "              precision    recall  f1-score   support\n",
      "\n",
      "           0       1.00      0.99      0.99       285\n",
      "           1       1.00      1.00      1.00       290\n",
      "           2       0.99      1.00      0.99       275\n",
      "           3       1.00      1.00      1.00       270\n",
      "\n",
      "    accuracy                           1.00      1120\n",
      "   macro avg       1.00      1.00      1.00      1120\n",
      "weighted avg       1.00      1.00      1.00      1120\n",
      "\n",
      "**************************************************************************************************************\n",
      "              precision    recall  f1-score   support\n",
      "\n",
      "           0       0.81      0.75      0.78       109\n",
      "           1       0.97      0.94      0.96       119\n",
      "           2       0.83      0.93      0.88       118\n",
      "           3       0.94      0.92      0.93       134\n",
      "\n",
      "    accuracy                           0.89       480\n",
      "   macro avg       0.89      0.89      0.89       480\n",
      "weighted avg       0.89      0.89      0.89       480\n",
      "\n"
     ]
    }
   ],
   "source": [
    "print(classification_report(y_train,y_pred_train))\n",
    "print(\"***********\"*10)\n",
    "print(classification_report(y_test,y_pred_test))"
   ]
  },
  {
   "cell_type": "code",
   "execution_count": 610,
   "id": "16fdbbae",
   "metadata": {},
   "outputs": [
    {
     "name": "stdout",
     "output_type": "stream",
     "text": [
      "0.9973214285714286\n",
      "**************************************************************************************************************\n",
      "0.8895833333333333\n"
     ]
    }
   ],
   "source": [
    "print(accuracy_score(y_train,y_pred_train))\n",
    "print(\"***********\"*10)\n",
    "print(accuracy_score(y_test,y_pred_test))"
   ]
  },
  {
   "cell_type": "code",
   "execution_count": 611,
   "id": "a8071d35",
   "metadata": {},
   "outputs": [],
   "source": [
    "y_pred_test_submission = classifier.predict(test['Text'])"
   ]
  },
  {
   "cell_type": "code",
   "execution_count": 612,
   "id": "310d2a84",
   "metadata": {},
   "outputs": [],
   "source": [
    "for i in range(len(submission)):\n",
    "    submission.loc[i , 'Prediction'] = y_pred_test_submission[i]"
   ]
  },
  {
   "cell_type": "code",
   "execution_count": 613,
   "id": "dd65d862",
   "metadata": {},
   "outputs": [],
   "source": [
    "submission.to_csv('submission.csv', index=False)  # 'index=False' prevents saving the index column\n"
   ]
  },
  {
   "cell_type": "code",
   "execution_count": null,
   "id": "ce38b9e6",
   "metadata": {},
   "outputs": [],
   "source": []
  },
  {
   "cell_type": "code",
   "execution_count": null,
   "id": "f0d4b2bd",
   "metadata": {},
   "outputs": [],
   "source": []
  }
 ],
 "metadata": {
  "kernelspec": {
   "display_name": "Python 3 (ipykernel)",
   "language": "python",
   "name": "python3"
  },
  "language_info": {
   "codemirror_mode": {
    "name": "ipython",
    "version": 3
   },
   "file_extension": ".py",
   "mimetype": "text/x-python",
   "name": "python",
   "nbconvert_exporter": "python",
   "pygments_lexer": "ipython3",
   "version": "3.11.5"
  },
  "varInspector": {
   "cols": {
    "lenName": 16,
    "lenType": 16,
    "lenVar": 40
   },
   "kernels_config": {
    "python": {
     "delete_cmd_postfix": "",
     "delete_cmd_prefix": "del ",
     "library": "var_list.py",
     "varRefreshCmd": "print(var_dic_list())"
    },
    "r": {
     "delete_cmd_postfix": ") ",
     "delete_cmd_prefix": "rm(",
     "library": "var_list.r",
     "varRefreshCmd": "cat(var_dic_list()) "
    }
   },
   "types_to_exclude": [
    "module",
    "function",
    "builtin_function_or_method",
    "instance",
    "_Feature"
   ],
   "window_display": false
  }
 },
 "nbformat": 4,
 "nbformat_minor": 5
}
