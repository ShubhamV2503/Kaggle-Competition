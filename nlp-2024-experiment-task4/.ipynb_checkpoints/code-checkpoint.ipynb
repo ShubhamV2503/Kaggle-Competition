{
 "cells": [
  {
   "cell_type": "code",
   "execution_count": null,
   "id": "2068ab47",
   "metadata": {},
   "outputs": [],
   "source": []
  },
  {
   "cell_type": "code",
   "execution_count": 558,
   "id": "bd56c84d",
   "metadata": {},
   "outputs": [],
   "source": [
    "import pandas as pd\n",
    "import numpy as np"
   ]
  },
  {
   "cell_type": "code",
   "execution_count": null,
   "id": "331d0149",
   "metadata": {},
   "outputs": [],
   "source": []
  },
  {
   "cell_type": "code",
   "execution_count": 559,
   "id": "57aa5f63",
   "metadata": {},
   "outputs": [],
   "source": [
    "train = pd.read_csv('train.csv', encoding='latin1')\n",
    "test = pd.read_csv('test.csv', encoding='latin1')"
   ]
  },
  {
   "cell_type": "code",
   "execution_count": 560,
   "id": "aaff23de",
   "metadata": {},
   "outputs": [
    {
     "name": "stdout",
     "output_type": "stream",
     "text": [
      "(350, 3)\n",
      "(5234, 2)\n"
     ]
    }
   ],
   "source": [
    "print(train.shape)\n",
    "print(test.shape)"
   ]
  },
  {
   "cell_type": "code",
   "execution_count": 561,
   "id": "ff856e40",
   "metadata": {},
   "outputs": [
    {
     "data": {
      "text/html": [
       "<div>\n",
       "<style scoped>\n",
       "    .dataframe tbody tr th:only-of-type {\n",
       "        vertical-align: middle;\n",
       "    }\n",
       "\n",
       "    .dataframe tbody tr th {\n",
       "        vertical-align: top;\n",
       "    }\n",
       "\n",
       "    .dataframe thead th {\n",
       "        text-align: right;\n",
       "    }\n",
       "</style>\n",
       "<table border=\"1\" class=\"dataframe\">\n",
       "  <thead>\n",
       "    <tr style=\"text-align: right;\">\n",
       "      <th></th>\n",
       "      <th>Id</th>\n",
       "      <th>Sentence</th>\n",
       "      <th>Category</th>\n",
       "    </tr>\n",
       "  </thead>\n",
       "  <tbody>\n",
       "    <tr>\n",
       "      <th>0</th>\n",
       "      <td>0</td>\n",
       "      <td>play something from 1971 by john bonham</td>\n",
       "      <td>PlayMusic</td>\n",
       "    </tr>\n",
       "    <tr>\n",
       "      <th>1</th>\n",
       "      <td>1</td>\n",
       "      <td>i d like to give a two rating to the abolition...</td>\n",
       "      <td>RateBook</td>\n",
       "    </tr>\n",
       "    <tr>\n",
       "      <th>2</th>\n",
       "      <td>2</td>\n",
       "      <td>where can i locate the show the return of mr moto</td>\n",
       "      <td>SearchCreativeWork</td>\n",
       "    </tr>\n",
       "    <tr>\n",
       "      <th>3</th>\n",
       "      <td>3</td>\n",
       "      <td>is there a game called the neutral zone</td>\n",
       "      <td>SearchCreativeWork</td>\n",
       "    </tr>\n",
       "    <tr>\n",
       "      <th>4</th>\n",
       "      <td>4</td>\n",
       "      <td>give this textbook zero out of 6 points</td>\n",
       "      <td>RateBook</td>\n",
       "    </tr>\n",
       "  </tbody>\n",
       "</table>\n",
       "</div>"
      ],
      "text/plain": [
       "   Id                                           Sentence            Category\n",
       "0   0            play something from 1971 by john bonham           PlayMusic\n",
       "1   1  i d like to give a two rating to the abolition...            RateBook\n",
       "2   2  where can i locate the show the return of mr moto  SearchCreativeWork\n",
       "3   3            is there a game called the neutral zone  SearchCreativeWork\n",
       "4   4            give this textbook zero out of 6 points            RateBook"
      ]
     },
     "execution_count": 561,
     "metadata": {},
     "output_type": "execute_result"
    }
   ],
   "source": [
    "train.head()"
   ]
  },
  {
   "cell_type": "code",
   "execution_count": 562,
   "id": "99c76e38",
   "metadata": {},
   "outputs": [
    {
     "data": {
      "text/html": [
       "<div>\n",
       "<style scoped>\n",
       "    .dataframe tbody tr th:only-of-type {\n",
       "        vertical-align: middle;\n",
       "    }\n",
       "\n",
       "    .dataframe tbody tr th {\n",
       "        vertical-align: top;\n",
       "    }\n",
       "\n",
       "    .dataframe thead th {\n",
       "        text-align: right;\n",
       "    }\n",
       "</style>\n",
       "<table border=\"1\" class=\"dataframe\">\n",
       "  <thead>\n",
       "    <tr style=\"text-align: right;\">\n",
       "      <th></th>\n",
       "      <th>Id</th>\n",
       "      <th>Sentence</th>\n",
       "    </tr>\n",
       "  </thead>\n",
       "  <tbody>\n",
       "    <tr>\n",
       "      <th>0</th>\n",
       "      <td>0</td>\n",
       "      <td>book me a table for 4 in a restaurant in unite...</td>\n",
       "    </tr>\n",
       "    <tr>\n",
       "      <th>1</th>\n",
       "      <td>1</td>\n",
       "      <td>add brad kane to the pumping iron soundtrack</td>\n",
       "    </tr>\n",
       "    <tr>\n",
       "      <th>2</th>\n",
       "      <td>2</td>\n",
       "      <td>play doctor fink if i could choose</td>\n",
       "    </tr>\n",
       "    <tr>\n",
       "      <th>3</th>\n",
       "      <td>3</td>\n",
       "      <td>i want to listen to an album sorted by last op...</td>\n",
       "    </tr>\n",
       "    <tr>\n",
       "      <th>4</th>\n",
       "      <td>4</td>\n",
       "      <td>put some mac wiseman in my latino caliente pla...</td>\n",
       "    </tr>\n",
       "  </tbody>\n",
       "</table>\n",
       "</div>"
      ],
      "text/plain": [
       "   Id                                           Sentence\n",
       "0   0  book me a table for 4 in a restaurant in unite...\n",
       "1   1       add brad kane to the pumping iron soundtrack\n",
       "2   2                 play doctor fink if i could choose\n",
       "3   3  i want to listen to an album sorted by last op...\n",
       "4   4  put some mac wiseman in my latino caliente pla..."
      ]
     },
     "execution_count": 562,
     "metadata": {},
     "output_type": "execute_result"
    }
   ],
   "source": [
    "test.head()"
   ]
  },
  {
   "cell_type": "code",
   "execution_count": 563,
   "id": "0aff65de",
   "metadata": {},
   "outputs": [
    {
     "data": {
      "text/plain": [
       "Id          0.0\n",
       "Sentence    0.0\n",
       "Category    0.0\n",
       "dtype: float64"
      ]
     },
     "execution_count": 563,
     "metadata": {},
     "output_type": "execute_result"
    }
   ],
   "source": [
    "train.isnull().sum()/len(train)*100"
   ]
  },
  {
   "cell_type": "code",
   "execution_count": 564,
   "id": "cea3b217",
   "metadata": {},
   "outputs": [
    {
     "data": {
      "text/plain": [
       "Id          0.0\n",
       "Sentence    0.0\n",
       "dtype: float64"
      ]
     },
     "execution_count": 564,
     "metadata": {},
     "output_type": "execute_result"
    }
   ],
   "source": [
    "test.isnull().sum()/len(train)*100"
   ]
  },
  {
   "cell_type": "code",
   "execution_count": 565,
   "id": "27c6216f",
   "metadata": {},
   "outputs": [
    {
     "data": {
      "text/plain": [
       "Category\n",
       "PlayMusic               50\n",
       "RateBook                50\n",
       "SearchCreativeWork      50\n",
       "AddToPlaylist           50\n",
       "GetWeather              50\n",
       "BookRestaurant          50\n",
       "SearchScreeningEvent    50\n",
       "Name: count, dtype: int64"
      ]
     },
     "execution_count": 565,
     "metadata": {},
     "output_type": "execute_result"
    }
   ],
   "source": [
    "train['Category'].value_counts()"
   ]
  },
  {
   "cell_type": "code",
   "execution_count": null,
   "id": "ecf4ccd3",
   "metadata": {},
   "outputs": [],
   "source": []
  },
  {
   "cell_type": "code",
   "execution_count": 566,
   "id": "ea4b2ca5",
   "metadata": {},
   "outputs": [],
   "source": [
    "from sklearn.preprocessing import LabelEncoder"
   ]
  },
  {
   "cell_type": "code",
   "execution_count": 567,
   "id": "0c4f26ac",
   "metadata": {},
   "outputs": [],
   "source": [
    "le = LabelEncoder()"
   ]
  },
  {
   "cell_type": "code",
   "execution_count": 568,
   "id": "656715f2",
   "metadata": {},
   "outputs": [],
   "source": [
    "train['Category'] = le.fit_transform(train['Category'])"
   ]
  },
  {
   "cell_type": "code",
   "execution_count": 569,
   "id": "aef2e4af",
   "metadata": {},
   "outputs": [
    {
     "data": {
      "text/html": [
       "<div>\n",
       "<style scoped>\n",
       "    .dataframe tbody tr th:only-of-type {\n",
       "        vertical-align: middle;\n",
       "    }\n",
       "\n",
       "    .dataframe tbody tr th {\n",
       "        vertical-align: top;\n",
       "    }\n",
       "\n",
       "    .dataframe thead th {\n",
       "        text-align: right;\n",
       "    }\n",
       "</style>\n",
       "<table border=\"1\" class=\"dataframe\">\n",
       "  <thead>\n",
       "    <tr style=\"text-align: right;\">\n",
       "      <th></th>\n",
       "      <th>Id</th>\n",
       "      <th>Sentence</th>\n",
       "      <th>Category</th>\n",
       "    </tr>\n",
       "  </thead>\n",
       "  <tbody>\n",
       "    <tr>\n",
       "      <th>0</th>\n",
       "      <td>0</td>\n",
       "      <td>play something from 1971 by john bonham</td>\n",
       "      <td>3</td>\n",
       "    </tr>\n",
       "    <tr>\n",
       "      <th>1</th>\n",
       "      <td>1</td>\n",
       "      <td>i d like to give a two rating to the abolition...</td>\n",
       "      <td>4</td>\n",
       "    </tr>\n",
       "    <tr>\n",
       "      <th>2</th>\n",
       "      <td>2</td>\n",
       "      <td>where can i locate the show the return of mr moto</td>\n",
       "      <td>5</td>\n",
       "    </tr>\n",
       "    <tr>\n",
       "      <th>3</th>\n",
       "      <td>3</td>\n",
       "      <td>is there a game called the neutral zone</td>\n",
       "      <td>5</td>\n",
       "    </tr>\n",
       "    <tr>\n",
       "      <th>4</th>\n",
       "      <td>4</td>\n",
       "      <td>give this textbook zero out of 6 points</td>\n",
       "      <td>4</td>\n",
       "    </tr>\n",
       "  </tbody>\n",
       "</table>\n",
       "</div>"
      ],
      "text/plain": [
       "   Id                                           Sentence  Category\n",
       "0   0            play something from 1971 by john bonham         3\n",
       "1   1  i d like to give a two rating to the abolition...         4\n",
       "2   2  where can i locate the show the return of mr moto         5\n",
       "3   3            is there a game called the neutral zone         5\n",
       "4   4            give this textbook zero out of 6 points         4"
      ]
     },
     "execution_count": 569,
     "metadata": {},
     "output_type": "execute_result"
    }
   ],
   "source": [
    "train.head()"
   ]
  },
  {
   "cell_type": "code",
   "execution_count": 570,
   "id": "c6d7f9cf",
   "metadata": {},
   "outputs": [
    {
     "data": {
      "text/plain": [
       "array([3, 4, 5, 0, 2, 1, 6])"
      ]
     },
     "execution_count": 570,
     "metadata": {},
     "output_type": "execute_result"
    }
   ],
   "source": [
    "train['Category'].unique()"
   ]
  },
  {
   "cell_type": "code",
   "execution_count": null,
   "id": "c1a5df5c",
   "metadata": {},
   "outputs": [],
   "source": []
  },
  {
   "cell_type": "code",
   "execution_count": null,
   "id": "a0771fca",
   "metadata": {},
   "outputs": [],
   "source": []
  },
  {
   "cell_type": "code",
   "execution_count": 571,
   "id": "1779d02d",
   "metadata": {},
   "outputs": [],
   "source": [
    "text = train['Sentence']"
   ]
  },
  {
   "cell_type": "code",
   "execution_count": 572,
   "id": "a6db6230",
   "metadata": {},
   "outputs": [
    {
     "data": {
      "text/plain": [
       "0              play something from 1971 by john bonham\n",
       "1    i d like to give a two rating to the abolition...\n",
       "2    where can i locate the show the return of mr moto\n",
       "3              is there a game called the neutral zone\n",
       "4              give this textbook zero out of 6 points\n",
       "Name: Sentence, dtype: object"
      ]
     },
     "execution_count": 572,
     "metadata": {},
     "output_type": "execute_result"
    }
   ],
   "source": [
    "text.head()"
   ]
  },
  {
   "cell_type": "code",
   "execution_count": 573,
   "id": "320728fb",
   "metadata": {},
   "outputs": [
    {
     "data": {
      "text/plain": [
       "(350,)"
      ]
     },
     "execution_count": 573,
     "metadata": {},
     "output_type": "execute_result"
    }
   ],
   "source": [
    "text.shape"
   ]
  },
  {
   "cell_type": "code",
   "execution_count": null,
   "id": "29c256fd",
   "metadata": {},
   "outputs": [],
   "source": []
  },
  {
   "cell_type": "markdown",
   "id": "9d14ee36",
   "metadata": {},
   "source": [
    "## Word Tokenization and Removing StopWords"
   ]
  },
  {
   "cell_type": "code",
   "execution_count": null,
   "id": "531a34ed",
   "metadata": {},
   "outputs": [],
   "source": []
  },
  {
   "cell_type": "code",
   "execution_count": 574,
   "id": "708fb856",
   "metadata": {},
   "outputs": [],
   "source": [
    "import nltk\n",
    "from nltk.tokenize import word_tokenize\n",
    "from nltk.corpus import stopwords"
   ]
  },
  {
   "cell_type": "code",
   "execution_count": null,
   "id": "8da19397",
   "metadata": {},
   "outputs": [],
   "source": []
  },
  {
   "cell_type": "code",
   "execution_count": 575,
   "id": "f722e176",
   "metadata": {},
   "outputs": [
    {
     "data": {
      "text/plain": [
       "'play something from 1971 by john bonham'"
      ]
     },
     "execution_count": 575,
     "metadata": {},
     "output_type": "execute_result"
    }
   ],
   "source": [
    "text[0]"
   ]
  },
  {
   "cell_type": "code",
   "execution_count": 576,
   "id": "c8eca429",
   "metadata": {},
   "outputs": [
    {
     "data": {
      "text/plain": [
       "['i',\n",
       " 'me',\n",
       " 'my',\n",
       " 'myself',\n",
       " 'we',\n",
       " 'our',\n",
       " 'ours',\n",
       " 'ourselves',\n",
       " 'you',\n",
       " \"you're\",\n",
       " \"you've\",\n",
       " \"you'll\",\n",
       " \"you'd\",\n",
       " 'your',\n",
       " 'yours',\n",
       " 'yourself',\n",
       " 'yourselves',\n",
       " 'he',\n",
       " 'him',\n",
       " 'his',\n",
       " 'himself',\n",
       " 'she',\n",
       " \"she's\",\n",
       " 'her',\n",
       " 'hers',\n",
       " 'herself',\n",
       " 'it',\n",
       " \"it's\",\n",
       " 'its',\n",
       " 'itself',\n",
       " 'they',\n",
       " 'them',\n",
       " 'their',\n",
       " 'theirs',\n",
       " 'themselves',\n",
       " 'what',\n",
       " 'which',\n",
       " 'who',\n",
       " 'whom',\n",
       " 'this',\n",
       " 'that',\n",
       " \"that'll\",\n",
       " 'these',\n",
       " 'those',\n",
       " 'am',\n",
       " 'is',\n",
       " 'are',\n",
       " 'was',\n",
       " 'were',\n",
       " 'be',\n",
       " 'been',\n",
       " 'being',\n",
       " 'have',\n",
       " 'has',\n",
       " 'had',\n",
       " 'having',\n",
       " 'do',\n",
       " 'does',\n",
       " 'did',\n",
       " 'doing',\n",
       " 'a',\n",
       " 'an',\n",
       " 'the',\n",
       " 'and',\n",
       " 'but',\n",
       " 'if',\n",
       " 'or',\n",
       " 'because',\n",
       " 'as',\n",
       " 'until',\n",
       " 'while',\n",
       " 'of',\n",
       " 'at',\n",
       " 'by',\n",
       " 'for',\n",
       " 'with',\n",
       " 'about',\n",
       " 'against',\n",
       " 'between',\n",
       " 'into',\n",
       " 'through',\n",
       " 'during',\n",
       " 'before',\n",
       " 'after',\n",
       " 'above',\n",
       " 'below',\n",
       " 'to',\n",
       " 'from',\n",
       " 'up',\n",
       " 'down',\n",
       " 'in',\n",
       " 'out',\n",
       " 'on',\n",
       " 'off',\n",
       " 'over',\n",
       " 'under',\n",
       " 'again',\n",
       " 'further',\n",
       " 'then',\n",
       " 'once',\n",
       " 'here',\n",
       " 'there',\n",
       " 'when',\n",
       " 'where',\n",
       " 'why',\n",
       " 'how',\n",
       " 'all',\n",
       " 'any',\n",
       " 'both',\n",
       " 'each',\n",
       " 'few',\n",
       " 'more',\n",
       " 'most',\n",
       " 'other',\n",
       " 'some',\n",
       " 'such',\n",
       " 'no',\n",
       " 'nor',\n",
       " 'not',\n",
       " 'only',\n",
       " 'own',\n",
       " 'same',\n",
       " 'so',\n",
       " 'than',\n",
       " 'too',\n",
       " 'very',\n",
       " 's',\n",
       " 't',\n",
       " 'can',\n",
       " 'will',\n",
       " 'just',\n",
       " 'don',\n",
       " \"don't\",\n",
       " 'should',\n",
       " \"should've\",\n",
       " 'now',\n",
       " 'd',\n",
       " 'll',\n",
       " 'm',\n",
       " 'o',\n",
       " 're',\n",
       " 've',\n",
       " 'y',\n",
       " 'ain',\n",
       " 'aren',\n",
       " \"aren't\",\n",
       " 'couldn',\n",
       " \"couldn't\",\n",
       " 'didn',\n",
       " \"didn't\",\n",
       " 'doesn',\n",
       " \"doesn't\",\n",
       " 'hadn',\n",
       " \"hadn't\",\n",
       " 'hasn',\n",
       " \"hasn't\",\n",
       " 'haven',\n",
       " \"haven't\",\n",
       " 'isn',\n",
       " \"isn't\",\n",
       " 'ma',\n",
       " 'mightn',\n",
       " \"mightn't\",\n",
       " 'mustn',\n",
       " \"mustn't\",\n",
       " 'needn',\n",
       " \"needn't\",\n",
       " 'shan',\n",
       " \"shan't\",\n",
       " 'shouldn',\n",
       " \"shouldn't\",\n",
       " 'wasn',\n",
       " \"wasn't\",\n",
       " 'weren',\n",
       " \"weren't\",\n",
       " 'won',\n",
       " \"won't\",\n",
       " 'wouldn',\n",
       " \"wouldn't\"]"
      ]
     },
     "execution_count": 576,
     "metadata": {},
     "output_type": "execute_result"
    }
   ],
   "source": [
    "stop_words = stopwords.words('english')\n",
    "stop_words"
   ]
  },
  {
   "cell_type": "code",
   "execution_count": null,
   "id": "fb3df340",
   "metadata": {},
   "outputs": [],
   "source": []
  },
  {
   "cell_type": "code",
   "execution_count": 577,
   "id": "cae22b02",
   "metadata": {},
   "outputs": [
    {
     "name": "stdout",
     "output_type": "stream",
     "text": [
      "['play something 1971 john bonham', 'like give two rating abolition britain', 'locate show return mr moto', 'game called neutral zone', 'give textbook zero points', 'add roy rosana playlist', 'play turbulence wild streetdanz jeff buckley', 'like see picture teleform', 'going warm today saint martin port orford', 'book crepes restaurant sint maarten', 'get chillier within walking distance pw', 'add opus de funk list acoustic blues', 'red toby nemiciamici start thirteen hours', 'play song 2006', 'find attack surface analyzer painting', 'please rate current textbook stars', 'humid parc national de killarney', 'add tunnel love ethel metal crash course palylist', 'find schedule films star theatres', 'play music mark heard', 'play adrian borland music zvooq', 'weather forecast ten years mount victory macao', 'give zero stars current album', 'play music last fm', 'movie times consolidated theatres', 'show immortal grand prix', 'let play album handover deezer', 'play playlist funtime', 'rate hunting gathering two', 'cloudy georgia', 'tv series puppet master axis evil cancelled', 'please provide rainbow mars series zero points', 'find dead matter speakeasy theaters', 'add live aragon ballroom trapeo', 'weather forecast sixteen oklahoma', 'rate novel three stars', 'need time 21 minutes', 'book union oyster house guanica puerto rico', 'book spot colleague pizzeria pool owings mills wisconsin', 'book table greece', 'third eye showing dickinson theatres', 'weather going like near moldova fri', 'add tune epic classical playlist', 'need book restaurant fork mountain sc valarie mari', 'play movement 1974', 'want hear opera netflix', 'book reservation seven people highly rated restaurant serves moroccan food east greenville', 'going windy faraway valley fire', 'add megon mcdonough indie songs slackers playlist artist', 'like go douglas theatre company see beaver valley times movie playing', 'whats temperature far valley fire', 'show day earth caught fire movie', 'play music seventies', 'hear song american high', 'book spot ten upper marlboro pr', 'play music 1976 deezer', 'feel like current place july', 'rate voyage dark', 'play song newest movement prince lastfm', 'play music jeremy taylor album dormi amore la situazione non Ã¨ buona groove shark', 'play new music liang wern fook', 'marcia carolus rex get added women sxsw playlist', 'reserve smoking room restaurant', 'weather like far alabama may 2037', 'movie theatre clean sober closest', 'contemporary religious satanism gets rating', 'give list films play neighbourhood', 'find saga school gyrls holla-day', 'ten weather like nearby cyprus', 'rate current novel points', 'add tune indie workout playlist', 'show forecast years westlake village guinea', 'book restaurant ten exmore sunset', 'play something funtwo', 'want add kiara digster future hits playlist', 'play kaori mochida popular music google music', 'rainy faraway charleston lake provincial park 13 hours', 'add hanging dance aftercluv playlist', 'play wanted erykah badu', 'play song workout playlist groove shark', 'check forecast orson around pm', 'book reservation gastropub serving liver onions', 'add belgian rose evening list', 'include past behind top 100 rock tracks spotify playlist', 'like hear helen baylor', 'weather bystrzyca valley landscape park', 'book restaurant macedonia 13 hours', 'find news seven-thirty photograph', 'give showtimes tenth woman movie house', 'tell weather next week cathedral state park', 'find animated movies movie schedule neighborhood', 'please search cardin australia saga', 'need book restaurnt party nine thomas jefferson birthday', 'chilly boggs mountain demonstration state forest', 'forest rated four', 'find table restaurant bynum ca 09:59 pm', 'find movie schedules star theatres', 'timeless love songs playlist include viderunt omnes', 'play latest thelma aoyama', 'like watch trailer tears go', 'want add chan whee tune latin alternative music', 'add hemanta kumar mukhopadhyay album funky jams', 'tell weather forecast niue', 'october 19th forecast iran', 'find painting called thunder sky', 'put track infinite indie folk playlist', 'snowfall forecast pa', 'play nineties eliza carthy', 'play krzysztof penderecki last fm', 'find saison de sons anarchy', 'add album fairy tales', 'give morning movie schedules', 'show show goldimouse three cats', 'movie schedule near', 'incorporate roberto parra sandoval track cena elegante playlist', 'animated movies showing neighborhood', 'give star trek motion picture five', 'play music 1958 deezer', 'weather turtle river state park', 'play tune two kansas city missouri', 'weather waretown lebanon', 'book restaurant three people jenkins', 'search game last horror movie', 'add album rosanna ejercicio playlist', 'play sound track ferry corsten', 'want give elephants remember points', 'play sixties track noam pikelny iheart', 'play crucifixion deezer', 'wish hear concerto diplo 1952', 'nine weather forecast nationalpark midongy du sud', 'weather like 56 weeks sun tabor', 'find video game tomb', 'like get restaurant booked mar fourteenth md', 'terminal station cinemark theatres', 'put sungmin summer playlist', 'delanson hour reserve table four', 'congress warmer weather', 'find movie accidentally love', 'play piano ballads netflix', 'rate last opium den points', 'give four points empire death', 'rate crossing', 'weather piperton rwanda', 'book reservation seven people bakery osage city', 'look american journal sociology', 'tell films around', 'like table five restaurant', 'movie theatre matter wife death', 'looking painting last flight abuja', 'winter meredith betty erika want food gastropub area fran location', 'show photograph minutes midnight', 'weather like india 02:55:25', 'show movie sonic triple trouble', 'find painting called break', 'find tv show ask woman knows', 'play blues vimeo', 'give last novel points', 'book nearby meriton grand hotel tallinn missouri', 'looking novel called adventures lolo ii', 'like watch movies right nearby', 'add mina caputo album hours party', 'give schedule getting sweet 16 licensed drive', 'play erin harkes fifties lastfm', 'add artist primavera sound 2016 barcelona', 'want eat scandinavian restaurant highly rated bonita texas', 'find schedule cup winner closest movie house', 'google music play top singles released 1972', 'get showtimes films dickinson theatres', 'great science fiction stories mars series deserves rating zero', 'add tune hart wand wagner', 'find half truth', 'rate current album one points', 'chronicle gets three', 'time one night stand showing cineplex odeon corporation', 'weather like colorado', 'add connee boswell relaxing playlist', 'play chant fifties', 'play chant music 2008', 'add album adrenaline workout', 'add madchild electro latino', 'book spot one wolseley elevenses', 'find could fall love', 'films playing marcus corporation', 'find photograph among living', 'add artist latin pop hits', 'time thick thieves playing santikos theatres', 'rate series one stars', 'find creole restaurant', 'movies playing closest movie house', 'weather like midfield iowa today', 'rate current essay one', 'add yesterday last ep afternoon train ride playlist', 'give five stars general saga', 'freud mind moralist rated stars best rating', 'rating book series section three stars', 'need book pub wifi', 'play lukasz gottwald album zvooq', 'like hear one eric clapton popular melody pandora', 'midnight forecast argentina', 'umbrellas cherbourg playing near', 'use groove shark play today tomorrow album', 'find novel called best hits live save children speed live 2003', 'rate current essay stars', 'warmer ristigouche ecological reserve nov twentieth', 'show movie schedules movies playing around today', 'cold chatmoss albania years half', 'movie schedules theatres look like', 'play mark tremonti thirties', 'warm zambia pm', 'weather close-by parc national de kolkheti', 'book table skycity salado hannah', 'find projections album', 'check weather forecast chisholm kentucky', 'feel zero points would rating queen dawn', 'weather mount olivet', 'book reservation nine outdoor restaurant', 'add abrar ul haq track playlist soul lounge', 'please play song 1959', 'book restaurant cafe get croissant', 'play 1966 theme music slacker', 'want table eight yakima rhode island', 'find casting crowns discography', 'like book reservation next spring nine people shore club', 'get johnny cool photograph', 'time daring dobermans playing', 'play jeff pilson youtube', 'current selling price novel sims island paradise', 'get movie schedule', 'add ali lohan songs club hits', 'mississippi week', 'play twenties track aj carothers zvooq', 'rate steps two points', 'please search lovers trailer', 'films playing closest cinema', 'rainy monday le center thailand', 'rate equal affections one points', 'time ball anjo house playing', 'add extended play women lit playlist', 'find upon time west', 'find reservation sunset gastropub people', 'find time hash', 'show movie schedules', 'movie schedules amc theaters', 'freezing 06:31:22', 'wildorado hot temperature', 'add andrÃ©s calamaro milk', 'rate essay four', 'add dÃ©cadas list neo da matrix', 'add mc ren southern thing playlist', 'see boat people', 'book restaurant martin luther king jr day parking', 'book reservation seven people steakhouse kenya', 'play tina cousins 1956', 'find novel peace arch news', 'weather current place', 'book table nine people next mar', 'series gets stars', 'include kunnon syy trap land playlist', 'play music 2012 google music', 'forecast starting september 2039 chillier conditions ak', 'give two points essay', 'play something kids workout playlist groove shark', 'would rate album', 'rate current essay', 'rate current album', 'need find restaurant pw', 'play dancing life ronald isley spotify', 'play avantgarde music netflix', 'sunny spain 3/26/2023', 'show movie schedules', 'humidity like leoti', 'rate change points', 'add rattus roundhouse funk playlist', 'play song best siouxsie banshees faustino oramas', 'much hotter tomorrow', 'book table people four pm johnson', 'find black girl search god trailer', 'see trailer take king', 'time rites spring playing marcus corporation', 'weather nationalpark rila nov 25', 'want book spot bar henniker north dakota', 'book rosalie stewart evelyn restaurant', 'add name covenant playlist fusion fest', 'add banking violence inner life today retro gaming playlist', 'add ila playlist mi manera recopilatorio name heart stood still', 'book table guests restaurant lazy mountain ny', 'want give pilgrims rayne three stars', 'add song philip glass', 'give following book zero', 'rate series five', 'get seating people minute tuvalu', 'add sonntag assassin creed', 'add already pt hip hop 2017 new school', 'snowy florewood state park', 'book restaurant fl city lochearn step son', 'give stars reality certainty', 'rate current essay', 'add nib fay brooklyn beat playlist', 'find reservation berowra waters inn australia years', 'play nuestros 80 playlist', 'rate current novel one', 'rate textbook stars', 'rate book five', 'want see everytime touch painting', 'book restaurant serves hot chicken dutch mills north dakota 10 people', 'still warm nineteen hours pa', 'rate current essay zero', 'book highly rated restaurant northeastern 10 satanta', 'naked dead pretty good give four stars', 'add desert sessions love 80 rollerdisco playlist', 'search un provinciale new york tv show', 'find deathsmiles ii soundtrack', 'need popular moroccan cafeteria', 'young guard playing closest cinema', 'find cluster computing game', 'find photograph called days', 'need reservation one eighty elsa wendy muscle shoals', 'please book table three american gastropub', 'find movie house hollow reed', 'give zero points marxism oppression women', 'movie schedule area animated movies', 'movie times', 'book spot restaurant faraway 138th st', 'give previous saga', 'rate eat fried worms two stars', 'need cambodian brasserie restaurant top-rated', 'book table seven people restaurant internet', 'want add johnny burke country bound playlist', 'rate tritonian ring zero', 'movie schedule loews cineplex entertainment', 'find photographic journal', 'convoy busters playing', 'films movie schedule area', 'see tv show closer get', 'add hate want die six string peacefulness', 'find haunted castle', 'find nearest movie theatre movies', 'book restaurant us', 'search painting smart money', 'time age success showing', 'add track gold school playlist', 'pull american music awards 1975', 'films playing malco theatres', 'know animated movies scheduled neighbourhood', 'watch tv show terrorists kids sentenced', 'find tv show school teacher house', 'animated movies playing neighborhood', 'add spirit life naÃ§Ã£o reggae', 'add tarkan madrugando playlist', 'add totally stress free bobby lord playlist']\n"
     ]
    }
   ],
   "source": [
    "## Pre-processing the text message\n",
    "\n",
    "message = []\n",
    "for i in range(len(text)):\n",
    "    s = word_tokenize(text[i])\n",
    "    temp = []  \n",
    "    for j in s:\n",
    "        if len(j) > 1 and j not in stop_words:  \n",
    "            temp.append(j)\n",
    "    t = ' '.join(temp)  \n",
    "    message.append(t)  \n",
    "\n",
    "print(message)"
   ]
  },
  {
   "cell_type": "code",
   "execution_count": null,
   "id": "244b9aea",
   "metadata": {},
   "outputs": [],
   "source": []
  },
  {
   "cell_type": "code",
   "execution_count": 578,
   "id": "c96d695c",
   "metadata": {},
   "outputs": [],
   "source": [
    "for i in range(len(train)):\n",
    "    train.loc[i,'Sentence'] = message[i]"
   ]
  },
  {
   "cell_type": "code",
   "execution_count": 579,
   "id": "191f3dbd",
   "metadata": {},
   "outputs": [
    {
     "data": {
      "text/html": [
       "<div>\n",
       "<style scoped>\n",
       "    .dataframe tbody tr th:only-of-type {\n",
       "        vertical-align: middle;\n",
       "    }\n",
       "\n",
       "    .dataframe tbody tr th {\n",
       "        vertical-align: top;\n",
       "    }\n",
       "\n",
       "    .dataframe thead th {\n",
       "        text-align: right;\n",
       "    }\n",
       "</style>\n",
       "<table border=\"1\" class=\"dataframe\">\n",
       "  <thead>\n",
       "    <tr style=\"text-align: right;\">\n",
       "      <th></th>\n",
       "      <th>Id</th>\n",
       "      <th>Sentence</th>\n",
       "      <th>Category</th>\n",
       "    </tr>\n",
       "  </thead>\n",
       "  <tbody>\n",
       "    <tr>\n",
       "      <th>0</th>\n",
       "      <td>0</td>\n",
       "      <td>play something 1971 john bonham</td>\n",
       "      <td>3</td>\n",
       "    </tr>\n",
       "    <tr>\n",
       "      <th>1</th>\n",
       "      <td>1</td>\n",
       "      <td>like give two rating abolition britain</td>\n",
       "      <td>4</td>\n",
       "    </tr>\n",
       "    <tr>\n",
       "      <th>2</th>\n",
       "      <td>2</td>\n",
       "      <td>locate show return mr moto</td>\n",
       "      <td>5</td>\n",
       "    </tr>\n",
       "    <tr>\n",
       "      <th>3</th>\n",
       "      <td>3</td>\n",
       "      <td>game called neutral zone</td>\n",
       "      <td>5</td>\n",
       "    </tr>\n",
       "  </tbody>\n",
       "</table>\n",
       "</div>"
      ],
      "text/plain": [
       "   Id                                Sentence  Category\n",
       "0   0         play something 1971 john bonham         3\n",
       "1   1  like give two rating abolition britain         4\n",
       "2   2              locate show return mr moto         5\n",
       "3   3                game called neutral zone         5"
      ]
     },
     "execution_count": 579,
     "metadata": {},
     "output_type": "execute_result"
    }
   ],
   "source": [
    "train.head(4)"
   ]
  },
  {
   "cell_type": "code",
   "execution_count": 580,
   "id": "5a4b8e1a",
   "metadata": {},
   "outputs": [
    {
     "data": {
      "text/plain": [
       "(350, 3)"
      ]
     },
     "execution_count": 580,
     "metadata": {},
     "output_type": "execute_result"
    }
   ],
   "source": [
    "train.shape"
   ]
  },
  {
   "cell_type": "code",
   "execution_count": 581,
   "id": "8a2d81d4",
   "metadata": {},
   "outputs": [],
   "source": [
    "text = train['Sentence']"
   ]
  },
  {
   "cell_type": "code",
   "execution_count": null,
   "id": "ba770d64",
   "metadata": {},
   "outputs": [],
   "source": []
  },
  {
   "cell_type": "markdown",
   "id": "31fb434a",
   "metadata": {},
   "source": [
    "## Doing Lemmitization"
   ]
  },
  {
   "cell_type": "code",
   "execution_count": null,
   "id": "3fbee241",
   "metadata": {},
   "outputs": [],
   "source": []
  },
  {
   "cell_type": "code",
   "execution_count": 582,
   "id": "5d533d43",
   "metadata": {},
   "outputs": [],
   "source": [
    "import re\n",
    "from nltk.stem import WordNetLemmatizer"
   ]
  },
  {
   "cell_type": "code",
   "execution_count": 583,
   "id": "c70c9b4e",
   "metadata": {},
   "outputs": [],
   "source": [
    "lemma  = WordNetLemmatizer()"
   ]
  },
  {
   "cell_type": "code",
   "execution_count": 584,
   "id": "f0c85143",
   "metadata": {},
   "outputs": [],
   "source": [
    "corpus = []\n",
    "for i in range(len(text)):\n",
    "    temp = re.sub('[^a-zA-Z]',' ',text[i])\n",
    "    temp = temp.lower()\n",
    "    temp = temp.split()\n",
    "    temp = [lemma.lemmatize(p) for p in temp if p not in set(stopwords.words('english'))]\n",
    "    temp = ' '.join(temp)\n",
    "    corpus.append(temp)"
   ]
  },
  {
   "cell_type": "code",
   "execution_count": null,
   "id": "fa0ed554",
   "metadata": {},
   "outputs": [],
   "source": [
    "for i in range(len(train)):\n",
    "    train.loc[i,'Sentence'] = corpus[i]"
   ]
  },
  {
   "cell_type": "code",
   "execution_count": 585,
   "id": "753e5277",
   "metadata": {},
   "outputs": [
    {
     "data": {
      "text/html": [
       "<div>\n",
       "<style scoped>\n",
       "    .dataframe tbody tr th:only-of-type {\n",
       "        vertical-align: middle;\n",
       "    }\n",
       "\n",
       "    .dataframe tbody tr th {\n",
       "        vertical-align: top;\n",
       "    }\n",
       "\n",
       "    .dataframe thead th {\n",
       "        text-align: right;\n",
       "    }\n",
       "</style>\n",
       "<table border=\"1\" class=\"dataframe\">\n",
       "  <thead>\n",
       "    <tr style=\"text-align: right;\">\n",
       "      <th></th>\n",
       "      <th>Id</th>\n",
       "      <th>Sentence</th>\n",
       "      <th>Category</th>\n",
       "    </tr>\n",
       "  </thead>\n",
       "  <tbody>\n",
       "    <tr>\n",
       "      <th>0</th>\n",
       "      <td>0</td>\n",
       "      <td>play something 1971 john bonham</td>\n",
       "      <td>3</td>\n",
       "    </tr>\n",
       "    <tr>\n",
       "      <th>1</th>\n",
       "      <td>1</td>\n",
       "      <td>like give two rating abolition britain</td>\n",
       "      <td>4</td>\n",
       "    </tr>\n",
       "    <tr>\n",
       "      <th>2</th>\n",
       "      <td>2</td>\n",
       "      <td>locate show return mr moto</td>\n",
       "      <td>5</td>\n",
       "    </tr>\n",
       "    <tr>\n",
       "      <th>3</th>\n",
       "      <td>3</td>\n",
       "      <td>game called neutral zone</td>\n",
       "      <td>5</td>\n",
       "    </tr>\n",
       "  </tbody>\n",
       "</table>\n",
       "</div>"
      ],
      "text/plain": [
       "   Id                                Sentence  Category\n",
       "0   0         play something 1971 john bonham         3\n",
       "1   1  like give two rating abolition britain         4\n",
       "2   2              locate show return mr moto         5\n",
       "3   3                game called neutral zone         5"
      ]
     },
     "execution_count": 585,
     "metadata": {},
     "output_type": "execute_result"
    }
   ],
   "source": [
    "train.head(4)"
   ]
  },
  {
   "cell_type": "code",
   "execution_count": 586,
   "id": "46f1d1cd",
   "metadata": {},
   "outputs": [
    {
     "data": {
      "text/html": [
       "<div>\n",
       "<style scoped>\n",
       "    .dataframe tbody tr th:only-of-type {\n",
       "        vertical-align: middle;\n",
       "    }\n",
       "\n",
       "    .dataframe tbody tr th {\n",
       "        vertical-align: top;\n",
       "    }\n",
       "\n",
       "    .dataframe thead th {\n",
       "        text-align: right;\n",
       "    }\n",
       "</style>\n",
       "<table border=\"1\" class=\"dataframe\">\n",
       "  <thead>\n",
       "    <tr style=\"text-align: right;\">\n",
       "      <th></th>\n",
       "      <th>Id</th>\n",
       "      <th>Sentence</th>\n",
       "    </tr>\n",
       "  </thead>\n",
       "  <tbody>\n",
       "    <tr>\n",
       "      <th>0</th>\n",
       "      <td>0</td>\n",
       "      <td>book me a table for 4 in a restaurant in unite...</td>\n",
       "    </tr>\n",
       "    <tr>\n",
       "      <th>1</th>\n",
       "      <td>1</td>\n",
       "      <td>add brad kane to the pumping iron soundtrack</td>\n",
       "    </tr>\n",
       "    <tr>\n",
       "      <th>2</th>\n",
       "      <td>2</td>\n",
       "      <td>play doctor fink if i could choose</td>\n",
       "    </tr>\n",
       "    <tr>\n",
       "      <th>3</th>\n",
       "      <td>3</td>\n",
       "      <td>i want to listen to an album sorted by last op...</td>\n",
       "    </tr>\n",
       "  </tbody>\n",
       "</table>\n",
       "</div>"
      ],
      "text/plain": [
       "   Id                                           Sentence\n",
       "0   0  book me a table for 4 in a restaurant in unite...\n",
       "1   1       add brad kane to the pumping iron soundtrack\n",
       "2   2                 play doctor fink if i could choose\n",
       "3   3  i want to listen to an album sorted by last op..."
      ]
     },
     "execution_count": 586,
     "metadata": {},
     "output_type": "execute_result"
    }
   ],
   "source": [
    "test.head(4)"
   ]
  },
  {
   "cell_type": "code",
   "execution_count": null,
   "id": "8157676d",
   "metadata": {},
   "outputs": [],
   "source": []
  },
  {
   "cell_type": "code",
   "execution_count": 587,
   "id": "f9e64511",
   "metadata": {},
   "outputs": [
    {
     "name": "stdout",
     "output_type": "stream",
     "text": [
      "(350, 3)\n",
      "(5234, 2)\n"
     ]
    }
   ],
   "source": [
    "print(train.shape)\n",
    "print(test.shape)"
   ]
  },
  {
   "cell_type": "code",
   "execution_count": null,
   "id": "5fc24e1d",
   "metadata": {},
   "outputs": [],
   "source": []
  },
  {
   "cell_type": "code",
   "execution_count": 588,
   "id": "e9885f4c",
   "metadata": {},
   "outputs": [],
   "source": [
    "train.drop(columns=['Id'],inplace=True)\n",
    "test.drop(columns=['Id'],inplace=True)"
   ]
  },
  {
   "cell_type": "code",
   "execution_count": 589,
   "id": "3e709a10",
   "metadata": {},
   "outputs": [
    {
     "name": "stdout",
     "output_type": "stream",
     "text": [
      "(350, 2)\n",
      "(5234, 1)\n"
     ]
    }
   ],
   "source": [
    "print(train.shape)\n",
    "print(test.shape)"
   ]
  },
  {
   "cell_type": "code",
   "execution_count": 590,
   "id": "90b418ff",
   "metadata": {},
   "outputs": [
    {
     "data": {
      "text/html": [
       "<div>\n",
       "<style scoped>\n",
       "    .dataframe tbody tr th:only-of-type {\n",
       "        vertical-align: middle;\n",
       "    }\n",
       "\n",
       "    .dataframe tbody tr th {\n",
       "        vertical-align: top;\n",
       "    }\n",
       "\n",
       "    .dataframe thead th {\n",
       "        text-align: right;\n",
       "    }\n",
       "</style>\n",
       "<table border=\"1\" class=\"dataframe\">\n",
       "  <thead>\n",
       "    <tr style=\"text-align: right;\">\n",
       "      <th></th>\n",
       "      <th>Sentence</th>\n",
       "      <th>Category</th>\n",
       "    </tr>\n",
       "  </thead>\n",
       "  <tbody>\n",
       "    <tr>\n",
       "      <th>0</th>\n",
       "      <td>play something 1971 john bonham</td>\n",
       "      <td>3</td>\n",
       "    </tr>\n",
       "    <tr>\n",
       "      <th>1</th>\n",
       "      <td>like give two rating abolition britain</td>\n",
       "      <td>4</td>\n",
       "    </tr>\n",
       "    <tr>\n",
       "      <th>2</th>\n",
       "      <td>locate show return mr moto</td>\n",
       "      <td>5</td>\n",
       "    </tr>\n",
       "  </tbody>\n",
       "</table>\n",
       "</div>"
      ],
      "text/plain": [
       "                                 Sentence  Category\n",
       "0         play something 1971 john bonham         3\n",
       "1  like give two rating abolition britain         4\n",
       "2              locate show return mr moto         5"
      ]
     },
     "execution_count": 590,
     "metadata": {},
     "output_type": "execute_result"
    }
   ],
   "source": [
    "train.head(3)"
   ]
  },
  {
   "cell_type": "code",
   "execution_count": 591,
   "id": "27665dc5",
   "metadata": {},
   "outputs": [
    {
     "data": {
      "text/html": [
       "<div>\n",
       "<style scoped>\n",
       "    .dataframe tbody tr th:only-of-type {\n",
       "        vertical-align: middle;\n",
       "    }\n",
       "\n",
       "    .dataframe tbody tr th {\n",
       "        vertical-align: top;\n",
       "    }\n",
       "\n",
       "    .dataframe thead th {\n",
       "        text-align: right;\n",
       "    }\n",
       "</style>\n",
       "<table border=\"1\" class=\"dataframe\">\n",
       "  <thead>\n",
       "    <tr style=\"text-align: right;\">\n",
       "      <th></th>\n",
       "      <th>Sentence</th>\n",
       "    </tr>\n",
       "  </thead>\n",
       "  <tbody>\n",
       "    <tr>\n",
       "      <th>0</th>\n",
       "      <td>book me a table for 4 in a restaurant in unite...</td>\n",
       "    </tr>\n",
       "    <tr>\n",
       "      <th>1</th>\n",
       "      <td>add brad kane to the pumping iron soundtrack</td>\n",
       "    </tr>\n",
       "    <tr>\n",
       "      <th>2</th>\n",
       "      <td>play doctor fink if i could choose</td>\n",
       "    </tr>\n",
       "  </tbody>\n",
       "</table>\n",
       "</div>"
      ],
      "text/plain": [
       "                                            Sentence\n",
       "0  book me a table for 4 in a restaurant in unite...\n",
       "1       add brad kane to the pumping iron soundtrack\n",
       "2                 play doctor fink if i could choose"
      ]
     },
     "execution_count": 591,
     "metadata": {},
     "output_type": "execute_result"
    }
   ],
   "source": [
    "test.head(3)"
   ]
  },
  {
   "cell_type": "code",
   "execution_count": null,
   "id": "83fa7dd4",
   "metadata": {},
   "outputs": [],
   "source": []
  },
  {
   "cell_type": "code",
   "execution_count": 592,
   "id": "d425217c",
   "metadata": {},
   "outputs": [
    {
     "data": {
      "text/html": [
       "<div>\n",
       "<style scoped>\n",
       "    .dataframe tbody tr th:only-of-type {\n",
       "        vertical-align: middle;\n",
       "    }\n",
       "\n",
       "    .dataframe tbody tr th {\n",
       "        vertical-align: top;\n",
       "    }\n",
       "\n",
       "    .dataframe thead th {\n",
       "        text-align: right;\n",
       "    }\n",
       "</style>\n",
       "<table border=\"1\" class=\"dataframe\">\n",
       "  <thead>\n",
       "    <tr style=\"text-align: right;\">\n",
       "      <th></th>\n",
       "      <th>Sentence</th>\n",
       "      <th>Category</th>\n",
       "    </tr>\n",
       "  </thead>\n",
       "  <tbody>\n",
       "    <tr>\n",
       "      <th>0</th>\n",
       "      <td>play something 1971 john bonham</td>\n",
       "      <td>3</td>\n",
       "    </tr>\n",
       "    <tr>\n",
       "      <th>1</th>\n",
       "      <td>like give two rating abolition britain</td>\n",
       "      <td>4</td>\n",
       "    </tr>\n",
       "    <tr>\n",
       "      <th>2</th>\n",
       "      <td>locate show return mr moto</td>\n",
       "      <td>5</td>\n",
       "    </tr>\n",
       "    <tr>\n",
       "      <th>3</th>\n",
       "      <td>game called neutral zone</td>\n",
       "      <td>5</td>\n",
       "    </tr>\n",
       "    <tr>\n",
       "      <th>4</th>\n",
       "      <td>give textbook zero points</td>\n",
       "      <td>4</td>\n",
       "    </tr>\n",
       "  </tbody>\n",
       "</table>\n",
       "</div>"
      ],
      "text/plain": [
       "                                 Sentence  Category\n",
       "0         play something 1971 john bonham         3\n",
       "1  like give two rating abolition britain         4\n",
       "2              locate show return mr moto         5\n",
       "3                game called neutral zone         5\n",
       "4               give textbook zero points         4"
      ]
     },
     "execution_count": 592,
     "metadata": {},
     "output_type": "execute_result"
    }
   ],
   "source": [
    "train.head()"
   ]
  },
  {
   "cell_type": "code",
   "execution_count": 593,
   "id": "6202995d",
   "metadata": {},
   "outputs": [
    {
     "data": {
      "text/html": [
       "<div>\n",
       "<style scoped>\n",
       "    .dataframe tbody tr th:only-of-type {\n",
       "        vertical-align: middle;\n",
       "    }\n",
       "\n",
       "    .dataframe tbody tr th {\n",
       "        vertical-align: top;\n",
       "    }\n",
       "\n",
       "    .dataframe thead th {\n",
       "        text-align: right;\n",
       "    }\n",
       "</style>\n",
       "<table border=\"1\" class=\"dataframe\">\n",
       "  <thead>\n",
       "    <tr style=\"text-align: right;\">\n",
       "      <th></th>\n",
       "      <th>Sentence</th>\n",
       "    </tr>\n",
       "  </thead>\n",
       "  <tbody>\n",
       "    <tr>\n",
       "      <th>0</th>\n",
       "      <td>book me a table for 4 in a restaurant in unite...</td>\n",
       "    </tr>\n",
       "    <tr>\n",
       "      <th>1</th>\n",
       "      <td>add brad kane to the pumping iron soundtrack</td>\n",
       "    </tr>\n",
       "    <tr>\n",
       "      <th>2</th>\n",
       "      <td>play doctor fink if i could choose</td>\n",
       "    </tr>\n",
       "    <tr>\n",
       "      <th>3</th>\n",
       "      <td>i want to listen to an album sorted by last op...</td>\n",
       "    </tr>\n",
       "    <tr>\n",
       "      <th>4</th>\n",
       "      <td>put some mac wiseman in my latino caliente pla...</td>\n",
       "    </tr>\n",
       "  </tbody>\n",
       "</table>\n",
       "</div>"
      ],
      "text/plain": [
       "                                            Sentence\n",
       "0  book me a table for 4 in a restaurant in unite...\n",
       "1       add brad kane to the pumping iron soundtrack\n",
       "2                 play doctor fink if i could choose\n",
       "3  i want to listen to an album sorted by last op...\n",
       "4  put some mac wiseman in my latino caliente pla..."
      ]
     },
     "execution_count": 593,
     "metadata": {},
     "output_type": "execute_result"
    }
   ],
   "source": [
    "test.head()"
   ]
  },
  {
   "cell_type": "code",
   "execution_count": null,
   "id": "44a15eb2",
   "metadata": {},
   "outputs": [],
   "source": []
  },
  {
   "cell_type": "code",
   "execution_count": 594,
   "id": "85e1efb3",
   "metadata": {},
   "outputs": [],
   "source": [
    "x_train , x_test , y_train , y_test = train_test_split(train['Sentence'] , train['Category'] , \n",
    "                                                       test_size=0.3 ,random_state=101)"
   ]
  },
  {
   "cell_type": "code",
   "execution_count": 595,
   "id": "159cb54f",
   "metadata": {},
   "outputs": [],
   "source": [
    "from sklearn.feature_extraction.text import TfidfVectorizer\n",
    "from sklearn.ensemble import RandomForestClassifier\n",
    "from sklearn.svm import SVC"
   ]
  },
  {
   "cell_type": "code",
   "execution_count": 596,
   "id": "56fadb57",
   "metadata": {},
   "outputs": [
    {
     "name": "stdout",
     "output_type": "stream",
     "text": [
      "(245,)\n",
      "(245,)\n",
      "(105,)\n",
      "(105,)\n"
     ]
    }
   ],
   "source": [
    "print(x_train.shape)\n",
    "print(y_train.shape)\n",
    "\n",
    "print(x_test.shape)\n",
    "print(y_test.shape)"
   ]
  },
  {
   "cell_type": "code",
   "execution_count": null,
   "id": "939e5919",
   "metadata": {},
   "outputs": [],
   "source": []
  },
  {
   "cell_type": "code",
   "execution_count": null,
   "id": "2a751157",
   "metadata": {},
   "outputs": [],
   "source": []
  },
  {
   "cell_type": "code",
   "execution_count": null,
   "id": "41dfcae9",
   "metadata": {},
   "outputs": [],
   "source": []
  },
  {
   "cell_type": "markdown",
   "id": "2251df73",
   "metadata": {},
   "source": [
    "## Bag of words (bow)"
   ]
  },
  {
   "cell_type": "code",
   "execution_count": null,
   "id": "f779dd3c",
   "metadata": {},
   "outputs": [],
   "source": []
  },
  {
   "cell_type": "code",
   "execution_count": 509,
   "id": "67fa8eea",
   "metadata": {},
   "outputs": [],
   "source": [
    "from sklearn.feature_extraction.text import CountVectorizer"
   ]
  },
  {
   "cell_type": "code",
   "execution_count": 510,
   "id": "b814397f",
   "metadata": {},
   "outputs": [],
   "source": [
    "cv = CountVectorizer(max_features=100)\n",
    "bow_x = cv.fit_transform(train['Sentence']).toarray()"
   ]
  },
  {
   "cell_type": "code",
   "execution_count": 511,
   "id": "d8aaca11",
   "metadata": {},
   "outputs": [
    {
     "data": {
      "text/plain": [
       "(350, 100)"
      ]
     },
     "execution_count": 511,
     "metadata": {},
     "output_type": "execute_result"
    }
   ],
   "source": [
    "bow_x.shape"
   ]
  },
  {
   "cell_type": "code",
   "execution_count": 512,
   "id": "45af8e39",
   "metadata": {},
   "outputs": [
    {
     "data": {
      "text/plain": [
       "array([[0, 0, 0, ..., 0, 0, 0],\n",
       "       [0, 0, 0, ..., 0, 0, 0],\n",
       "       [0, 0, 0, ..., 0, 0, 0],\n",
       "       ...,\n",
       "       [1, 0, 0, ..., 0, 0, 0],\n",
       "       [1, 0, 0, ..., 0, 0, 0],\n",
       "       [1, 0, 0, ..., 0, 0, 0]], dtype=int64)"
      ]
     },
     "execution_count": 512,
     "metadata": {},
     "output_type": "execute_result"
    }
   ],
   "source": [
    "bow_x"
   ]
  },
  {
   "cell_type": "code",
   "execution_count": 513,
   "id": "f59d047a",
   "metadata": {},
   "outputs": [],
   "source": [
    "train_df = pd.DataFrame(bow_x)"
   ]
  },
  {
   "cell_type": "code",
   "execution_count": 514,
   "id": "29bfd556",
   "metadata": {},
   "outputs": [
    {
     "data": {
      "text/html": [
       "<div>\n",
       "<style scoped>\n",
       "    .dataframe tbody tr th:only-of-type {\n",
       "        vertical-align: middle;\n",
       "    }\n",
       "\n",
       "    .dataframe tbody tr th {\n",
       "        vertical-align: top;\n",
       "    }\n",
       "\n",
       "    .dataframe thead th {\n",
       "        text-align: right;\n",
       "    }\n",
       "</style>\n",
       "<table border=\"1\" class=\"dataframe\">\n",
       "  <thead>\n",
       "    <tr style=\"text-align: right;\">\n",
       "      <th></th>\n",
       "      <th>0</th>\n",
       "      <th>1</th>\n",
       "      <th>2</th>\n",
       "      <th>3</th>\n",
       "      <th>4</th>\n",
       "      <th>5</th>\n",
       "      <th>6</th>\n",
       "      <th>7</th>\n",
       "      <th>8</th>\n",
       "      <th>9</th>\n",
       "      <th>...</th>\n",
       "      <th>90</th>\n",
       "      <th>91</th>\n",
       "      <th>92</th>\n",
       "      <th>93</th>\n",
       "      <th>94</th>\n",
       "      <th>95</th>\n",
       "      <th>96</th>\n",
       "      <th>97</th>\n",
       "      <th>98</th>\n",
       "      <th>99</th>\n",
       "    </tr>\n",
       "  </thead>\n",
       "  <tbody>\n",
       "    <tr>\n",
       "      <th>0</th>\n",
       "      <td>0</td>\n",
       "      <td>0</td>\n",
       "      <td>0</td>\n",
       "      <td>0</td>\n",
       "      <td>0</td>\n",
       "      <td>0</td>\n",
       "      <td>0</td>\n",
       "      <td>0</td>\n",
       "      <td>0</td>\n",
       "      <td>0</td>\n",
       "      <td>...</td>\n",
       "      <td>0</td>\n",
       "      <td>0</td>\n",
       "      <td>0</td>\n",
       "      <td>0</td>\n",
       "      <td>0</td>\n",
       "      <td>0</td>\n",
       "      <td>0</td>\n",
       "      <td>0</td>\n",
       "      <td>0</td>\n",
       "      <td>0</td>\n",
       "    </tr>\n",
       "    <tr>\n",
       "      <th>1</th>\n",
       "      <td>0</td>\n",
       "      <td>0</td>\n",
       "      <td>0</td>\n",
       "      <td>0</td>\n",
       "      <td>0</td>\n",
       "      <td>0</td>\n",
       "      <td>0</td>\n",
       "      <td>0</td>\n",
       "      <td>0</td>\n",
       "      <td>0</td>\n",
       "      <td>...</td>\n",
       "      <td>1</td>\n",
       "      <td>0</td>\n",
       "      <td>0</td>\n",
       "      <td>0</td>\n",
       "      <td>0</td>\n",
       "      <td>0</td>\n",
       "      <td>0</td>\n",
       "      <td>0</td>\n",
       "      <td>0</td>\n",
       "      <td>0</td>\n",
       "    </tr>\n",
       "    <tr>\n",
       "      <th>2</th>\n",
       "      <td>0</td>\n",
       "      <td>0</td>\n",
       "      <td>0</td>\n",
       "      <td>0</td>\n",
       "      <td>0</td>\n",
       "      <td>0</td>\n",
       "      <td>0</td>\n",
       "      <td>0</td>\n",
       "      <td>0</td>\n",
       "      <td>0</td>\n",
       "      <td>...</td>\n",
       "      <td>0</td>\n",
       "      <td>0</td>\n",
       "      <td>0</td>\n",
       "      <td>0</td>\n",
       "      <td>0</td>\n",
       "      <td>0</td>\n",
       "      <td>0</td>\n",
       "      <td>0</td>\n",
       "      <td>0</td>\n",
       "      <td>0</td>\n",
       "    </tr>\n",
       "    <tr>\n",
       "      <th>3</th>\n",
       "      <td>0</td>\n",
       "      <td>0</td>\n",
       "      <td>0</td>\n",
       "      <td>0</td>\n",
       "      <td>0</td>\n",
       "      <td>1</td>\n",
       "      <td>0</td>\n",
       "      <td>0</td>\n",
       "      <td>0</td>\n",
       "      <td>0</td>\n",
       "      <td>...</td>\n",
       "      <td>0</td>\n",
       "      <td>0</td>\n",
       "      <td>0</td>\n",
       "      <td>0</td>\n",
       "      <td>0</td>\n",
       "      <td>0</td>\n",
       "      <td>0</td>\n",
       "      <td>0</td>\n",
       "      <td>0</td>\n",
       "      <td>0</td>\n",
       "    </tr>\n",
       "    <tr>\n",
       "      <th>4</th>\n",
       "      <td>0</td>\n",
       "      <td>0</td>\n",
       "      <td>0</td>\n",
       "      <td>0</td>\n",
       "      <td>0</td>\n",
       "      <td>0</td>\n",
       "      <td>0</td>\n",
       "      <td>0</td>\n",
       "      <td>0</td>\n",
       "      <td>0</td>\n",
       "      <td>...</td>\n",
       "      <td>0</td>\n",
       "      <td>0</td>\n",
       "      <td>0</td>\n",
       "      <td>0</td>\n",
       "      <td>0</td>\n",
       "      <td>0</td>\n",
       "      <td>0</td>\n",
       "      <td>0</td>\n",
       "      <td>0</td>\n",
       "      <td>1</td>\n",
       "    </tr>\n",
       "  </tbody>\n",
       "</table>\n",
       "<p>5 rows × 100 columns</p>\n",
       "</div>"
      ],
      "text/plain": [
       "   0   1   2   3   4   5   6   7   8   9   ...  90  91  92  93  94  95  96  \\\n",
       "0   0   0   0   0   0   0   0   0   0   0  ...   0   0   0   0   0   0   0   \n",
       "1   0   0   0   0   0   0   0   0   0   0  ...   1   0   0   0   0   0   0   \n",
       "2   0   0   0   0   0   0   0   0   0   0  ...   0   0   0   0   0   0   0   \n",
       "3   0   0   0   0   0   1   0   0   0   0  ...   0   0   0   0   0   0   0   \n",
       "4   0   0   0   0   0   0   0   0   0   0  ...   0   0   0   0   0   0   0   \n",
       "\n",
       "   97  98  99  \n",
       "0   0   0   0  \n",
       "1   0   0   0  \n",
       "2   0   0   0  \n",
       "3   0   0   0  \n",
       "4   0   0   1  \n",
       "\n",
       "[5 rows x 100 columns]"
      ]
     },
     "execution_count": 514,
     "metadata": {},
     "output_type": "execute_result"
    }
   ],
   "source": [
    "train_df.head()"
   ]
  },
  {
   "cell_type": "code",
   "execution_count": 515,
   "id": "7542d2d0",
   "metadata": {},
   "outputs": [],
   "source": [
    "train_df['target'] = train['Category']"
   ]
  },
  {
   "cell_type": "code",
   "execution_count": 516,
   "id": "0a6c2a01",
   "metadata": {},
   "outputs": [
    {
     "data": {
      "text/html": [
       "<div>\n",
       "<style scoped>\n",
       "    .dataframe tbody tr th:only-of-type {\n",
       "        vertical-align: middle;\n",
       "    }\n",
       "\n",
       "    .dataframe tbody tr th {\n",
       "        vertical-align: top;\n",
       "    }\n",
       "\n",
       "    .dataframe thead th {\n",
       "        text-align: right;\n",
       "    }\n",
       "</style>\n",
       "<table border=\"1\" class=\"dataframe\">\n",
       "  <thead>\n",
       "    <tr style=\"text-align: right;\">\n",
       "      <th></th>\n",
       "      <th>0</th>\n",
       "      <th>1</th>\n",
       "      <th>2</th>\n",
       "      <th>3</th>\n",
       "      <th>4</th>\n",
       "      <th>5</th>\n",
       "      <th>6</th>\n",
       "      <th>7</th>\n",
       "      <th>8</th>\n",
       "      <th>9</th>\n",
       "      <th>...</th>\n",
       "      <th>91</th>\n",
       "      <th>92</th>\n",
       "      <th>93</th>\n",
       "      <th>94</th>\n",
       "      <th>95</th>\n",
       "      <th>96</th>\n",
       "      <th>97</th>\n",
       "      <th>98</th>\n",
       "      <th>99</th>\n",
       "      <th>target</th>\n",
       "    </tr>\n",
       "  </thead>\n",
       "  <tbody>\n",
       "    <tr>\n",
       "      <th>0</th>\n",
       "      <td>0</td>\n",
       "      <td>0</td>\n",
       "      <td>0</td>\n",
       "      <td>0</td>\n",
       "      <td>0</td>\n",
       "      <td>0</td>\n",
       "      <td>0</td>\n",
       "      <td>0</td>\n",
       "      <td>0</td>\n",
       "      <td>0</td>\n",
       "      <td>...</td>\n",
       "      <td>0</td>\n",
       "      <td>0</td>\n",
       "      <td>0</td>\n",
       "      <td>0</td>\n",
       "      <td>0</td>\n",
       "      <td>0</td>\n",
       "      <td>0</td>\n",
       "      <td>0</td>\n",
       "      <td>0</td>\n",
       "      <td>3</td>\n",
       "    </tr>\n",
       "    <tr>\n",
       "      <th>1</th>\n",
       "      <td>0</td>\n",
       "      <td>0</td>\n",
       "      <td>0</td>\n",
       "      <td>0</td>\n",
       "      <td>0</td>\n",
       "      <td>0</td>\n",
       "      <td>0</td>\n",
       "      <td>0</td>\n",
       "      <td>0</td>\n",
       "      <td>0</td>\n",
       "      <td>...</td>\n",
       "      <td>0</td>\n",
       "      <td>0</td>\n",
       "      <td>0</td>\n",
       "      <td>0</td>\n",
       "      <td>0</td>\n",
       "      <td>0</td>\n",
       "      <td>0</td>\n",
       "      <td>0</td>\n",
       "      <td>0</td>\n",
       "      <td>4</td>\n",
       "    </tr>\n",
       "    <tr>\n",
       "      <th>2</th>\n",
       "      <td>0</td>\n",
       "      <td>0</td>\n",
       "      <td>0</td>\n",
       "      <td>0</td>\n",
       "      <td>0</td>\n",
       "      <td>0</td>\n",
       "      <td>0</td>\n",
       "      <td>0</td>\n",
       "      <td>0</td>\n",
       "      <td>0</td>\n",
       "      <td>...</td>\n",
       "      <td>0</td>\n",
       "      <td>0</td>\n",
       "      <td>0</td>\n",
       "      <td>0</td>\n",
       "      <td>0</td>\n",
       "      <td>0</td>\n",
       "      <td>0</td>\n",
       "      <td>0</td>\n",
       "      <td>0</td>\n",
       "      <td>5</td>\n",
       "    </tr>\n",
       "    <tr>\n",
       "      <th>3</th>\n",
       "      <td>0</td>\n",
       "      <td>0</td>\n",
       "      <td>0</td>\n",
       "      <td>0</td>\n",
       "      <td>0</td>\n",
       "      <td>1</td>\n",
       "      <td>0</td>\n",
       "      <td>0</td>\n",
       "      <td>0</td>\n",
       "      <td>0</td>\n",
       "      <td>...</td>\n",
       "      <td>0</td>\n",
       "      <td>0</td>\n",
       "      <td>0</td>\n",
       "      <td>0</td>\n",
       "      <td>0</td>\n",
       "      <td>0</td>\n",
       "      <td>0</td>\n",
       "      <td>0</td>\n",
       "      <td>0</td>\n",
       "      <td>5</td>\n",
       "    </tr>\n",
       "    <tr>\n",
       "      <th>4</th>\n",
       "      <td>0</td>\n",
       "      <td>0</td>\n",
       "      <td>0</td>\n",
       "      <td>0</td>\n",
       "      <td>0</td>\n",
       "      <td>0</td>\n",
       "      <td>0</td>\n",
       "      <td>0</td>\n",
       "      <td>0</td>\n",
       "      <td>0</td>\n",
       "      <td>...</td>\n",
       "      <td>0</td>\n",
       "      <td>0</td>\n",
       "      <td>0</td>\n",
       "      <td>0</td>\n",
       "      <td>0</td>\n",
       "      <td>0</td>\n",
       "      <td>0</td>\n",
       "      <td>0</td>\n",
       "      <td>1</td>\n",
       "      <td>4</td>\n",
       "    </tr>\n",
       "  </tbody>\n",
       "</table>\n",
       "<p>5 rows × 101 columns</p>\n",
       "</div>"
      ],
      "text/plain": [
       "   0  1  2  3  4  5  6  7  8  9  ...  91  92  93  94  95  96  97  98  99  \\\n",
       "0  0  0  0  0  0  0  0  0  0  0  ...   0   0   0   0   0   0   0   0   0   \n",
       "1  0  0  0  0  0  0  0  0  0  0  ...   0   0   0   0   0   0   0   0   0   \n",
       "2  0  0  0  0  0  0  0  0  0  0  ...   0   0   0   0   0   0   0   0   0   \n",
       "3  0  0  0  0  0  1  0  0  0  0  ...   0   0   0   0   0   0   0   0   0   \n",
       "4  0  0  0  0  0  0  0  0  0  0  ...   0   0   0   0   0   0   0   0   1   \n",
       "\n",
       "   target  \n",
       "0       3  \n",
       "1       4  \n",
       "2       5  \n",
       "3       5  \n",
       "4       4  \n",
       "\n",
       "[5 rows x 101 columns]"
      ]
     },
     "execution_count": 516,
     "metadata": {},
     "output_type": "execute_result"
    }
   ],
   "source": [
    "train_df.head()"
   ]
  },
  {
   "cell_type": "code",
   "execution_count": null,
   "id": "74404949",
   "metadata": {},
   "outputs": [],
   "source": []
  },
  {
   "cell_type": "markdown",
   "id": "1eaaa13c",
   "metadata": {},
   "source": [
    "## Train Test Split"
   ]
  },
  {
   "cell_type": "code",
   "execution_count": null,
   "id": "ef082f1b",
   "metadata": {},
   "outputs": [],
   "source": []
  },
  {
   "cell_type": "code",
   "execution_count": 517,
   "id": "5f5008fb",
   "metadata": {},
   "outputs": [],
   "source": [
    "from sklearn.model_selection import train_test_split"
   ]
  },
  {
   "cell_type": "code",
   "execution_count": 518,
   "id": "730666ed",
   "metadata": {},
   "outputs": [],
   "source": [
    "x = train_df.iloc[:,:-1]"
   ]
  },
  {
   "cell_type": "code",
   "execution_count": 519,
   "id": "396f435b",
   "metadata": {},
   "outputs": [
    {
     "data": {
      "text/html": [
       "<div>\n",
       "<style scoped>\n",
       "    .dataframe tbody tr th:only-of-type {\n",
       "        vertical-align: middle;\n",
       "    }\n",
       "\n",
       "    .dataframe tbody tr th {\n",
       "        vertical-align: top;\n",
       "    }\n",
       "\n",
       "    .dataframe thead th {\n",
       "        text-align: right;\n",
       "    }\n",
       "</style>\n",
       "<table border=\"1\" class=\"dataframe\">\n",
       "  <thead>\n",
       "    <tr style=\"text-align: right;\">\n",
       "      <th></th>\n",
       "      <th>0</th>\n",
       "      <th>1</th>\n",
       "      <th>2</th>\n",
       "      <th>3</th>\n",
       "      <th>4</th>\n",
       "      <th>5</th>\n",
       "      <th>6</th>\n",
       "      <th>7</th>\n",
       "      <th>8</th>\n",
       "      <th>9</th>\n",
       "      <th>...</th>\n",
       "      <th>90</th>\n",
       "      <th>91</th>\n",
       "      <th>92</th>\n",
       "      <th>93</th>\n",
       "      <th>94</th>\n",
       "      <th>95</th>\n",
       "      <th>96</th>\n",
       "      <th>97</th>\n",
       "      <th>98</th>\n",
       "      <th>99</th>\n",
       "    </tr>\n",
       "  </thead>\n",
       "  <tbody>\n",
       "    <tr>\n",
       "      <th>0</th>\n",
       "      <td>0</td>\n",
       "      <td>0</td>\n",
       "      <td>0</td>\n",
       "      <td>0</td>\n",
       "      <td>0</td>\n",
       "      <td>0</td>\n",
       "      <td>0</td>\n",
       "      <td>0</td>\n",
       "      <td>0</td>\n",
       "      <td>0</td>\n",
       "      <td>...</td>\n",
       "      <td>0</td>\n",
       "      <td>0</td>\n",
       "      <td>0</td>\n",
       "      <td>0</td>\n",
       "      <td>0</td>\n",
       "      <td>0</td>\n",
       "      <td>0</td>\n",
       "      <td>0</td>\n",
       "      <td>0</td>\n",
       "      <td>0</td>\n",
       "    </tr>\n",
       "    <tr>\n",
       "      <th>1</th>\n",
       "      <td>0</td>\n",
       "      <td>0</td>\n",
       "      <td>0</td>\n",
       "      <td>0</td>\n",
       "      <td>0</td>\n",
       "      <td>0</td>\n",
       "      <td>0</td>\n",
       "      <td>0</td>\n",
       "      <td>0</td>\n",
       "      <td>0</td>\n",
       "      <td>...</td>\n",
       "      <td>1</td>\n",
       "      <td>0</td>\n",
       "      <td>0</td>\n",
       "      <td>0</td>\n",
       "      <td>0</td>\n",
       "      <td>0</td>\n",
       "      <td>0</td>\n",
       "      <td>0</td>\n",
       "      <td>0</td>\n",
       "      <td>0</td>\n",
       "    </tr>\n",
       "    <tr>\n",
       "      <th>2</th>\n",
       "      <td>0</td>\n",
       "      <td>0</td>\n",
       "      <td>0</td>\n",
       "      <td>0</td>\n",
       "      <td>0</td>\n",
       "      <td>0</td>\n",
       "      <td>0</td>\n",
       "      <td>0</td>\n",
       "      <td>0</td>\n",
       "      <td>0</td>\n",
       "      <td>...</td>\n",
       "      <td>0</td>\n",
       "      <td>0</td>\n",
       "      <td>0</td>\n",
       "      <td>0</td>\n",
       "      <td>0</td>\n",
       "      <td>0</td>\n",
       "      <td>0</td>\n",
       "      <td>0</td>\n",
       "      <td>0</td>\n",
       "      <td>0</td>\n",
       "    </tr>\n",
       "    <tr>\n",
       "      <th>3</th>\n",
       "      <td>0</td>\n",
       "      <td>0</td>\n",
       "      <td>0</td>\n",
       "      <td>0</td>\n",
       "      <td>0</td>\n",
       "      <td>1</td>\n",
       "      <td>0</td>\n",
       "      <td>0</td>\n",
       "      <td>0</td>\n",
       "      <td>0</td>\n",
       "      <td>...</td>\n",
       "      <td>0</td>\n",
       "      <td>0</td>\n",
       "      <td>0</td>\n",
       "      <td>0</td>\n",
       "      <td>0</td>\n",
       "      <td>0</td>\n",
       "      <td>0</td>\n",
       "      <td>0</td>\n",
       "      <td>0</td>\n",
       "      <td>0</td>\n",
       "    </tr>\n",
       "    <tr>\n",
       "      <th>4</th>\n",
       "      <td>0</td>\n",
       "      <td>0</td>\n",
       "      <td>0</td>\n",
       "      <td>0</td>\n",
       "      <td>0</td>\n",
       "      <td>0</td>\n",
       "      <td>0</td>\n",
       "      <td>0</td>\n",
       "      <td>0</td>\n",
       "      <td>0</td>\n",
       "      <td>...</td>\n",
       "      <td>0</td>\n",
       "      <td>0</td>\n",
       "      <td>0</td>\n",
       "      <td>0</td>\n",
       "      <td>0</td>\n",
       "      <td>0</td>\n",
       "      <td>0</td>\n",
       "      <td>0</td>\n",
       "      <td>0</td>\n",
       "      <td>1</td>\n",
       "    </tr>\n",
       "  </tbody>\n",
       "</table>\n",
       "<p>5 rows × 100 columns</p>\n",
       "</div>"
      ],
      "text/plain": [
       "   0   1   2   3   4   5   6   7   8   9   ...  90  91  92  93  94  95  96  \\\n",
       "0   0   0   0   0   0   0   0   0   0   0  ...   0   0   0   0   0   0   0   \n",
       "1   0   0   0   0   0   0   0   0   0   0  ...   1   0   0   0   0   0   0   \n",
       "2   0   0   0   0   0   0   0   0   0   0  ...   0   0   0   0   0   0   0   \n",
       "3   0   0   0   0   0   1   0   0   0   0  ...   0   0   0   0   0   0   0   \n",
       "4   0   0   0   0   0   0   0   0   0   0  ...   0   0   0   0   0   0   0   \n",
       "\n",
       "   97  98  99  \n",
       "0   0   0   0  \n",
       "1   0   0   0  \n",
       "2   0   0   0  \n",
       "3   0   0   0  \n",
       "4   0   0   1  \n",
       "\n",
       "[5 rows x 100 columns]"
      ]
     },
     "execution_count": 519,
     "metadata": {},
     "output_type": "execute_result"
    }
   ],
   "source": [
    "x.head()"
   ]
  },
  {
   "cell_type": "code",
   "execution_count": 520,
   "id": "fb8e566c",
   "metadata": {},
   "outputs": [],
   "source": [
    "y = train_df.iloc[:,-1]"
   ]
  },
  {
   "cell_type": "code",
   "execution_count": 521,
   "id": "791d72f4",
   "metadata": {},
   "outputs": [
    {
     "data": {
      "text/plain": [
       "0    3\n",
       "1    4\n",
       "2    5\n",
       "3    5\n",
       "4    4\n",
       "Name: target, dtype: int32"
      ]
     },
     "execution_count": 521,
     "metadata": {},
     "output_type": "execute_result"
    }
   ],
   "source": [
    "y.head()"
   ]
  },
  {
   "cell_type": "code",
   "execution_count": 522,
   "id": "72530de9",
   "metadata": {},
   "outputs": [],
   "source": [
    "x_train , x_test , y_train , y_test = train_test_split(x , y , \n",
    "                                                       test_size=0.3 ,random_state= 108 ,  stratify=y)"
   ]
  },
  {
   "cell_type": "code",
   "execution_count": 523,
   "id": "b5514c37",
   "metadata": {},
   "outputs": [
    {
     "name": "stdout",
     "output_type": "stream",
     "text": [
      "(245, 100)\n",
      "(105, 100)\n",
      "(245,)\n",
      "(105,)\n"
     ]
    }
   ],
   "source": [
    "print(x_train.shape)\n",
    "print(x_test.shape)\n",
    "\n",
    "print(y_train.shape)\n",
    "print(y_test.shape)"
   ]
  },
  {
   "cell_type": "code",
   "execution_count": null,
   "id": "8abfbdc4",
   "metadata": {},
   "outputs": [],
   "source": []
  },
  {
   "cell_type": "markdown",
   "id": "42c96f6c",
   "metadata": {},
   "source": [
    "## Budiling Model"
   ]
  },
  {
   "cell_type": "code",
   "execution_count": null,
   "id": "05657197",
   "metadata": {},
   "outputs": [],
   "source": []
  },
  {
   "cell_type": "code",
   "execution_count": 598,
   "id": "df47da0e",
   "metadata": {},
   "outputs": [],
   "source": [
    "## Budiling Model\n",
    "# pipeline package to merge NLP and Machine Learning together and get the output\n",
    "from sklearn.pipeline import Pipeline\n",
    "from xgboost import XGBClassifier\n",
    "\n",
    "from sklearn.ensemble import RandomForestClassifier\n",
    "from sklearn.svm import SVC"
   ]
  },
  {
   "cell_type": "code",
   "execution_count": 662,
   "id": "d6b64f81",
   "metadata": {},
   "outputs": [],
   "source": [
    "rf = Pipeline([\n",
    "                       ('TF-IDF', TfidfVectorizer()),\n",
    "                      ('Classifier',RandomForestClassifier())\n",
    "                      ])"
   ]
  },
  {
   "cell_type": "code",
   "execution_count": 663,
   "id": "234716b7",
   "metadata": {},
   "outputs": [
    {
     "data": {
      "text/html": [
       "<style>#sk-container-id-9 {color: black;}#sk-container-id-9 pre{padding: 0;}#sk-container-id-9 div.sk-toggleable {background-color: white;}#sk-container-id-9 label.sk-toggleable__label {cursor: pointer;display: block;width: 100%;margin-bottom: 0;padding: 0.3em;box-sizing: border-box;text-align: center;}#sk-container-id-9 label.sk-toggleable__label-arrow:before {content: \"▸\";float: left;margin-right: 0.25em;color: #696969;}#sk-container-id-9 label.sk-toggleable__label-arrow:hover:before {color: black;}#sk-container-id-9 div.sk-estimator:hover label.sk-toggleable__label-arrow:before {color: black;}#sk-container-id-9 div.sk-toggleable__content {max-height: 0;max-width: 0;overflow: hidden;text-align: left;background-color: #f0f8ff;}#sk-container-id-9 div.sk-toggleable__content pre {margin: 0.2em;color: black;border-radius: 0.25em;background-color: #f0f8ff;}#sk-container-id-9 input.sk-toggleable__control:checked~div.sk-toggleable__content {max-height: 200px;max-width: 100%;overflow: auto;}#sk-container-id-9 input.sk-toggleable__control:checked~label.sk-toggleable__label-arrow:before {content: \"▾\";}#sk-container-id-9 div.sk-estimator input.sk-toggleable__control:checked~label.sk-toggleable__label {background-color: #d4ebff;}#sk-container-id-9 div.sk-label input.sk-toggleable__control:checked~label.sk-toggleable__label {background-color: #d4ebff;}#sk-container-id-9 input.sk-hidden--visually {border: 0;clip: rect(1px 1px 1px 1px);clip: rect(1px, 1px, 1px, 1px);height: 1px;margin: -1px;overflow: hidden;padding: 0;position: absolute;width: 1px;}#sk-container-id-9 div.sk-estimator {font-family: monospace;background-color: #f0f8ff;border: 1px dotted black;border-radius: 0.25em;box-sizing: border-box;margin-bottom: 0.5em;}#sk-container-id-9 div.sk-estimator:hover {background-color: #d4ebff;}#sk-container-id-9 div.sk-parallel-item::after {content: \"\";width: 100%;border-bottom: 1px solid gray;flex-grow: 1;}#sk-container-id-9 div.sk-label:hover label.sk-toggleable__label {background-color: #d4ebff;}#sk-container-id-9 div.sk-serial::before {content: \"\";position: absolute;border-left: 1px solid gray;box-sizing: border-box;top: 0;bottom: 0;left: 50%;z-index: 0;}#sk-container-id-9 div.sk-serial {display: flex;flex-direction: column;align-items: center;background-color: white;padding-right: 0.2em;padding-left: 0.2em;position: relative;}#sk-container-id-9 div.sk-item {position: relative;z-index: 1;}#sk-container-id-9 div.sk-parallel {display: flex;align-items: stretch;justify-content: center;background-color: white;position: relative;}#sk-container-id-9 div.sk-item::before, #sk-container-id-9 div.sk-parallel-item::before {content: \"\";position: absolute;border-left: 1px solid gray;box-sizing: border-box;top: 0;bottom: 0;left: 50%;z-index: -1;}#sk-container-id-9 div.sk-parallel-item {display: flex;flex-direction: column;z-index: 1;position: relative;background-color: white;}#sk-container-id-9 div.sk-parallel-item:first-child::after {align-self: flex-end;width: 50%;}#sk-container-id-9 div.sk-parallel-item:last-child::after {align-self: flex-start;width: 50%;}#sk-container-id-9 div.sk-parallel-item:only-child::after {width: 0;}#sk-container-id-9 div.sk-dashed-wrapped {border: 1px dashed gray;margin: 0 0.4em 0.5em 0.4em;box-sizing: border-box;padding-bottom: 0.4em;background-color: white;}#sk-container-id-9 div.sk-label label {font-family: monospace;font-weight: bold;display: inline-block;line-height: 1.2em;}#sk-container-id-9 div.sk-label-container {text-align: center;}#sk-container-id-9 div.sk-container {/* jupyter's `normalize.less` sets `[hidden] { display: none; }` but bootstrap.min.css set `[hidden] { display: none !important; }` so we also need the `!important` here to be able to override the default hidden behavior on the sphinx rendered scikit-learn.org. See: https://github.com/scikit-learn/scikit-learn/issues/21755 */display: inline-block !important;position: relative;}#sk-container-id-9 div.sk-text-repr-fallback {display: none;}</style><div id=\"sk-container-id-9\" class=\"sk-top-container\"><div class=\"sk-text-repr-fallback\"><pre>Pipeline(steps=[(&#x27;TF-IDF&#x27;, TfidfVectorizer()),\n",
       "                (&#x27;Classifier&#x27;, RandomForestClassifier())])</pre><b>In a Jupyter environment, please rerun this cell to show the HTML representation or trust the notebook. <br />On GitHub, the HTML representation is unable to render, please try loading this page with nbviewer.org.</b></div><div class=\"sk-container\" hidden><div class=\"sk-item sk-dashed-wrapped\"><div class=\"sk-label-container\"><div class=\"sk-label sk-toggleable\"><input class=\"sk-toggleable__control sk-hidden--visually\" id=\"sk-estimator-id-19\" type=\"checkbox\" ><label for=\"sk-estimator-id-19\" class=\"sk-toggleable__label sk-toggleable__label-arrow\">Pipeline</label><div class=\"sk-toggleable__content\"><pre>Pipeline(steps=[(&#x27;TF-IDF&#x27;, TfidfVectorizer()),\n",
       "                (&#x27;Classifier&#x27;, RandomForestClassifier())])</pre></div></div></div><div class=\"sk-serial\"><div class=\"sk-item\"><div class=\"sk-estimator sk-toggleable\"><input class=\"sk-toggleable__control sk-hidden--visually\" id=\"sk-estimator-id-20\" type=\"checkbox\" ><label for=\"sk-estimator-id-20\" class=\"sk-toggleable__label sk-toggleable__label-arrow\">TfidfVectorizer</label><div class=\"sk-toggleable__content\"><pre>TfidfVectorizer()</pre></div></div></div><div class=\"sk-item\"><div class=\"sk-estimator sk-toggleable\"><input class=\"sk-toggleable__control sk-hidden--visually\" id=\"sk-estimator-id-21\" type=\"checkbox\" ><label for=\"sk-estimator-id-21\" class=\"sk-toggleable__label sk-toggleable__label-arrow\">RandomForestClassifier</label><div class=\"sk-toggleable__content\"><pre>RandomForestClassifier()</pre></div></div></div></div></div></div></div>"
      ],
      "text/plain": [
       "Pipeline(steps=[('TF-IDF', TfidfVectorizer()),\n",
       "                ('Classifier', RandomForestClassifier())])"
      ]
     },
     "execution_count": 663,
     "metadata": {},
     "output_type": "execute_result"
    }
   ],
   "source": [
    "rf.fit(x_train,y_train)"
   ]
  },
  {
   "cell_type": "code",
   "execution_count": 664,
   "id": "a3b35ab1",
   "metadata": {},
   "outputs": [],
   "source": [
    "y_pred_train = rf.predict(x_train)\n",
    "y_pred_test = rf.predict(x_test)"
   ]
  },
  {
   "cell_type": "code",
   "execution_count": 665,
   "id": "f1f13b93",
   "metadata": {},
   "outputs": [],
   "source": [
    "# Evaluation Matrix\n",
    "from sklearn.metrics import confusion_matrix  , classification_report , accuracy_score"
   ]
  },
  {
   "cell_type": "code",
   "execution_count": null,
   "id": "6376ac8d",
   "metadata": {},
   "outputs": [],
   "source": []
  },
  {
   "cell_type": "code",
   "execution_count": 666,
   "id": "2342834b",
   "metadata": {},
   "outputs": [
    {
     "name": "stdout",
     "output_type": "stream",
     "text": [
      "[[37  0  0  0  0  0  0]\n",
      " [ 0 32  0  0  0  0  0]\n",
      " [ 0  0 38  0  0  0  0]\n",
      " [ 0  0  0 37  0  0  0]\n",
      " [ 0  0  0  0 31  0  0]\n",
      " [ 0  0  0  0  0 38  0]\n",
      " [ 0  0  0  0  0  0 32]]\n",
      "**************************************************************************************************************\n",
      "[[13  0  0  0  0  0  0]\n",
      " [ 0 17  0  0  0  1  0]\n",
      " [ 0  0 12  0  0  0  0]\n",
      " [ 0  0  1 12  0  0  0]\n",
      " [ 0  1  2  0 16  0  0]\n",
      " [ 0  0  0  0  0 12  0]\n",
      " [ 0  0  1  0  0  4 13]]\n"
     ]
    }
   ],
   "source": [
    "print(confusion_matrix(y_train,y_pred_train))\n",
    "print(\"***********\"*10)\n",
    "print(confusion_matrix(y_test,y_pred_test))"
   ]
  },
  {
   "cell_type": "code",
   "execution_count": null,
   "id": "e3297158",
   "metadata": {},
   "outputs": [],
   "source": []
  },
  {
   "cell_type": "code",
   "execution_count": 667,
   "id": "6207c67b",
   "metadata": {},
   "outputs": [
    {
     "name": "stdout",
     "output_type": "stream",
     "text": [
      "              precision    recall  f1-score   support\n",
      "\n",
      "           0       1.00      1.00      1.00        37\n",
      "           1       1.00      1.00      1.00        32\n",
      "           2       1.00      1.00      1.00        38\n",
      "           3       1.00      1.00      1.00        37\n",
      "           4       1.00      1.00      1.00        31\n",
      "           5       1.00      1.00      1.00        38\n",
      "           6       1.00      1.00      1.00        32\n",
      "\n",
      "    accuracy                           1.00       245\n",
      "   macro avg       1.00      1.00      1.00       245\n",
      "weighted avg       1.00      1.00      1.00       245\n",
      "\n",
      "**************************************************************************************************************\n",
      "              precision    recall  f1-score   support\n",
      "\n",
      "           0       1.00      1.00      1.00        13\n",
      "           1       0.94      0.94      0.94        18\n",
      "           2       0.75      1.00      0.86        12\n",
      "           3       1.00      0.92      0.96        13\n",
      "           4       1.00      0.84      0.91        19\n",
      "           5       0.71      1.00      0.83        12\n",
      "           6       1.00      0.72      0.84        18\n",
      "\n",
      "    accuracy                           0.90       105\n",
      "   macro avg       0.91      0.92      0.91       105\n",
      "weighted avg       0.93      0.90      0.91       105\n",
      "\n"
     ]
    }
   ],
   "source": [
    "print(classification_report(y_train,y_pred_train))\n",
    "print(\"***********\"*10)\n",
    "print(classification_report(y_test,y_pred_test))"
   ]
  },
  {
   "cell_type": "code",
   "execution_count": 668,
   "id": "51803ed8",
   "metadata": {},
   "outputs": [
    {
     "name": "stdout",
     "output_type": "stream",
     "text": [
      "1.0\n",
      "**************************************************************************************************************\n",
      "0.9047619047619048\n"
     ]
    }
   ],
   "source": [
    "print(accuracy_score(y_train,y_pred_train))\n",
    "print(\"***********\"*10)\n",
    "print(accuracy_score(y_test,y_pred_test))"
   ]
  },
  {
   "cell_type": "code",
   "execution_count": null,
   "id": "a561c1b2",
   "metadata": {},
   "outputs": [],
   "source": []
  },
  {
   "cell_type": "code",
   "execution_count": null,
   "id": "6458636e",
   "metadata": {},
   "outputs": [],
   "source": []
  },
  {
   "cell_type": "code",
   "execution_count": null,
   "id": "2d094dbf",
   "metadata": {},
   "outputs": [],
   "source": []
  },
  {
   "cell_type": "code",
   "execution_count": 669,
   "id": "fdc9e039",
   "metadata": {},
   "outputs": [
    {
     "data": {
      "text/html": [
       "<div>\n",
       "<style scoped>\n",
       "    .dataframe tbody tr th:only-of-type {\n",
       "        vertical-align: middle;\n",
       "    }\n",
       "\n",
       "    .dataframe tbody tr th {\n",
       "        vertical-align: top;\n",
       "    }\n",
       "\n",
       "    .dataframe thead th {\n",
       "        text-align: right;\n",
       "    }\n",
       "</style>\n",
       "<table border=\"1\" class=\"dataframe\">\n",
       "  <thead>\n",
       "    <tr style=\"text-align: right;\">\n",
       "      <th></th>\n",
       "      <th>Sentence</th>\n",
       "    </tr>\n",
       "  </thead>\n",
       "  <tbody>\n",
       "    <tr>\n",
       "      <th>0</th>\n",
       "      <td>book table restaurant united kingdom</td>\n",
       "    </tr>\n",
       "    <tr>\n",
       "      <th>1</th>\n",
       "      <td>add brad kane pumping iron soundtrack</td>\n",
       "    </tr>\n",
       "    <tr>\n",
       "      <th>2</th>\n",
       "      <td>play doctor fink could choose</td>\n",
       "    </tr>\n",
       "    <tr>\n",
       "      <th>3</th>\n",
       "      <td>want listen album sorted last open google musi...</td>\n",
       "    </tr>\n",
       "    <tr>\n",
       "      <th>4</th>\n",
       "      <td>put mac wiseman latino caliente playlist</td>\n",
       "    </tr>\n",
       "  </tbody>\n",
       "</table>\n",
       "</div>"
      ],
      "text/plain": [
       "                                            Sentence\n",
       "0               book table restaurant united kingdom\n",
       "1              add brad kane pumping iron soundtrack\n",
       "2                      play doctor fink could choose\n",
       "3  want listen album sorted last open google musi...\n",
       "4           put mac wiseman latino caliente playlist"
      ]
     },
     "execution_count": 669,
     "metadata": {},
     "output_type": "execute_result"
    }
   ],
   "source": [
    "test.head()"
   ]
  },
  {
   "cell_type": "code",
   "execution_count": 670,
   "id": "bb6b8b9d",
   "metadata": {},
   "outputs": [],
   "source": [
    "text2 = test['Sentence']"
   ]
  },
  {
   "cell_type": "code",
   "execution_count": 671,
   "id": "6b656545",
   "metadata": {},
   "outputs": [
    {
     "name": "stdout",
     "output_type": "stream",
     "text": [
      "['book table restaurant united kingdom', 'add brad kane pumping iron soundtrack', 'play doctor fink could choose', 'want listen album sorted last open google music play paulinho da viola', 'put mac wiseman latino caliente playlist', 'supposed get colder', 'play last soundtrack sixty', 'weather norway sunset', 'give point absolutely positively series', 'add omnipresent verano', 'unsettled land playing movie theatre', 'please make reservation bar close lake alfred', 'want book restaurant four people eminence', 'look gun soundtrack', 'get going playlist need another song', 'film playing general cinema corporation', 'rate novel point', 'weather forecast area la minute', 'find album called stumble stop repeat', 'looking work called carry home', 'want restaurant reservation party vegetarian tea house', 'look halloween trailer', 'assign three star dune encyclopedia', 'add mine classic punk playlist', 'buy education chemical engineer', 'weather forecast far', 'weather forecast second frederick douglas national historic site', 'point given five dust shadow', 'add tune nicky jam', 'look journal toxicology environmental health soundtrack', 'weather predicted loyalhanna', 'add ernie hawkins dubstep playlist', 'rate atop underwood early story writing star', 'play track deeyah khan', 'find movie schedule', 'show book pok mon johto journey', 'book georgetown cupcake keller tea time', 'get seating party', 'tell weather forecast close romania', 'fighting buffalo bill playing closest movie house', 'please play song curtis lee album rough diamond', 'hear song visual audio sensory theater', 'would like see schedule movie nearest movie house', 'want glam added ntc gym strong playlist', 'tell snowstorm sep second olpe', 'weather next week somis', 'play music year artist michiru yamane', 'book seven cozy dog drive', 'like table two brasserie tom pr ncipe', 'book tortano serving brasserie isabella carly kuwait', 'movie going screened caribbean cinema fourteen clock', 'rate book', 'snowstorm eight month chattahoochee river national recreation area', 'find movie schedule loews cineplex', 'book gastropub serf pansette skaneateles pennsylvania', 'add wayne raney tune kudai', 'show schedule movie shadow woman', 'book spot five brasserie jan', 'rate book brief history chinese fiction point', 'book restaurant valarie caroline week soldier pond', 'tell weather forecast croatia', 'want book seat churrascaria using internet', 'cradle robber playing nearest movie theatre', 'check movie schedule find animated movie aired neighborhood movie hall', 'book lunch boreas party', 'dead fish playing movie house', 'time cinema playing village priest', 'show tv series called take heaven', 'find movie schedule cobb theatre', 'play seventy song luke haines youtube', 'please give movie schedule', 'add artist choclair la mejor sica de bso', 'find river love saga', 'next essay worth five', 'add fred knoblock lo fi love playlist', 'give portion wine stained notebook short story essay point', 'weather like four second south dakota', 'give movie schedule cineplex odeon corporation', 'short film killing north american cinema', 'play music lastfm', 'add name song towel playlist piano background', 'morning movie schedule movie neighborhood', 'please play movement rupam islam', 'blizzard woodmere', 'want movie time fox theatre', 'need novel polymer chemistry', 'add right string theory', 'show sad song dirty lover album', 'weather like tonight greenfoot quarry', 'find movie time', 'need book restaurant serf sundanese bonaire', 'chillier saxis north dakota', 'rate pelican blandings', 'movie schedule train', 'play ninety ep', 'rate chronicle one point', 'need jewish maine book restaurant', 'looking last track fei yu ching fourties', 'essay following rate two point', 'find painting called pulsions', 'show movie time movie area', 'lord jim movie house', 'give five star arrow hercules', 'rate previous essay', 'play realization randy jackson', 'book spot distant neighborhood week end', 'like eat oyster bar party one internet', 'time high tide noon showing', 'add run rudolph run rockin playlist', 'play newest exuma', 'let hear top album artist skin', 'weather summer new york', 'play music track friend google music steve sholes', 'rate new history five dynasty point', 'put vimeo play kacapi suling', 'buy book bright ambush', 'find film alamo drafthouse cinema', 'find youth christ saga', 'holy matrimony playing national amusement', 'time death nurse showing', 'add rough guide music eastern europe philip glass playlist', 'add kj track te quiero playlist', 'want listen lastfm play drop hard stuff joi chua', 'give movie schedule southern theatre', 'snowstorm la', 'play sixty song george sanger', 'play theme music yuki koyanagi', 'show creativity adobe air', 'nearest movie house showing film', 'looking table eight alley', 'stormy new rochelle wy', 'hot house playlist need another album', 'add name magnificent tree playlist rosana', 'saga deserves score four', 'let listen rouhollah khaleghi deezer', 'want give think like freak one star', 'find photograph called sleeping enemy', 'find video game called yellow claw', 'find game gormenghast', 'sal tv show available watch anywhere', 'restaurant west virginia son', 'show movie time cooper foundation', 'please tell movie schedule', 'book restaurant far milladore people', 'hot bolivia', 'show saison de game throne', 'add xsuie favorite coffeehouse', 'find television show called sensation comic', 'book reservation jeanne charlotte diner mayotte', 'wind january ransom', 'want make reservation group churrascaria type spa', 'add outside dream syndicate millicent fresh electronic playlist', 'weather near california', 'play trace adkins music thirty', 'rate zero point saga called good recovery', 'play video game wild goose', 'overcast lunch time saint vincent grenadine', 'find song called magic water', 'yellow star persecution jew europe playing', 'find earth sinful song', 'wish hear music year', 'play ground', 'find cut rope', 'play matt walker tune', 'snowstorm weekend bear river arizona', 'add artist john william boone life short play fast playlist', 'play top jazz record', 'going snowy concord utah', 'play popular music nat stuckey itunes', 'add artist rob dougan electronow', 'book cafeteria serf bagel six people', 'warm jenner panama august sixteenth', 'put say trap land playlist', 'play martha dear shannon', 'give weather forecast', 'want add tim smith album best playlist', 'show bean boy painting', 'find nearby film movie schedule', 'weather grey eagle feb fifteenth', 'weather forecast austin liechtenstein', 'movie schedule imax corporation three minute', 'find title champagne shower', 'play tribal', 'play lastfm steampunk', 'play solange album', 'gave joseph andrew', 'restaurant elberta alma deana olga serf tsipouro', 'like eat taverna serf chili con carne party', 'use deezer play music', 'book pub helen miriam nine year', 'movie schedule film playing nearby minute', 'find movie called easy way stop smoking', 'see encounter', 'book restaurant cross timber district columbia', 'add artist named prince playlist new', 'add current tune rock gaming playlist', 'see handful dust movie theatre', 'showtime animated movie area', 'add artist todd snider electro latino playlist', 'rate twinkie squad chronicle four', 'forecast tonight far east carpathian biosphere reserve', 'get reservation somewhere spade seventeen clock', 'weather tajikistan dec twentieth', 'play primus', 'play zvooq night rider list', 'play ballad chick corea', 'find movie schedule amco entertainment minute', 'please check movie schedule', 'see time die', 'looking sherlock holmes contre ar ne lupin', 'play music ryan malcolm sympathy devil pandora', 'let know maiden danced death screened cinema', 'look fair warning saga', 'show heart stop beating photograph', 'show creativity home brew', 'movie house playing something bird', 'book midday faraway cuban place five top rated bakery grainola', 'rate previous essay star', 'rate current essay four', 'strange case end civilization know playing movie theatre', 'add wes scantlin song autumn', 'find photograph entitled beneath harvest sky', 'rate book four', 'want add george formby jr family favorite playlist', 'play gloria last fm', 'time expect film start bow tie cinema', 'show panic street', 'weather saint vincent grenadine thursday', 'give pirate manhattan', 'movie theatre closest playing animated movie', 'find nearest movie theatre witness chair', 'find game russian beauty story', 'search movie turn back clock', 'find movie schedule imax corporation', 'nearest cinema playing pioneer west', 'need table place far palau', 'rate current textbook three star', 'give current novel four point', 'rain six week libby', 'give current book zero', 'show creative devil', 'play newest ballad chad urmston', 'play toy chris ledoux', 'see journey end night', 'add heart like hurricane digster soul classic', 'show animated movie century theatre', 'supposed sunny', 'need movie schedule century theatre', 'possible find book live europe online', 'rate current chronicle five', 'weather going like pr nineteen clock', 'add heresy hotel choir evening acoustic playlist', 'put dave abbruzzese tune family road trip', 'book spot rimsky korsakoffee house mackville', 'film see arclight hollywood', 'weather going like autumn ca', 'would like table jacqueline wilson deanna david carpenter house uncas fm', 'time dive bomber playing', 'add silver apple teh sin estr playlist', 'add artist metal party', 'find movie schedule neighborhood film', 'would like reservation cliff house seven month six people', 'hot west union malaysia', 'buy something borrowed saga', 'eye spider playing regal entertainment group', 'give movie schedule', 'movie schedule animated movie close', 'play rachel stevens itunes', 'please look two year soundtrack', 'book table seven pub iraq offer gluten free food day', 'add htoo ein thin brooklyn beat playlist', 'make reservation nh party two restaurant close', 'freezing within walking distance alaska', 'time soul surfer playing', 'put rating chronicle', 'book restaurant pool facility east gillespie', 'want rate hostile water chronicle book five', 'book table macedonia restaurant', 'play courting squall slacker', 'look cool cafe cool tape vol video game', 'play tv series bet award', 'book mirrored heaven give one possiable star', 'book restaurant party pub ford height', 'rate current essay three point', 'movie schedule right movie around', 'book table ida monica etta cold spring tavern md', 'play best music arthur johnston', 'add mac cheese playlist zetsu', 'add track la canciones lindas del mundo playlist', 'please find show kim hyun joong discography', 'want give garin death ray series star', 'tv show universum', 'find time movie schedule cineplex odeon corporation', 'add testifying donna tokyo rising palylist', 'weather four week oregon', 'send track andrew hewitt piano ballad playlist', 'play melody music thirty', 'find hope sin tv show', 'book town restaurant outdoor far', 'neighbourhood find movie', 'find island home tv series', 'play randy castillo music', 'add song eletro br playlist', 'book reservation parent red crown tourist court slovakia', 'please put artist lo mejor de radio playlist', 'give begum thug white mughals four point', 'time movie closest movie theatre', 'show television show named love hide', 'film cinemark theatre', 'book restaurant serf bouch midnight', 'find painting called beyond neighbourhood', 'want read book rock hard place', 'among great ape michelle yeoh playing', 'add album piano ballad', 'find movie schedule film area', 'play love song youtube', 'find donkey town show', 'play kansa joe mccoy', 'need know weather san martin', 'like watch detail cinema', 'make reservation party', 'put track operaci bikini', 'play fourties music erin harkes', 'want see movie schedule north american cinema', 'rate making sense marx star', 'find time trouble two one minute landmark theatre', 'place tune workout remix', 'book reservation restaurant deersville', 'add inconfundible piano background playlist', 'rate blood others series five point', 'forecast chilly july', 'search adventure blue carbuncle', 'time expelled paradise', 'play last song thirty airto moreira', 'add shangri la african heat playlist', 'rate eight day luke five', 'book reservation diner serf rib far lexington av rd st', 'play music thirty', 'book restaurant french southern territory dec fifth two', 'find creative work brilliant tragic', 'need reservation eight original soup man northern mariana island', 'find restless native', 'like add day day evangeline party century playlist', 'time doc savage man bronze playing', 'closest movie house showing animated movie', 'johnnie funtime activity playlist add name best guitar shorty', 'going chilly', 'want watch movie maxime', 'add dahmer hiphop hot', 'rate purcell paper two star', 'southern theatre movie schedule', 'want add war geraldine pop punk powerhouse playlist', 'let use netflix listen last soundtrack eden', 'girl cinema', 'add current artist sxsw latin', 'would like reservation giodi piper az', 'rate textbook one star', 'add song residence metal hammer episode', 'find dressmaker', 'book restaurant almyra year', 'look trailer hickory daily record', 'book reservation training table mar thirteenth', 'tell weather forecast thirteen second ukraine', 'give showtime buffalo go amco entertainment', 'find playstation song', 'play something fourties preferably symphony', 'find movie schedule neighborhood animated movie', 'add song tania new boot', 'like listen space music', 'add artist spring music', 'give two star current chronicle', 'feel like north gulfport', 'play graduate faculty philosophy journal album', 'play album outpost', 'book coney island neighboring va marina', 'find loved one', 'want bring six bistro town serf hot chicken sandwich within area', 'add francesco de gregori classical new release spotify pick playlist', 'movie time', 'find sappho', 'looking kepler scientific workflow system', 'play gil parris cup coffee sandwich', 'add lbc crew tune rock argentino vol playlist', 'find sentimental bloke novel', 'put album max richter rosana playlist', 'film showing national amusement', 'overcast clock id', 'storm warning playing', 'book indonesian food truck food far party ia', 'book spot gateau restaurant', 'get hotter around eleven', 'add track bg knocc rapcaviar playlist', 'tell freezing day caplinger mill florida', 'heat playing near', 'wanda group movie schedule', 'stormy saint pierre miquelon city wenham', 'need table six pm step daughter cafe rouge', 'please book brasserie restaurant eight ireland', 'tell hot jun th san de fuca sweden', 'play album netflix chris castle', 'find painting called smash crusher', 'movie schedule animated movie playing neighborhood', 'show get together tv show', 'rate winnie pooh four', 'play groove shark', 'add name house gold de manhattan con amor playlist', 'add artist laundry playlist', 'giving point new lease death', 'show television show called south california purple', 'weather cape romain national wildlife refuge', 'find movie schedule', 'add tune folk music gaslight caf', 'want add sin rencor playlist entitled te quiero', 'want go popular ethiopian restaurant', 'movie theatre closest playing cheat fair story maxwell street right', 'rate descendant two point', 'need information movie schedule', 'forecast temperate weather bellechester', 'like see movie time animated movie playing neighborhood starting', 'rate seventh decade two point', 'need hardcore hip hop', 'add antisleep volume playlist', 'make reservation next year modesto joanna ella', 'add song canci del playlist', 'rate dna repair mutagenesis four star', 'forecast current place clock', 'like take party five today place colorado', 'tell depression brazil', 'rate previous textbook', 'nearest movie house playing black scorpion', 'film shown national amusement', 'open itunes play kenny cox popular concerto', 'play music itunes', 'want see movie schedule plitt theatre', 'forecast cold temp west virginia next autumn', 'chilly charenton ny', 'get foggy spring hill', 'give point collected work', 'add robin trower medieval spotify pick playlist', 'play music miss platnum', 'read open ecology journal', 'find soundtrack called top gear australia', 'blizzard forecast', 'show movie schedule close movie', 'need book table five crooked house windsor', 'show critic game', 'give saga rating', 'book table people restaurant offer internet', 'need reservation people bar chile serf bio', 'find brave little toaster rescue book', 'give war spider queen saga', 'painting st concert oh yeah', 'robotix playing', 'play ballad dres groove shark', 'whats closest movie theatre showing animated movie', 'rate mill kavanaughs series one', 'add tatico henriquez playlist called bleep bloops', 'chillier ruskin', 'tell weather forecast northern mariana island one second', 'weather far jarbidge', 'forecast pm maldives', 'add five star current chronicle', 'add tarte bandas sonora playlist', 'want book restaurant close teenager airbnb', 'please help find want take higher game', 'play making alexander rosenbaum google music', 'rate shockscape five star', 'fog current position', 'show photograph title denial', 'weather heritage hill state historical park', 'like know weather pm tennessee', 'add another song country playlist', 'book indoor pub jersey', 'would like outdoor cafeteria', 'tell humid ga one minute', 'cloud coverage current place', 'add daedelus lazy chill afternoon', 'want hear junior murvin youtube', 'give current novel', 'evangeline petra cooper want go restaurant year', 'chillier la mesa', 'give lost princess star', 'rate essay star', 'tune go coffee table jazz playlist', 'restaurant south sudan', 'add track playlist korean osts', 'play breathtaking music', 'warren island state park distant weather forecast', 'add hellacopters single teen party', 'tell current forecast switzerland', 'play music melody itunes', 'like hear song reverie', 'help find work graphic animation system professional', 'find schedule day jackal pacific theatre', 'book restaurant nine south sudan', 'want read book crash landing', 'play llegando casa playlist', 'get russian cuisine restaurant shari', 'would like find cafe serf grilled meat close tunisia need table one second', 'let get table space alien grill bar', 'looking picture titled rock painting', 'find album simplescreenrecorder', 'give current part saga point', 'want restaurant idaho', 'look district novel', 'search trailer jazz impression', 'sunny occoquan bay national wildlife refuge tea time', 'want listen soundtrack light', 'nefertiti queen nile playing', 'find schedule without witness twenty two hour', 'play music sanjeev abhyankar', 'show world photograph', 'need table violet maude restaurant ne', 'see animated movie neighborhood', 'play latest melody cliff edward deezer', 'play tune mick brown', 'find table close downtown area sherri', 'rate essay five point', 'find rewind film tv show', 'make reservation highly rated restaurant', 'need reservation pitcairn island restaurant joint', 'add ultimatum crash course playlist', 'add album org nica playlist', 'give tin tree five', 'need reservation teen six month tennessee', 'get maldeamores saga', 'put song playlist name blue', 'play latest joan baez', 'please play song everlast', 'find soundtrack steamboat bill', 'want watch show food force', 'play fourties music zvooq', 'add artist baby maker playlist', 'want hear new vasilis tsitsanis ep', 'reserve spot indoor restaurant june th guest', 'need table tn far party ten', 'find movie schedule movie area', 'need forecast hot barbados may city year', 'play top twenty tune masaharu fukuyama slacker', 'book restaurant hour dorchester shore reservation', 'day beast playing three', 'make reservation party eight iowa', 'cycle playing', 'find song titled mole show live roxy', 'find album whole world hears', 'add tune instrumental funk playlist', 'weather birta', 'play song le renouveau', 'play way savior lead spotify', 'play energic itunes', 'please play top ninety theme song', 'movie playing neighborhood', 'want watch tv series krieg chinatown', 'play fifty music chris brown', 'give current textbook', 'need reservation party ten algeria', 'check movie schedule', 'add artist sunshine reggae', 'put artist michael todd afternoon train ride list', 'show song spiderman ring', 'looking creative work called something warm', 'weather virgin island', 'rate essay point', 'weather jun ninth san pierre romania', 'put track edge funk soul disco playlist', 'play print stone helen baylor', 'give book', 'morgan mill sunny', 'film national amusement', 'forecast orienta hotter weather', 'movie time start second magic johnson theatre', 'time socrates playing cinema', 'rate textbook', 'play music sixty', 'storm forecast jordan', 'book table seven walpole', 'party four japan need reservation rimsky korsakoffee house aug rd', 'rate nothing last forever value', 'add joplin concert feel good dinner', 'book best joint people', 'book restaurant people', 'play chant marina verenikina', 'book bar hayden row friday', 'find picture titled battle spirit sh nen toppa bashin', 'would like rate current chronicle star', 'fog far mexico apr', 'book table thomas hynes house', 'nice reager mp', 'add space cowboy funny thing football playlist', 'get chillier la lomas british virgin island nov st', 'find soundtrack called christmas shoe', 'add artist acoustic soul', 'play fifty album itunes', 'dragon age stolen throne get point', 'add album princesas indie', 'play foundling jean grae vimeo', 'king kitchen playing fifteen hour', 'want book churrascaria restaurant ten people', 'play track goodbye alexander goodbye honey boy ehsaan noorani', 'please put tune cappella playlist', 'young policeman love local movie theatre', 'want add mark boston power walk list', 'play album another ball', 'play ballad music', 'add naomi schemer hanging relaxing', 'weather like topock', 'book restaurant puerto rico', 'like hear na greatest ballad', 'sort eighty ep last', 'show movie time', 'book joint feb seventh oklahoma within walking distance six highly rated', 'red shirt showing dickinson theatre', 'book party food court potato salad alabama eleven hour', 'need book table food court nh serf smelt', 'show movie purple heart diary', 'rate textbook four', 'want francis healy rockin vibe playlist', 'add shot forth self living folk metal warrior playlist', 'use pandora play korean osts', 'saga magic ithkar give two star', 'rate three point book early coorgs', 'weather like sunset hill', 'give point current essay', 'find manual love', 'use groove shark play music ninety', 'book spot one restaurant id', 'play concert philip oakey concert netflix', 'show weather forecast kenya', 'need table pelland', 'rate current essay five star', 'current book deserves rating one', 'find book called cia world factbook', 'open groove shark play native', 'movie schedule fox theatre', 'weather minute jean lafitte national historical park preserve', 'please look fall church news press album', 'add maksim tune trad folk', 'get table reserved three hundred thirty three day eight people highly rated fast food place serf north indian food distant moore mill', 'time movie neighbourhood', 'hot millvale', 'give five point tenor wore tapshoes', 'play dj cameo itunes', 'find movie time theatre', 'find movie schedule century theatre', 'need book fashion cafe meal lavina', 'give home hunter zero star', 'play sonu niigaam fifty', 'add written red cleaning house playlist', 'rating book tomorrow two star', 'add big generator country icon playlist', 'like see movie time santikos theatre', 'book table mindy angelita restaurant serf caf li geois', 'add playlist lazy chill afternoon nothing stop', 'weather like hebbronville venezuela', 'movie schedule', 'add playlist heavy gamer name blaydon race', 'read novel friend great legacy', 'tell depression today kiribati', 'add alan wilson track luis fonsi playlist', 'game called knowledge decision', 'find innocent dream saga', 'rate betrayer world', 'movie schedule like', 'play xyy man soundtrack', 'book chapter one bosnia herzegovina patti hester richardson camille', 'find picture house foundation', 'find painting called boating river epte', 'give star expressive processing', 'like find soundtrack tianjin today evening news', 'weather like forty fort', 'find blood bone', 'buy movie totality', 'watch hank williams show never gave', 'book reservation pm park clear lake iowa mongolia hour', 'find tv series called white bread black beer', 'add tune fresh find hiptronix playlist', 'supposed chilly kuwait', 'find painting retro active', 'like table smoking room taverna sep', 'rate current book one star', 'give series value one best rating', 'look chu chu philly flash picture', 'book gastropub rose creek eleven', 'blizzard kettleman city today', 'give current book point', 'add tune southern thing playlist', 'add give rest nearly nashville playlist', 'depression october', 'like see local movie time', 'play gate open', 'find book cold comfort', 'find watcher united paramount theatre', 'add root outsider blue root', 'book reservation leticia melva twila edward glassy junction five pm within area secondary residence', 'like play song reverie', 'kevin johansen playlist need lamb lie broadway', 'book spot highly rated tavern colombia', 'rate novel four', 'find assassination jesse james coward robert ford saga', 'textbook rate', 'want go popular pub ten pm', 'play popular soundtrack elena paparizou youtube', 'table bar', 'classic road trip song add entity unwelcome', 'make reservation four pub sugarville', 'tell movie playing united paramount theatre', 'play ballad form double google music', 'rate series one', 'add manuelita la tortuga nuestros playlist', 'play latina', 'play dj shadow love hate masquerade', 'knew mr knight get rating two', 'find berlin samba beat', 'add artist jazz playlist', 'add artist broken heart', 'play music artist ashley', 'show weather forcast stone memorial st joseph peninsula state park one hour', 'try find picture advance ecological research', 'play song ken', 'play music youtube', 'play caribou sixty', 'forecast jefferson national expansion memorial around eight', 'want watch television show little thing', 'going get colder parc national marin mahatma gandhi', 'go bioruby', 'use groove shark play krizz kaliko', 'find picture chorus line', 'want hear top chant twenty', 'current saga deserves rating', 'find tv show starship titanic', 'put unbound found first', 'rate current essay point', 'play song sixty', 'find movie theatre beware bachelor', 'play seaside cherry', 'much rain getting current position', 'rate current book three', 'find picture another happy ending', 'give movie schedule amco entertainment', 'imelda want reservation missouri seven', 'want rate essay star', 'weather marshall', 'book table five top rated morocco restaurant', 'add country night journal plague year playlist', 'weather close current spot', 'think album deserves point', 'paranormal activity ghost dimension album', 'find movie time', 'play escapada', 'play sonata', 'add heat night novedades viernes sudam rica playlist', 'add tune louis wolfe gilbert cleaning playlist', 'nearest movie house playing sirivantha', 'depression weather cyber monday', 'warmer poplar bluff', 'lot sun dry prong somalia pm', 'find mcgill law journal movie', 'weather like three week gate michigan', 'use groove shark play music eighty', 'get showtime film malco theatre', 'play music', 'find movie schedule malco theatre', 'find darker black', 'get windy week end selva jedediah smith', 'weather month nam kading national protected area', 'book spot kitchin october th', 'play heinz strobl ep groove shark', 'give current textbook point', 'add song latin top playlist', 'book restaurant monique stewart arlene jami', 'rate current novel', 'book reservation marva barbara restaurant parking', 'like see book royal thousand', 'book table restaurant seven pm', 'play music', 'put track ricky martin smash hit playlist', 'animated movie playing nearest movie theatre', 'rate great classic science fiction zero point', 'want hear top five ballad', 'want add black ribbon love neo soul playlist', 'looking book table gastropub serf vegetarian team', 'give current essay five star', 'book helianthushof hurffville nj', 'need know weather hamorton tn', 'time know know know lpaying', 'hotter current place six week', 'sheikh chilli playing', 'list movie schedule', 'book reservation pub po tofu moldova', 'rate current saga four star', 'find nearest movie house mystery picasso', 'play larry graham sound track', 'find television show called servidor apache', 'find movie chaos', 'get table people second tunisia', 'chillier mint hill fm', 'please rate textbook five star', 'movie time animated movie nearby', 'add billy strayhorn song selektor playlist', 'want watch show frank sinatra sings select sammy cahn', 'weather forecast week close current position', 'add bad summer love playlist', 'give two star current book', 'snowfall zec mitchinamecus', 'give showtime bobby yeah playing cinema', 'find plitt theatre movie schedule', 'please call reserve seating march diner kyrgyzstan', 'put broken wave lo dance', 'search twilight gone', 'add tune chill vibe', 'like eat bar serf corn relish party five', 'want hear music groove shark', 'search television show called educational psychologist', 'play music gavin koppell movement', 'local movie time', 'play used love dara', 'make table reservation top rated brasserie cotton center', 'rate sign saturn', 'book cafe romania', 'find film played neighbourhood', 'give book five point', 'rate series one', 'current essay three', 'give five star current essay', 'tell chilly pm', 'book spot malin ky', 'add boyce hart urban hit playlist', 'find movie time animated movie area', 'find schedule central airport closest movie theatre', 'add artist playlist called fusion fest', 'give frog prince continued point', 'snowy january th trentwood illinois', 'add tune punk espa ol', 'add chamberlain wait picnic park', 'find south heaven', 'want seating five near pool pub', 'would like book fry sauce bar jul', 'play song sound furniture', 'colder forecast nationaal park bidoup week', 'need table restaurant ate last oct', 'play chant music itunes', 'play track majesty', 'like watch wish nearest movie theatre', 'add julia fordham massive soca hit playlist', 'movie schedule animated movie nearby', 'find schedule film douglas theatre company', 'play pop', 'weather bhutto family mausoleum next autumn', 'time roy colt winchester jack playing movie house', 'want hear symphony song rebecca cartwright last fm', 'need table highly rated restaurant next autumn emmons ri', 'find movie schedule neighborhood cinema group', 'play oj jelena jelena jabuka zelena ler lalonde', 'rate getting wrong beginning value', 'play herbie field record sixty', 'please inform see abdication movie theatre', 'give point white hotel', 'going rain current position', 'film playing goodrich quality theater', 'put artist harry burleigh classical new release spotify pick', 'please search tv series titled need romance', 'book reservation big chill cafe ar people', 'sofia phillips winifred walker want dine mughlai restaurant la nov st', 'play fais le back sarah geronimo youtube', 'give rating value four book called liberalism limit justice', 'weather like september', 'give textbook star', 'movie schedule movie close', 'rate current novel one', 'weather hot miller house nv', 'play best song henry rollins', 'chillier hong kong', 'play record black wall street record', 'get table eighth step coffee house germania', 'colder az tx today', 'want give saga praise stepmother point', 'put tripp eisen song canta en la ducha', 'play lily rosemary jack heart chris go', 'reserve table nine people caribbean restaurant white creek utah', 'add see enamor ndose playlist', 'play blind company', 'give album rating', 'pw forecast stormy weather', 'warmer pm ak suu complex nature reserve', 'book table one monty hotel secunderabad', 'rate peveril peak five', 'find schedule movie nearest cinema', 'want add song sunshine reggae playlist', 'play rock playlist badonviller marsch', 'movie loews cineplex entertainment', 'add barry mcguire playlist called laugh', 'rating skystone three point', 'find schedule movie star theatre', 'weather like current spot january th', 'book spot crab restaurant', 'add jermaine fagan spring music', 'use service itunes play melody', 'find movie schedule', 'book bakery zero clock people', 'play revival music', 'read background danger book', 'warm current place next spring', 'rate album three', 'add album playlist titled underground hit', 'colder midnight washington', 'story showing next north american cinema', 'want hear track', 'play ben burnley spotify', 'rate beyond shadow star', 'add artist indietronic playlist', 'want give current textbook star', 'book spot bobcat bite needmore ten', 'please make reservation ten bakery serf burrito', 'movie time united paramount theatre', 'weather close harmar height afternoon', 'would give book lavender old lace rating three', 'like eat english cuisine restaurant ettrick', 'play eddie meduza thirty', 'add ava leigh grime instrumentals playlist', 'play tonight nastya kamenskih', 'rate competitor star', 'play annet artani soundtrack slacker', 'play music amii stewart itunes', 'want book best steakhouse south american cuisine alaska', 'like watch movie close', 'find journal european economic association movie want see', 'rate book line tomorrow three star', 'show baby photograph', 'want rate novel three', 'need book restaurant area thompsontown emma karen johnson', 'find soundtrack called alice cooper show', 'play song electric tone kurutta taiy album last fm', 'add blag dahlia pura vida', 'play top ten eighty song', 'rate cousin bette point', 'add tune playlist eletro br', 'play celtic music', 'want movie schedule animated movie area', 'movie schedule movie close sunset', 'want book restaurant week iowa', 'animated movie area', 'show schedule movie warning space closest movie house', 'play movement music sheryfa luna', 'add isabella club hit song', 'add artist latin jazz playlist', 'play jazz brasileiro playlist', 'rate eleanor rigby', 'please put another tune laundry playlist', 'play last movement', 'use itunes play music', 'rate novel star', 'play tune andrew findon', 'rate varney vampire point', 'wish rate zero point crack space', 'hail minute iroquois', 'need reservation berghoff jamaica second', 'butcher boy playing anywhere supper time', 'add villotta metalsucks playlist playlist', 'give current novel point', 'tell weather forecast lecanto georgia', 'book table oyster bar serf apple butter jul th', 'want put son sea pulse americana playlist', 'play contemporary christian groove shark', 'rate beyonders world without hero saga star', 'weather', 'play greatest ballad seventy', 'book table one highly rated bistro', 'weather gem', 'flow love water playing southern theatre', 'assign point gate world', 'add sara hickman targeted list', 'listen vertexguy track', 'play innovation kokia', 'put stu phillips woman acoustic playlist', 'give current textbook five star', 'add nastya kamenskih song martin garrix show playlist', 'add track comedy new release', 'need book table', 'play music using last fm', 'show creativity accident analysis prevention', 'weather pugu hill forest reserve', 'rate following series one', 'closest movie house playing film', 'zen focus playlist need david franj', 'find tv show', 'add john scofield newest tune selektor playlist', 'rate detective', 'add thomas anders crossroad blue', 'show novel onnaam muhurtham', 'cheapest online price instinct saga', 'weather forecast devil den', 'raining one hundred thirty day ion gobles canada', 'pull movie toy help', 'rate current book star', 'book restaurant dominican republic one minute party eight', 'show nearest movie theatre watch black jesus', 'like table top rated tea house javanese cuisine week germany', 'play music slacker', 'looking ram rebellion', 'chronicle rate one first contact', 'want give textbook four', 'give current saga three star', 'sri lanka forecast snow', 'open deezer play inyecci musical', 'film showing neighbourhood', 'colder colorado nine month', 'colder vermont', 'rate promise point', 'play fifty song', 'add tom thacker tune rock classic', 'want hear twenty music deezer', 'add anti ep esenciales', 'rate company gertrude', 'add tinker tailor playlist titled trey songz', 'tell weather forecast equatorial guinea', 'play top twenty song', 'find work name come sing', 'find movie schedule', 'book reservation six people churrascaria restaurant cook island one minute', 'time twin peak fire walk showing', 'cold ever farristown tanzania', 'add tsubasa imai another glass playlist', 'give movie schedule mann theatre', 'please add song llegando casa palylist', 'play album kiss go bt', 'add splendido hotel verano forever', 'need see list film movie time area', 'find movie house closest animated movie', 'weather supposed like sep maltby russia', 'play music year', 'predicted snowfall month vandalia el salvador', 'find movie time nine pm', 'want hear ding dong bell groove shark', 'please book table people top mark raleigh hill kentucky', 'give enemy love story point', 'want hear boris grebenchtchikov zvooq', 'book restaurant within area saratoga av', 'hot new york october st', 'play print legend soundtrack', 'rate current novel one star', 'add artist nuclear blast novelty playlist', 'play gospel music', 'need weather nd three hundred fifty one day', 'add francesco de gregori gayle woman dj playlist', 'kind weather forecast around seven pm', 'rate current essay', 'rate beloved world saga one', 'book seat restaurant wv one second', 'show movie nearest movie house', 'play theme yanni vimeo', 'get movie schedule film nearby', 'play keep right song', 'hotter next month south dakota', 'book reservation people next week pump room chicago', 'play song saki nakajima', 'play song american patrol lauryn hill', 'play hanging balance nik kershaw zvooq', 'play music justin broadrick', 'add bill deasy track conexiones playlist', 'humid kuwait', 'time lilac spring play closest movie house', 'going stormy close australia', 'add eric moo woman jazz', 'book restaurant get burrito', 'like eat highly rated pub people', 'like play album beloved rogue', 'find novel great irish bake', 'find wild solution saga', 'weather temperate betances', 'rate current novel', 'next album one star', 'play song stephen jones', 'forecast dr julian bruce st george island state park rainy weather', 'add wee wee man pamela stress relief playlist', 'play magic sam thirty', 'rate novel two', 'find television show city sleep', 'cloud sky thornville feb fifth', 'want hear sixty melody mark mcentee google music', 'need weather forecast stacy vanuatu', 'weather going colder gu year', 'book restaurant northern mariana island kristine alisha florine', 'would give minority report rating point', 'add yma sumac animal collective', 'novel quality deserves rating four point', 'find game called dynamite warrior', 'play latest ballad september', 'play top rita macneil song', 'find landing water', 'playlist latin pop rising add aira yuhki', 'play album jack take floor tom lehrer netflix', 'find kerasotes theatre movie time', 'add robyn hitchcock romantic evening playlist', 'find table madge tami faraway joint sterling st serf chicken divan', 'cloudy cuba', 'rate man sold moon', 'play twenty tune jodie aysha', 'idledale forecast', 'add tara blaise power gaming playlist', 'need table czech pub seven', 'show hear sea movie', 'rated island adventure saga', 'play song softly', 'weather fl', 'give essay', 'current essay deserves one point', 'give three point blackbox', 'play hier encore greydon square', 'play contigo en la distancia', 'find tv series called manufacturing consent', 'give forecast carol city', 'find movie schedule magic johnson theatre', 'give current novel rating', 'give chronicle atop underwood early story writing rating value best rating', 'book taverna ny', 'find schedule movie megaplex theatre', 'blizzard dec', 'movie schedule amco entertainment', 'please make reservation roommate somewhere bouvet island', 'add song classical dance music ballet beyond list', 'find video game called victory march', 'rate current novel five star', 'like watch film marcus corporation twelve', 'add dear heart gentle people tokyo rising playlist', 'play song sixty', 'add track del tha funkee homosapien playlist song parent', 'find video game called merry andrew', 'rate current book zero star', 'go cali fire add refrain playlist', 'play cherry tree carol edwin mccain', 'weather peru', 'put ik tara onto pure seduction playlist', 'find fruit life television show', 'show song black heart white soul', 'add rumba playlist song haley scarnato', 'find close film movie schedule', 'want hear gloryhole mani lastfm', 'want find show called fresh aire', 'weather rutherfordton rhode island september nd', 'looking movie called beast shouted love heart world', 'put tune onto party decade playlist', 'give movie time fox theatre', 'find trailer real men cry', 'put album becky infinite indie folk playlist', 'rate point favorite fantasy story', 'current essay best rating rating value three', 'play cohesive playlist', 'book spot steakhouse internet', 'add another tune kristine laundry playlist', 'rate zero memory ford administration', 'add track dance playlist', 'book table churrascaria highly rated', 'play deezer', 'weather twenty three minute nv', 'find photograph mr blobby', 'add marching band miami guest list', 'want rate selected letter lovecraft saga star', 'movie time malco theatre', 'going rainfall close windber day', 'find schedule nightmare six hour nearest cinema', 'play lil hardin armstrong itunes', 'add elastic love stormzy', 'play bald kaskade', 'book australian restaurant moldova', 'weather like minute current position', 'looking local cafeteria wifi access party', 'time phera playing', 'add tune dance playlist', 'give movie schedule santikos theatre', 'add licorice mckechnie dance aftercluv', 'rate current novel one point', 'add roc executioner zez di camargo luciano playlist', 'need reservation four restaurant', 'rate hollow man point', 'need reservation four restaurant hour second', 'play pandora christian gangsta rap', 'find photograph heart burst fire', 'show tv series schedule gear war', 'play noct mbulo playlist', 'add artist jill vidal sinfon hipster playlist', 'want add song clark nerding around playlist', 'give forecast february sixteenth', 'cloudy morrisonville kentucky', 'weather like detroit lake', 'play track alpha blondy deezer', 'give pirate adventure whaling', 'play addicted hank ballard', 'find trailer hit ice', 'play hardcore music', 'add bonobo queen playlis', 'melba want dine barbados next jun', 'play still life', 'show movie black summer', 'weather looking like macy', 'show famous classic tale television show', 'book tea place seven', 'find schedule ghost world', 'freezing prompton', 'play music track', 'play thirty symphony music nigga iheart', 'book restaurant june fifth cavour', 'need forecast jetmore massachusetts hour second', 'give local movie time', 'show angel iron television show', 'want add another album scratchy back porch blue playlist', 'give spent night among horse', 'judgment day john list story playing megaplex theatre', 'want book table common restaurant south pekin new hampshire party january th', 'rate textbook one', 'rate cia world factbook five star', 'book table people delicatessen april twenty eighth', 'play asha bhosle song around', 'rate op ration sweet tooth point', 'add godmusic latin dance cardio playlist', 'want book restaurant area live ebony yolanda', 'play jazz music zvooq', 'look trailer red stallion rockies', 'put tune onto latin dance cardio', 'give current chronicle three point', 'put beside spotify orchestra cello playlist', 'book table restaurant meadowood within area kentucky', 'play ho netflix', 'get restaurant reserved luquillo district columbia', 'movie schedule neighborhood cinema group', 'forecast sai thong national park pm', 'movie schedule', 'add song martin garrix show playlist', 'want hear richard falomir best song pandora', 'movie schedule dipson theatre', 'enamor ndose playlist need another album', 'give pacific theatre movie schedule', 'need find soundtrack called fire valley', 'listen westbam alumb allergic google music', 'hot three minute faraway saint croix state park', 'assign star chronicle god man yale', 'get listing film nearest movie theatre', 'add album massive soca hit', 'give street five point', 'weather cummings mississippi eleven year', 'rate book book snob point', 'find book beatmania iidx th style', 'rate current textbook zero point', 'would give lady river star', 'hail dominican republic', 'find ultimate gift television show', 'add sci fi crime fresh folk playlist', 'rate came sea point', 'get movie schedule landmark theatre', 'time crawlspace playing caribbean cinema', 'find film cinemark theatre', 'play greatest album wes dakus', 'film showing cooper foundation', 'want listen music pandora', 'need photograph day wine rose tv request', 'put mike mccready kitchen swagger playlist', 'find schedule kiss dying', 'want give novel zero', 'rating album one', 'please find movie schedule', 'play song fat waller', 'weather one second blue ridge berryessa natural area', 'chilly milligan college ak law day', 'want add tune spanish metalblood playlist', 'show movie schedule caribbean cinema', 'give following album zero', 'want rate turbulent term tyke tiler', 'play music damien rice', 'find movie amco entertainment starting second', 'find novel titled fertile ground', 'want find highly rated delicatessen childersburg de one next february', 'play music thirty', 'put track onto playlist selektor', 'play top symphony sort form stuart garrard', 'weather last february william switzer provincial park', 'play good music', 'add bilal winter', 'play tune houston spotify', 'find movie called sadface', 'want food zaleski', 'play opera music google music', 'looking get reservation jillian louella restaurant faraway tx', 'play fourties tune', 'rate current essay five', 'play make cowboy robot cry sabin rai vimeo', 'play tom baxter track', 'play food uncut soundtrack', 'show television show child need rock', 'find movie showing nearest movie house', 'book restaurant sint maarten sun', 'like add artist jesper kyd onto fresh electronic playlist', 'find album laugh', 'animated movie playing magic johnson theatre', 'rate cock bull point', 'book child restaurant bruno person october th', 'please look beauty fire show', 'book table nine bar parking qatar', 'need get seat ex wife eat egypt', 'antoinette want eat oyster bar serf pizzette south duxbury', 'please find brand new string', 'weather virginia', 'play last ep twenty', 'show movie schedule', 'thirteen clock book table margie vanuatu', 'book spot one four', 'add tonight love hip hop', 'movie theatre playing magnificent scoundrel', 'add young maylay club hit', 'find photograph called cope park', 'find show titled hell earth', 'need weather muncie', 'add artist gwenno pipette sexy folk playlist', 'find showing music dy one second', 'play popular ronnie wood soundtrack', 'looking movie schedule film playing neighborhood', 'party cleveland', 'rate current novel point', 'like table two place west whittier nevada indigenous people day', 'add tune viajes playlist', 'play popular sort fifty tune music', 'want give current saga point rating value', 'play king tubby eighty', 'listen pmd symphony', 'book san francisco brewing company two located al', 'colder noblesville east timor pm', 'give next novel two star', 'weather yemen', 'would like book restaurant last day sukkot lee ines', 'weather cougar canyon wilderness', 'add patty patty sound metal talk kreator playlist', 'play greatest adrian kowanek music', 'show creativity night hunter', 'need info video game iron fist', 'add christopher lawrence always pop punk playlist', 'play frescura indie playlist', 'fiji forecast warm temp', 'list movie imax corporation', 'book table vortex bar grill alaska day state rhode island', 'time see girl marry', 'looking novel called light', 'rate eighth day three star', 'play rest life', 'play song netflix', 'maalaea chillier weather', 'time return hell playing nearest movie house', 'see album swat force', 'play ballad beth nielsen chapman new first', 'play genre opera', 'find long hello short goodbye movie', 'add tetsuya komuro track soulful disco playlist', 'book brasserie pool within area neighborhood people', 'give point short trip universe terror', 'play smash hit playlist', 'rate book saga star', 'add hold tight throwback party', 'give abstinence teacher', 'weather forecast four pm close stretch point state park', 'rate current saga', 'film hour playing landmark theatre', 'play movement duane allman', 'need party two reservation faraway atlantic av barclays ctr spa fast food', 'put live rare dancehall official', 'show video game made tmpgenc', 'add david wolfenberger duetos playlist', 'add fabrice morvan folk kid', 'play ballad evil jared hasselhoff lastfm', 'add song el mejor pop en espa ol', 'movie theatre playing animated movie closest', 'get intel array building block', 'find picture louder bomb', 'pull track zvooq graham mcpherson', 'find regal entertainment group animated movie', 'weather warm nationaal park band amir twelve', 'play fifty music', 'go dusk come', 'nearest movie theatre playing collaborator', 'warmer clock deepwater bonaire', 'weather month wesley hill', 'time year diary showing movie house', 'put album onto cierra la puerta', 'looking find kiss goodbye', 'looking video game would walk god', 'add track llegando casa', 'play newest martin solveig sound track', 'play latest album peter derose', 'animated movie see malco theatre', 'book restaurant wifi nine people', 'cold boon', 'weather noon durbin oh', 'play greg raposo song thirty', 'make reservation delicatessen serf tofy party four az', 'play music daddy yankee', 'give weather forecast zambia', 'add new entry mon beau sapin lela sica libre playlist', 'tell weather forecast carmichael gambia one', 'rate current book star', 'please book restaurant party seeley lake july fourteenth', 'add party friend construct state juliana playlist', 'play twenty song', 'add ilse delange journey playlist', 'play jono el grande thirty', 'add black ribbon autumn playlis', 'want hear track ryohei yamamoto vimeo', 'book restaurant day', 'get table restaurant serf south tyrolean', 'play concerto deezer', 'add another tune verano playlist', 'add album playlist', 'spyforce playing', 'play chant groove shark', 'want take momy eat flossmoor', 'humidity like vi june fourteenth', 'warmer wetumpka mauritania', 'looking black ribbon deborah', 'movie scheduled plitt theatre', 'book reservation gasconade best restaurant dc', 'add george baker hiphop hot', 'restaurant niger mom', 'weather summer djibouti', 'book table ten pollock pa', 'going get hotter halfbreed lake national wildlife refuge', 'add people take picture rhythm blue playlist', 'book table close moon run sixteen clock take three people', 'weather gabon', 'look creative work meltdown day destruction', 'play synthpop music youtube', 'rate beyond place chronicle three', 'weather new jersey palisade three hundred three day', 'forecast wendell', 'play suite sudarmoricaine afi itunes', 'get reservation brasserie serf jain pinto', 'add georgetown university alma mater evening acoustic playlist', 'restaurant watauga aunt', 'temperate current location', 'please book seating food court hazel green nine', 'make reservation within walking distance wy pm', 'put johnny burke onto lo que suena los angeles playlist', 'movie showing showcase cinema', 'get television show called start', 'add irving berlin dishwashing', 'find movie time national amusement', 'rate current album point', 'please add emanuel kiriakou playlist llegando casa', 'get showtime man blue', 'weather right', 'help find time time tv show', 'find taskcracker outlook game', 'weather year oregon', 'movie time cooper foundation sunset', 'would rate novel four', 'let get reservation party three bar pool', 'put bring onto tokyo rising playlist', 'party would really like eat baba au rhum brasserie could help', 'giving current album rating four point', 'show information history picture', 'add warpaint pre party list', 'find television show called high chaparral', 'please help search tv series mouse divided', 'sin father playing', 'book mar rwanda people', 'play symphony josh gracin slacker', 'weather going week roseau ia', 'give zero star current album', 'weather looking pheba', 'add kenneth jethro burn song playlist soundscapes gaming', 'give star current chronicle', 'add man flow espa ol', 'play record', 'please show movie schedule movie playing neighborhood', 'last album', 'warm within walking distance saint pierre miquelon', 'play song heaven ami koshimizu', 'rate current book point', 'time corner playing', 'movie schedule animated movie playing neighborhood', 'hotter navy birthday', 'colleague would like restaurant snow lake', 'rating point go dickson mccunn trilogy', 'play para tres', 'find video game called new york', 'play movement deezer', 'tell movie schedule', 'tell animated movie played closest movie house', 'find trailer called say', 'matt monro newest album add chill music', 'find le profil amina tv series', 'please add song madden nfl', 'play', 'book best joint restaurant member american samoa today', 'find painting big idea', 'rate book forever point', 'give weather forecast pleasant dale alaska starting', 'book spot pub tatar cambodia', 'give book', 'play ninety music pandora', 'play something grandmaster flash furious five youtube', 'find movie time', 'need table two pleasant city', 'rate current book', 'find showing vanquished start nine hour second', 'think textbook rated point', 'show schedule movie unborn forgotten', 'want another album disco fever playlist', 'read picture', 'show movie schedule', 'next episode tv series crossing line showing', 'rate textbook', 'play remains day', 'need reservation ten wisconsin', 'show picture called heart like hurricane', 'play eighty track', 'current book reading worthy', 'play lastfm tune', 'give denationalization money series four', 'need seat highly rated restaurant', 'like hear song iheart', 'give current essay point', 'find book valley', 'rate book live twice two point', 'time bordertown trail showing', 'looking free four tobias tell divergent knife throwing scene', 'give soul metal four point', 'think saga deserves', 'look galsoft linux tv series', 'add tune southern highway chronicle playlist', 'open last fm play top song daniel lee chee hun', 'book table atlantic grill lofgreen', 'like hear song daimidaler prince penguin empire', 'want see trailer one', 'find game titled iparty victorious', 'find tyrant', 'rate book giant frost two point', 'book restaurant year party', 'find album future past', 'weather forecast wolin national park three second', 'add almost lost mind bossa nova dinner playlist', 'find movie time century theatre', 'overcast brazil within walking distance', 'play tooh eric bazilian google music', 'give monkey tiger rating point', 'going sunny clock close district columbia', 'give current novel reading five star rating', 'give star essay', 'use service vimeo play music artist mick track', 'looking book spot restaurant ri', 'please find pretty baby', 'play song get offa thing doseone last fm', 'find schedule tube closest movie theatre', 'give current novel zero star best rating', 'cold brian head', 'play music itunes artist jessica delfino', 'give current essay', 'game sand playing movie house', 'play movement music monk boudreaux youtube', 'add puzzle like playlist reggae', 'find tribute show', 'book restaurant', 'schedule fox child cinema', 'find movie schedule speakeasy theater', 'time military history african american play', 'find dyskografia nick cave bad seed', 'table five restaurant lavina', 'marty stuart discography', 'find coffeehouse nine indiana access pool', 'book seating one person food truck', 'play femme fatale playlist vimeo', 'find way west show', 'play sea cabinet', 'play twenty chant lagaylia frazier itunes', 'add track el mejor pop en espa ol playlist', 'add shelby lynne playlist luis fonsi', 'would like reservation made masonville vermont nov', 'show cut rope video game', 'time watch son rambow tonight fox theatre', 'going colder louisiana', 'watch television show counting rosary', 'ennarukil nee irunthal playing', 'young lion saga get solid point', 'rate variation animal plant domestication value', 'local movie schedule', 'view photograph phantom horse', 'movie schedule animated movie area', 'weather going like around lewis clark trail sixteen hour', 'rate orion dying time four star', 'find trailer called colony', 'find night passion', 'find novel called downward earth', 'weather bayside sep', 'add hopeful enrique iglesias', 'look editor publisher tv series', 'show trailer rugrats go wild', 'add song mellow beat list', 'add track indie electronics playlist', 'weather within area qatar four', 'play ep quasimoto ninety', 'see television show jimmy two shoe', 'add something snow onto zen focus playlist', 'weather far away estonia', 'add matthew helders artist showstopper mary jane', 'rate novel', 'please play fourties music spotify', 'add track kickass metal', 'show movie time movie area', 'rate long dark tea time soul star', 'please rate think like freak point', 'find schedule salt black earth closest movie house', 'show movie schedule', 'warm current spot', 'book trentino serving bar', 'show animated movie movie time close', 'give album point', 'tell weather forecast cape verde', 'tell time fickle playing closest cinema', 'rate people lake', 'find painting without condition', 'warmer lunch prentice armenia', 'think essay deserves four star', 'tree grows brooklyn playing one hour', 'rate book saga west night', 'weather forecast tn december seventh', 'play trailer chasing shadow living ghost', 'add song top indie track spotify playlist', 'rate taking series zero', 'please search abby saga', 'play ballad owen pallett seventy slacker', 'find boy band', 'find video game called fare thee well celebrating year grateful dead', 'book table one restaurant washington riverview', 'show book pok mon mastermind mirage pok mon', 'rate current album star', 'put kurt cobain onto korean osts', 'track go evening chill playlist', 'please pull photograph entitled another period', 'search show caretaker', 'play top tune joseph utsler', 'stain playing loews cineplex', 'need reservation maid rite sandwich shop home garden', 'rate lord world value', 'want another track added korean osts playlist', 'show invisible hook trailer', 'add moye pop playlist', 'snowfall american samoa', 'play song estado de nimo playlist', 'weather september seventh salina river national wildlife refuge', 'weather forecast sep th north dakota', 'add messed hit rewind', 'give point book', 'rate current book five', 'play popular song chae yeon spotify', 'rate man ussr play', 'much hotter close namibia', 'rate penelopiad zero', 'weather forecast midnight dc', 'play yo ho new york pop youtube', 'get novel flesh colored horror', 'add album trotamundos', 'play top ryuichi kawamura chant groove shark', 'add afdlin shauki la mejor sica dance', 'go movie best pirate mississippi', 'movie time movie around', 'want table grandson somewhere arkansas', 'add album holly bandas sonora playlist', 'make reservation hillary dina chavez alexis', 'play noche de chicas playlist', 'tell freezing second', 'rate pillar fire play three', 'kind weather va year', 'add album trey songz playlist', 'wind', 'zvooq play song fifty', 'search pat margaret', 'movie time', 'find soundtrack called meet vogue', 'rate broken spear star', 'put song chip salsa playlist', 'find schedule closest film cinema meal time', 'book restaurant mauritania person', 'show creativity force behind power', 'forecast fir storm condition next week', 'give obama promise power point rating value', 'show schedule cin cin', 'book spot tavern jun th', 'find fragile frontier secret history mumbai terror attack', 'play life paul riley deezer', 'rate search origin two point', 'chillier portugal one hour', 'love guru playing', 'rate book girl man river five', 'book table restaurant nebraska', 'like see movie schedule movie area', 'like watch movie kb theatre', 'add list tune summer love', 'add geminism power workout list', 'play track mama liked rose', 'eight would like eat cretan cafeteria need reservation', 'need reservation highly rated bistro party', 'want see breathless', 'want book spot local food court', 'add artist leonard cohen indie brazuca', 'cold allardt aruba', 'add ojuelegba trabajo ritmos dance', 'deanna want book restaurant malawi', 'incorporate russel walder track onto gay funk rock playlist', 'add song perfect italian dinner playlist', 'book restaurant spa connecticut', 'find table five harvey de berry id april th', 'hot pesotum', 'add yameen uncharted nathan drake playlist', 'play fifty music slacker', 'need reservation eight diner dessert ashmore tn', 'play song little robin redbreast', 'give point paper men', 'put frank farian lydia playlist called black power mixtape', 'movie schedule', 'weather forecast hour christmas island', 'add pete shelley new wave', 'find jkt school', 'forecast mar th friesland tennessee', 'find movie house nearest film', 'play charlie hunter theme last fm', 'rate current book star', 'please look tv series experiment time', 'give current book point', 'rate essay four', 'want book common restaurant five dec eighth', 'put perfecting loneliness onto primavera sound barcelona', 'want know animated movie playing malco theatre', 'rate book titled gray prince point', 'add anson hu conexiones list', 'rate girl forever brave true zero point', 'film playing closest movie house', 'weather forecast pinson south dakota', 'find game selling blue elephant', 'add artist jamie hallie winter music playlist', 'add olympia delta chicago', 'find book called echo chamber', 'rated essay', 'add gate bloodstained mirror feelin good playlist', 'add zos kia cultus philip glass playlist', 'law dream get low rating one', 'book pub two jan first', 'weather forecast close sligo', 'movie schedule film neighbourhood', 'want book ethiopian bar afternoon', 'give star nightmare land', 'blizzard ar', 'taken flood get point', 'let know film movie schedule area noon', 'rate current book', 'going warmer central cebu protected landscape', 'show movie schedule cinemark theatre', 'cold current location year', 'book tun tavern shawna davis michelle lizzie vermont', 'snowfall neighboring area', 'forecast antelope island spot within area', 'find saga rating called poem midnight', 'need table one', 'get soundtrack comprehensive knowledge archive network', 'find labyrinthe game', 'play track adam jones', 'weather tioga colorado', 'windy pm ny', 'estelle spring playlist', 'add coordinate confusion bass face playlist', 'play last niney observer song', 'give local movie time', 'book table pub china', 'find album called aboriginal port folio', 'shake powder puff playing', 'show copy picture double deal', 'add exorcising ghost joy thrash attack playlist', 'play music vimeo', 'play music top artist kenia aria', 'add track metal talk metallica playlist', 'forecast', 'get hotter city ashford', 'play music pandora', 'bombshell saga download', 'add song thrash attack', 'book table two oakes', 'add bedroom jam album', 'find innocent world', 'find sing winning tv show', 'want harris added latin dance cardio playlist', 'find video game called parking dance floor', 'show movie time two nearby movie', 'add name forza amore playlist musica espa ola', 'weather east new market antarctica', 'book table bar moody deloris ester petra alvarez', 'forecast swain', 'like hear ami suzuki latest record', 'forecast francisco netherlands antilles around eleven pm', 'film scheduled closest cinema', 'weather like groesbeck', 'going freezing mahwah missouri december fifth', 'time wanda group playing honor outlaw', 'movie schedule speakeasy theater', 'find young doctor love tv show', 'four star special assignment', 'book table tennessee next august', 'rate bestiary dragon giant four', 'restaurant near town two year', 'want hear bill black chant music', 'time son shall armenian playing plitt theatre', 'overcast south dakota', 'show philosophy phenomenological research saga', 'give star current essay', 'love mist', 'tell weather forecast metamora', 'find gambler', 'put pause de fr playlist', 'rate essay zero star', 'book restaurant ca parent oct seventeenth', 'give point current novel', 'use deezer play music kimberley walsh', 'need movie time area type movie', 'give five star songlines', 'put track synth pop list', 'give sign saturn four', 'find movie schedule', 'want hear psychedelic rock', 'film playing neighbourhood', 'rate current textbook', 'find karol pope', 'film cineplex odeon corporation', 'play going river pandora', 'find film available cooper foundation', 'rate essay star', 'find soundtrack called dragon', 'find returned mind', 'book co table window world', 'tell forecast east falmouth hungary', 'restaurant kuwait seven mar eighteenth', 'would like see closest cinema playing film', 'add loving flame palylist rock', 'please look around world eighty day movie', 'weather wisconsin national maritime day', 'rate book zero', 'want book table nearby restaurant andorra kid', 'humidity near current place', 'movie schedule animated movie neighbourhood', 'add fear bullet chill track playlist', 'find game called merle haggard present th album', 'play hardstyle baby playlist netflix', 'give slap star', 'book restaurant ware shoal serf russian tea cake', 'movie schedule imax corporation', 'book last exit brooklyn hour one person', 'need find nice soundtrack', 'cold breckenridge colorado', 'want see dead calm closest cinema', 'play woman rock playlist', 'want book table party taverna next spring', 'tell snowy coastal landscape park october', 'weather like emma wood state beach', 'find photograph called shout', 'movie schedule animated movie area', 'add song kevin johansen', 'give rating curtain three', 'time tie yellow ribbon play magic johnson theatre', 'want television show come smith', 'forecast layhigh', 'book restaurant nebraska january mommy', 'would rate essay four star', 'show last tightrope dancer armenia television show', 'find soundtrack dante peak', 'book reservation southern brazilian restaurant people within walking distance broadway lafayette st', 'blood fresh water playing movie theatre', 'add dan automator forever country', 'give elegant universe five star', 'weather like second pugu hill forest reserve', 'forecast current place sun january sixth within walking distance', 'play music paulinho da viola', 'book restaurant parking three people', 'add fuzzy logic latin dinner', 'movie schedule mjr theatre', 'nearest movie theatre go watch film today', 'show texas review entertainment sport law creative song', 'giving current book series section one star', 'want rate current chronicle two', 'play robin hood bishop hereford jon mayer', 'play something classic jazz funk playlist zvooq', 'would like book food truck friend', 'find movie schedule great escape theatre', 'find playground book', 'film playing nearest movie house', 'add nana kitade modern psychedelia playlist', 'forecast samoa next sat', 'add manuelita indiespensables playlist', 'give album three point', 'book restaurant four october maine', 'play eighty music kaira kwong google music', 'book table french restaurant fern', 'play frank farian ep', 'movie time amco entertainment', 'add scott putesky concentraci indie rock playlist', 'snowy demotte', 'cloud forecast sierra leone', 'colder litchfield', 'please book restaurant six member jul', 'night lamp ok best two star possible', 'find tale ghost castle', 'lot cloud activity next summer nellieburg arkansas', 'book john pearson soda work restaurant', 'please find schedule jappeloup bow tie cinema', 'forward center died dawn playing closest cinema', 'following essay worth four', 'movie playing dipson theatre', 'chillier baconton ky', 'book table six cherry street tavern january sixteenth', 'get showtime film neighbourhood', 'book sot minute restaurant parking', 'tell weather condition patricia', 'tell hotter china', 'find recorder randsell', 'add dave bickler playlist', 'find movie time', 'rate current essay star', 'find closest cinema film', 'give point album', 'rate voyage starlight value', 'book spot hungary february th', 'play moris tepper', 'movie schedule animated movie playing close', 'nearest cinema playing romance limberlost', 'nearest movie theatre playing kate leopold', 'find movie time animated movie around', 'movie playing nearby', 'give textbook rating', 'give last textbook one point', 'find show hand show', 'snowy current place', 'add jeff burrow album country hit playlist', 'tell weather forecast apr twenty fourth san diego', 'add tony mcguinness playlist love hip hop', 'star theatre belle st clements playing minute', 'find terminator redemption picture', 'want rate pontypool change everything zero point', 'look creative work testament gideon mack', 'rate album point', 'weather forecast nicaragua', 'show show son tarzan', 'add track thomas rhett playlist', 'add track party playlist', 'give two current book', 'movie playing amc theatre', 'need another tune legendary guitar solo playlist', 'rate current saga point', 'add dying mapa que amigo', 'find creeper', 'like seat ten highly rated brasserie kyrgyzstan', 'warm darnestown', 'time nearest cinema playing hope blind alley', 'rate remover', 'put jiro cl sicos del hip hop espa ol playlist', 'lea saturday night playlist add name generation', 'play twenty groove shark', 'add sheila love neo soul playlist', 'warm califon tunisia', 'play music last album lastfm', 'add happy elf fresh find fire emoji playlist', 'add artist rosana', 'want know film playing closest movie house', 'colder hour noew east dundee zimbabwe', 'show creative song ufo senshi dai apolon', 'warm hallwood kosovo', 'giving current novel four rating', 'weather hooksett', 'missing clerk playing', 'need table nine atlas second', 'play dance music', 'add tune retrowave outrun', 'forecast cold wisconsin', 'add album liza oumarova steampunk playlist', 'check weather faroe island', 'need book restaurant people', 'need weather noon vaughn wildlife management area', 'book coon chicken inn baker city people', 'play something new boot playlist', 'feel like alloway', 'find movie schedule nearby movie', 'play tune', 'find movie schedule', 'show creativity sacred fire live south america', 'add felices todo reggaeton playlist', 'book restaurant kamrar midday', 'find movie schedule animated movie area', 'play greatest song mauro picotto', 'weather ludowici', 'play melody elmer bernstein', 'add album week end playlist', 'find envoy lucifer show', 'wish read novel called wizard stone mountain', 'storm', 'show creative picture secret doctrine', 'master craft playing wanda group', 'movie time goodrich quality theater', 'play xuefei yang symphony groove shark', 'rate album', 'put live detroit playlist peaceful piano', 'give two point wild blood', 'give current novel rating', 'want add pacific ocean blue playlist named lunch', 'want hear top ten soundtrack shinehead', 'play hope graham bonnet', 'play season sun rosco gordon iheart', 'weather like samoa pm', 'find movie theatre rogue romance nearest', 'give series africa house', 'play eighty amirbai karnataki', 'play iheart', 'find movie schedule', 'book table six beech creek', 'would give superman doomsday beyond four star best rating', 'put another song cloud rap playlist', 'would like add hit winter onto ntc studio sound playlist', 'need see cristo india', 'give following textbook point', 'one hundred twenty seven day like eat pizzeria north lima', 'whats forecast redby', 'go photograph inflated tear', 'show creativity album saga', 'find picture called bug bunny nip nip', 'add ch still got blue playlist', 'play something twenty', 'book molecular gastronomy serving restaurant march th', 'put frl menke song comedy top track', 'book ethic rating', 'play techno', 'want see trailer entity', 'animated movie playing close four clock', 'give two christmas carol', 'think essay given four point best rating', 'put xandee song onto chill playlist', 'give four point current essay', 'find movie schedule warren theatre', 'need book trop zienne restaurant six hour', 'want find parking next restaurant', 'cold around current location', 'humidity serbia', 'open canciones del recuerdo playlist play song', 'show creative album heredity', 'book get point current three', 'book boon brick store nine people', 'weather like minute homestead meadow martinique', 'add artist dirty projector playlist', 'movietimes film neighbourhood', 'add album country hit', 'put johnny wakelin para tres li', 'rate textbook', 'add cake bake lo que suena new york', 'need table state la katina josefina gray', 'think textbook four star best rating', 'play music relentless playlist', 'want eat brasserie serf muffuletta get reservation', 'find reservation mar th winnie restaurant', 'chilly fiji ten pm', 'book reservation ten restaurant american samoa', 'give three point album', 'need episode tv series fast food nation', 'play waiting sippie wallace vimeo', 'add album virales de siempre', 'play top symphony music ejigayehu shibabaw', 'add tune list jazz vibe', 'looking music nashville season saga', 'make reservation brasserie parking', 'get chillier arkinda myanmar', 'buy picture agent hamilton concern daughter', 'find movie schedule', 'weather forecast tennessee warm temp', 'add sorrow ok like jazz', 'add lady bunny album cadas', 'like eat ten pm anywhere neighboring house', 'book spot ten restaurant spa minor outlying island', 'movie schedule consolidated theatre', 'add atticus ross playlist electrosafari', 'find plitt theatre showing poverty nobility', 'add artist working day', 'movie theatre nearest showing animated movie starting', 'storm palm city wv', 'movie schedule film playing close sunset', 'theater showing lonely place die todesfalle highland starting', 'add something paul whiteman sweet soul chillout playlist please', 'add album playlist bachata lover', 'help locate game called master ballantrae', 'play easy listening', 'find bride', 'add eric bibb country coffeehouse', 'find national amusement showing trouble harry', 'show creative picture brenda got baby', 'get photograph death know name', 'movie schedule movie playing nearby', 'need party get table reserved pub southeastern cuisine', 'please find book step groove', 'need reservation five top rated english restaurant elma', 'find cascading waterfall', 'rate battle nerve three star', 'play album axum', 'want know hot weather situation netherlands december', 'like table outdoor restaurant', 'play vimeo desmond dekker', 'play bebob iheart', 'find bullet target television show', 'like eat best southeastern brazilian restaurant five people', 'add track hit remix', 'find book called black wing destiny', 'swan available watch movie house', 'time world according john coltrane playing', 'rate current textbook', 'going warmer day nairobi national park', 'play show cheaper dozen', 'give five point ice cream war', 'weather forecast mount victory delaware second', 'book spot osteria goiano ward spring', 'find television show called basement scream', 'add angela au playlist radar latino', 'time could see mile shoe', 'rate book white girl bleed lot two point', 'looking album called disorderly conduct video patrol', 'need book restaurant supper time il', 'give current essay two', 'hot two second neighboring west clear creek wilderness', 'want global top marit bergman added', 'play chant sonsee', 'want hear soundtrack platinum rule', 'film playing close', 'sun coming today lacassine national wildlife refuge', 'animated movie playing nearest movie house', 'book brasserie restaurant enfield north dakota rosie tarte tatin', 'find schedule movie time movie around', 'give series star', 'blood others playing', 'give battle bretton wood saga two star', 'want eat close east brady seven people', 'snow week parc national de petrified forest', 'weather condition stormy onward', 'make reservation restaurant meadowood party armenia', 'give previous album one point', 'book table seven co operative block building nd', 'forecast', 'reserve table two jun th neighboring bistro serf mongolian food northway', 'want watch movie window display manager', 'amc theater movie schedule', 'find movie schedule', 'want jimmie noone playlist titled lo mejor de los', 'book table california rita brenda hurley mountain inn january th', 'give one week wood', 'give schedule animated movie nearest cinema', 'play track flame', 'hot', 'snowfall shubuta', 'put hugh masekela onto music ibiza guest list playlist', 'want give nautch girl india four point', 'animated movie showing neighbourhood', 'find novel called kiss licia', 'current essay feel like', 'courtney ruby want eat restaurant three year', 'find saga called night life', 'look movie darkness come alive', 'add artist laundry', 'add manos hatzidakis lo mejor de los', 'rate current essay', 'play rob dougan youtube', 'play andy white', 'like eat restaurant md party', 'add fire wind digster future hit playlist', 'want listen soundtrack bed rose', 'add artist th grammy award', 'weather macclenny', 'put al jarreau concentraci playlist', 'rate textbook star', 'forecast sanilac petroglyph historic state park', 'add week end playlist', 'show schedule movie da vinci code', 'amco entertainment showing cie caseya today', 'find movie nearest cinema', 'weather forecast three whitewood rhode island', 'put shelter storm party classic', 'play track fight state yuvan shankar raja', 'rate current textbook', 'another girl another planet get one possiable rating', 'show creativity photograph grace submerged', 'rate last series one star', 'add kjetil vidar haraldstad listas de xitos', 'find painting called legend tashan dorrsett', 'let take cherry tracie noyack bar', 'show caveman television show', 'play song two sun sunset airi suzuki', 'add mclean rock work', 'book table black rapid roadhouse antarctica nine', 'find movie time', 'add artist duetos', 'add alexia woman classical', 'weather castle', 'good evil playing loews cineplex entertainment', 'weather romania', 'play track titiyo', 'show family plot', 'hear song david hodges', 'book restaurant pool far robbie hostel chandra noelle nine pm', 'add riddim driven engine humanity letha thing post', 'put journey love onto hip hop new school', 'find closest movie theatre film', 'please make restaurant reservation somewhere mondovi connecticut', 'add rd world focus', 'time project censored movie playing movie house', 'think chronicle entitled spirit st louis given zero rating', 'give song solomon rating one', 'add album classical essential playlist', 'like book place eat ny', 'weather condition near mi day half', 'temperate shmini atzeret', 'add apathy electro sur playlist', 'rate citadel point', 'need reservation looking place pool midnight pub', 'need reservation national coney island party nv', 'rate vivian grey three', 'play house music', 'need restaurant iowa clock', 'book spot sushi diner minnesota', 'add chamillionaire track lina wedding classic playlist', 'going hot year', 'add kommeni tin anasa propuesta alternativa playlist', 'give fox hound', 'weather like turk caicos island around dec sixth', 'check forecast keene', 'book dutch manor portugal', 'play top indie track spotify lastfm', 'blizzard coming tomorrow methuen uganda', 'find picture nur mit dir walk remember', 'movie time', 'rate old heart sword', 'snowfall faraway robinson forest', 'show movie time', 'put love hurt track onto carmen playlist', 'play mario vazquez movement', 'book table november first', 'give current series two star', 'need book table star inn within walking distance place ashland', 'need table tavern bougatsa', 'book spot six october fifth mineola', 'book atomic cafe ten people', 'want read novel alone microphone', 'please search microsoft safety scanner television show', 'play best selling rave song', 'book table josie carissa lindsay brasserie serf trentino', 'book table one bear hotel peru', 'want eat choucroute brasserie', 'show movie schedule santikos theatre', 'find movie movie time neighbourhood', 'find movie schedule', 'book bar mediterranean food three people', 'book table tomorrow five people', 'want book restaurant supper kellerton', 'time utamaro five woman showing alamo drafthouse cinema', 'movie time warren theatre', 'add det kimer nu til julefest playlist technical brutal death metal', 'want world warcraft tide darkness', 'rate merlin effect', 'time taking pelham playing movie theatre', 'look television show called monster mash', 'would rate codebreakers rating value', 'add track flesh bone totally alternative playlist', 'please find biggest loser brunei spirit life photograph', 'supposed snowfall zero clock parc national alerce andino anywhere distant', 'make reservation bar party indonesian', 'hot saint jo alaska', 'rate textbook', 'play top track claudja barry last fm', 'please play playlist todo reggaeton', 'turn google music play', 'would give zero star concise treatise art angling', 'play white noise', 'find song called eye', 'rate sunrise land zero', 'book table people goodland ak', 'please get welcome riley game', 'give drift unmooring american military power point', 'play playlist mi ni de', 'assign star lincoln gettysburg', 'closest cinema playing soapsuds saphead', 'find reservation tavern serf pizza party', 'weather ten minute canada', 'going warmer cinnaminson north carolina', 'play something johan larsson traveler thief', 'add ash rock gaming playlist', 'give textbook', 'find great hydration tv series', 'add ricky nelson classical playist', 'penthouse playing', 'rate novel', 'could please show movie schedule', 'play andrew lloyd webber good tune zvooq', 'hot cayman island november th', 'temperature today griffin ne', 'pull sanford herald', 'play chant ninety last fm', 'play track ishmon bracey iheart', 'add artist lo mejor de los', 'rate sandworms dune three star', 'play pride prairie johnny burke', 'like hear infinite indie folk slacker', 'show picture creature light darkness', 'add elbridge bryant song inyecci musical playlist', 'show movie time', 'rate book titled clue old album one star', 'give chronicle', 'weather going gambia week half', 'help find book called journal neuroscience research', 'find picture called blink eye', 'give album three point', 'find endless horizon', 'play tanti auguri te bruce gilbert', 'book table eastern european restaurant macedonia', 'add bone crusher chill playlist', 'give morganville vampire', 'like find limited lover novel', 'give nothing last forever point', 'want hear something eclectic', 'weather forecast djibouti', 'forecast nearby current position', 'add paper doll power walk playlist', 'album start fire released', 'want give coming terraphiles rating', 'play donald rubinstein pandora', 'wandering detective black wind harbor playing cinemark theatre', 'want photograph elizabeth queen', 'looking photograph called merry christmas', 'get seating pub south korea serf milk toast supper', 'snowstorm forecast saint helena', 'giv current novel four', 'redacted playing closest cinema', 'show movie time regal entertainment group', 'forecast west virginia snowy', 'need reservation khedive palace close town', 'find live get', 'weather forecast garrison', 'want photograph walt mickey', 'weather forecast pointe heath ecological reserve midnight', 'find movie schedule animated movie close', 'weather forecast spaulding morocco', 'please find movie jingle jillian', 'time battle wit starting', 'find photograph move mountain', 'want see movie schedule animated movie around', 'show feed kitty painting', 'please show movie schedule today', 'book table three restarunt federal hill', 'please book highly rated restaurant food truck tuscan adela hallam indiana', 'rate book series robot one star', 'rate reader warned four point', 'play music raheem devaughn', 'need seat place ak', 'book table top rated brasserie pakistan', 'hail forecast hale center', 'play fifty music', 'tell weather comertown', 'time burning season playing', 'please put tune irish folk jig reel playlist', 'want find oyster bar tetrazzini people', 'like see trailer history theory', 'book restaurant medford lake sep essie tonya', 'para tres list add cut world', 'find novel playlist best brad paisley', 'play shake head', 'weather meeres nationalpark insel bastimentos twelve pm', 'need journal pediatric oncology nursing help find', 'play tony grant', 'give two star current album', 'want list film going shown neighborhood', 'show drive life album', 'type movie houston press', 'play top ten andrea del rosario', 'play bitch please ii julee cruise iheart', 'like see movie schedule animated movie around', 'find schedule vanishing bee movie house', 'add atticus ross electrosafari playlist', 'rate find four point', 'rate seeing eye love point', 'show animated movie playig great escape theatre', 'put track musica espa ola', 'show best volume tv series', 'weather', 'add album sylvia plath playlist', 'weather three pm', 'play music frayser boy', 'neighbourhood find movie schedule movie', 'rate book titled house doll three star', 'play music paul mccartney', 'add rachael price album todo edm', 'weather forecast siler city russia', 'find tv show hot air', 'add louis nelson delisle pulse americana', 'find nhl fox', 'want hear sandra ep', 'fine movie time animated movie neighborhood', 'add nicole mitchell soul revived list', 'want know movie showing nearest movie house', 'would like book table delicatessen punjabi angela vilma', 'let see movie schedule seed chucky', 'weather forecast red rock lake national wildlife refuge', 'weather paris', 'need rave slacker play', 'book spot best brasserie near saudi arabia', 'rate current essay point', 'rate current novel point', 'give saga', 'find novel called loyalty', 'find trailer called hellboy troll witch others', 'barbary coast playing', 'book reservation ava gonzales raquel brown jul hainesville restaurant', 'want table popular cafeteria holy saturday ga', 'need add song lo que suena new york playlist', 'looking saga hardest part', 'find world game', 'find game called bump show', 'play fight state', 'weather current location december rd', 'add sveta ljubav metal party playlist', 'show chocolate rain creativity', 'give televised morality series one', 'like watch movie nearest movie house', 'rate definitely dead saga point', 'current series deserves two', 'get showtime closest movie theatre newest film', 'find show demi god semi devil', 'play electro sur playlist', 'give human died night star', 'weather going tbe twenty three minute federico albert national reserve', 'tell howling ii sister werewolf playing', 'list movie time playing animated movie nearby', 'give list showtime night taneyamagahara', 'freezing city sardis', 'add tune escapada', 'book spot red onion san marino next week', 'show creativity ah', 'show horton kwuggerbug lost story', 'give current essay rating zero star', 'four point essay', 'forecast assumption mary weather depression', 'book table five training table', 'find novel london fallen', 'give essay one star', 'play song album shirley horn', 'humidity right aguila', 'find movie schedule', 'give hornblower west indie point', 'show movie time movie neighborhood', 'forecast january twenty eighth kentmore park', 'need find creative work prince hour', 'add tune skylar diggins training mix', 'feel loveday trial rated one point', 'book table great grandfather place booker ak', 'play music youtube', 'play gangsta music', 'play music mutlu', 'nice norway', 'show lateness hour', 'suicide shop playing southern theatre', 'play melody sort newest dj format', 'song detective conan dimensional sniper', 'add song workout playlist', 'need know humid greenback mongolia', 'movie playing area', 'add track summer love', 'start playing disney playlist', 'give jewel crown saga four star', 'find press atlantic city movie', 'play britpop music', 'play wolf larry gatlin', 'tell movie schedule warren theatre', 'weather eleven pm craig mountain wildlife management area', 'think chronicle best rating value one', 'film around', 'find return krondor', 'show movie time sunrise', 'patty need table booked highly rated restaurant sandstone', 'find belle yukon', 'add tune classical intimate dinner', 'rate book star', 'put frank farian deep dark indie folk playlist', 'napoleon xiv added sharlene playlist transatlantic lullaby', 'play sound track music twenty', 'weather colder last august stunt ranch santa monica mountain reserve', 'need reservation party three maybe gastropub sell steak', 'ifind know saga', 'show schedule movie michel strogoff', 'please add liberty forever road trip playlist', 'weather niagara', 'fog week', 'add artist playlist epic gaming', 'find soundtrack called enter chicken', 'need reservation oasis drive party four', 'add petar georgiev kalica song push button funk playlist', 'find endangered specie song', 'want hear gucci mane song last fm', 'play sia furler last fm', 'play soft parade', 'get tv show enter matrix', 'get weather forecast new baden', 'rate textbook', 'play soundtrack ready', 'book reservation faraway restaurant newtown meal time', 'rate body secret one star', 'book pizza serving tavern brother', 'put something noah wuv bernardo humor playlist', 'movie schedule animated movie nearby', 'book tun tavern morning norfolk island', 'give current part series point', 'snowy ocean shore', 'bar restaurant november twelfth popular party ten', 'rate book', 'find movie schedule animated movie close', 'reserve table one top rated restaurant nearby serf goiano month md', 'sunny qatar', 'saga definitely worth star', 'showing animated movie area', 'see movie time great escape theatre', 'hot round hill hi', 'movie showing nearby', 'would like book best southeastern brazilian food court', 'give one clear call zero point', 'book taverna wisconsin', 'show creative video game name foros timis ston greco', 'add harlow wilcox hip hop club banger', 'add another tune lo mejor del rock de espa playlist', 'add artist playlist classic punk', 'weather like russia one hour', 'book restaurant faraway albertson', 'tell snow forecast teterville', 'play could happen album lawrence', 'play music punk genre last fm', 'book reservation gaslight tavern may twenty seventh', 'give current book im reading zero point', 'table please', 'play fast fusion spotify', 'want hear good album toni cottura', 'book spot six restaurant serf fish chip', 'add paula abdul classic acoustic playlist', 'find movie schedule pacific theatre', 'get hotter far away afghanistan', 'add artist pero country gold playlist', 'showing natural history parking lot movie house', 'cold harveysburg wa', 'please put song na hype playlist', 'like see hannah montana miley cyrus best world concert', 'play classical', 'play fifty theme music mohsen chavoshi', 'find wish form creative work', 'temperate lopeno thailand', 'weather like port clinton nebraska around midnight', 'play song carol arnauld', 'make essay two star', 'want eat meatball shop within walking distance erica campus', 'give caxton chronicle star', 'include dschiwan gasparjan beth rare groove playlist', 'find video game called mysterious castle carpathians', 'play movie want mtv uncensored story music video revolution', 'weather year horseshoe lake state fish wildlife area', 'find journal society american music', 'looking picture fresh air', 'rate textbook two point', 'play new melody kenji ito itunes', 'rate novel two', 'add song funny thing football playlist', 'book restaurant swaziland hour', 'rate homicide year killing street five star', 'want book close restaurant sc seven', 'play top music charles johnson vimeo', 'rate vanishing thief', 'find movie schedule theatre', 'please search live san juan capistrano picture', 'time movie schedule', 'add another track catch em playlist', 'want book restaurant bosnia herzegovina', 'please find work titled talking heaven', 'find best friend piano player', 'search polish assault', 'play entertaining playlist', 'rate novel five', 'search picture foghat', 'give movie time regal entertainment group', 'like rate beloved world two point', 'nearest movie theatre playing stray cat rock wild jumbo second', 'add come back jazz loving couple playlist', 'read book omega stone', 'add tune leonard cohen road trip', 'include pat smear guest list engadget', 'play album st century live chet lam itunes', 'play iheart', 'add undressed country icon playlist', 'book sure dawn get two rating', 'add track paul gray smash hit playlist', 'restaurant zimbabwe brasserie parking', 'book vermont maisonette', 'add artist playlist primavera sound barcelona', 'add song indie hipster', 'add album mediod ac stico playlist', 'put rating book three', 'weather like phnom sankos wildlife sanctuary', 'give budayeen night saga five point', 'looking tv series stray', 'time kickboxer showing cobb theatre', 'play guy sebastian itunes', 'showtime animated movie fro goodrich quality theater', 'play top five melody', 'give zero point current album', 'add tunnel rat rhythm blue playlist', 'want book bar neighboring apartment', 'windy medicine rock state park may', 'play circus farm deana carter', 'play rumba africana', 'find passion michel foucault novel', 'play closer sun album', 'give star album', 'weather going like one minute', 'show movie schedule', 'want book restaurant neshanic station nigeria pm', 'show creativity ghost dragon cold mountain', 'forecast sudan', 'picture everybody want', 'show schedule see film', 'would rate book point', 'movie playing one hour cooper foundation', 'book pub pool white heath south carolina', 'rate honourable jim three', 'play sound love papa mali', 'find movie nearby', 'play playlist introspective', 'want book popular fast food food place mn friend', 'show neurotoxicology', 'need book restaurant wifi far tx parent', 'snowstorm leonville', 'find film scheudle neighborhood', 'forecast dec st keeneland', 'give star book', 'second need restaurant san marino', 'get information riverfront time', 'book restaurant freshwater bay ava alaska', 'book restaurant party paraguay saturday', 'add tune spinnin record top list', 'weather croatia', 'rate current album point', 'depression mar twenty eighth saint pierre miquelon', 'like visit pizzeria pool fourteen clock', 'need reservation nine wi', 'give setting free bear series four star rating', 'weather forecast june third rileyville co', 'rate white body evening one', 'find movie schedule', 'play lorenzo palacios quispe', 'would like hear music', 'evening casa amor exclusive lady playing', 'warm fernandina beach slovakia', 'sun come today houston', 'going warm', 'show schedule arclight hollywood animated movie', 'rate current book zero', 'weather like boca raton ia', 'weather ct', 'play sound track', 'weather forecast maryland', 'looking bring shawn marguerite della place eat near rwanda', 'rate current essay four', 'find movie house ulterior motive closest', 'weather forecast northern mariana island', 'show forecast tanintharyi nature reserve', 'forecast current spot', 'play catholic sun album', 'united state warm weather next wed', 'play glenn stetson music spotify', 'chillier uruguay day', 'search show champagne shower', 'play soundtrack slacker', 'play music iheart', 'please add artist zen focus playlist', 'hail minute tom river', 'weather paulette yemen', 'play music album evolution man joey ramone', 'temperate near neylandville', 'please tell movie schedule look like amc theatre twenty one hour', 'looking painting god must spent little time', 'warm powersville guam hour', 'play mother lode tamio okuda', 'time hitman city playing', 'like eat outdoor restaurant', 'forecast ok', 'play mister music man gene de paul', 'find book called environment behavior', 'give hollow man three star', 'need find tv series called administrative behavior', 'play expresi mickey finn', 'need table party lao theme restaurant', 'gie textbook star', 'please help find short program saga', 'weather forecast guadeloupe eleven week', 'show whispering willow novel', 'looking video game called supernatural event campus', 'show saga st elsewhere', 'play groove shark', 'add troy andrew pop punk powerhouse', 'forecast current location', 'forecast hot hour leasburg', 'add volver pop gaming playlist', 'get movie fear black hat', 'weather august seventh crystal lawn guam', 'going depression current location nov ninth', 'want find show eternity', 'add track krystal piano', 'give rating book swine', 'weather like distant greenport', 'book restaurant eleele october fifth people', 'new caledonia forecast bagnell sep th', 'tell humid eighteen clock current spot', 'play game music', 'adaptive coloration animal give point', 'show freezing forcast within area north dakota', 'add tune harry connick jr jazz brasileiro playlist', 'play chaos desire dan snaith', 'please play jim martin vimeo', 'animated movie playing closest movie house', 'search dark side mind movie', 'play artist stu davis album dub chamber netflix', 'give textbook', 'play ballad heath', 'rate book', 'time dungeonmaster playing amc theater', 'bleeding house playing amco entertainment', 'book spot ten', 'hoping find table six pub jul', 'give two point current textbook', 'rate novel', 'play best elizaveta khripounova', 'rate earth made glass', 'find movie time close movie', 'play song voice image', 'rate book pimpernel rosemary', 'going warmer year half deweese', 'add fabri fibra birth cool', 'find nearest movie theatre play sea racketeer', 'put track alok house party playlist', 'book outdoor restaurant', 'book nut clark irvington people one hour', 'play music youtube', 'add grim skunk duetos', 'play music', 'book cafeteria pool four algeria', 'humidity missouri city sc', 'add driven tear viral semanal playlist', 'weather zero pm papeton montserrat', 'fog weather grand lake nebraska', 'book spot town area', 'find tv show boy', 'chilly two hundred thirteen day doch tsu prefectural natural park', 'want hear music indie festival playlist', 'play ballad giorgio moroder', 'play goa music google music', 'rate current novel point', 'nearest movie house showing woman fall wayside', 'need reservation churrascaria oneonta wyoming party', 'play popular bryan gregory song', 'show saga darling', 'help find author author trailer', 'want hear theme music edsel dope', 'find radical history review saga', 'find show naked gun', 'find song fourth man', 'book outdoor restaurant md pm', 'rate poem midnight saga point', 'please find', 'find showtime animated movie neighbourhood', 'want put goldy mcjohn rock party playlist', 'need table somewhere nearby petit manan national wildlife refuge', 'add priscilla playlist classical dance music ballet beyond', 'temperate seattle height slovenia seven pm', 'show movie time one minute', 'zero point bird south asia ripley guide', 'rating book named infinite man star', 'play apbl alden penner', 'rating dilvish damned', 'please get exploring reef tv show', 'book spot soul food food truck cawker city', 'show movie schedule big mouth', 'add chris walla trabajo relax', 'please get infernal device game', 'rate anatomy melancholy star', 'pm forecast far', 'find novel called perfect day', 'get movie schedule', 'find movie schedule arclight hollywood', 'movie schedule', 'track get added spain top', 'add intelligence sacrifice skatepark punk', 'weather forecast going august hoffman hill state recreation area', 'add eef barzelay trad folk playlist', 'use pandora play music stano year', 'make reservation ne distant resturant pizzeria', 'play iris dement theme based music lastfm', 'open second adventure album han nilsson', 'weather like trinidad tobago', 'rainfall day tomorrow far rodna national park', 'find movie house closest showing operation kingdom', 'movie schedule', 'check weather forecast seven week emida', 'would rate album star', 'want book doughnut bar american samoa', 'book sherry concepcion nunam iqua best restaurant', 'play top track janamanchi seshadri sarma', 'add jalal zolfonun nature noise', 'book reservation people restaurant within area step daughter position', 'play record', 'show schedule american primitive santikos theatre', 'play thirty lastfm', 'find game called oh ohio', 'like eat top rated place nov twenty sixth food court need reservation city kane somewhere near', 'rate book orchard book first greek myth', 'play knockabout soundtrack', 'book delicatessen indoor', 'want listen seventy music', 'find coffeehouse illinois three', 'weather like wallis futuna', 'play top eighty theme alain caron', 'area find film', 'please book restaurant week fm', 'put lidell townsell track esenciales', 'add artist disco fever playlist', 'find table cafe guinea trip one', 'book taverna party', 'play maggie mae netflix', 'hot current location', 'play way tom warrior zvooq', 'play good symphony', 'add dickey betts throwback thursday playlist', 'rain today french southern territory highland beach', 'rate next book', 'find important people television show', 'please find hanging valley movie', 'find movie theatre showing tailor panama', 'need reserve two seat eat salina alabama', 'book reservation highly rated pub', 'book reservation tea house lodi granddaughter', 'find mahalakshmi iyer music netflix', 'add song torch sing along playlist', 'add track fusion fest', 'add another artist spotlight country playlist', 'weather four week around tsingy de bemaraha strict nature reserve', 'show picture afternoon', 'find album called preminchi choodu', 'add name rhythm chill music', 'let hear rave tape album yuki koyanagi', 'rate bourne deception', 'river secret deserves best rating zero point', 'time crystal gazer playing closest cinema', 'show work catholic weekly', 'going get chillier trussville bosnia herzegovina', 'play music vimeo', 'book table person popular brasserie jansen serf english food', 'like see spyforce', 'add track anochecer urbano', 'need table surf taco east uniontown', 'rate scoop point', 'add tolmatschowa schwestern street dance playlist', 'life death king richard ii playing mann theatre', 'add mayya de manhattan con amor playlist', 'rate book series zero point', 'dishyum cinema', 'play music netflix', 'play geir jenssen', 'add kd lang deep focus playlist', 'would like hear song tim reynolds', 'tell weather forecast one second barnum island', 'play funky heavy bluesy', 'play benjamin kowalewicz top hit', 'add track orgullo gay', 'book table far tullytown coffeehouse smoking room', 'find world apart', 'need get restaurant reserved sd', 'add joshua radin playlist called futuros hit', 'tv show prodigal wife today', 'find song called budapest beacon', 'play music using slacker', 'rate primal fear one', 'like eat tea house people', 'weather palm bay pa', 'purchase saga second life samuel tyne', 'play new age music', 'book cornelia bettie table brasserie restaurant colombia', 'find show called chompa toung', 'nearest movie theatre playing kate leopold', 'add sp balasubrahmanyam rockabilly mania playlist', 'add stuck nothing sax city playlist', 'add song ultimate indie', 'find starting time heavenly body', 'play socialism good terje bakken spotify', 'find reservation within walking distance pauline place party fourteen clock restaurant serf aioli', 'book pub pepperoni near house far', 'movie playing theatre pm', 'windy breaux bridge turk caicos island eleven hour', 'want watch escape fate discography', 'weather like eight pm bon air uruguay', 'ho warm arcola', 'find time ace saddle', 'get showtime film area', 'want add tune damon johnson frescura indie playlist', 'play best charles neidich song', 'rate summer king saga star', 'going temperate farallon island', 'movie nearest movie house', 'watch tv series polite people', 'peter piskies cornish folk fairy tale get three', 'temperate hybla valley tajikistan', 'rate essay four', 'call table tavern green south farmingdale', 'feelin good playlist need mai selim', 'weather forecast monument lihula', 'get night long final chapter novel', 'play song sammy fain', 'book restaurant mp pm pig blanket', 'add buddy desylva balvin playlist', 'play robin hood rescuing three squire bhupinder singh', 'play paulinho da viola', 'make reservation somewhere near step brother adeline apartment', 'find documentary winter cyclist', 'show movie schedule movie playing nearby', 'rate shadow alive point', 'time bhoomi geetha playing movie theatre', 'play song zvooq', 'give novel two star rating', 'book table june thirteenth saint barth lemy indoor tea house', 'cold going san marcial ak one second', 'play zvooq', 'watch portrait woman nude hour', 'find table bar milagros mount pocono', 'weather forecast country club height', 'need diner', 'priority parade playing', 'want movie schedule movie around', 'saga leaf inn last home give rating', 'find movie schedule', 'add album latin pop rising playlist', 'agnew united state chilly weather', 'play newest music gladys knight', 'add artist borys ljatoschynskyj surface playlist', 'want hear aki nawaz play song fair annie', 'play music', 'add maggie mcgill night vibe', 'like see sex tape finiti rete', 'please show movie playing amco entertainment', 'get fight anarchy', 'movie schedule right', 'nearest cinema showing love mandya', 'bahamas forecast stormy weather', 'find six saga', 'give next essay zero point', 'book restaurant angela mercedes cimarron city colorado', 'play one good reason tommy flanagan itunes', 'give lady decides rating value best rating', 'need reservation within walking distance hoyt st', 'would like restaurant reservation year people', 'find game wizard play tv series', 'forecast cold temp nevada', 'want rate child earth chronicle rating value best rating', 'find video game called stroll pork', 'book restaurant baby delaware', 'weather like kaltag', 'playlist running power add name best yet come', 'add something faultline jannie strength street knowledge playlist', 'give movie schedule national amusement', 'play playlist funtime activity', 'want eat best spanish restaurant georgia area within walking distance nephew noon', 'cold wheatley provincial park', 'want see trailer amor puro', 'time tear smile playing', 'weather like right fort adam', 'find good wife', 'find tv series box moon light', 'help find work unite win', 'find soundtrack titled house yellow carpet', 'movie playing nearest cinema', 'weather pennsylvania', 'see trailer live date', 'rate album three star', 'wondering movie laying around', 'need reservation restaurant serf cupcake oh', 'find vegucated starting zero pm', 'find animated movie nearby', 'please book restaurant room serf hangtown fry dish jagual', 'liberator playing imax corporation', 'play song groove shark', 'add artist tom cochrane new york groove', 'add viktor tsoi sweet soul chillout playlist', 'play music artist mark ashley', 'weather gu jul th', 'weather forecast delaware right', 'add track morning classical', 'put framed onto ntc studio sound playlist', 'want book food court', 'book reservation mediterranean restaurant confederate memorial day nearby ocean grove', 'film scheduled around', 'please search legend korra book', 'pizzeria restaurant kellnersville hi outdoor ten', 'niece want eat somewhere close hopatcong', 'star current saga', 'play chanson style music', 'watch watch television show catch', 'please make reservation hog fry food truck', 'book restaurant belgium ten week', 'add artist bach te quiero playlist', 'show soundtrack phoenix', 'cold cargray argentina', 'find creative work called saintly switch', 'snowfall zero pm estonia', 'party two food truck december serf chicken french bolivia', 'book table eight people bar steak sauce half moon american samoa right', 'rate current album four', 'want hear music slacker app', 'find five spanish song photograph', 'warrior legend get', 'weather half week', 'view trailer jeeves wooster perfect nonsense', 'want play game called scotland tonight', 'find schedule animated movie neighborhood', 'need see fog', 'like table distant place downtown next fall', 'get chillier furano ashibetsu prefectural natural park', 'please look painting modern time', 'play something louisiana blue', 'book restaurant northern mariana island', 'play song thirty zvooq', 'add track latin jazz', 'add mike mogis onto crate digger anonymous playlist', 'want listen song first time everything', 'find movie schedule marcus corporation', 'book restaurant satanta highly rated northeastern', 'rate always running series point', 'neighborhood find movie time movie', 'put artist onto political punk', 'look adventure blue carbuncle', 'play talking universe itunes', 'book restaurant palau two people', 'add artist fabri fibra earth wind fire', 'rate scarab murder case one', 'tv show journal personality social psychology', 'film showing around', 'warmer monson minor outlying island', 'find closest showing taste others cinema', 'add artist feel good dinner playlist', 'play ven mi', 'schedule food truck place distant future', 'move josiah leming te quiero list', 'add artist mozart playlist', 'rate current essay star', 'play concerto slacker', 'weather selinsgrove', 'see animated movie nearby', 'give four star chronicle', 'play sixty song', 'show chemdex com photograph', 'want hear music carman album', 'find television show called milagros girl away', 'book diner close benin serf strolghino eight people', 'book spa pizzeria november', 'play symphony netflix', 'rate album one', 'add song playlist independent music monday', 'play mikazuki sunset', 'weather forecast tomorrow around sankertown', 'play song fourties george martin', 'give forecast weather night current position', 'idea fun book get star', 'rate dick sand captain fifteen two', 'series give rating four star', 'getting colder sahuarita', 'rate current novel point', 'give story last thought five', 'rate current textbook star', 'play goldie hill record google music', 'see movie schedule nineteen minute', 'find closest movie theatre film', 'play newest ep sixty', 'rain deersville', 'weather lime ridge dc', 'want listen album magical girl lyrical nanoha striker', 'blizzard tennessee colony', 'rate gorilla hunter star', 'nearest cinema playing kid brother', 'robin need reservation somewhere palau', 'award blood table point', 'rate current novel point', 'time lottery man playing', 'humidity year bradbury mountain state park', 'book table nephew near location indoor pub', 'add track afternoon train ride', 'cinema playing strongest instinct', 'weather hotter old furnace state park', 'tell weather forecast denmark', 'find movie schedule consolidated theatre', 'father law would like go highly rated bar', 'add tune southern thing playlist', 'play funtime playlist lastfm', 'looking album called orchestrion project', 'play music young steff', 'find trailer called reservation', 'want book black cat bar ar', 'find close movie movie time', 'please find journal', 'rate current novel', 'film showing area', 'rate abyss wonder', 'movie theatre playing missing picture', 'buy book vacation petrov vasechkin online', 'find schedule film around', 'show television show angry mob', 'play song fifty', 'warm week dc', 'find schedule wenn lucy springt movie theatre', 'find movie schedule cooper foundation', 'want give following essay five point', 'get weather forecast benin day', 'weather', 'play chantal kreviazuk sister ray', 'book table seven neighboring france', 'add song noreen fresh find six string', 'play top chant music', 'book restaurant people', 'find sailing sea cheese', 'add erik santos playlist metal xplorer', 'see upcoming movie schedule', 'rain', 'add song list trabajo relax', 'see painting twelve angry men', 'rate current book point', 'get showtime animated movie neighbourhood', 'add olga souza virginia femme fatale playlist', 'add sebesky song refugee playlist', 'distrowatch playing', 'closest movie house showing hard way', 'sleep machine rainforest playlist need another tune', 'give main travelled road series point', 'please play something last fm', 'rate short trip destination prague five', 'please search work wrong reason', 'book restaurant serf pasta people', 'add mr medeiros woman country playlist', 'possiable give jip story', 'show movie time kerasotes theatre', 'like watch freckled fish magic johnson theatre', 'play music alison sudol', 'need know freezing mn pm', 'need forecast mamaroneck six week', 'need book restaurant four clock', 'book brasserie', 'add album top country track spotify playlist', 'play new indie mix google music', 'think wizard four', 'like see movie time please', 'give weather', 'chillier october nearby east glacier park', 'time graduate showing caribbean cinema', 'play zvooq southern gothic', 'play happiest day life tommy emmanuel', 'put another tune dancehall official playlist', 'warm minute', 'looking reserve table pasta restaurant serbia', 'movie schedule film neighbourhood', 'weather current location tomorrow', 'add song randy rhoads cl sicos playlist', 'play soundtrack nothing personal', 'want add un jour dans notre vie list running rock bpm', 'play eighty song ler lalonde', 'foggy', 'add tune jazz vibe playlist', 'philippine forecast humid weather', 'play music reno', 'play wendy carlos song', 'weather breakfast montana', 'get photograph best enemy', 'get movie schedule speakeasy theater', 'find reservation three ansonia mi', 'add reggaeton classic playlist jennie jennie', 'find movie house closest beethoven life upstairs', 'need reservation four minute people falkland island', 'need forecast close becharof national wildlife refuge nine month', 'book pub clermont people', 'find video game sims generation', 'find covered wagon game', 'essay deserves star', 'hail villa', 'add gregg bissonette latin top playlist', 'rate book whit zero', 'see painting another life another end', 'add patrick stump maritza disco fever list', 'add tune reggae infusion', 'find film movie schedule nearby', 'please book table people area bedford park blvd lehman college', 'chinese wikipedia', 'would like book brasserie nine ar', 'give current book one', 'find phinally phamous', 'book restaurant november', 'rate essay', 'rate book guernsey literary potato peel pie society five', 'find album peace maker', 'add marianne faithfull june hillary clinton woman history month playlist', 'add ihsahn hip hop new school', 'find gamble', 'book reservation top rated lebanese fast food place', 'give forecast keytesville minute', 'rate rat chronicle', 'play top twenty sort akinyele', 'want hear la jaula de oro mc ren google music', 'go see untold story', 'animated movie playing amc theater', 'book food court indoor penermon step father', 'film kerasotes theatre', 'hotter san valley landscape park june', 'bernardsville', 'add song chieko ochi drum break playlist', 'much wind nm november th', 'looking creative work wonderful life', 'play top rosanne cash', 'find arcims picture', 'like watch miss congeniality', 'book restaurant eight people six year', 'show creativity novel lock', 'want add club mix playlist title cl sicos', 'add track emo forever playlist', 'play concerto', 'book verdure serving restaurant bloom city', 'give series star', 'show bridge san luis rey picture', 'include love love love dinner music playlist', 'forecast fall lesotho', 'want watch trailer ad nauseam', 'show work truth tolerance', 'book reservation outdoor restaurant', 'closest cinema animated movie', 'need top gear please search', 'know song mande study association', 'time atlantis terre engloutie playing', 'find painting called song tsongas', 'rate album star', 'add woman metal odetta holmes', 'add tune playlist guest list polygon', 'play track would something eden ahbez', 'wind speed current place', 'rate whole earth discipline point', 'get showtime man could talk kid', 'rate trailer geek chic', 'give movie time goodrich quality theater', 'add woman world playlist entitled duetos', 'show photograph called daily slovak news', 'rate myth matriarchal prehistory series four', 'johnson creek forecast chilly weather', 'book restaurant one person three pm', 'time high spirit playing', 'find show called kind dangerous', 'give star mulligan stew series', 'play music itunes', 'rate essay two star', 'going humid helix', 'put tune favorite coffeehouse playlist', 'need creative work title unholy confession', 'reserve table restaurant wifi france', 'give zero rating deed paksenarrion', 'book ballylickey house', 'play music beverley martyn', 'book gastropub balinese food twenty hour comunas nephew', 'give four star day owes night', 'want book restaurant glenarden south dakota two people', 'book feb twenty sixth tracyton two cafe', 'book table tea house hour northern mariana island', 'bethany beach forecast', 'add joelia savitsjeva key', 'play tune space mandino', 'snowy current position march', 'windy dong phou vieng national protected area', 'movie schedule southern theatre', 'plya tune kancherla gopanna zvooq', 'weather forecast wisconsin', 'play song see smile', 'find apple address book television show', 'add album metal overload playlist', 'add julian taylor latin dance cardio list', 'rate secret weapon four', 'rate strange death tory england star', 'play music spotify', 'hot fl', 'animated movie see amc theatre', 'want add album noreen endorphin rush playlist', 'show movie schedule mjr theatre', 'add little pattie track nu metal', 'rate autobiography alice toklas star', 'add greyest blue sky indie espa ol playlist', 'play dave joyal', 'add darkness march upon time playlist', 'looking liberalism limit justice', 'film playing closest movie house', 'play rap album one gene vincent', 'add contact nu metal playlist', 'give modern glamour art unexpected style three star', 'add artist hex hector old school death metal playlist', 'play top hit', 'book brasserie one', 'get windy ocean breeze park', 'book reservation trentino restaurant kansa', 'chilly druid hill american samoa', 'play henrie mutuku album', 'find novel holiday', 'weather current position dec', 'give star book knight newt', 'make reservation people gastropub isle man', 'add morten harket puccini', 'movie time harkins theatre', 'like see apartment hunting', 'film playing great escape theatre', 'find closest movie house play animated movie', 'novel deserves star writing', 'weather like killarney national park national pow mia recognition day', 'like rate book white dawn zero star', 'would give living dead dallas chronicle zero point', 'weather like may th rocky boy wi', 'southern shop forecast warm temp', 'play top martin solveig deezer', 'rate longest day zero star', 'want work called walk river', 'play album sauna zvooq', 'open pandora play top five melody hanna sjedokowa', 'give four point novel', 'rate current essay four star', 'forecast one second', 'add jerry dixon chill list', 'going snowfall today lebanon', 'weather jan north carolina', 'like weather forecast gang mill four year', 'weather allenwood', 'add rosemary clooney pura vida playlist', 'expected weather forecast beckley', 'revolution script rating value three best rating', 'like hear soundtrack life', 'old enough showing movie house', 'book table restaurant cayman island two hundred ninety six day', 'play grunge music', 'book table bettye washington jewish community center montana', 'book spot one bar seabrook', 'show cold weather forecast five hour minute hokendauqua mongolia', 'give neon bible three star', 'book restaurant month seven people new caledonia', 'add another tune trance life playlist', 'find whosoever shall offend showcase cinema', 'rate album one', 'book table five restaurant best rating', 'find video game tenacious pick destiny', 'play symphony music nardwuar human serviette netflix', 'find picture live paris', 'movie playing warren theatre', 'add come cone power walk playlist', 'rate current essay three star', 'add bulat schalwowitsch okudschawa retro pop', 'show movie time', 'want eat escondida south carolina restaurant people', 'please find novel called caledonian record', 'time closet cinema playing movie closest', 'rate novel five', 'give point thorn castle', 'play fifty tune mike mccready', 'rate book star', 'play music sixty', 'play music playlist get lit', 'play record', 'whats weather fernando new jersey', 'going colder botswana', 'would rate chronicle value best rating', 'want know weather ten week john melba anderson memorial conservation area', 'rate leap darkness point', 'going foggy two barberville', 'rate beyond black saga one', 'play music', 'want watch television show naked ii', 'movie playing douglas theatre company', 'temperature hanksville freezing', 'dec need reservation four arizona', 'feel son lover deserves rating', 'rainfall second roy lake state park', 'view photograph occasional wife', 'play hanging relaxing', 'please put track onto letha signed xoxo playlist', 'locate koi senkyo chocolate television show', 'play song linn berggren spotify', 'tell weather', 'wondering see hurry sundown', 'ce cher intrus imax corporation', 'whats forecast january dubach', 'find work titled little curious', 'give rogue ship', 'find trailer pesterminator western exterminator', 'rate book white teeth star', 'find nearby movie schedule movie', 'rate first man life neil armstrong three', 'weather temperate minute alba', 'get cold nationalpark mu ko phetra', 'play shining tsukiko amano pandora', 'film playing neighborhood one second', 'give star essay', 'play music fidel nadal sorted newest', 'snowstorm forecast el cenizo', 'book grandparent restaurant saint helen south dakota', 'play cry baby lane', 'look saga called death paradise', 'add tune hype playlist', 'put track playlist name roadrunner rec new release', 'see show kind glue', 'watch trailer national treasure complete single', 'add however much booze playlist called atmospheric black metal', 'would put hammer onto lunch playlist', 'make booking highly rated food court montenegro', 'look hail satanas black legion', 'april twenty seventh like make reservation spanish diner', 'supposed chillier favoretta', 'show live king center', 'book restaurant people', 'need photograph oregon desert', 'need work father dearest', 'forecast month apple grove dc', 'play magic time phoebus', 'give three point one hundred poem tukaram', 'add billy martin album legendary guitar solo playlist', 'forecasted weather ninaview', 'cloudy one minute jungo mh', 'rate wind', 'show movie schedule movie around', 'give point tale time city', 'play newest robert palmer sound track', 'find extreme ghostbusters game', 'want hear tune', 'snowstorm coming ukraine', 'book table four around midnight saint pierre miquelon', 'play top symphony fourties', 'add tune cleaning house', 'listen power gaming playlist', 'play music', 'play album qr iii bobby bare', 'green grass widow playing cinema', 'find movie schedule', 'add track sunshine reggae playlist', 'find wall could talk', 'play isaac yamma slut', 'weather forecast waipio acre', 'rate faint cold fear point', 'movie playing neighborhood', 'movie time movie close', 'find television show called tiny dancer', 'want another artist atmospheric black metal playlist', 'give point revolution world', 'book table vermicelli restaurant', 'would rate textbook point rating value', 'book mustard seed turk caicos island people', 'looking birth nation', 'close greenland forecast', 'add song emmy rossum hit rewind', 'tell weather forecast eight reminderville fl', 'playlist ok like jazz add tune', 'add always dena baroque spotify pick playlist', 'forecast lille norway', 'add song charlie hunter rumba', 'give grand conspiracy zero point', 'add famous playlist lo que suena new york', 'show show live fillmore east', 'book reservation step sister nebraska two second', 'movie time dickinson theatre', 'weather one minute tanzania', 'find half sixpence photograph', 'find saga called shame', 'play last jonny wickersham song', 'find cinema album', 'book highly rated restaurant central african republic people sep second', 'want give current novel zero point', 'add madman trap land playlist', 'playlist wild country add great day freedom', 'book reservation bar serf lobster roll', 'film see malco theatre', 'add bien acompa ado', 'warm kipp rhode island one hour second', 'rate current saga five', 'give three star current essay', 'find night birth', 'get cineplex odeon corporation showing small town story', 'find movie schedule neighborhood movie', 'repeat track music', 'create theme station jim creeggan record collabs', 'play album twenty', 'find naomi wynonna love build bridge', 'weather coaldale arkansas', 'chronicle emperor wear clothes naive simple give star', 'tell weather forecast seven year', 'add tune rage radio playlist', 'find schedule shoot elephant nearest movie theatre', 'rate essay point', 'chilly around kingsley common jan', 'weather like cameroon', 'want movie perseo miranda theatre', 'add track zez di camargo luciano', 'rate buick', 'book restaurant within area earl court lucille marina', 'book reservation six tyrolean oyster bar', 'give picture tombstone', 'play record', 'going stormy austin creek state recreation area', 'play twenty soundtrack youtube', 'rate current essay point', 'play rui da silva', 'forecast bad branch fall state nature preserve hour second', 'snowfall ky', 'hotter nine serbia', 'get cloudy cliffwood beach', 'storm maliau basin conservation area', 'give star song old primate point', 'mummy want go indian bar next winter within area cortelyou rd', 'reserve resturant seventeen clock', 'weather forecast maryland', 'add ashley mcisaac party classic playlist', 'rate blood moon saga three', 'add elkie brook happy birthday playlist', 'need bar four serf argentinian iberville wy twelve pm', 'please put david van tieghem onto throwback party playlist', 'weather galena park oklahoma', 'half life chronicle deserves point', 'find song called international journal bilingualism', 'find video game called batman return bruce wayne', 'find movie schedule', 'would give half life', 'time careful might hear playing cinema', 'last essay', 'put pedro navaja onto flamenco pa ti playlist', 'show creativity game everything', 'like table ten pm cafeteria al serf malaysian food', 'time animated movie starting nearest movie house', 'play portsmouth paul smith google music', 'want hear sia furler popular song last fm', 'movie time general cinema corporation', 'find soundtrack african development perspective yearbook', 'looking saga men leave home', 'give physic impossible four point', 'postman awful get', 'like current place', 'mystical adventure billy owen playing closest movie house', 'play lady tramp timour moutsouraev', 'time tasher desh playing nearest movie house', 'pull channel news', 'give current novel star', 'rate current essay star', 'want add song clark nerding around playlist', 'giving dead soul five rating', 'play pandora', 'give hover car racer chronicle two star', 'find tv show called soultaker', 'rate current album point', 'find confusion bay', 'movie playing nearest movie house', 'rate current saga point best rating', 'give song scarabaeus five star', 'put consequence playlist', 'book dunbrody country house hotel ne people', 'current album deserves one rating', 'book reservation pub internet people', 'check movie timing cracked nut southern theatre', 'find book bad day block', 'want book restaurant near wyoming people', 'rate text book new finnish grammar four', 'make reservation party six club feb th', 'play used love animal collective playlist', 'use slacker listen seventy music', 'little irish girl playing', 'find tv show called randy scouse git', 'add kevin ridel instrumental madness', 'play post garage wave revival playlist', 'rate contesting future nuclear power four', 'like see current showtime kind woman', 'add track nature noise playlist', 'find goodbye saga', 'play king wild frontier andrea bocelli', 'mark current textbook total', 'play sixty music', 'forecast next may zambia', 'play fifty music ahmed abdul malik', 'add el pavo dustin viajes', 'need schedule cinema showing shiralee', 'please put maimi yajima song onto operaci bikini', 'play masaki aiba tune', 'giving book titled master solitude rating two', 'book reservation popular bakery patetown', 'find book title rainwater lp', 'play lighter pamela jintana racine', 'play deezer oldie music', 'book reservation wife middle east guernsey', 'book bullfeathers', 'rate current chronicle star', 'add tune playlist picnic park', 'give point secret love', 'play playlist spring', 'rate peter sword mercy star', 'add album', 'weather montevallo july ninth', 'play techno music', 'add show beast mode playlist', 'play melody music fourties', 'play sound track', 'book bar san marino five', 'need table brasserie belgium', 'show creative photograph named none', 'play soldier boy melody gardot', 'weather cloudy seven week hinckley', 'add artist ruby digging list', 'book table ten people eucalyptus hill', 'watch television show tinker bell legend neverbeast', 'locate novel ismol family', 'put little grey mother wait alone uncharted nathan drake', 'show picture totally true love', 'rate album point', 'make reservation person il', 'add tune morning rhythm playlist', 'show creative song called holiday river yarra', 'get table hand flower sixteen hour', 'rate nightmare fair five star', 'play song fourties yoshiki fukuyama', 'play music cherry', 'rate gota war one', 'find photograph called dragon ball best selection', 'play tune bronislau kaper', 'give benson meditation star', 'nearest movie house showing last love affair', 'give weather forecast tajikistan', 'give book rating four', 'need table nine restaurant pelican bay serving chip december', 'stick together thick thin playing arclight hollywood', 'need table position churrascaria hot dog area', 'need saga called black lamp', 'find pet cairo zoo', 'show minute midnight photograph', 'play adieu al arsenault', 'rate textbook four point', 'find american journal sport medicine picture', 'book table pool bar', 'find stand proud book', 'find partner action dickinson theatre', 'play abhijeet bhattacharya', 'show movie schedule', 'find war peace vol', 'rate egg collecting bird life australia saga one', 'book table right restaurant meadow vale', 'play tune jiles perry richardson lastfm theme music', 'current essay worthy score', 'rate textbook', 'forecast guatemala', 'get education little tree song', 'add tune rafet el roman latin pop rising playlist', 'book cafeteria turkmenistan', 'weather totowa guernsey', 'book restaurant', 'book restaurant four trinidad tobago', 'cinema go see lilly witch dragon magic book', 'book table fleetwood nearby deli', 'rate current book one point', 'movie playing north american cinema', 'play ricky wilson album spectral dusk', 'play soundtrack', 'find game called gladiator australian series', 'weather edesville mn', 'find cinemark theatre film', 'man cross playing', 'play something mile davis symphony', 'need table restaurant texas kelley suzette', 'party would like eat outdoor tavern', 'please play satire music', 'weather four pm honduras', 'weather forecast saint vincent grenadine', 'movie schedule amco entertainment', 'tell hot melbourne nj', 'book bar serf chicken french robinson', 'find five point called origin virtue', 'find meal time movie time close movie', 'find movie shake spirit', 'add another song status quo playlist', 'want view picture old monterey', 'want hear album suite sweet', 'add hallucination despair trey songz playlist', 'book brasserie cuney seven people', 'book table three restaurant louisiana', 'add love story wa totsuzen ni martin garrix show playlist', 'need book pub cammack village wyoming party seven', 'star behind beat number four chronicle', 'sunny eyota hawaii february seventh', 'rate current essay star', 'weather like within walking distance nationalpark drawa', 'show movie schedule star theatre', 'like new england added classical moment movie', 'please look lamentable journey omaha bigelow impenetrable loisaida jungle television show', 'book reservation restaurant ex husband west virginia', 'find skin', 'want watch television show symphony solo piano', 'want go pub angelita susan reed ashlee watson parking', 'please put artist indie mim playlist', 'book bar sc leonville', 'add artist kamil rustam relaxing playlist', 'book table belhaven party seven great house sonning', 'tell film currently playing amc theater', 'book restaurant close four people enid', 'theater playing death drum along river pm', 'help find game', 'find bar eagle pa vermont serf noodle dish take reservation', 'rate current textbook point', 'add status quo teddy riley', 'play scott la rock stella slacker', 'know chilly today puerto rico', 'add song mark schultz ultimate indie playlist', 'want make reservation conflict kitchen one', 'give homo handbook saga star', 'add entity eternally playlist lazy chill afternoon', 'forecast walker bay nature reserve next year', 'storm aspinwall', 'start nostalgic playlist', 'need book table bridge round house south dakota emily gena', 'need table restaurant serving foie gras halloween two northern mariana island', 'rate door perception star', 'lot wind west fargo gu', 'need book restaurant eight nearby limerick one year serf jerky', 'please play good music oldham', 'find novel called blackpool light', 'rate saga two point', 'add jeanette extreme metal workout', 'book six hour minute', 'add al het om de liefde gaat handel playlist', 'show innocent dream saga', 'show game english freakbeat', 'tal chhapar sanctuary forecast cold weather', 'play take place work space eddie kendricks', 'add bum note bead sweat stress relief playlist', 'like book place michigan party name restaurant carter house inn', 'book spot two churrascaria sell cupcake lumpkin indiana', 'add block brochure welcome soil onto caf con leche list', 'need reservation cashel palace hotel california party', 'week going depression washington', 'need table highly rated south tyrolean joint', 'open spotify play song twenty richard harvey', 'show schedule movie pacific theatre', 'add track love hurt playlist', 'show nightcall', 'book spot crown burger close west compton', 'please get rough ready saga', 'weather going jul whiteside', 'add gary valenciano power gaming playlist', 'find good night good luck cinemark theatre', 'add song sleepytime', 'play saturday night sunday morning', 'weather hi hail twenty one minute', 'find resurrection evil', 'give forecast feb eleventh far alaska', 'tell bellwood weather', 'time toll sea playing', 'add tune house afterwork playlist', 'add another song cita rom ntica playlist', 'book spot restaurant evening', 'humid otsego union', 'book restaurant one', 'like see gathering storm tv series', 'want table five place russia', 'add tune jim white playlist rumba', 'add michael hayvoronsky lo que suena los angeles', 'play dj kentaro year', 'play top five jonny buckland symphony around', 'weather going like mi august twenty eighth', 'closest cinema showing animated movie', 'please tell movie time', 'want take mom tea house', 'rate scoop star', 'total possible think current book five', 'tell hotter', 'add album list la mejor sica dance', 'like watch high place', 'play melody avery storm', 'rate cry owl four', 'weather forecast sequoyah national wildlife refuge', 'search tv show live apollo', 'find tv show called frontier ecology environment', 'incorporate nao kawakita epic classical playlist', 'movie malco theatre', 'film play santikos theatre', 'add de principii evangelikum domingo indie palylist', 'need reservation hotel arctic state road', 'add playlist called wake everybody', 'show creativity official history australia war', 'play tuomas holopainen project', 'niece want visit food court callicoon tennessee', 'forecast', 'help search ufc fox show', 'star give chronicle three look forward next', 'find schedule blood orgy leather girl movie house', 'want hear something ninety alissa musto groove shark', 'show movie schedule cooper foundation', 'book cafe one coco island', 'add ross bos laurie listas de xitos list', 'snow haigler bosnia herzegovina', 'read book journal bombay natural history society', 'add paul wright album smash hit playlist', 'want read book lion sleep tonight', 'rate star war old republic revan point', 'need table fast food restaurant kid brusly landing', 'sunny south superior', 'weather minute mount nimba strict nature reserve', 'get table triple door district columbia deborah vasquez', 'find movie schedule', 'storm christmas day current place', 'reserve table top rated restaurant dinner twelve hour', 'put another artist opera spotify pick playlist', 'rate current saga one point', 'cloudy vermont pm', 'want book cafeteria meze', 'find phalcon', 'find old school junky album video game', 'play tune layne staley', 'book best steakhouse montserrat day half', 'rate book rusty string quartet', 'show weather forecast nearby elk city state park', 'want hear popular music martin lopez', 'give textbook', 'weather meherrin', 'add artist playlist named funtime', 'want hear twenty music billy sheehan', 'current book deserves point', 'put album totally alternative', 'want hear new latin pop rising list', 'book restaurant reservation madagascar', 'buy lying game', 'want eat ice cream brasserie mother law', 'give textbook zero star', 'get movie schedule bow tie cinema', 'weather forecast', 'add venedig im regen maxwell', 'play twenty symphony robert walter', 'find closest film movie house', 'please get british journal dermatology game', 'going hot chrisman', 'book taverna restaurant', 'weather mountain center', 'find twinkler playing national amusement minute', 'book week step sister workplace close', 'search television show window live tv', 'movie schedule movie neighborhood', 'view picture workin mile davis quintet', 'movie scheduled nearest movie theatre', 'need table people restaurant district columbia', 'add artist fifa soundtrack', 'play nastya kamenskih zvooq', 'add matt bachand tune pure rock roll', 'freezing tira', 'book spot colony', 'add track novedades viernes sudam rica', 'play twenty tune deezer', 'closest cinema playing osmanthus alley', 'weather temperate millinocket', 'add lunacy chill playlist', 'would like book donut serving delicatessen cuba april eleventh', 'show movie time film close', 'need seat five place five half month', 'local movie time', 'wish hear playlist estado de nimo last fm', 'rate book rod seven part point', 'add pat kirtley covered punk playlist', 'please book table four restaurant tn', 'time sontha ooru playing', 'play another time', 'play music lenny leblanc pandora', 'add album playlist called dishwashing', 'book food truck nisswa pm', 'rate bell curve three', 'give forecast bradner ia', 'going snowy', 'like see book city university hong kong law review', 'book reservation seven people fraser mansion il', 'book table churrascaria august parking', 'play movement dj spinna', 'want table monty hotel secunderabad state vermont', 'show tv show nice day', 'want watch trailer worm armageddon', 'locate cafeteria two serf deviled crab', 'play industrial music lastfm', 'show kindness woman picture', 'evil experiment get zero point', 'add beatmaster nicky jam playlist', 'give one star free market fairness', 'forecast castolon french southern territory around seven pm', 'play maggot brain albano carrisi', 'book gluten free restaurant arp', 'add zombieland noct mbulo playlist', 'like weather forecast albania', 'point four upbuilding discourse', 'add track global funk', 'want novena nocturn added playlist called gold edition', 'rate current album star', 'book north indian osteria', 'weather pendleton center', 'warmer amnicon fall state park', 'think textbook rating four best rating', 'book table iris ina heidi around pm', 'forecast de', 'feel like east cove national wildlife refuge', 'find martin morning saga', 'want add kool keith chill dinner playlist', 'book table two restaurant faraway office california', 'find carry dream', 'search painting hess biography', 'play music', 'need seat char georgia', 'book gibassier serving tavern vermont nine', 'want know blizzard weather condition lake catherine', 'play soundtrack armand van helden', 'watchman vadivel playing', 'put track classic country playlist', 'find movie schedule', 'add year concentraci', 'add tune patrica playlist rhythm', 'need reservation clinton street baking company restaurant', 'book top rated pub', 'play play lodge alkabli lastfm', 'star textbook', 'find animated movie landmark theatre', 'add track dance workout playlist', 'add album guitar hero live playlist', 'please find infrared riding hood tv show', 'get movie schedule loews cineplex six hour seventeen minute eighteen second', 'play chant music', 'rate textbook star', 'closest movie house playing mark', 'like hear cry baby cry ally kerr', 'use itunes play dancing playlist', 'put agent tune onto de cantautor espa ol', 'would rate chronicle star', 'play woman jazz', 'nearest cinema showing movie start nineteen second', 'find show carnik con', 'add track big sha miranda lambert playlist', 'please assign two point white nigger america chronicle', 'time king new york play malco theatre', 'search tera exiled realm arborea', 'put person carnegie hall winter playlist', 'book osteria serf blini people', 'add sirusho cl sicos playlist', 'need table thomas hynes house nineteen minute', 'find racing beam atari video computer system', 'play ik hou van jou elena temnikova', 'show weather forcast february th current spot neighboring', 'book spot gay ramos janice gonzales bar timbo', 'tell weather forecast three clock de', 'time animated movie playing area', 'give one point current series', 'hard time romance showing cinema', 'book great house sonning distant gun hill rd', 'hear jeremy taggart newest chant deezer', 'play frankie laine', 'want see local movie time', 'please tell movie time', 'white bim black ear', 'open music last fm', 'add pledge allegiance grind sinfon hipster playlist', 'look tv series around performance horse weekly', 'add album playlist', 'want watch show railroad model craftsman', 'closest movie theatre showing pursuit honor', 'rate book four point', 'show creativity diamond rough', 'weather forecast six week la', 'show weather forecast lewis center', 'play music daniel carter', 'forecast vi', 'artist painting called spyro season flame', 'book spot one fish restaurant', 'find novel called testing anywhere', 'locate best pub apache junction', 'showtime medal general', 'find photograph ace ventura cd rom game', 'play top sankha chatterjee', 'find novel wwe legend wrestlemania', 'add current album pop gaming playlist', 'current movie schedule amc theatre', 'weather okay northern luzon hero hill national park half month', 'chilly pixley', 'find crucible man something wicked part', 'play top song manos hadjidakis', 'rate album point', 'find movie time', 'play music paul lander', 'add ray noble chill vibe playlist', 'go movie time imax corporation', 'snowfall hineston new hampshire', 'play song drifting reed bobby', 'use vimeo play mark king record', 'find many love dobie gillis', 'find soundtrack fast food nation', 'cameia national park forecast one minute second', 'please book table next week top rated restaurant', 'rate essay two point', 'book restaurant reservation hong kong', 'black white dawn justice playing movie theatre', 'weather forecast one minute macao', 'find television show called tactic', 'play classic rock groove shark', 'add rob campanella tune psychedelic rock', 'give weather forecast zimbabwe', 'see image maker', 'play barry manilow twenty', 'nearest movie house showing animated movie', 'movie playing neighborhood', 'like movie schedule close movie', 'find tale two city painting', 'want eat rosebud federated state micronesia', 'find book restaurant serf dumpling', 'book hawaiian diner south carolina far away second', 'stormy far id', 'like eat pho restaurant vt', 'put limey onto astor piazzolla list', 'weather going like near sawtooth national recreation area pm', 'give following essay one star', 'book table hungarian delicatessen north dakota', 'book restaurant mcmurray august seventeenth marjorie vasquez edith martina', 'time bride journey playing star theatre', 'overcast minute within walking distance oh', 'find game called life love tschaikovsky', 'snow current location', 'find soundtrack called woman warrior', 'like watch trailer dungeon dragon chronicle mystara', 'storm new mexico fort sumner', 'please book seating one person indoor restaurant serf breakfast nicholasville tennessee', 'want eat diner allentown pennsylvania purim', 'find saga called life riley', 'book reservation highly rated tavern hornersville', 'colder autumn wren saint martin', 'please look power love movie', 'list movie neighbourhood', 'want hear fourties ballad luciano', 'weather current spot day tomorrow', 'find join dot side rarity', 'add tune playlist woman pop', 'rate textbook', 'check weather forecast biscay', 'play melodious playlist', 'show schedule film cobb theatre', 'add artist named kirk hammett playlist los radio xitos', 'book table somewhere andorra', 'play sammy fain ep', 'find father king game', 'weather forecast central north dakota', 'think memorial day rating value best rating', 'folk fairy tale get point', 'add track dinner playlist', 'please find youth fascism television show', 'let know trooper three scheduled', 'play everybody win trailer', 'forecast pipe spring national monument', 'play clifford brown star michael balzary', 'want see tv show cause effect', 'book brasserie internet fascility year oklahoma', 'add hey johnnie cope ye waking yet year metal playlist', 'seven hour rain current place', 'rate call saint point', 'rate current essay four', 'would like rate book three impostor star', 'rate peddling prosperity zero star', 'play fourties music spotify', 'put sleeping ghost indie playlist', 'add blood gut glory chopin', 'give point current book', 'play latest ep lobby loyde netflix', 'play best fourties david izquierdo album', 'prophecy playing malco theatre', 'book bar chicken fried bacon vermont', 'add album cham cloud rap playlist', 'give zero point essay', 'book table three bar wifi schuyler lake', 'play garden allah wade mainer', 'tell warmer current position', 'weather like serbia', 'open itunes play bad attitude', 'book brasserie team four', 'want get movie schedule', 'need highly rated oyster bar ar month jeanne collins amy', 'find sarah teen princess game', 'find big sean discography soundtrack', 'find tv series truly fine citizen', 'find cartel vol novel', 'add artist texas red dirt playlist', 'want hear jimmy james thirty play song groove shark', 'add song playlist impulso creativo', 'million air playing cinema', 'book restaurant year pagosa junction romanian stle cusine party two', 'add hound dog taylor miami guest list playlist', 'would rate oblivion story two', 'rate slap five', 'want book restaurant far municipal borough mitcham people', 'play song bennie moten', 'get hotter zenith ct', 'play popular chant brian epstein', 'rate republic thief chronicle three point', 'find movie must first learn draw real', 'book cafe burger gasport', 'book spot bakery crab cake far new jersey', 'add name rd world playlist rock', 'add track girl night playlist', 'find album smoke mirror', 'book geoff ryman bibliography rating three point', 'sea fear shown closest movie theatre', 'add unconscious state smash hit', 'show creativity dead may never die', 'live forever rise fall brit pop playing closest cinema minute', 'nearest movie house playing george washington slept', 'add deuce listas de xitos playlist', 'restaurant scandinavian grenada', 'time sher playing', 'weather forcast current location', 'use lastfm play attack planet smasher', 'add fair charlotte everywhere playlist', 'find picture called battlefield network', 'movie schedule movie neighborhood', 'play top song carson park groove shark', 'rate chronicle called art loving point', 'find earth moving', 'play instrumental music service lastfm', 'give point current essay', 'rate principle hope star', 'play angelo amorevoli', 'want hear shooby taylor tearing album chart', 'forecast bearmouth virgin island month', 'movie showing nearest movie theatre minute', 'find wild boy', 'find time thirty nine step', 'wish fin television show called whole', 'rate current textbook', 'give current book two', 'book restaurant tennessee', 'find movie time north american cinema', 'time company men showing', 'looking paris match', 'hotter oct th massachusetts', 'find reservation people', 'add magnifico michele playlist called key', 'beach lost child playing', 'look summer monika', 'book get total star', 'third person singular number playing', 'give star current textbook', 'time amc theater playing unnikrishnante adyathe christmas', 'play popular eighty record', 'pm weather iceland', 'find movie time', 'play lenny kaye music', 'book restaurant serf festoni eight new hampshire', 'forecast temperate condition thailand lopeno', 'weather one hour', 'give chronicle star', 'like eat restaurant nearby pelahatchie clock', 'show film currently playing nearest movie theatre', 'animated movie showing close', 'find tv show step away', 'current book get four star rating', 'search song banquet damned', 'give album', 'play song hank thompson moa anbessa', 'star rating fire azeroth', 'add willie nelson live acoustic blue playlsit', 'like watch tv show hola mary lou prom night ii', 'want hear vegetable pharrell williams', 'add album playlist guest list engadget', 'temperate next wed athol federated state micronesia', 'rate novel one star', 'find modern world video game', 'book halal guy oct', 'find movie everywhere home', 'add john tesh salsa classic playlist', 'show fog condition nh', 'put track soul bpm playlist', 'locate game legion mary jerry garcia collection', 'find photograph called midnight mystery', 'add artist matt noveskey journey', 'rate parable sower', 'add new metal track tune', 'want eat bakery deidre rosa jersey', 'want added rhythm blue playlist', 'find saison de met mother show', 'book james conrey house madeleine keisha clara alvarez far colleague college', 'want hear eighty music noko deezer', 'find schedule film neighborhood', 'weather looking like right croatia', 'watch sword ali baba two', 'add monster monster throwback thursday playlist', 'book reservation oyster bar serf crab cake two people', 'find movie schedule amc theater', 'looking song called standing something', 'play song remains pandora', 'play shoo iheart greatest record', 'hotter md apr th', 'find movie schedule pacific theatre', 'give man called ove', 'book highly rated restaurant one person rainbow lake', 'rate album book zero point', 'add kloden drejer listas de xitos playlist', 'play greatest track', 'movie schedule movie neighbourhood', 'add album rock en espa ol', 'rate textbook four star', 'play music spotify', 'play dj subroc itunes', 'show tv show wish', 'please give movie schedule', 'let get movie schedule lunch time', 'put song funk playlist please', 'yangtze playing goodrich quality theater', 'book brasserie parking', 'find movie schedule film area', 'want give album star', 'let hear music', 'show edge love photograph', 'find movie schedule', 'want hear top tim madison', 'find thunder east', 'need seating floating restaurant tennessee group', 'book near montana restaurant serving sri lankan food highly rated tues', 'movie time animated movie area', 'play music list indie electronics', 'want hear good song', 'give book', 'weather forecast next saturday granite wi', 'rate series quantity theory insanity', 'find boyish story', 'find closest cinema playing st francisville experiment', 'book restaurant fort gate fl', 'book table one clock bar parking', 'give current showtime tara boulba', 'time film showing kb theatre', 'following essay two', 'play best song', 'show minute midnight photograph', 'find tv series treeful starling', 'weather going like ten', 'put lullaby birdland onto fusion fest', 'add happy holiday playlist called ok like jazz', 'play shinya yamada music groove shark', 'weather one minute ocilla', 'want give book zero', 'forecast iceland danville rain nine month', 'passion anna playing four second cinema', 'like eat iran party sep th', 'four people needing restaurant reservation', 'play music blowfly seventy', 'need book restaurant pa city old orchard beach', 'play ninety', 'cinema closest showing movie', 'book table crown candy kitchen lacy', 'humid charenton', 'rate essay two point', 'fimd glory', 'book restaurant serf agnolotti colorado city idaho', 'show dresden weather forecast', 'show matrix revolution', 'like go cuban restaurant horatio get table', 'like table san francisco brewing company puerto rico noon', 'looking work titled converging conspiracy', 'find game blogbridge', 'like watch film anywhere nearby', 'play annie herring beat street itunes', 'depression weather current spot', 'rainy neffs', 'christie concepcion want eat trattoria brasserie johnston', 'put tire onto new music friday latin playlist', 'weather stone mountain kentucky', 'freezing forecast minto nicaragua', 'play music filipp bedrossowitsch kirkorow theme', 'love marilyn playing', 'thirteen hundred hour weather ghana', 'execution justice deserves point', 'add psycho canciones que lo van petar', 'nearest movie theatre showing movie', 'rate cotton come harlem', 'find nearest movie house pirate th century', 'play gary chapman music fifty', 'find chained heat', 'find reservation far work location eight hour people union auto company', 'book two jordan close', 'play song aura ii sacred ring', 'blizzard stonewood', 'please help find selection arista year video game', 'show schedule loved thousand', 'rate philosophic thought ayn rand three star', 'colder oaklawn zambia', 'nearest cinema playing patiala house', 'add essential jackson perfect concentration', 'would like book restaurant lebanon', 'please book restaurant village green ca', 'book restaurant seven fort mckinley', 'want book distant downtown tribeca grill august twenty third wilda jacklyn', 'weather current place nov th', 'need table restaurant serving carne pizzaiola tamra davis viola dorothea', 'book table top pot doughnut greensburg american samoa', 'give following album two star', 'show swan princess', 'add future al green', 'show weather forecast dovre nationalpark', 'forecast next year mcgee', 'need movie time movie playing area', 'find royal astronomy', 'find spectre television show', 'play madrugando playlist groove shark', 'play top best chicane song deezer', 'animated movie playing fox theatre', 'season witch occult saved rock roll get five point', 'rating point castle steel', 'show nearest movie house expendables starting minute', 'rain today circleville', 'weather cormorant', 'weather going like evening arkansas', 'going depression two hundred sixteen day half mill bluff state park', 'find half cut tea', 'show work little girl anymore', 'add one upon time playlist', 'weather stanford six', 'see travelling light', 'give point book eleventh hour', 'animated movie closest movie house near brunch', 'reserve table two restaurant pm', 'add animal story maryanne per yngve ohlin', 'give series three point', 'freud life time deserves solid', 'need table ledbury clock', 'play newest melody cisco adler pandora', 'find movie schedule animated movie area', 'forecast show storm maquoketa nh around july sixth', 'youth without youth shown nearest movie house', 'give two star current textbook', 'give book star', 'find video game called ibm program temporary fix', 'list movie schedule animated movie playing neighbourhood', 'play top song damon albarn using slacker', 'add another song key playlist', 'overcast forecast torrey pine state beach', 'book reservation fashion cafe diwali', 'find movie schedule animated movie around', 'give showtime film neighbourhood', 'find brunch time cinema nearest president coming', 'weather new zealand', 'help find television show woman death', 'cloud delaware', 'help locate game coast', 'add track list made puerto rico', 'make reservation far away spotted pig sd', 'play new movement mike oldfield vimeo', 'find show titled charming attractive', 'blizzard coming north bonneville oh around clock', 'add tune playist piano bar', 'book table dunbrody country house hotel serbia', 'play pandora track akhtar sadmani', 'liked port call give', 'add arthur russell woman disco playlist', 'play top song paddy reilly zvooq', 'want hear sound track mary macgregor new song iheart', 'want add nick mason tune sylvia plath playlist', 'want see dungeon dragon chronicle mystara', 'add song southern gothic playlist', 'rate subcontract', 'rainfall one pm catahoula', 'play song wise', 'book popular food truck kentucky', 'weather forecast lakebay', 'add artist trance life group', 'pull movie schedule', 'movie schedule', 'find movie time', 'need table somewhere mclaurin connecticut', 'play say word la india', 'weather going fourteen clock falkland island', 'time bloody twilight playing', 'find movie theatre life death', 'play khujo eighty track song', 'add artist snuffy walden billboard latin music award finalist playlist', 'add glory highest christmas record playlist cleaning', 'add camille lady antebellum playlist', 'rate book chronicle obama nation', 'honor outlaw showing', 'tell hail kyrgyzstan', 'movie time', 'add tune cassie ventura genre bender playlist', 'play song youtube', 'reserve bermuda food court near jan', 'add tune new wave', 'play greatest win stracke groove shark', 'rate dog saw two', 'weather double oak', 'rate book point', 'put love acoustic soul playlist', 'nearest cinema showing death stalinism bohemia second', 'list movie schedule', 'play music artist irma pane', 'weather lowden ok', 'like play album clarke', 'closest movie house showing animated movie', 'add track bt independent music monday playlist', 'find movie neighbourhood movie time', 'want new step go leche con chocolate list', 'forecast stormy afternoon maryland', 'animated movie showing neighborhood', 'let see tv series even year itch', 'watch television show make hate music', 'show movie schedule animated movie neighbourhood', 'weather looking like right wy', 'find appalachian journey', 'play instrumental study vimeo', 'give warheart star', 'add song takahito eguchi guest list polygon playlist', 'supposed windy june th', 'please shoe movie schedule today', 'put kim kibum martin garrix show playlist', 'want put song new boot playlist', 'forecast texas', 'please pull movie schedule', 'find amanda palmer go', 'rate current novel', 'give star current chronicle', 'add parempi mies caf con leche playlist', 'dawn emperor thyatis alphatia deserves rating value', 'add ronski speed sweet soul chillout', 'find copy bury living', 'add track nike running tempo mix', 'play top ten chant doda song twenty', 'list movie schedule', 'going get windy today tunisia', 'add nozomi tsuji tune hot house playlist', 'wind', 'rate book indiana jones dance giant star', 'find movie schedule', 'cheapest price saga called wikipedia cd selection', 'play sound track vegard sverre tveitan', 'add album playlist name blue', 'give movie schedule neighborhood cinema group', 'play fey album diamond head zvooq', 'rate current novel', 'trying find final solution video game', 'weather like lambertville india ten pm', 'give one star shiva option', 'give list film amc theatre', 'book spot krista yolanda new mexico', 'animated movie playing closest cinema', 'book reservation highly rated bar', 'rate novel three', 'book seating popular joint sep th', 'find schooltool picture', 'forecast tschetter colony ascension day oregon', 'find movie schedule', 'add dj clay canciones del recuerdo', 'nearest movie theatre playing king maker', 'tell chillier minute', 'find close movie', 'add lagaylia frazier emotron', 'play deezer tune', 'weather current location', 'book best eastern european restaurant people two clock cohocton wy', 'show ncaa college football', 'weather notasulga eleven', 'add der und kalypso au wien vonda playlist pura vida', 'book virgin island', 'get harry potter philosopher stone', 'book churrascaria restaurant serf mezes', 'stick fonseca song sing car playlist', 'weather two month arletta malawi', 'rate book cry die one star', 'find reservation restaurant pizza', 'rate saga two bet rating', 'voyage dawn treader deserves point', 'play good classified song vimeo', 'find album weed tree', 'point next textbook', 'weather like city frewen country venezuela', 'add another album pavarotti playlist', 'rate current saga zero star', 'book lobster newberg week malaysia restaurant four', 'want indoor restaurant party five columbus junction', 'give current textbook star', 'play track steve souza', 'play putrefactive infestation trailer', 'storm six week albania', 'get chilly minute carterville', 'current essay deserves three rating', 'want hear secret parade tommy walter', 'book spot six restaurant serf fish chip', 'play wendy james fifty', 'freezing second patmos', 'find schedule close movie', 'film showing kerasotes theatre', 'want book restaurant wallsburg missouri michele diann pam', 'find art called cassidy', 'play top five linda strawberry ep', 'would like cafeteria seven', 'find movie time', 'want hear acid punk music', 'play rock track', 'play deezer form tune dave grohl', 'rate renewable electricity grid one star', 'add steve jones chill list', 'rate album', 'add album forever country playlist', 'find think act', 'give following saga', 'start eim hour twenty one minute one second morgan suitable case treatment santikos theatre', 'add nothing like dame playlist guest list take', 'star total journey midnight sun get four', 'pull name brain brian', 'add album six string peacefulness playlist', 'like see completely well', 'movie time animated movie playing close', 'give previous album zero', 'add tune blue', 'rate fast food nation point', 'rate book point', 'want give current novel star', 'want go outdoor cafe pioneer day', 'listen song lost world planet earth', 'time message playing loews cineplex', 'nice area', 'tell chillier engadine', 'add decade sun best stereophonics laundry', 'rate next essay five', 'rate textbook point', 'book restaurant', 'rate element great managing', 'find andreas hofer eleven', 'book bar highly rated georgia burkina', 'want see love speed thrill nearest cinema', 'need table party co operative block building old glory', 'would like rate tar midwest childhood value best rating', 'play dream music', 'blood stain playing movie house', 'play dave wyndorf album', 'film century theatre twelve hour', 'play greatest nicholaus arson concerto around', 'show creative work miami vice theme', 'chance hail holiday hill', 'give rating book sister', 'play michael angelo batio', 'chilly hour cold creek conservation area', 'month sun scorching la', 'get table sonya rebekah restaurant latvia', 'play last chant fourties', 'need table midday montana', 'listen music', 'need table one hour somewhere far la', 'find movie national law review', 'book table april twenty second pub serf creole', 'weather going like fort point san francisco tomorrow', 'movie schedule today', 'rate novel five point', 'play acapella music iheart', 'rate essay four', 'rate adventure stationery saga star', 'evolution theory game get five', 'weather like', 'rate bishop', 'give movie schedule showcase cinema', 'book bolivia brasserie tourte food', 'show family torn apart tv show', 'add little house built onto mucho rap', 'want watch uproar studio nearest cinema', 'play caitlin cary fourties', 'rate rise west star', 'find movie schedule arclight hollywood', 'rate black coffee chronicle three star', 'play psychedelic rock', 'whats closest movie house showing home room', 'rate pig scroll one point', 'weather forecast crystal lake park', 'get movie schedule southern theatre around', 'need book table downtown within walking distance melon', 'play trailer gainesville daily register', 'play greatest vimeo tune angelo amorevoli soundtrack', 'play music lastfm', 'rate current novel', 'rate pastwatch redemption christopher columbus chronicle zero point', 'forecast lake ilo national wildlife refuge', 'rate cold light point', 'want film nearest movie theatre', 'put inyecci musical track nanette playlist', 'weather supposed like sunset cosby kansa', 'book table six around yolanda apartment', 'transcending fear malco theatre', 'find movie schedule animated movie neighbourhood', 'find time enkitta mothathe pacific theatre', 'showtime beware blob plitt theatre', 'please fine east trailer', 'want book restaurant pool five conehatta', 'city angel playing', 'weather forecast hour cape verde', 'rating four go memory death', 'give book men city star', 'put album conexiones list', 'play ashley tisdale discography tv show', 'book table party next year id', 'add kirk hammett calm', 'incite mill playing', 'use lastfm listen twilight time dj khalil', 'play jill scott sound track deezer', 'like see new jackal', 'twentynine palm playing plitt theatre', 'movie time marcus corporation', 'add th inning bossa nova dinner playlist', 'search painting elder scroll arena', 'find broken', 'show creativity doomsday comfort', 'rate current novel point', 'wash playing cinema one minute', 'rating skystone three point', 'warmer condition haiti south otselic', 'rate current novel two point', 'want book restaurant eight harding', 'give spirit house', 'give mistborn well ascension four', 'want book restaurant distant id spa lidia latasha diann', 'add adele onto funtime activity playlist', 'put artist serenata onto massive soca hit list', 'show movie united paramount theatre', 'give ember war saga rating point', 'find dipson theatre swiss army man', 'tell storm current location', 'add track digster future hit', 'need booking party five restaurant french polynesia', 'play paul ortiz music', 'fog fairwood', 'current novel series get zero point', 'add first issue favorite slaughterhouse playlist', 'get table bar spa', 'play james moody ballad', 'give four star novel', 'play necromancer', 'rate textbook five point', 'add norma jean tune soul revived playlist', 'find table joint ok far', 'add la jaula de oro evening commute playlist', 'check movie schedule wanda group', 'book best tavern nine', 'add dave carpenter acoustic blue playlist', 'want book clarke cooke house uzbekistan', 'add paul wickens lo mejor del rock de espa', 'show movie time animated movie theater close', 'find last angry moose', 'play top frank farian', 'play song youtube', 'holly brittany need reservation sardinian tea house close co', 'find closest movie theatre animated movie', 'time mourner playing movie house', 'weather singapore', 'neighbourhood find movie movie time', 'giving book series four point', 'rate lost empire faer five star', 'need book table fast food spot serf slinger pr', 'find album called terrace', 'book indian food highly rated pub pm', 'weather forecast anniston', 'hotter today holtwood', 'blizzard chapel point state park area', 'add country favorite willie nelson style playlist titled spinnin record top', 'play theme song fourties', 'find television show called twisted', 'find game called special christmas', 'weather nineteen second little manatee river state park', 'play yusef lateef song fifty', 'looking river disturbance', 'add album playlist canciones que lo van petar', 'movie playing alamo drafthouse cinema', 'please add playlist hype name introducing rahman', 'tell humidity index elizabethville indiana', 'rate album one value', 'rate current essay', 'time american gun playing', 'want listen album going back blue ridge mountain iheart', 'play music', 'play popular grace slick song symphony sound', 'weather condition temperate pleasant togo', 'search informix wingz', 'book best halal restaurant slovakia brigitte taylor katelyn natalie jun', 'book cityzen six people', 'like reservation two pizzeria week', 'get showtime film neighborhood', 'weather going child health day trinidad tobago', 'forecast laguna height barbados', 'book highly rated fast food restaurant falmouth', 'play music', 'book reservation brazen head hecker', 'play symphony bob hardy please', 'add track epic wall sound playlist', 'book nearby northeast indian restaurant north carolina ten people six', 'restaurant zambia close party', 'forecast current position chilly temp', 'rate therapy zero', 'weather like ojo amarillo', 'play good pure soul netflix', 'want hear night proof', 'add tommie sunshine chill playlist', 'book tavern rhode island serf saucisse', 'weather midnight brazil', 'rate album two star', 'look searchlight painting', 'purchase wuthering height', 'warhead playing amc theater', 'rate pure weight heart series point', 'weather forecast porphyry island provincial park right', 'film showing nearby', 'find saga called story life', 'play symphony music irvin mayfield', 'weather gipsy gordon wildland park', 'find soundtrack called spanish jade', 'book spot connie earline rose oyster bar serf chicken fried bacon beauregard delaware', 'rio belongs playing movie house closest', 'book table irma hotel mount repose', 'want give select conversation uncle star', 'time rocketeer showing', 'book table carter house inn saint bonaventure alaska', 'want play game pesterminator western exterminator', 'overcast forecast midday id', 'would rate novel point best rating', 'would rate book value best rating', 'play music karl blau', 'find album called burnout ultimate drag race challenge', 'add live around world crossroad blue', 'please let know weather forecast louisiana state', 'rate american tabloid', 'add yang hyun seok playlist called night', 'animated movie scheduled release mann theatre', 'play fourties music pandora', 'use iheart radio play eighty music hugh masekela', 'forecast thayer', 'think novel deserves point', 'would give hell hath fury one point', 'fine movie schedule speakeasy theater', 'want watch ghost abyss kerasotes theatre', 'rate galactic pot healer two point', 'rate novel four star', 'find collision black painting', 'get album fresh hit spring', 'give spirit st louis', 'rate tropic cancer book', 'dearest enemy playing', 'find age love playing closest movie house', 'play slow rock music vimeo', 'weather angle cape verde midnight', 'give current series one', 'temperature eifel national park', 'find picture entitled take care', 'add back velvet lounge cleaning playlist', 'book close brasserie nc', 'give star current chronicle', 'find painting tracking', 'forecast farmerville cape verde', 'weather anguilla', 'rate chronicle', 'add rebirth kirk franklin fiesta playlist', 'find case frightened lady', 'rate recovery road three', 'freezing week nh', 'add artist todo edm', 'book reservation brasserie serving soupe tokelau', 'find movie time close film', 'need resevation cafeteria stle restaraunt country liberia party', 'find show sword lictor', 'find laserlight', 'need reservation blue ribbon barbecue far ny party', 'want table taverna pub', 'like listen diana vickers best tune twenty', 'find karl hess toward liberty photograph', 'give three star sister love', 'show sea creative video game', 'play track professional roberto carlos braga', 'movie schedule malco theatre', 'show movie schedule douglas theatre company', 'weather far current place week', 'add tune shagrath black sabbath ozzy year', 'find movie time consolidated theatre', 'find book music lover', 'book food truck greek food', 'add album mellow bar', 'add tune woman classical', 'star textbook', 'want see plague soundscapes', 'overcast close illinois', 'beyblade fierce battle playing', 'stormy charleston', 'add armen movsessian skepta playlist', 'want read book minotaur', 'find movie schedule douglas theatre company', 'find schedule movie southern theatre', 'play top song chyi chin concerto', 'let hear tune thirty', 'find night harlem', 'rate glaring oblivion zero', 'play newest chant john doyle zvooq', 'please look catch falling star', 'movie playing closest cinema', 'like watch utopian society', 'get colder jacobsburg syria', 'add punk never happened autumn', 'play thirty concerto music google music', 'play akb youtube', 'play elkie brook seventy sound track', 'weather burn', 'play russell morris singer song netflix', 'book popular brasserie road end', 'find soundtrack called tied star', 'give letty fox luck star', 'show tv show schedule offroad legend', 'tell weather forecast one year kulpsville togo', 'find game called spaceball', 'add michael track folk americana', 'book spot elise alma brasserie ravensdale mh week', 'weather like week ivory coast', 'book osteria restaurant person mi', 'play top emil de cou', 'give movie time', 'rate current album two point', 'play greatest record leroi moore', 'want lay arm indie espa ol playlist', 'book taverna serf vichyssoise within walking distance oh', 'get today movie schedule movie close', 'show photoscape', 'book five georgia coffee bean tea leaf', 'play new ian mclagan', 'rate album star', 'play metal crash course playlist', 'book middle east restaurant noon', 'find trailer good ship lollipop', 'play music', 'let know animated movie playing around', 'rate wideacre five possiable', 'book table top rated restaurant north amityville serf south tyrolean food', 'weather current position last october', 'book table wwe world south korea', 'add cale heavy gamer playlist', 'movie currently star theatre', 'tell weather forecast murone gen prefectural natural park eleven', 'chronicle zero', 'play music track child maurice', 'find movie schedule nearby film', 'rate warrior prophet star', 'weather forecast east cleveland republic congo', 'add fish leong love playlist', 'find cinema nearest showing twilight shadow breakfast time', 'give textbook four star', 'weather cairngorm nationalpark close freezing', 'book table hallwood one supper', 'watch tv series breed pain', 'would give current chronicle value best rating', 'covered wagon day playing theatre second', 'forecast lesotho starting fall', 'find painting called voice head', 'like give rating current book', 'weather guatemala', 'weather forecast snowstorm feb fourth virgin island', 'play music itunes', 'book reservation food truck pool new york', 'show movie schedule neighbourhood movie', 'film showing century theatre', 'want book restaurant', 'rate current essay', 'play trail lonesome pine netflix', 'play greatest chant laurel aitken lastfm', 'add abrar ul haq confidence boost', 'book itsu tonight', 'much snow get week massachusetts', 'add etta james anochecer urbano playlist', 'find movie schedule goodrich quality theater', 'colder tallgrass prairie national preserve', 'find schedule idol clay movie house', 'add anacreon heaven playlist girl night', 'weather shenandoah height montenegro', 'puthri playing', 'add jason webley classical intimate dinner playlist', 'give weather forecast lower lake sep', 'previous textbook', 'like eat restaurant wifi', 'amc theater red dance playing', 'book reservation five people restaurant pool benkelman mi apr', 'get elvis christmas album tv show', 'book cova frisco city therese eight pm', 'add deus deceptor dance workout', 'find picture called much wood would woodchuck chuck', 'play tune', 'find table joint northern brazilian food ga', 'add song evening playlist', 'get colder alaska', 'find cinema closest animated movie', 'add let season lo fi love', 'add harry chapin stress relief playlist', 'please book reservation restaurant serf empanada party three betty dolly', 'give textbook rating', 'animated movie playing closest cinema', 'play music lastfm', 'play song ian stuart donaldson nature nurture album itunes', 'find oasis drive close beach th st', 'weather going like angola twenty minute', 'add ksi ga urodzaju abigail concentraci', 'movie schedule five minute movie playing neighborhood', 'show tear pillow', 'current book reading rated zero', 'play late night jazz soundtrack zvooq', 'add munawar ali khan mujeres hombre fiesta', 'look little computer people', 'rate book one star', 'nearest movie house playing teaching see', 'tarzan ape playing cobb theatre', 'give god machine two point', 'need table people highly rated pub serf umbrian cuisine', 'add honey hush hit', 'play playlist chilled', 'watch trailer home economics', 'album five star', 'want give current novel point', 'please add song raphael rabello playlist fantastic workout', 'wan na listen top twenty track denniz pop pandora', 'rainy edward ryerson conservation area', 'film playing pacific theatre', 'move el viaje de copperpot emily dickinson playlist', 'add thomas dorsey big band', 'find pat garrett billy kid', 'time phoenix project playing', 'give willow sisterhood grows', 'afternoon forecast shannon pitcairn island', 'play ballad', 'play cabin fever spring fever saga', 'rate observation one point', 'tell forecast breakfast miller cove', 'snowstorm lampi island marine national park', 'show weather forecast', 'tell movie schedule mann theatre', 'find app store', 'hot december ayr mi', 'show schedule movie time dipson theatre', 'warm albania noon', 'going warm palmview', 'play newest record tony lee', 'one star rating giaour', 'find careless love', 'watch mabel dramatic career twenty two clock', 'add tune relax unwind playlist', 'forecast starting pm alaska', 'forecast willits christmas island twenty three minute', 'rate cherryh odyssey three star', 'purchase paradise tonight online', 'show movie schedule cooper foundation clock', 'find trailer called peggy sue', 'like watch slender thread pm', 'add lil armstrong adrenaline workout playlist', 'add tune kurt james playlist latin pop classic', 'want hear album insult injury narayana tirtha', 'book food court serving african food', 'weather knierim kansa twelve week half', 'rate capture castle point', 'play spotify', 'book tale toa give five point', 'play music twenty', 'rate plot save socrates one star', 'add track classical music smart kid playlist', 'add split difference woman lit playlist', 'play monkey tail zamboanga google music', 'forecast joanna', 'add michael wittig party playlist', 'weather going like week big walnut creek nature preserve', 'movie schedule animated movie close', 'book history shit rated', 'play rei momo newest album', 'rate mask time zero star', 'book restaurant aransas pa seventeen hour', 'movie showing fox theatre', 'play melody fifty last fm', 'play david mallett last fm', 'give chronicle father crow', 'far quebeck hot', 'need know forecast two grand lake towne', 'book table lois effie price next summer italy', 'get table fort', 'movie schedule second', 'play music genre synthpop', 'painting cure discography', 'hot neighboring algeria', 'soundtrack day best leningrad cowboy published', 'book reservation thomas hynes house jan third netherlands', 'find movie close', 'rate book titled sombrero fallout japanese novel point', 'play song', 'add embryo lessie hand', 'need book theme restaurant month chile', 'going get hotter kerrick', 'get today showtime le flic de beverly hill', 'hannah lewis chelsea want go cafe botswana apr seventeenth', 'find nearest cinema movie starting right', 'play chance lifetime zvooq', 'book pine bluff people area', 'colder', 'five point novel', 'looking right track', 'play mea culpa rahim shah', 'big breast wide hip terrible', 'book spot robyn martinez maude steakhouse far place', 'search abel nchez history passion novel', 'want give dressed kill one', 'want hear jon sholle stuff groove shark', 'time face moonlight showing', 'rainfall forecast flying hill', 'play taiwan good kotoko', 'show man london video game', 'add iene miene mutte woman playlist', 'want eat supper lesotho place', 'show movie time film nearby', 'film goodrich quality theater playing', 'find movie called october road', 'rate book post office four point', 'find love war soundtrack', 'tell hail tea time nordland', 'forecast eighteen minute colder temp', 'play tune adam yauch', 'add welcome cruel world reggae classic playlist', 'star three get deadly', 'use netflix play music', 'weather groundhog day slovenia', 'rate sex fun saga two', 'book gastropub serf waffle', 'temperate tyresta national park', 'need book called student demonstration time', 'play seventy music janne puurtinen youtube', 'find putrid death sorcery soundtrack', 'would like table right leonor mendoza imogene lisa sanchez', 'add album party friend', 'book sot one restaurant wifi', 'weather nebraska', 'want hear sarban greatest hit', 'play popular song espen lind', 'whats weather irma', 'play eighty music', 'find valley doll', 'play slacker tune', 'animated movie playing area movie schedule', 'add el choclo woman classical list', 'add bill evans motivation mix playlist', 'tv series thirty nine step', 'find movie time', 'book spot pilot mound palau feb twenty fourth', 'play fusion fest playlist youtube', 'book restaurant reservation fiji zero', 'like hear airey gon na raise hell', 'forecast windy fort myers shore arizona', 'sun ten minute uintah', 'find trailer young martyr', 'add hold liquor electronow', 'get showtime kitchen toto cineplex odeon corporation', 'get warmer centenary around evening', 'need table ten april eighteenth', 'book table northeast indian restaurant', 'like table eight close place carpenterville', 'film playing pm showcase cinema', 'movie playing southern theatre', 'random lake forecast hot temp', 'show movie schedule megaplex theatre', 'locate work warlock exiled', 'add joe mcphee picnic park play list', 'rate current essay three', 'movie schedule film nearby', 'add blue feather nature noise playlist', 'book table restaurant federated state micronesia', 'rate saga star', 'play music iheart', 'play music year', 'play music genre soundtrack', 'time stranger town playing nearest cinema', 'play song itunes', 'book restaurant four burundi', 'need reservation around london borough', 'reserve table person wi', 'weather minute garrochales', 'play seventy track top rie tomosaka', 'add song punk playlist', 'add song brian larsen cardio playlist', 'play paula campbell music', 'bolsa chica state beach forecast foggy condition', 'book reservation one italian taverna two pm hutchings north dakota', 'want jean george party', 'rate road reality complete guide law universe two point', 'book table restaurant pershing square manhattan two', 'need reservation french laundry oh six', 'find soundtrack called book folly', 'find movie time marcus corporation', 'add tune nusic', 'give two point novel', 'rate current essay four', 'play salmonella dub dvd mario rubalcaba vimeo', 'tell weather forecast samoa', 'find picture harsh light day', 'give weather forecast wisconsin dell saint kitts nevis day tomorrow', 'play paul stookey sixty', 'time name son playing', 'find framing early middle age game', 'like see tv series called countdown savoy session', 'add artist grandes unplugged playlist', 'please book restaurant ten member near downtown', 'going nice chippewa lake', 'play within without distance zvooq', 'make reservation elvira brazil', 'please tell movie time', 'book reservation restaurant wadsworth parking', 'forecast nauru', 'book spot close geraldine house', 'rate current essay zero star', 'show film close movie time today', 'rate moment time', 'weather looking like december eleventh md', 'book brasserie type restaurant serf pizza american samoa', 'rate current album five', 'play sixty music gaudi last fm', 'want listen concerto timour moutsouraev', 'time crosswind playing marcus corporation', 'find soundtrack titled side paradise', 'play artist joe', 'add tune trey songz', 'book tavern colorado two', 'rate current novel zero', 'play video game manifesto nevermore', 'looking book seat bakery serf coleslaw', 'like give harder come two point', 'add gina schock workout twerkout', 'add stephen mcnally confidence boost', 'play music deezer', 'need table booking highly rated sardinian pub', 'show little band gold', 'show put place game', 'play odessa maartin allcock', 'want take christy louise alexandra eat anywhere ne', 'book reservation restaurant nearby airbnb', 'need hear song aspro mavro bill szymczyk youtube', 'play soundtrack rudolf schenker netflix', 'would rate coming slaughter four', 'weather frankfort', 'forecast distant future sugar bush', 'put mike oldfield album onto la mejor sica para tus fiesta playlist', 'movie time goodrich quality theater', 'need table eddie attic nevada one', 'please pull nothing feel good', 'book close south dakota', 'play newest stuff blowfly', 'hotter netherlands antilles flat april th', 'book seating restaurant topton', 'use google music play song dr john', 'show textbook rating maximum rating current', 'play song eighty', 'book spot tommie vera rogers irvine', 'cold carlos il', 'movie house showing sherlock holmes secret weapon', 'find princess battle song', 'give textbook four', 'find schedule grand canyon trail', 'warm fernley', 'add yuna ito cena elegante playlist', 'add artist endorphin rush playlist', 'play twenty music itunes', 'like watch bound glory closest movie theatre', 'give dark abode chronicle point', 'rate cost accident three', 'want eat hour nm', 'add track playlist funk outta', 'give life wartime one', 'play soundtrack tom bellamy contributed', 'find tv show called engaged unidentified', 'search another cinderella story', 'weather forecast shasha forest reserve week', 'show picture love', 'add tune primavera sound barcelona', 'give star', 'add track fleetwood mac lakeisha playlist todo novedades', 'book bar holtville nd people', 'find tv series parent trap iv hawaiian honeymoon', 'play igor nikolayev music fourties', 'play glenn yarbrough tune', 'book girlfriend truffade gastropub west virginia', 'find merry arizona desert star shine christmas', 'add put move heart martin garrix show', 'give zero rating may borrow husband', 'weather netherlands', 'looking watch savage grace showcase cinema thirteen clock', 'add sherri electrosafari playlist', 'add track gold edition playlist', 'star last novel get four', 'weather forecast moss hill', 'play music bryan maclean', 'rate high deed finn maccool one', 'add song wedding classic playlist', 'please include emily remler indie bluegrass', 'fantasy zone ii tear opa opa', 'check forecast natchaug state forest', 'give mason dixon rating three', 'see dinosaur deep', 'forecast bear rock lake wildlife management area', 'wauseon forecast', 'rate book called king high frontier four point', 'play top ten theme music tom baxter', 'give mandaean book john point', 'add placer new boot', 'play pea porridge hot johnny vicious zvooq', 'find painting called book folly', 'weather close triumph', 'give cricket time square star', 'restaurant brokaw cuisine russian far restaurant', 'need bakery serf beef manhattan midnight nine', 'book table nine canteen lunch alley midnight', 'add another song daphne retrowave outrun playlist', 'add eric johnson song refugee playlist playlist', 'program last flight', 'please find work earth intruder', 'add song everywhere playlist', 'find painting crow original motion picture soundtrack', 'hear anna vissi new music pandora', 'angelus playing movie house dinner time', 'give saga', 'want hear music sixty', 'find tv show called fighting men', 'weather five osyka bhutan', 'find fanatic', 'show nearest movie house showing moron cry lady', 'show creative picture wonderful town', 'rate rule survival value', 'give point hand glove', 'weather south williamsport', 'show creative painting people love', 'look broken dancing video game', 'book spot marlene jordan oct th', 'looking book table place newton fall prefereably within area space', 'chilly oct th il']\n"
     ]
    }
   ],
   "source": [
    "## Pre-processing the text message\n",
    "\n",
    "message = []\n",
    "for i in range(len(text2)):\n",
    "    s = word_tokenize(text2[i])\n",
    "    temp = []  \n",
    "    for j in s:\n",
    "        if len(j) > 1 and j not in stop_words:  \n",
    "            temp.append(j)\n",
    "    t = ' '.join(temp)  \n",
    "    message.append(t)  \n",
    "\n",
    "print(message)"
   ]
  },
  {
   "cell_type": "code",
   "execution_count": 672,
   "id": "9715b62d",
   "metadata": {},
   "outputs": [],
   "source": [
    "for i in range(len(test)):\n",
    "    test.loc[i,'Sentence'] = message[i]"
   ]
  },
  {
   "cell_type": "code",
   "execution_count": 673,
   "id": "a510b0fd",
   "metadata": {},
   "outputs": [],
   "source": [
    "text2 = test['Sentence']"
   ]
  },
  {
   "cell_type": "code",
   "execution_count": 674,
   "id": "666e071e",
   "metadata": {},
   "outputs": [],
   "source": [
    "corpus = []\n",
    "for i in range(len(text2)):\n",
    "    temp = re.sub('[^a-zA-Z]',' ',text2[i])\n",
    "    temp = temp.lower()\n",
    "    temp = temp.split()\n",
    "    temp = [lemma.lemmatize(p) for p in temp if p not in set(stopwords.words('english'))]\n",
    "    temp = ' '.join(temp)\n",
    "    corpus.append(temp)"
   ]
  },
  {
   "cell_type": "code",
   "execution_count": 675,
   "id": "e4d1e412",
   "metadata": {},
   "outputs": [],
   "source": [
    "for i in range(len(test)):\n",
    "    test.loc[i,'Sentence'] = corpus[i]"
   ]
  },
  {
   "cell_type": "code",
   "execution_count": 676,
   "id": "1864a727",
   "metadata": {},
   "outputs": [
    {
     "data": {
      "text/html": [
       "<div>\n",
       "<style scoped>\n",
       "    .dataframe tbody tr th:only-of-type {\n",
       "        vertical-align: middle;\n",
       "    }\n",
       "\n",
       "    .dataframe tbody tr th {\n",
       "        vertical-align: top;\n",
       "    }\n",
       "\n",
       "    .dataframe thead th {\n",
       "        text-align: right;\n",
       "    }\n",
       "</style>\n",
       "<table border=\"1\" class=\"dataframe\">\n",
       "  <thead>\n",
       "    <tr style=\"text-align: right;\">\n",
       "      <th></th>\n",
       "      <th>Sentence</th>\n",
       "    </tr>\n",
       "  </thead>\n",
       "  <tbody>\n",
       "    <tr>\n",
       "      <th>0</th>\n",
       "      <td>book table restaurant united kingdom</td>\n",
       "    </tr>\n",
       "    <tr>\n",
       "      <th>1</th>\n",
       "      <td>add brad kane pumping iron soundtrack</td>\n",
       "    </tr>\n",
       "    <tr>\n",
       "      <th>2</th>\n",
       "      <td>play doctor fink could choose</td>\n",
       "    </tr>\n",
       "    <tr>\n",
       "      <th>3</th>\n",
       "      <td>want listen album sorted last open google musi...</td>\n",
       "    </tr>\n",
       "    <tr>\n",
       "      <th>4</th>\n",
       "      <td>put mac wiseman latino caliente playlist</td>\n",
       "    </tr>\n",
       "  </tbody>\n",
       "</table>\n",
       "</div>"
      ],
      "text/plain": [
       "                                            Sentence\n",
       "0               book table restaurant united kingdom\n",
       "1              add brad kane pumping iron soundtrack\n",
       "2                      play doctor fink could choose\n",
       "3  want listen album sorted last open google musi...\n",
       "4           put mac wiseman latino caliente playlist"
      ]
     },
     "execution_count": 676,
     "metadata": {},
     "output_type": "execute_result"
    }
   ],
   "source": [
    "test.head()"
   ]
  },
  {
   "cell_type": "code",
   "execution_count": 677,
   "id": "344429dc",
   "metadata": {},
   "outputs": [
    {
     "data": {
      "text/plain": [
       "(5234, 1)"
      ]
     },
     "execution_count": 677,
     "metadata": {},
     "output_type": "execute_result"
    }
   ],
   "source": [
    "test.shape"
   ]
  },
  {
   "cell_type": "code",
   "execution_count": 678,
   "id": "f44a2981",
   "metadata": {},
   "outputs": [],
   "source": [
    "bow_test = cv.fit_transform(test['Sentence']).toarray()"
   ]
  },
  {
   "cell_type": "code",
   "execution_count": 679,
   "id": "90875cf8",
   "metadata": {},
   "outputs": [
    {
     "data": {
      "text/plain": [
       "array([[0, 0, 0, ..., 0, 0, 0],\n",
       "       [1, 0, 0, ..., 0, 0, 0],\n",
       "       [0, 0, 0, ..., 0, 0, 0],\n",
       "       ...,\n",
       "       [0, 0, 0, ..., 0, 0, 0],\n",
       "       [0, 0, 0, ..., 0, 0, 0],\n",
       "       [0, 0, 0, ..., 0, 0, 0]], dtype=int64)"
      ]
     },
     "execution_count": 679,
     "metadata": {},
     "output_type": "execute_result"
    }
   ],
   "source": [
    "bow_test"
   ]
  },
  {
   "cell_type": "code",
   "execution_count": 680,
   "id": "0110f065",
   "metadata": {},
   "outputs": [
    {
     "data": {
      "text/plain": [
       "(5234, 100)"
      ]
     },
     "execution_count": 680,
     "metadata": {},
     "output_type": "execute_result"
    }
   ],
   "source": [
    "bow_test.shape"
   ]
  },
  {
   "cell_type": "code",
   "execution_count": 681,
   "id": "881314a3",
   "metadata": {},
   "outputs": [
    {
     "data": {
      "text/html": [
       "<div>\n",
       "<style scoped>\n",
       "    .dataframe tbody tr th:only-of-type {\n",
       "        vertical-align: middle;\n",
       "    }\n",
       "\n",
       "    .dataframe tbody tr th {\n",
       "        vertical-align: top;\n",
       "    }\n",
       "\n",
       "    .dataframe thead th {\n",
       "        text-align: right;\n",
       "    }\n",
       "</style>\n",
       "<table border=\"1\" class=\"dataframe\">\n",
       "  <thead>\n",
       "    <tr style=\"text-align: right;\">\n",
       "      <th></th>\n",
       "      <th>Sentence</th>\n",
       "    </tr>\n",
       "  </thead>\n",
       "  <tbody>\n",
       "    <tr>\n",
       "      <th>0</th>\n",
       "      <td>book table restaurant united kingdom</td>\n",
       "    </tr>\n",
       "    <tr>\n",
       "      <th>1</th>\n",
       "      <td>add brad kane pumping iron soundtrack</td>\n",
       "    </tr>\n",
       "    <tr>\n",
       "      <th>2</th>\n",
       "      <td>play doctor fink could choose</td>\n",
       "    </tr>\n",
       "    <tr>\n",
       "      <th>3</th>\n",
       "      <td>want listen album sorted last open google musi...</td>\n",
       "    </tr>\n",
       "    <tr>\n",
       "      <th>4</th>\n",
       "      <td>put mac wiseman latino caliente playlist</td>\n",
       "    </tr>\n",
       "  </tbody>\n",
       "</table>\n",
       "</div>"
      ],
      "text/plain": [
       "                                            Sentence\n",
       "0               book table restaurant united kingdom\n",
       "1              add brad kane pumping iron soundtrack\n",
       "2                      play doctor fink could choose\n",
       "3  want listen album sorted last open google musi...\n",
       "4           put mac wiseman latino caliente playlist"
      ]
     },
     "execution_count": 681,
     "metadata": {},
     "output_type": "execute_result"
    }
   ],
   "source": [
    "test.head()"
   ]
  },
  {
   "cell_type": "code",
   "execution_count": 682,
   "id": "f633cb8a",
   "metadata": {},
   "outputs": [],
   "source": [
    "y_pred_test_submission = rf.predict(test['Sentence'])"
   ]
  },
  {
   "cell_type": "code",
   "execution_count": 683,
   "id": "fe2a51ac",
   "metadata": {},
   "outputs": [
    {
     "data": {
      "text/plain": [
       "array([1, 0, 3, ..., 1, 1, 2])"
      ]
     },
     "execution_count": 683,
     "metadata": {},
     "output_type": "execute_result"
    }
   ],
   "source": [
    "y_pred_test_submission"
   ]
  },
  {
   "cell_type": "code",
   "execution_count": 684,
   "id": "2b9b62a6",
   "metadata": {},
   "outputs": [],
   "source": [
    "y_pred_original = le.inverse_transform(y_pred_test_submission)"
   ]
  },
  {
   "cell_type": "code",
   "execution_count": 685,
   "id": "3d169939",
   "metadata": {},
   "outputs": [
    {
     "data": {
      "text/plain": [
       "array(['BookRestaurant', 'AddToPlaylist', 'PlayMusic', ...,\n",
       "       'BookRestaurant', 'BookRestaurant', 'GetWeather'], dtype=object)"
      ]
     },
     "execution_count": 685,
     "metadata": {},
     "output_type": "execute_result"
    }
   ],
   "source": [
    "y_pred_original"
   ]
  },
  {
   "cell_type": "code",
   "execution_count": null,
   "id": "de4c72d1",
   "metadata": {},
   "outputs": [],
   "source": []
  },
  {
   "cell_type": "code",
   "execution_count": 686,
   "id": "bdfb317c",
   "metadata": {},
   "outputs": [
    {
     "data": {
      "text/plain": [
       "(5234,)"
      ]
     },
     "execution_count": 686,
     "metadata": {},
     "output_type": "execute_result"
    }
   ],
   "source": [
    "y_pred_original.shape"
   ]
  },
  {
   "cell_type": "code",
   "execution_count": 687,
   "id": "4db6eb97",
   "metadata": {},
   "outputs": [
    {
     "data": {
      "text/html": [
       "<div>\n",
       "<style scoped>\n",
       "    .dataframe tbody tr th:only-of-type {\n",
       "        vertical-align: middle;\n",
       "    }\n",
       "\n",
       "    .dataframe tbody tr th {\n",
       "        vertical-align: top;\n",
       "    }\n",
       "\n",
       "    .dataframe thead th {\n",
       "        text-align: right;\n",
       "    }\n",
       "</style>\n",
       "<table border=\"1\" class=\"dataframe\">\n",
       "  <thead>\n",
       "    <tr style=\"text-align: right;\">\n",
       "      <th></th>\n",
       "      <th>Sentence</th>\n",
       "    </tr>\n",
       "  </thead>\n",
       "  <tbody>\n",
       "    <tr>\n",
       "      <th>0</th>\n",
       "      <td>book table restaurant united kingdom</td>\n",
       "    </tr>\n",
       "    <tr>\n",
       "      <th>1</th>\n",
       "      <td>add brad kane pumping iron soundtrack</td>\n",
       "    </tr>\n",
       "    <tr>\n",
       "      <th>2</th>\n",
       "      <td>play doctor fink could choose</td>\n",
       "    </tr>\n",
       "    <tr>\n",
       "      <th>3</th>\n",
       "      <td>want listen album sorted last open google musi...</td>\n",
       "    </tr>\n",
       "    <tr>\n",
       "      <th>4</th>\n",
       "      <td>put mac wiseman latino caliente playlist</td>\n",
       "    </tr>\n",
       "  </tbody>\n",
       "</table>\n",
       "</div>"
      ],
      "text/plain": [
       "                                            Sentence\n",
       "0               book table restaurant united kingdom\n",
       "1              add brad kane pumping iron soundtrack\n",
       "2                      play doctor fink could choose\n",
       "3  want listen album sorted last open google musi...\n",
       "4           put mac wiseman latino caliente playlist"
      ]
     },
     "execution_count": 687,
     "metadata": {},
     "output_type": "execute_result"
    }
   ],
   "source": [
    "test.head()"
   ]
  },
  {
   "cell_type": "code",
   "execution_count": 688,
   "id": "0d8740e4",
   "metadata": {},
   "outputs": [
    {
     "data": {
      "text/plain": [
       "(5234, 1)"
      ]
     },
     "execution_count": 688,
     "metadata": {},
     "output_type": "execute_result"
    }
   ],
   "source": [
    "test.shape"
   ]
  },
  {
   "cell_type": "code",
   "execution_count": null,
   "id": "f29e2c78",
   "metadata": {},
   "outputs": [],
   "source": []
  },
  {
   "cell_type": "code",
   "execution_count": null,
   "id": "79211192",
   "metadata": {},
   "outputs": [],
   "source": []
  },
  {
   "cell_type": "code",
   "execution_count": 689,
   "id": "c0f8c78e",
   "metadata": {},
   "outputs": [],
   "source": [
    "submission = pd.read_csv('text_classfication_submission_sample.csv')"
   ]
  },
  {
   "cell_type": "code",
   "execution_count": 690,
   "id": "982a6a5f",
   "metadata": {},
   "outputs": [
    {
     "data": {
      "text/html": [
       "<div>\n",
       "<style scoped>\n",
       "    .dataframe tbody tr th:only-of-type {\n",
       "        vertical-align: middle;\n",
       "    }\n",
       "\n",
       "    .dataframe tbody tr th {\n",
       "        vertical-align: top;\n",
       "    }\n",
       "\n",
       "    .dataframe thead th {\n",
       "        text-align: right;\n",
       "    }\n",
       "</style>\n",
       "<table border=\"1\" class=\"dataframe\">\n",
       "  <thead>\n",
       "    <tr style=\"text-align: right;\">\n",
       "      <th></th>\n",
       "      <th>Id</th>\n",
       "      <th>Category</th>\n",
       "    </tr>\n",
       "  </thead>\n",
       "  <tbody>\n",
       "    <tr>\n",
       "      <th>0</th>\n",
       "      <td>0</td>\n",
       "      <td>BookRestaurant</td>\n",
       "    </tr>\n",
       "    <tr>\n",
       "      <th>1</th>\n",
       "      <td>1</td>\n",
       "      <td>BookRestaurant</td>\n",
       "    </tr>\n",
       "    <tr>\n",
       "      <th>2</th>\n",
       "      <td>2</td>\n",
       "      <td>BookRestaurant</td>\n",
       "    </tr>\n",
       "    <tr>\n",
       "      <th>3</th>\n",
       "      <td>3</td>\n",
       "      <td>BookRestaurant</td>\n",
       "    </tr>\n",
       "    <tr>\n",
       "      <th>4</th>\n",
       "      <td>4</td>\n",
       "      <td>BookRestaurant</td>\n",
       "    </tr>\n",
       "  </tbody>\n",
       "</table>\n",
       "</div>"
      ],
      "text/plain": [
       "   Id        Category\n",
       "0   0  BookRestaurant\n",
       "1   1  BookRestaurant\n",
       "2   2  BookRestaurant\n",
       "3   3  BookRestaurant\n",
       "4   4  BookRestaurant"
      ]
     },
     "execution_count": 690,
     "metadata": {},
     "output_type": "execute_result"
    }
   ],
   "source": [
    "submission.head()"
   ]
  },
  {
   "cell_type": "code",
   "execution_count": 691,
   "id": "083bcbcc",
   "metadata": {},
   "outputs": [
    {
     "data": {
      "text/plain": [
       "(5234, 2)"
      ]
     },
     "execution_count": 691,
     "metadata": {},
     "output_type": "execute_result"
    }
   ],
   "source": [
    "submission.shape"
   ]
  },
  {
   "cell_type": "code",
   "execution_count": 692,
   "id": "c5ffe45e",
   "metadata": {},
   "outputs": [],
   "source": [
    "for i in range(len(submission)):\n",
    "    submission.loc[i , 'Category'] = y_pred_original[i]"
   ]
  },
  {
   "cell_type": "code",
   "execution_count": 693,
   "id": "c2c956e3",
   "metadata": {},
   "outputs": [
    {
     "data": {
      "text/html": [
       "<div>\n",
       "<style scoped>\n",
       "    .dataframe tbody tr th:only-of-type {\n",
       "        vertical-align: middle;\n",
       "    }\n",
       "\n",
       "    .dataframe tbody tr th {\n",
       "        vertical-align: top;\n",
       "    }\n",
       "\n",
       "    .dataframe thead th {\n",
       "        text-align: right;\n",
       "    }\n",
       "</style>\n",
       "<table border=\"1\" class=\"dataframe\">\n",
       "  <thead>\n",
       "    <tr style=\"text-align: right;\">\n",
       "      <th></th>\n",
       "      <th>Id</th>\n",
       "      <th>Category</th>\n",
       "    </tr>\n",
       "  </thead>\n",
       "  <tbody>\n",
       "    <tr>\n",
       "      <th>0</th>\n",
       "      <td>0</td>\n",
       "      <td>BookRestaurant</td>\n",
       "    </tr>\n",
       "    <tr>\n",
       "      <th>1</th>\n",
       "      <td>1</td>\n",
       "      <td>AddToPlaylist</td>\n",
       "    </tr>\n",
       "    <tr>\n",
       "      <th>2</th>\n",
       "      <td>2</td>\n",
       "      <td>PlayMusic</td>\n",
       "    </tr>\n",
       "    <tr>\n",
       "      <th>3</th>\n",
       "      <td>3</td>\n",
       "      <td>PlayMusic</td>\n",
       "    </tr>\n",
       "    <tr>\n",
       "      <th>4</th>\n",
       "      <td>4</td>\n",
       "      <td>AddToPlaylist</td>\n",
       "    </tr>\n",
       "  </tbody>\n",
       "</table>\n",
       "</div>"
      ],
      "text/plain": [
       "   Id        Category\n",
       "0   0  BookRestaurant\n",
       "1   1   AddToPlaylist\n",
       "2   2       PlayMusic\n",
       "3   3       PlayMusic\n",
       "4   4   AddToPlaylist"
      ]
     },
     "execution_count": 693,
     "metadata": {},
     "output_type": "execute_result"
    }
   ],
   "source": [
    "submission.head()"
   ]
  },
  {
   "cell_type": "code",
   "execution_count": null,
   "id": "4542d5ce",
   "metadata": {},
   "outputs": [],
   "source": []
  },
  {
   "cell_type": "code",
   "execution_count": 694,
   "id": "b99c9314",
   "metadata": {},
   "outputs": [],
   "source": [
    "submission.to_csv('submission_tfidf_rf.csv', index=False)  # 'index=False' prevents saving the index column\n"
   ]
  },
  {
   "cell_type": "code",
   "execution_count": null,
   "id": "8723c48e",
   "metadata": {},
   "outputs": [],
   "source": []
  },
  {
   "cell_type": "code",
   "execution_count": null,
   "id": "7387ac2e",
   "metadata": {},
   "outputs": [],
   "source": []
  },
  {
   "cell_type": "code",
   "execution_count": null,
   "id": "b18353b9",
   "metadata": {},
   "outputs": [],
   "source": []
  },
  {
   "cell_type": "code",
   "execution_count": null,
   "id": "ece2134e",
   "metadata": {},
   "outputs": [],
   "source": []
  },
  {
   "cell_type": "code",
   "execution_count": null,
   "id": "cdf3268e",
   "metadata": {},
   "outputs": [],
   "source": []
  },
  {
   "cell_type": "code",
   "execution_count": null,
   "id": "e18925b3",
   "metadata": {},
   "outputs": [],
   "source": []
  },
  {
   "cell_type": "code",
   "execution_count": null,
   "id": "480f4b7f",
   "metadata": {},
   "outputs": [],
   "source": []
  },
  {
   "cell_type": "code",
   "execution_count": null,
   "id": "a7902885",
   "metadata": {},
   "outputs": [],
   "source": []
  },
  {
   "cell_type": "code",
   "execution_count": null,
   "id": "3384da22",
   "metadata": {},
   "outputs": [],
   "source": []
  },
  {
   "cell_type": "code",
   "execution_count": null,
   "id": "d4faf4b7",
   "metadata": {},
   "outputs": [],
   "source": []
  }
 ],
 "metadata": {
  "kernelspec": {
   "display_name": "Python 3 (ipykernel)",
   "language": "python",
   "name": "python3"
  },
  "language_info": {
   "codemirror_mode": {
    "name": "ipython",
    "version": 3
   },
   "file_extension": ".py",
   "mimetype": "text/x-python",
   "name": "python",
   "nbconvert_exporter": "python",
   "pygments_lexer": "ipython3",
   "version": "3.11.5"
  },
  "varInspector": {
   "cols": {
    "lenName": 16,
    "lenType": 16,
    "lenVar": 40
   },
   "kernels_config": {
    "python": {
     "delete_cmd_postfix": "",
     "delete_cmd_prefix": "del ",
     "library": "var_list.py",
     "varRefreshCmd": "print(var_dic_list())"
    },
    "r": {
     "delete_cmd_postfix": ") ",
     "delete_cmd_prefix": "rm(",
     "library": "var_list.r",
     "varRefreshCmd": "cat(var_dic_list()) "
    }
   },
   "types_to_exclude": [
    "module",
    "function",
    "builtin_function_or_method",
    "instance",
    "_Feature"
   ],
   "window_display": false
  }
 },
 "nbformat": 4,
 "nbformat_minor": 5
}
